{
  "nbformat": 4,
  "nbformat_minor": 0,
  "metadata": {
    "colab": {
      "provenance": []
    },
    "kernelspec": {
      "name": "python3",
      "display_name": "Python 3"
    },
    "language_info": {
      "name": "python"
    },
    "gpuClass": "standard"
  },
  "cells": [
    {
      "cell_type": "markdown",
      "source": [
        "# **Proyek Akhir: Membuat Model Sistem Rekomendasi**\n",
        "\n",
        "---"
      ],
      "metadata": {
        "id": "XYInOLhNuUXa"
      }
    },
    {
      "cell_type": "markdown",
      "source": [
        "## Dicoding Submission\n",
        "## Machine Learning Terapan\n",
        "\n",
        "---\n",
        "\n",
        "Kriteria submission:\n",
        "- Project merupakan hasil pekerjaan sendiri.\n",
        "- Project belum pernah digunakan untuk submission kelas Machine Learning di Dicoding dan belum pernah dipublikasikan di platform manapun.\n",
        "- Dataset yang dipakai bebas, asal bisa digunakan untuk membuat sistem rekomendasi.\n",
        "- Memberikan **dokumentasi** menggunakan **text cell** pada notebook (.ipynb) untuk menjelaskan **setiap tahapan proyek**.\n",
        "- Menentukan solusi permasalahan dengan memilih pendekatan berikut:\n",
        "  - Content-based Filtering\n",
        "  - Collaborative Filtering\n",
        "- Membuat draf laporan proyek machine learning yang menjelaskan alur proyek Anda mulai dari project overview, business understanding, data understanding, data preparation, modeling, hingga tahap evaluasi. Ketentuan draf laporan proyek machine learning dapat Anda lihat pada sub modul berikutnya tentang **Detail Laporan**.\n",
        "\n",
        "---\n",
        "\n",
        "Saran dan Tips:\n",
        "- Menerapkan **Rubrik/Kriteria Penilaian (Tambahan)** untuk mendapatkan skala penilaian (bintang) yang lebih tinggi.\n",
        "- Anda dapat memilih salah satu proyek dari domain (namun tidak terbatas pada daftar) berikut:\n",
        "  - Rekomendasi film\n",
        "  - Rekomendasi buku\n",
        "  - Rekomendasi musik\n",
        "  - Rekomendasi video\n",
        "  - Rekomendasi produk \n",
        "  - Rekomendasi artikel\n",
        "  - Rekomendasi berita\n",
        "  - dsb.\n",
        "\n",
        "---\n",
        "\n",
        "- **Bintang 3** : Semua ketentuan terpenuhi, penulisan kode, dan laporan cukup baik.\n",
        "- **Bintang 4** : Semua ketentuan terpenuhi, menerapkan minimal tiga (3) **Rubrik Penilaian (Tambahan)** pada laporan.\n",
        "- **Bintang 5** : Semua ketentuan terpenuhi, menerapkan seluruh (6) **Rubrik Penilaian Tambahan** pada laporan.\n",
        "\n",
        "---\n",
        "\n",
        "# Data Diri\n",
        "\n",
        "Nama: Andrew Benedictus Jamesie  \n",
        "E-mail: andrewbjamesie@yahoo.com  \n",
        "\n",
        "---\n",
        "---"
      ],
      "metadata": {
        "id": "TdNtVfqcufLY"
      }
    },
    {
      "cell_type": "markdown",
      "source": [
        "Dataset: [(Kaggle) Book Recommendation Dataset](https://www.kaggle.com/datasets/arashnic/book-recommendation-dataset)\n",
        "\n",
        "* [(Kaggle) Movie Recommendation System](https://www.kaggle.com/datasets/dev0914sharma/dataset)\n",
        "\n",
        "References:\n",
        "\n",
        "[(GitHub) Contoh Format Laporan Proyek Machine Learning](https://github.com/dicodingacademy/contoh-laporan-mlt/blob/main/format_laporan_submission_2.md)\n",
        "\n",
        "\n",
        "[(GitHub) Proyek Akhir Machine Learning Terapan - Indah](https://github.com/IndahDs/dicoding-machine-learning-developer/blob/main/MLT_2/MLT_Proyek_Submission_2.ipynb)\n",
        "\n",
        "\n",
        "[(Kaggle) Book Recommendation - Dicoding](https://www.kaggle.com/code/farelarden/book-recommendation-dicoding)\n",
        "\n",
        "\n",
        "[(GitHub) Sistem Rekomendasi: Rekomendasi Aplikasi untuk Pengguna di Google Play Store](https://github.com/fahmij8/ML-Exercise/blob/main/MLT-2/MLT_Proyek_Submission_2.ipynb)\n",
        "\n",
        "\n",
        "[(Dicoding) Kenapa Hasil Rekomendasiya Berulang?](https://www.dicoding.com/academies/319/discussions/142012)\n",
        "\n",
        "[(Colab) RekomendasiBuah.ipynb](https://colab.research.google.com/drive/10NCdwaAFVTWNUlPC32PVYIHf-UOAhPo5)\n",
        "\n",
        "\n",
        "[(Dicoding) Error saat Training pada Submission Akhir](https://www.dicoding.com/academies/319/discussions/136272)\n",
        "\n",
        "[(Colab) Buku.ipynb](https://colab.research.google.com/drive/1FyBf5ANS3NmxXM39Mh6_yXijgYL4AYKT)\n",
        "\n",
        "---\n",
        "---"
      ],
      "metadata": {
        "id": "WvmfJJkosZUF"
      }
    },
    {
      "cell_type": "markdown",
      "source": [
        "# **1. *Library Import***"
      ],
      "metadata": {
        "id": "vYAwYr9jv5VX"
      }
    },
    {
      "cell_type": "markdown",
      "source": [
        "*Library* [`os`](https://docs.python.org/3/library/os.html) untuk memproses *function* dari *operating system*. `os.environ` untuk membaca *username* dan *key* [Kaggle](https://kaggle.com).\n",
        "\n",
        "*Library* [`numpy`](https://numpy.org) untuk melakukan pemrosesan matematis berupa himpunan, *array*, matriks multidimensi, dan vektorisasi.\n",
        "\n",
        "*Library* [`pandas`](https://pandas.pydata.org) untuk melakukan pemrosesan, analisis dan manipulasi data.\n",
        "\n",
        "*Library* [`tensorflow`](https://www.tensorflow.org) untuk melakukan pelatihan *machine learning* dan *neural networks*.\n",
        "\n",
        "*Library* [`sklearn`](https://scikit-learn.org) untuk melakukan pemrosesan *machine learning* dan *data analysis*.\n",
        "\n",
        "*Library* [`seaborn`](https://seaborn.pydata.org) untuk membuat visualisasi data yang berbasis `matplotlib`.\n",
        "\n",
        "*Library* [`matplotlib`](https://matplotlib.org) untuk melakukan visualisasi menggunakan *plotting*."
      ],
      "metadata": {
        "id": "rEkGTtV8P5e8"
      }
    },
    {
      "cell_type": "code",
      "execution_count": 1,
      "metadata": {
        "id": "r-hHZrWRsVZa"
      },
      "outputs": [],
      "source": [
        "import os\n",
        "import numpy as np\n",
        "import pandas as pd\n",
        "import tensorflow as tf\n",
        "from tensorflow import keras\n",
        "from tensorflow.keras import layers\n",
        "from tensorflow.keras.optimizers import Adam\n",
        "from tensorflow.keras.losses import BinaryCrossentropy\n",
        "from tensorflow.keras.metrics import RootMeanSquaredError\n",
        "\n",
        "from sklearn.feature_extraction.text import TfidfVectorizer\n",
        "from sklearn.metrics.pairwise import cosine_similarity\n",
        "\n",
        "import seaborn as sns\n",
        "import matplotlib.pyplot as plt"
      ]
    },
    {
      "cell_type": "markdown",
      "source": [
        "# **2. *Data Loading***"
      ],
      "metadata": {
        "id": "_xjAy6EAOk4R"
      }
    },
    {
      "cell_type": "markdown",
      "source": [
        "## 2.1 *Environment and Kaggle Credential*"
      ],
      "metadata": {
        "id": "v9xUREr6OpGQ"
      }
    },
    {
      "cell_type": "markdown",
      "source": [
        "Mengatur *environment* `operating system` [Colab](https://colab.research.google.com 'Google Colaboratory') dengan variabel `KAGGLE_USERNAME` dan variabel `KAGGLE_KEY` untuk menghubungkan platform [Kaggle](https://kaggle.com 'Kaggle') menggunakan [Kaggle's Beta API](https://www.kaggle.com/docs/api 'Kaggle Public API Documentation') Token."
      ],
      "metadata": {
        "id": "lQrWxiMNQTi8"
      }
    },
    {
      "cell_type": "code",
      "source": [
        "# Username dan key Kaggle API\n",
        "os.environ['KAGGLE_USERNAME'] = 'andrewbjamesie'\n",
        "os.environ['KAGGLE_KEY']      = '302d1e6303a6a1d0a4812c95d8ee599a'"
      ],
      "metadata": {
        "id": "KVHfQHsbOoyW"
      },
      "execution_count": 2,
      "outputs": []
    },
    {
      "cell_type": "markdown",
      "source": [
        "## 2.2 *Dataset Download*"
      ],
      "metadata": {
        "id": "mIAmTdckOzQm"
      }
    },
    {
      "cell_type": "markdown",
      "source": [
        "Mengunduh (*download*) *dataset* dari Kaggle dengan nama *file* *dataset* yang masih terkompresi (*compressed*), yaitu `book-recommendation-dataset.zip`. Berkas *dataset* tersebut digunakan dalam proyek ini adalah *dataset* [Book Recommendation Dataset](https://www.kaggle.com/datasets/arashnic/book-recommendation-dataset 'Kaggle - Book Recommendation Dataset')."
      ],
      "metadata": {
        "id": "mJU3bR8cQXHE"
      }
    },
    {
      "cell_type": "code",
      "source": [
        "# Download dataset dari Kaggle\n",
        "!kaggle datasets download -d arashnic/book-recommendation-dataset"
      ],
      "metadata": {
        "colab": {
          "base_uri": "https://localhost:8080/"
        },
        "id": "DNtPvs4HO2ti",
        "outputId": "93e895f7-dd63-425b-eaba-c9bc4ba8b5cc"
      },
      "execution_count": 3,
      "outputs": [
        {
          "output_type": "stream",
          "name": "stdout",
          "text": [
            "Downloading book-recommendation-dataset.zip to /content\n",
            " 21% 5.00M/23.8M [00:00<00:00, 41.9MB/s]\n",
            "100% 23.8M/23.8M [00:00<00:00, 118MB/s] \n"
          ]
        }
      ]
    },
    {
      "cell_type": "markdown",
      "source": [
        "Melakukan ekstraksi (*extract*) berkas dataset yang masih terkompresi (*compressed*) dengan menggunakan perintah `!unzip`, sehingga didapatkan tiga (3) berkas *dataset*, yaitu `Books.csv`, `Ratings.csv`, `Users.csv` yang berupa berkas `.csv` ([comma-separated Values](https://en.wikipedia.org/wiki/Comma-separated_values 'Wikipedia - Comma-separated values'))."
      ],
      "metadata": {
        "id": "804aR5HSQgVm"
      }
    },
    {
      "cell_type": "code",
      "source": [
        "!unzip /content/book-recommendation-dataset.zip"
      ],
      "metadata": {
        "colab": {
          "base_uri": "https://localhost:8080/"
        },
        "id": "cUT1lnjKPcsX",
        "outputId": "99e142e3-4b8e-4285-f84d-94fb6f88b507"
      },
      "execution_count": 4,
      "outputs": [
        {
          "output_type": "stream",
          "name": "stdout",
          "text": [
            "Archive:  /content/book-recommendation-dataset.zip\n",
            "  inflating: Books.csv               \n",
            "  inflating: Ratings.csv             \n",
            "  inflating: Users.csv               \n"
          ]
        }
      ]
    },
    {
      "cell_type": "markdown",
      "source": [
        "# **3. *Data Understanding***"
      ],
      "metadata": {
        "id": "J9oW3uwdPqL-"
      }
    },
    {
      "cell_type": "markdown",
      "source": [
        "## 3.1 Jumlah Data Masing-masing Atribut dari *Dataset*"
      ],
      "metadata": {
        "id": "4neZ1klxX768"
      }
    },
    {
      "cell_type": "markdown",
      "source": [
        "Membaca masing-masing berkas dataset, yaitu `Books.csv`, `Ratings.csv`, `Users.csv` ke dalam variabel `df_b`, `df_r`, `df_u` dengan menggunakan library [Pandas](https://pandas.pydata.org 'Python Data Analysis Library') untuk mengubahnya dari format CSV menjadi *dataframe*."
      ],
      "metadata": {
        "id": "vyiEktk4Tmnf"
      }
    },
    {
      "cell_type": "code",
      "source": [
        "df_b = pd.read_csv('Books.csv')\n",
        "df_r = pd.read_csv('Ratings.csv')\n",
        "df_u = pd.read_csv('Users.csv')"
      ],
      "metadata": {
        "colab": {
          "base_uri": "https://localhost:8080/"
        },
        "id": "bmbkfwx6Y1VM",
        "outputId": "48ab7277-6879-439b-f5d6-8cd2c45cbb8a"
      },
      "execution_count": 5,
      "outputs": [
        {
          "output_type": "stream",
          "name": "stderr",
          "text": [
            "/usr/local/lib/python3.7/dist-packages/IPython/core/interactiveshell.py:3326: DtypeWarning: Columns (3) have mixed types.Specify dtype option on import or set low_memory=False.\n",
            "  exec(code_obj, self.user_global_ns, self.user_ns)\n"
          ]
        }
      ]
    },
    {
      "cell_type": "markdown",
      "source": [
        "Melihat jumlah banyak data atribut yang unik pada masing-masing *dataframe* dengan menggunakan fungsi `.unique()`."
      ],
      "metadata": {
        "id": "Y-MhR3TMUx7k"
      }
    },
    {
      "cell_type": "code",
      "source": [
        "print(f'Jumlah data ISBN     : {len(df_b[\"ISBN\"].unique())}')\n",
        "print(f'Jumlah data Judul    : {len(df_b[\"Book-Title\"].unique())}')\n",
        "print(f'Jumlah data Penulis  : {len(df_b[\"Book-Author\"].unique())}')\n",
        "print(f'Jumlah data Penerbit : {len(df_b[\"Publisher\"].unique())}')\n",
        "print(f'Jumlah data Tahun    : {len(df_b[\"Year-Of-Publication\"].unique())}')\n",
        "print(f'=====' * 9)\n",
        "print(f'Jumlah data Pembaca              : {len(df_r[\"User-ID\"].unique())}')\n",
        "print(f'Jumlah data Buku                 : {len(df_r[\"ISBN\"].unique())}')\n",
        "print(f'Jumlah data Rating yang diterima : {len(df_r)}')\n",
        "print(f'=====' * 9)\n",
        "print(f'Jumlah data User : {len(df_u)}')"
      ],
      "metadata": {
        "colab": {
          "base_uri": "https://localhost:8080/"
        },
        "id": "KdkLr5a_X-c1",
        "outputId": "1ccf8d3a-3256-4e49-e394-8e1660ebe227"
      },
      "execution_count": 6,
      "outputs": [
        {
          "output_type": "stream",
          "name": "stdout",
          "text": [
            "Jumlah data ISBN     : 271360\n",
            "Jumlah data Judul    : 242135\n",
            "Jumlah data Penulis  : 102024\n",
            "Jumlah data Penerbit : 16808\n",
            "Jumlah data Tahun    : 202\n",
            "=============================================\n",
            "Jumlah data Pembaca              : 105283\n",
            "Jumlah data Buku                 : 340556\n",
            "Jumlah data Rating yang diterima : 1149780\n",
            "=============================================\n",
            "Jumlah data User : 278858\n"
          ]
        }
      ]
    },
    {
      "cell_type": "markdown",
      "source": [
        "## 3.2 *Univariate Exploratory Data Analysis* (EDA)"
      ],
      "metadata": {
        "id": "eVobVvp7S7oI"
      }
    },
    {
      "cell_type": "markdown",
      "source": [
        "*Explanatory Data Analysis* (EDA) adalah suatu proses investigasi awal pada data untuk melakukan analisis karakteristik, menemukan pola, anomali, dan memeriksa asumsi pada data dengan menggunakan bantuan statistik dan representasi grafis atau visualisasi."
      ],
      "metadata": {
        "id": "4nQptms5VKyL"
      }
    },
    {
      "cell_type": "markdown",
      "source": [
        "### 3.2.1 *Dataset* Books"
      ],
      "metadata": {
        "id": "P8IXw7AFWgb4"
      }
    },
    {
      "cell_type": "markdown",
      "source": [
        "*Exploratory Data Analysis* (EDA) untuk *dataframe* `Books`."
      ],
      "metadata": {
        "id": "CNgFdLM6VWvL"
      }
    },
    {
      "cell_type": "code",
      "source": [
        "df_b"
      ],
      "metadata": {
        "colab": {
          "base_uri": "https://localhost:8080/",
          "height": 974
        },
        "id": "-wzjFpq9PBdn",
        "outputId": "7b864421-9015-4816-c713-82757097ef29"
      },
      "execution_count": 7,
      "outputs": [
        {
          "output_type": "execute_result",
          "data": {
            "text/plain": [
              "              ISBN                                         Book-Title  \\\n",
              "0       0195153448                                Classical Mythology   \n",
              "1       0002005018                                       Clara Callan   \n",
              "2       0060973129                               Decision in Normandy   \n",
              "3       0374157065  Flu: The Story of the Great Influenza Pandemic...   \n",
              "4       0393045218                             The Mummies of Urumchi   \n",
              "...            ...                                                ...   \n",
              "271355  0440400988                         There's a Bat in Bunk Five   \n",
              "271356  0525447644                            From One to One Hundred   \n",
              "271357  006008667X  Lily Dale : The True Story of the Town that Ta...   \n",
              "271358  0192126040                        Republic (World's Classics)   \n",
              "271359  0767409752  A Guided Tour of Rene Descartes' Meditations o...   \n",
              "\n",
              "                 Book-Author Year-Of-Publication  \\\n",
              "0         Mark P. O. Morford                2002   \n",
              "1       Richard Bruce Wright                2001   \n",
              "2               Carlo D'Este                1991   \n",
              "3           Gina Bari Kolata                1999   \n",
              "4            E. J. W. Barber                1999   \n",
              "...                      ...                 ...   \n",
              "271355        Paula Danziger                1988   \n",
              "271356            Teri Sloat                1991   \n",
              "271357      Christine Wicker                2004   \n",
              "271358                 Plato                1996   \n",
              "271359   Christopher  Biffle                2000   \n",
              "\n",
              "                                               Publisher  \\\n",
              "0                                Oxford University Press   \n",
              "1                                  HarperFlamingo Canada   \n",
              "2                                        HarperPerennial   \n",
              "3                                   Farrar Straus Giroux   \n",
              "4                             W. W. Norton &amp; Company   \n",
              "...                                                  ...   \n",
              "271355                   Random House Childrens Pub (Mm)   \n",
              "271356                                      Dutton Books   \n",
              "271357                                HarperSanFrancisco   \n",
              "271358                           Oxford University Press   \n",
              "271359  McGraw-Hill Humanities/Social Sciences/Languages   \n",
              "\n",
              "                                              Image-URL-S  \\\n",
              "0       http://images.amazon.com/images/P/0195153448.0...   \n",
              "1       http://images.amazon.com/images/P/0002005018.0...   \n",
              "2       http://images.amazon.com/images/P/0060973129.0...   \n",
              "3       http://images.amazon.com/images/P/0374157065.0...   \n",
              "4       http://images.amazon.com/images/P/0393045218.0...   \n",
              "...                                                   ...   \n",
              "271355  http://images.amazon.com/images/P/0440400988.0...   \n",
              "271356  http://images.amazon.com/images/P/0525447644.0...   \n",
              "271357  http://images.amazon.com/images/P/006008667X.0...   \n",
              "271358  http://images.amazon.com/images/P/0192126040.0...   \n",
              "271359  http://images.amazon.com/images/P/0767409752.0...   \n",
              "\n",
              "                                              Image-URL-M  \\\n",
              "0       http://images.amazon.com/images/P/0195153448.0...   \n",
              "1       http://images.amazon.com/images/P/0002005018.0...   \n",
              "2       http://images.amazon.com/images/P/0060973129.0...   \n",
              "3       http://images.amazon.com/images/P/0374157065.0...   \n",
              "4       http://images.amazon.com/images/P/0393045218.0...   \n",
              "...                                                   ...   \n",
              "271355  http://images.amazon.com/images/P/0440400988.0...   \n",
              "271356  http://images.amazon.com/images/P/0525447644.0...   \n",
              "271357  http://images.amazon.com/images/P/006008667X.0...   \n",
              "271358  http://images.amazon.com/images/P/0192126040.0...   \n",
              "271359  http://images.amazon.com/images/P/0767409752.0...   \n",
              "\n",
              "                                              Image-URL-L  \n",
              "0       http://images.amazon.com/images/P/0195153448.0...  \n",
              "1       http://images.amazon.com/images/P/0002005018.0...  \n",
              "2       http://images.amazon.com/images/P/0060973129.0...  \n",
              "3       http://images.amazon.com/images/P/0374157065.0...  \n",
              "4       http://images.amazon.com/images/P/0393045218.0...  \n",
              "...                                                   ...  \n",
              "271355  http://images.amazon.com/images/P/0440400988.0...  \n",
              "271356  http://images.amazon.com/images/P/0525447644.0...  \n",
              "271357  http://images.amazon.com/images/P/006008667X.0...  \n",
              "271358  http://images.amazon.com/images/P/0192126040.0...  \n",
              "271359  http://images.amazon.com/images/P/0767409752.0...  \n",
              "\n",
              "[271360 rows x 8 columns]"
            ],
            "text/html": [
              "\n",
              "  <div id=\"df-a7863734-84c7-4f04-b975-888f4b4bb095\">\n",
              "    <div class=\"colab-df-container\">\n",
              "      <div>\n",
              "<style scoped>\n",
              "    .dataframe tbody tr th:only-of-type {\n",
              "        vertical-align: middle;\n",
              "    }\n",
              "\n",
              "    .dataframe tbody tr th {\n",
              "        vertical-align: top;\n",
              "    }\n",
              "\n",
              "    .dataframe thead th {\n",
              "        text-align: right;\n",
              "    }\n",
              "</style>\n",
              "<table border=\"1\" class=\"dataframe\">\n",
              "  <thead>\n",
              "    <tr style=\"text-align: right;\">\n",
              "      <th></th>\n",
              "      <th>ISBN</th>\n",
              "      <th>Book-Title</th>\n",
              "      <th>Book-Author</th>\n",
              "      <th>Year-Of-Publication</th>\n",
              "      <th>Publisher</th>\n",
              "      <th>Image-URL-S</th>\n",
              "      <th>Image-URL-M</th>\n",
              "      <th>Image-URL-L</th>\n",
              "    </tr>\n",
              "  </thead>\n",
              "  <tbody>\n",
              "    <tr>\n",
              "      <th>0</th>\n",
              "      <td>0195153448</td>\n",
              "      <td>Classical Mythology</td>\n",
              "      <td>Mark P. O. Morford</td>\n",
              "      <td>2002</td>\n",
              "      <td>Oxford University Press</td>\n",
              "      <td>http://images.amazon.com/images/P/0195153448.0...</td>\n",
              "      <td>http://images.amazon.com/images/P/0195153448.0...</td>\n",
              "      <td>http://images.amazon.com/images/P/0195153448.0...</td>\n",
              "    </tr>\n",
              "    <tr>\n",
              "      <th>1</th>\n",
              "      <td>0002005018</td>\n",
              "      <td>Clara Callan</td>\n",
              "      <td>Richard Bruce Wright</td>\n",
              "      <td>2001</td>\n",
              "      <td>HarperFlamingo Canada</td>\n",
              "      <td>http://images.amazon.com/images/P/0002005018.0...</td>\n",
              "      <td>http://images.amazon.com/images/P/0002005018.0...</td>\n",
              "      <td>http://images.amazon.com/images/P/0002005018.0...</td>\n",
              "    </tr>\n",
              "    <tr>\n",
              "      <th>2</th>\n",
              "      <td>0060973129</td>\n",
              "      <td>Decision in Normandy</td>\n",
              "      <td>Carlo D'Este</td>\n",
              "      <td>1991</td>\n",
              "      <td>HarperPerennial</td>\n",
              "      <td>http://images.amazon.com/images/P/0060973129.0...</td>\n",
              "      <td>http://images.amazon.com/images/P/0060973129.0...</td>\n",
              "      <td>http://images.amazon.com/images/P/0060973129.0...</td>\n",
              "    </tr>\n",
              "    <tr>\n",
              "      <th>3</th>\n",
              "      <td>0374157065</td>\n",
              "      <td>Flu: The Story of the Great Influenza Pandemic...</td>\n",
              "      <td>Gina Bari Kolata</td>\n",
              "      <td>1999</td>\n",
              "      <td>Farrar Straus Giroux</td>\n",
              "      <td>http://images.amazon.com/images/P/0374157065.0...</td>\n",
              "      <td>http://images.amazon.com/images/P/0374157065.0...</td>\n",
              "      <td>http://images.amazon.com/images/P/0374157065.0...</td>\n",
              "    </tr>\n",
              "    <tr>\n",
              "      <th>4</th>\n",
              "      <td>0393045218</td>\n",
              "      <td>The Mummies of Urumchi</td>\n",
              "      <td>E. J. W. Barber</td>\n",
              "      <td>1999</td>\n",
              "      <td>W. W. Norton &amp;amp; Company</td>\n",
              "      <td>http://images.amazon.com/images/P/0393045218.0...</td>\n",
              "      <td>http://images.amazon.com/images/P/0393045218.0...</td>\n",
              "      <td>http://images.amazon.com/images/P/0393045218.0...</td>\n",
              "    </tr>\n",
              "    <tr>\n",
              "      <th>...</th>\n",
              "      <td>...</td>\n",
              "      <td>...</td>\n",
              "      <td>...</td>\n",
              "      <td>...</td>\n",
              "      <td>...</td>\n",
              "      <td>...</td>\n",
              "      <td>...</td>\n",
              "      <td>...</td>\n",
              "    </tr>\n",
              "    <tr>\n",
              "      <th>271355</th>\n",
              "      <td>0440400988</td>\n",
              "      <td>There's a Bat in Bunk Five</td>\n",
              "      <td>Paula Danziger</td>\n",
              "      <td>1988</td>\n",
              "      <td>Random House Childrens Pub (Mm)</td>\n",
              "      <td>http://images.amazon.com/images/P/0440400988.0...</td>\n",
              "      <td>http://images.amazon.com/images/P/0440400988.0...</td>\n",
              "      <td>http://images.amazon.com/images/P/0440400988.0...</td>\n",
              "    </tr>\n",
              "    <tr>\n",
              "      <th>271356</th>\n",
              "      <td>0525447644</td>\n",
              "      <td>From One to One Hundred</td>\n",
              "      <td>Teri Sloat</td>\n",
              "      <td>1991</td>\n",
              "      <td>Dutton Books</td>\n",
              "      <td>http://images.amazon.com/images/P/0525447644.0...</td>\n",
              "      <td>http://images.amazon.com/images/P/0525447644.0...</td>\n",
              "      <td>http://images.amazon.com/images/P/0525447644.0...</td>\n",
              "    </tr>\n",
              "    <tr>\n",
              "      <th>271357</th>\n",
              "      <td>006008667X</td>\n",
              "      <td>Lily Dale : The True Story of the Town that Ta...</td>\n",
              "      <td>Christine Wicker</td>\n",
              "      <td>2004</td>\n",
              "      <td>HarperSanFrancisco</td>\n",
              "      <td>http://images.amazon.com/images/P/006008667X.0...</td>\n",
              "      <td>http://images.amazon.com/images/P/006008667X.0...</td>\n",
              "      <td>http://images.amazon.com/images/P/006008667X.0...</td>\n",
              "    </tr>\n",
              "    <tr>\n",
              "      <th>271358</th>\n",
              "      <td>0192126040</td>\n",
              "      <td>Republic (World's Classics)</td>\n",
              "      <td>Plato</td>\n",
              "      <td>1996</td>\n",
              "      <td>Oxford University Press</td>\n",
              "      <td>http://images.amazon.com/images/P/0192126040.0...</td>\n",
              "      <td>http://images.amazon.com/images/P/0192126040.0...</td>\n",
              "      <td>http://images.amazon.com/images/P/0192126040.0...</td>\n",
              "    </tr>\n",
              "    <tr>\n",
              "      <th>271359</th>\n",
              "      <td>0767409752</td>\n",
              "      <td>A Guided Tour of Rene Descartes' Meditations o...</td>\n",
              "      <td>Christopher  Biffle</td>\n",
              "      <td>2000</td>\n",
              "      <td>McGraw-Hill Humanities/Social Sciences/Languages</td>\n",
              "      <td>http://images.amazon.com/images/P/0767409752.0...</td>\n",
              "      <td>http://images.amazon.com/images/P/0767409752.0...</td>\n",
              "      <td>http://images.amazon.com/images/P/0767409752.0...</td>\n",
              "    </tr>\n",
              "  </tbody>\n",
              "</table>\n",
              "<p>271360 rows × 8 columns</p>\n",
              "</div>\n",
              "      <button class=\"colab-df-convert\" onclick=\"convertToInteractive('df-a7863734-84c7-4f04-b975-888f4b4bb095')\"\n",
              "              title=\"Convert this dataframe to an interactive table.\"\n",
              "              style=\"display:none;\">\n",
              "        \n",
              "  <svg xmlns=\"http://www.w3.org/2000/svg\" height=\"24px\"viewBox=\"0 0 24 24\"\n",
              "       width=\"24px\">\n",
              "    <path d=\"M0 0h24v24H0V0z\" fill=\"none\"/>\n",
              "    <path d=\"M18.56 5.44l.94 2.06.94-2.06 2.06-.94-2.06-.94-.94-2.06-.94 2.06-2.06.94zm-11 1L8.5 8.5l.94-2.06 2.06-.94-2.06-.94L8.5 2.5l-.94 2.06-2.06.94zm10 10l.94 2.06.94-2.06 2.06-.94-2.06-.94-.94-2.06-.94 2.06-2.06.94z\"/><path d=\"M17.41 7.96l-1.37-1.37c-.4-.4-.92-.59-1.43-.59-.52 0-1.04.2-1.43.59L10.3 9.45l-7.72 7.72c-.78.78-.78 2.05 0 2.83L4 21.41c.39.39.9.59 1.41.59.51 0 1.02-.2 1.41-.59l7.78-7.78 2.81-2.81c.8-.78.8-2.07 0-2.86zM5.41 20L4 18.59l7.72-7.72 1.47 1.35L5.41 20z\"/>\n",
              "  </svg>\n",
              "      </button>\n",
              "      \n",
              "  <style>\n",
              "    .colab-df-container {\n",
              "      display:flex;\n",
              "      flex-wrap:wrap;\n",
              "      gap: 12px;\n",
              "    }\n",
              "\n",
              "    .colab-df-convert {\n",
              "      background-color: #E8F0FE;\n",
              "      border: none;\n",
              "      border-radius: 50%;\n",
              "      cursor: pointer;\n",
              "      display: none;\n",
              "      fill: #1967D2;\n",
              "      height: 32px;\n",
              "      padding: 0 0 0 0;\n",
              "      width: 32px;\n",
              "    }\n",
              "\n",
              "    .colab-df-convert:hover {\n",
              "      background-color: #E2EBFA;\n",
              "      box-shadow: 0px 1px 2px rgba(60, 64, 67, 0.3), 0px 1px 3px 1px rgba(60, 64, 67, 0.15);\n",
              "      fill: #174EA6;\n",
              "    }\n",
              "\n",
              "    [theme=dark] .colab-df-convert {\n",
              "      background-color: #3B4455;\n",
              "      fill: #D2E3FC;\n",
              "    }\n",
              "\n",
              "    [theme=dark] .colab-df-convert:hover {\n",
              "      background-color: #434B5C;\n",
              "      box-shadow: 0px 1px 3px 1px rgba(0, 0, 0, 0.15);\n",
              "      filter: drop-shadow(0px 1px 2px rgba(0, 0, 0, 0.3));\n",
              "      fill: #FFFFFF;\n",
              "    }\n",
              "  </style>\n",
              "\n",
              "      <script>\n",
              "        const buttonEl =\n",
              "          document.querySelector('#df-a7863734-84c7-4f04-b975-888f4b4bb095 button.colab-df-convert');\n",
              "        buttonEl.style.display =\n",
              "          google.colab.kernel.accessAllowed ? 'block' : 'none';\n",
              "\n",
              "        async function convertToInteractive(key) {\n",
              "          const element = document.querySelector('#df-a7863734-84c7-4f04-b975-888f4b4bb095');\n",
              "          const dataTable =\n",
              "            await google.colab.kernel.invokeFunction('convertToInteractive',\n",
              "                                                     [key], {});\n",
              "          if (!dataTable) return;\n",
              "\n",
              "          const docLinkHtml = 'Like what you see? Visit the ' +\n",
              "            '<a target=\"_blank\" href=https://colab.research.google.com/notebooks/data_table.ipynb>data table notebook</a>'\n",
              "            + ' to learn more about interactive tables.';\n",
              "          element.innerHTML = '';\n",
              "          dataTable['output_type'] = 'display_data';\n",
              "          await google.colab.output.renderOutput(dataTable, element);\n",
              "          const docLink = document.createElement('div');\n",
              "          docLink.innerHTML = docLinkHtml;\n",
              "          element.appendChild(docLink);\n",
              "        }\n",
              "      </script>\n",
              "    </div>\n",
              "  </div>\n",
              "  "
            ]
          },
          "metadata": {},
          "execution_count": 7
        }
      ]
    },
    {
      "cell_type": "code",
      "source": [
        "df_b.info()"
      ],
      "metadata": {
        "colab": {
          "base_uri": "https://localhost:8080/"
        },
        "id": "GLXQ0tZlPY2i",
        "outputId": "16655f89-371e-45b7-de4d-b189bed0f15f"
      },
      "execution_count": 8,
      "outputs": [
        {
          "output_type": "stream",
          "name": "stdout",
          "text": [
            "<class 'pandas.core.frame.DataFrame'>\n",
            "RangeIndex: 271360 entries, 0 to 271359\n",
            "Data columns (total 8 columns):\n",
            " #   Column               Non-Null Count   Dtype \n",
            "---  ------               --------------   ----- \n",
            " 0   ISBN                 271360 non-null  object\n",
            " 1   Book-Title           271360 non-null  object\n",
            " 2   Book-Author          271359 non-null  object\n",
            " 3   Year-Of-Publication  271360 non-null  object\n",
            " 4   Publisher            271358 non-null  object\n",
            " 5   Image-URL-S          271360 non-null  object\n",
            " 6   Image-URL-M          271360 non-null  object\n",
            " 7   Image-URL-L          271357 non-null  object\n",
            "dtypes: object(8)\n",
            "memory usage: 16.6+ MB\n"
          ]
        }
      ]
    },
    {
      "cell_type": "markdown",
      "source": [
        "### 3.2.2 *Dataset* Rating"
      ],
      "metadata": {
        "id": "IZx0Y0aRdYvr"
      }
    },
    {
      "cell_type": "markdown",
      "source": [
        "*Exploratory Data Analysis* (EDA) untuk *dataframe* `Ratings`."
      ],
      "metadata": {
        "id": "DlPh-zcGOqQJ"
      }
    },
    {
      "cell_type": "code",
      "source": [
        "df_r"
      ],
      "metadata": {
        "colab": {
          "base_uri": "https://localhost:8080/",
          "height": 424
        },
        "id": "k4nCiUqaWsHq",
        "outputId": "9a54bb00-f48e-48d8-b619-5a50f07e9bae"
      },
      "execution_count": 9,
      "outputs": [
        {
          "output_type": "execute_result",
          "data": {
            "text/plain": [
              "         User-ID         ISBN  Book-Rating\n",
              "0         276725   034545104X            0\n",
              "1         276726   0155061224            5\n",
              "2         276727   0446520802            0\n",
              "3         276729   052165615X            3\n",
              "4         276729   0521795028            6\n",
              "...          ...          ...          ...\n",
              "1149775   276704   1563526298            9\n",
              "1149776   276706   0679447156            0\n",
              "1149777   276709   0515107662           10\n",
              "1149778   276721   0590442449           10\n",
              "1149779   276723  05162443314            8\n",
              "\n",
              "[1149780 rows x 3 columns]"
            ],
            "text/html": [
              "\n",
              "  <div id=\"df-dba40b5d-ffa7-404c-a9c5-017668e48da5\">\n",
              "    <div class=\"colab-df-container\">\n",
              "      <div>\n",
              "<style scoped>\n",
              "    .dataframe tbody tr th:only-of-type {\n",
              "        vertical-align: middle;\n",
              "    }\n",
              "\n",
              "    .dataframe tbody tr th {\n",
              "        vertical-align: top;\n",
              "    }\n",
              "\n",
              "    .dataframe thead th {\n",
              "        text-align: right;\n",
              "    }\n",
              "</style>\n",
              "<table border=\"1\" class=\"dataframe\">\n",
              "  <thead>\n",
              "    <tr style=\"text-align: right;\">\n",
              "      <th></th>\n",
              "      <th>User-ID</th>\n",
              "      <th>ISBN</th>\n",
              "      <th>Book-Rating</th>\n",
              "    </tr>\n",
              "  </thead>\n",
              "  <tbody>\n",
              "    <tr>\n",
              "      <th>0</th>\n",
              "      <td>276725</td>\n",
              "      <td>034545104X</td>\n",
              "      <td>0</td>\n",
              "    </tr>\n",
              "    <tr>\n",
              "      <th>1</th>\n",
              "      <td>276726</td>\n",
              "      <td>0155061224</td>\n",
              "      <td>5</td>\n",
              "    </tr>\n",
              "    <tr>\n",
              "      <th>2</th>\n",
              "      <td>276727</td>\n",
              "      <td>0446520802</td>\n",
              "      <td>0</td>\n",
              "    </tr>\n",
              "    <tr>\n",
              "      <th>3</th>\n",
              "      <td>276729</td>\n",
              "      <td>052165615X</td>\n",
              "      <td>3</td>\n",
              "    </tr>\n",
              "    <tr>\n",
              "      <th>4</th>\n",
              "      <td>276729</td>\n",
              "      <td>0521795028</td>\n",
              "      <td>6</td>\n",
              "    </tr>\n",
              "    <tr>\n",
              "      <th>...</th>\n",
              "      <td>...</td>\n",
              "      <td>...</td>\n",
              "      <td>...</td>\n",
              "    </tr>\n",
              "    <tr>\n",
              "      <th>1149775</th>\n",
              "      <td>276704</td>\n",
              "      <td>1563526298</td>\n",
              "      <td>9</td>\n",
              "    </tr>\n",
              "    <tr>\n",
              "      <th>1149776</th>\n",
              "      <td>276706</td>\n",
              "      <td>0679447156</td>\n",
              "      <td>0</td>\n",
              "    </tr>\n",
              "    <tr>\n",
              "      <th>1149777</th>\n",
              "      <td>276709</td>\n",
              "      <td>0515107662</td>\n",
              "      <td>10</td>\n",
              "    </tr>\n",
              "    <tr>\n",
              "      <th>1149778</th>\n",
              "      <td>276721</td>\n",
              "      <td>0590442449</td>\n",
              "      <td>10</td>\n",
              "    </tr>\n",
              "    <tr>\n",
              "      <th>1149779</th>\n",
              "      <td>276723</td>\n",
              "      <td>05162443314</td>\n",
              "      <td>8</td>\n",
              "    </tr>\n",
              "  </tbody>\n",
              "</table>\n",
              "<p>1149780 rows × 3 columns</p>\n",
              "</div>\n",
              "      <button class=\"colab-df-convert\" onclick=\"convertToInteractive('df-dba40b5d-ffa7-404c-a9c5-017668e48da5')\"\n",
              "              title=\"Convert this dataframe to an interactive table.\"\n",
              "              style=\"display:none;\">\n",
              "        \n",
              "  <svg xmlns=\"http://www.w3.org/2000/svg\" height=\"24px\"viewBox=\"0 0 24 24\"\n",
              "       width=\"24px\">\n",
              "    <path d=\"M0 0h24v24H0V0z\" fill=\"none\"/>\n",
              "    <path d=\"M18.56 5.44l.94 2.06.94-2.06 2.06-.94-2.06-.94-.94-2.06-.94 2.06-2.06.94zm-11 1L8.5 8.5l.94-2.06 2.06-.94-2.06-.94L8.5 2.5l-.94 2.06-2.06.94zm10 10l.94 2.06.94-2.06 2.06-.94-2.06-.94-.94-2.06-.94 2.06-2.06.94z\"/><path d=\"M17.41 7.96l-1.37-1.37c-.4-.4-.92-.59-1.43-.59-.52 0-1.04.2-1.43.59L10.3 9.45l-7.72 7.72c-.78.78-.78 2.05 0 2.83L4 21.41c.39.39.9.59 1.41.59.51 0 1.02-.2 1.41-.59l7.78-7.78 2.81-2.81c.8-.78.8-2.07 0-2.86zM5.41 20L4 18.59l7.72-7.72 1.47 1.35L5.41 20z\"/>\n",
              "  </svg>\n",
              "      </button>\n",
              "      \n",
              "  <style>\n",
              "    .colab-df-container {\n",
              "      display:flex;\n",
              "      flex-wrap:wrap;\n",
              "      gap: 12px;\n",
              "    }\n",
              "\n",
              "    .colab-df-convert {\n",
              "      background-color: #E8F0FE;\n",
              "      border: none;\n",
              "      border-radius: 50%;\n",
              "      cursor: pointer;\n",
              "      display: none;\n",
              "      fill: #1967D2;\n",
              "      height: 32px;\n",
              "      padding: 0 0 0 0;\n",
              "      width: 32px;\n",
              "    }\n",
              "\n",
              "    .colab-df-convert:hover {\n",
              "      background-color: #E2EBFA;\n",
              "      box-shadow: 0px 1px 2px rgba(60, 64, 67, 0.3), 0px 1px 3px 1px rgba(60, 64, 67, 0.15);\n",
              "      fill: #174EA6;\n",
              "    }\n",
              "\n",
              "    [theme=dark] .colab-df-convert {\n",
              "      background-color: #3B4455;\n",
              "      fill: #D2E3FC;\n",
              "    }\n",
              "\n",
              "    [theme=dark] .colab-df-convert:hover {\n",
              "      background-color: #434B5C;\n",
              "      box-shadow: 0px 1px 3px 1px rgba(0, 0, 0, 0.15);\n",
              "      filter: drop-shadow(0px 1px 2px rgba(0, 0, 0, 0.3));\n",
              "      fill: #FFFFFF;\n",
              "    }\n",
              "  </style>\n",
              "\n",
              "      <script>\n",
              "        const buttonEl =\n",
              "          document.querySelector('#df-dba40b5d-ffa7-404c-a9c5-017668e48da5 button.colab-df-convert');\n",
              "        buttonEl.style.display =\n",
              "          google.colab.kernel.accessAllowed ? 'block' : 'none';\n",
              "\n",
              "        async function convertToInteractive(key) {\n",
              "          const element = document.querySelector('#df-dba40b5d-ffa7-404c-a9c5-017668e48da5');\n",
              "          const dataTable =\n",
              "            await google.colab.kernel.invokeFunction('convertToInteractive',\n",
              "                                                     [key], {});\n",
              "          if (!dataTable) return;\n",
              "\n",
              "          const docLinkHtml = 'Like what you see? Visit the ' +\n",
              "            '<a target=\"_blank\" href=https://colab.research.google.com/notebooks/data_table.ipynb>data table notebook</a>'\n",
              "            + ' to learn more about interactive tables.';\n",
              "          element.innerHTML = '';\n",
              "          dataTable['output_type'] = 'display_data';\n",
              "          await google.colab.output.renderOutput(dataTable, element);\n",
              "          const docLink = document.createElement('div');\n",
              "          docLink.innerHTML = docLinkHtml;\n",
              "          element.appendChild(docLink);\n",
              "        }\n",
              "      </script>\n",
              "    </div>\n",
              "  </div>\n",
              "  "
            ]
          },
          "metadata": {},
          "execution_count": 9
        }
      ]
    },
    {
      "cell_type": "code",
      "source": [
        "df_r.info()"
      ],
      "metadata": {
        "colab": {
          "base_uri": "https://localhost:8080/"
        },
        "id": "5cF7IeHFdhBx",
        "outputId": "04d49093-4927-41d0-bf5f-3fc89f0314af"
      },
      "execution_count": 10,
      "outputs": [
        {
          "output_type": "stream",
          "name": "stdout",
          "text": [
            "<class 'pandas.core.frame.DataFrame'>\n",
            "RangeIndex: 1149780 entries, 0 to 1149779\n",
            "Data columns (total 3 columns):\n",
            " #   Column       Non-Null Count    Dtype \n",
            "---  ------       --------------    ----- \n",
            " 0   User-ID      1149780 non-null  int64 \n",
            " 1   ISBN         1149780 non-null  object\n",
            " 2   Book-Rating  1149780 non-null  int64 \n",
            "dtypes: int64(2), object(1)\n",
            "memory usage: 26.3+ MB\n"
          ]
        }
      ]
    },
    {
      "cell_type": "code",
      "source": [
        "df_r.describe()"
      ],
      "metadata": {
        "colab": {
          "base_uri": "https://localhost:8080/",
          "height": 300
        },
        "id": "aIPXrkmLacQN",
        "outputId": "017d5a59-02f6-490c-abc0-9851f262648c"
      },
      "execution_count": 11,
      "outputs": [
        {
          "output_type": "execute_result",
          "data": {
            "text/plain": [
              "            User-ID   Book-Rating\n",
              "count  1.149780e+06  1.149780e+06\n",
              "mean   1.403864e+05  2.866950e+00\n",
              "std    8.056228e+04  3.854184e+00\n",
              "min    2.000000e+00  0.000000e+00\n",
              "25%    7.034500e+04  0.000000e+00\n",
              "50%    1.410100e+05  0.000000e+00\n",
              "75%    2.110280e+05  7.000000e+00\n",
              "max    2.788540e+05  1.000000e+01"
            ],
            "text/html": [
              "\n",
              "  <div id=\"df-cea418fb-c7fb-4cf1-9fe4-3bfae864103b\">\n",
              "    <div class=\"colab-df-container\">\n",
              "      <div>\n",
              "<style scoped>\n",
              "    .dataframe tbody tr th:only-of-type {\n",
              "        vertical-align: middle;\n",
              "    }\n",
              "\n",
              "    .dataframe tbody tr th {\n",
              "        vertical-align: top;\n",
              "    }\n",
              "\n",
              "    .dataframe thead th {\n",
              "        text-align: right;\n",
              "    }\n",
              "</style>\n",
              "<table border=\"1\" class=\"dataframe\">\n",
              "  <thead>\n",
              "    <tr style=\"text-align: right;\">\n",
              "      <th></th>\n",
              "      <th>User-ID</th>\n",
              "      <th>Book-Rating</th>\n",
              "    </tr>\n",
              "  </thead>\n",
              "  <tbody>\n",
              "    <tr>\n",
              "      <th>count</th>\n",
              "      <td>1.149780e+06</td>\n",
              "      <td>1.149780e+06</td>\n",
              "    </tr>\n",
              "    <tr>\n",
              "      <th>mean</th>\n",
              "      <td>1.403864e+05</td>\n",
              "      <td>2.866950e+00</td>\n",
              "    </tr>\n",
              "    <tr>\n",
              "      <th>std</th>\n",
              "      <td>8.056228e+04</td>\n",
              "      <td>3.854184e+00</td>\n",
              "    </tr>\n",
              "    <tr>\n",
              "      <th>min</th>\n",
              "      <td>2.000000e+00</td>\n",
              "      <td>0.000000e+00</td>\n",
              "    </tr>\n",
              "    <tr>\n",
              "      <th>25%</th>\n",
              "      <td>7.034500e+04</td>\n",
              "      <td>0.000000e+00</td>\n",
              "    </tr>\n",
              "    <tr>\n",
              "      <th>50%</th>\n",
              "      <td>1.410100e+05</td>\n",
              "      <td>0.000000e+00</td>\n",
              "    </tr>\n",
              "    <tr>\n",
              "      <th>75%</th>\n",
              "      <td>2.110280e+05</td>\n",
              "      <td>7.000000e+00</td>\n",
              "    </tr>\n",
              "    <tr>\n",
              "      <th>max</th>\n",
              "      <td>2.788540e+05</td>\n",
              "      <td>1.000000e+01</td>\n",
              "    </tr>\n",
              "  </tbody>\n",
              "</table>\n",
              "</div>\n",
              "      <button class=\"colab-df-convert\" onclick=\"convertToInteractive('df-cea418fb-c7fb-4cf1-9fe4-3bfae864103b')\"\n",
              "              title=\"Convert this dataframe to an interactive table.\"\n",
              "              style=\"display:none;\">\n",
              "        \n",
              "  <svg xmlns=\"http://www.w3.org/2000/svg\" height=\"24px\"viewBox=\"0 0 24 24\"\n",
              "       width=\"24px\">\n",
              "    <path d=\"M0 0h24v24H0V0z\" fill=\"none\"/>\n",
              "    <path d=\"M18.56 5.44l.94 2.06.94-2.06 2.06-.94-2.06-.94-.94-2.06-.94 2.06-2.06.94zm-11 1L8.5 8.5l.94-2.06 2.06-.94-2.06-.94L8.5 2.5l-.94 2.06-2.06.94zm10 10l.94 2.06.94-2.06 2.06-.94-2.06-.94-.94-2.06-.94 2.06-2.06.94z\"/><path d=\"M17.41 7.96l-1.37-1.37c-.4-.4-.92-.59-1.43-.59-.52 0-1.04.2-1.43.59L10.3 9.45l-7.72 7.72c-.78.78-.78 2.05 0 2.83L4 21.41c.39.39.9.59 1.41.59.51 0 1.02-.2 1.41-.59l7.78-7.78 2.81-2.81c.8-.78.8-2.07 0-2.86zM5.41 20L4 18.59l7.72-7.72 1.47 1.35L5.41 20z\"/>\n",
              "  </svg>\n",
              "      </button>\n",
              "      \n",
              "  <style>\n",
              "    .colab-df-container {\n",
              "      display:flex;\n",
              "      flex-wrap:wrap;\n",
              "      gap: 12px;\n",
              "    }\n",
              "\n",
              "    .colab-df-convert {\n",
              "      background-color: #E8F0FE;\n",
              "      border: none;\n",
              "      border-radius: 50%;\n",
              "      cursor: pointer;\n",
              "      display: none;\n",
              "      fill: #1967D2;\n",
              "      height: 32px;\n",
              "      padding: 0 0 0 0;\n",
              "      width: 32px;\n",
              "    }\n",
              "\n",
              "    .colab-df-convert:hover {\n",
              "      background-color: #E2EBFA;\n",
              "      box-shadow: 0px 1px 2px rgba(60, 64, 67, 0.3), 0px 1px 3px 1px rgba(60, 64, 67, 0.15);\n",
              "      fill: #174EA6;\n",
              "    }\n",
              "\n",
              "    [theme=dark] .colab-df-convert {\n",
              "      background-color: #3B4455;\n",
              "      fill: #D2E3FC;\n",
              "    }\n",
              "\n",
              "    [theme=dark] .colab-df-convert:hover {\n",
              "      background-color: #434B5C;\n",
              "      box-shadow: 0px 1px 3px 1px rgba(0, 0, 0, 0.15);\n",
              "      filter: drop-shadow(0px 1px 2px rgba(0, 0, 0, 0.3));\n",
              "      fill: #FFFFFF;\n",
              "    }\n",
              "  </style>\n",
              "\n",
              "      <script>\n",
              "        const buttonEl =\n",
              "          document.querySelector('#df-cea418fb-c7fb-4cf1-9fe4-3bfae864103b button.colab-df-convert');\n",
              "        buttonEl.style.display =\n",
              "          google.colab.kernel.accessAllowed ? 'block' : 'none';\n",
              "\n",
              "        async function convertToInteractive(key) {\n",
              "          const element = document.querySelector('#df-cea418fb-c7fb-4cf1-9fe4-3bfae864103b');\n",
              "          const dataTable =\n",
              "            await google.colab.kernel.invokeFunction('convertToInteractive',\n",
              "                                                     [key], {});\n",
              "          if (!dataTable) return;\n",
              "\n",
              "          const docLinkHtml = 'Like what you see? Visit the ' +\n",
              "            '<a target=\"_blank\" href=https://colab.research.google.com/notebooks/data_table.ipynb>data table notebook</a>'\n",
              "            + ' to learn more about interactive tables.';\n",
              "          element.innerHTML = '';\n",
              "          dataTable['output_type'] = 'display_data';\n",
              "          await google.colab.output.renderOutput(dataTable, element);\n",
              "          const docLink = document.createElement('div');\n",
              "          docLink.innerHTML = docLinkHtml;\n",
              "          element.appendChild(docLink);\n",
              "        }\n",
              "      </script>\n",
              "    </div>\n",
              "  </div>\n",
              "  "
            ]
          },
          "metadata": {},
          "execution_count": 11
        }
      ]
    },
    {
      "cell_type": "markdown",
      "source": [
        "Deskripsi statistik untuk *dataframe* `Ratings` dengan atribut `Book-Rating`, yaitu untuk menampilkan karakteristik statistik, seperti rata-rata (`mean`), simpangan baku/standar deviasi (`std`), nilai minimum (`min`), nilai maksimum (`max`), kuartil bawah/Q1 (`25%`), kuartil tengah/Q2/median (`50%`), dan kuartil atas/Q3 (`75%`) dari *rating* pengguna terhadap buku yang sudah pernah dibaca."
      ],
      "metadata": {
        "id": "BuC0XPdYOwwA"
      }
    },
    {
      "cell_type": "code",
      "source": [
        "df_r['Book-Rating'].describe().apply(lambda x: '%.f' % x)"
      ],
      "metadata": {
        "colab": {
          "base_uri": "https://localhost:8080/"
        },
        "id": "nBVsMDCoeU6L",
        "outputId": "8d421a0b-f8b5-4095-97b0-67ad620f8e9d"
      },
      "execution_count": 12,
      "outputs": [
        {
          "output_type": "execute_result",
          "data": {
            "text/plain": [
              "count    1149780\n",
              "mean           3\n",
              "std            4\n",
              "min            0\n",
              "25%            0\n",
              "50%            0\n",
              "75%            7\n",
              "max           10\n",
              "Name: Book-Rating, dtype: object"
            ]
          },
          "metadata": {},
          "execution_count": 12
        }
      ]
    },
    {
      "cell_type": "markdown",
      "source": [
        "Visualisasi grafik histogram frekuensi sebaran data *rating* pengguna terhadap buku yang sudah pernah dibaca, mulai dari *rating* 1 hingga *rating* 10."
      ],
      "metadata": {
        "id": "tOT5kcpgP3Sd"
      }
    },
    {
      "cell_type": "code",
      "source": [
        "df_r['Book-Rating'].value_counts().sort_index().plot(\n",
        "    kind    = 'barh',\n",
        "    color   = ['k', 'gray', 'pink', 'm', 'c', 'b', 'g', 'lightgreen', 'yellow', 'orange', 'r'],\n",
        "    title   = 'Jumlah Rating Buku',\n",
        "    xlabel  = 'Rating',\n",
        "    ylabel  = 'Jumlah',\n",
        "    figsize = (14, 5),\n",
        "    xticks  = (np.arange(0, 720000, 50000))\n",
        ").grid(linestyle='-.', linewidth=0.5)"
      ],
      "metadata": {
        "colab": {
          "base_uri": "https://localhost:8080/",
          "height": 336
        },
        "id": "NdV5gdSZfzz0",
        "outputId": "a506ff46-c1c2-4830-b448-1d21a90a4ddf"
      },
      "execution_count": 13,
      "outputs": [
        {
          "output_type": "display_data",
          "data": {
            "text/plain": [
              "<Figure size 1008x360 with 1 Axes>"
            ],
            "image/png": "[encoded data removed]"
          },
          "metadata": {
            "needs_background": "light"
          }
        }
      ]
    },
    {
      "cell_type": "markdown",
      "source": [
        "Berdasarkan hasil visualisasi grafik histogram \"Jumlah Rating Buku\" di atas, dapat disimpulkan bahwa *rating* terbanyak dari buku yang sudah pernah dibaca adalah *rating* 0, dengan jumlah *rating* kira-kira sebanyak lebih dari 700.000. *Rating* 0 tersebut dapat menyebabkan bias dan mempengaruhi hasil analisis, sehingga data dengan *rating* 0 tersebut dapat dihapus pada tahap *data preparation*."
      ],
      "metadata": {
        "id": "A-wM0e-VRBjI"
      }
    },
    {
      "cell_type": "markdown",
      "source": [
        "### 3.2.3 *Dataset* User"
      ],
      "metadata": {
        "id": "G8GfvphydkAM"
      }
    },
    {
      "cell_type": "markdown",
      "source": [
        "*Exploratory Data Analysis* (EDA) untuk *dataframe* `Users`."
      ],
      "metadata": {
        "id": "aA0ocx_ZQcy-"
      }
    },
    {
      "cell_type": "code",
      "source": [
        "df_u"
      ],
      "metadata": {
        "colab": {
          "base_uri": "https://localhost:8080/",
          "height": 424
        },
        "id": "wlm3LP_6diW6",
        "outputId": "afbd9b28-97db-4166-a2c4-9b1a74149a5c"
      },
      "execution_count": 14,
      "outputs": [
        {
          "output_type": "execute_result",
          "data": {
            "text/plain": [
              "        User-ID                            Location   Age\n",
              "0             1                  nyc, new york, usa   NaN\n",
              "1             2           stockton, california, usa  18.0\n",
              "2             3     moscow, yukon territory, russia   NaN\n",
              "3             4           porto, v.n.gaia, portugal  17.0\n",
              "4             5  farnborough, hants, united kingdom   NaN\n",
              "...         ...                                 ...   ...\n",
              "278853   278854               portland, oregon, usa   NaN\n",
              "278854   278855  tacoma, washington, united kingdom  50.0\n",
              "278855   278856           brampton, ontario, canada   NaN\n",
              "278856   278857           knoxville, tennessee, usa   NaN\n",
              "278857   278858                dublin, n/a, ireland   NaN\n",
              "\n",
              "[278858 rows x 3 columns]"
            ],
            "text/html": [
              "\n",
              "  <div id=\"df-87d473e1-a938-4e0c-bd0e-7adb5105992d\">\n",
              "    <div class=\"colab-df-container\">\n",
              "      <div>\n",
              "<style scoped>\n",
              "    .dataframe tbody tr th:only-of-type {\n",
              "        vertical-align: middle;\n",
              "    }\n",
              "\n",
              "    .dataframe tbody tr th {\n",
              "        vertical-align: top;\n",
              "    }\n",
              "\n",
              "    .dataframe thead th {\n",
              "        text-align: right;\n",
              "    }\n",
              "</style>\n",
              "<table border=\"1\" class=\"dataframe\">\n",
              "  <thead>\n",
              "    <tr style=\"text-align: right;\">\n",
              "      <th></th>\n",
              "      <th>User-ID</th>\n",
              "      <th>Location</th>\n",
              "      <th>Age</th>\n",
              "    </tr>\n",
              "  </thead>\n",
              "  <tbody>\n",
              "    <tr>\n",
              "      <th>0</th>\n",
              "      <td>1</td>\n",
              "      <td>nyc, new york, usa</td>\n",
              "      <td>NaN</td>\n",
              "    </tr>\n",
              "    <tr>\n",
              "      <th>1</th>\n",
              "      <td>2</td>\n",
              "      <td>stockton, california, usa</td>\n",
              "      <td>18.0</td>\n",
              "    </tr>\n",
              "    <tr>\n",
              "      <th>2</th>\n",
              "      <td>3</td>\n",
              "      <td>moscow, yukon territory, russia</td>\n",
              "      <td>NaN</td>\n",
              "    </tr>\n",
              "    <tr>\n",
              "      <th>3</th>\n",
              "      <td>4</td>\n",
              "      <td>porto, v.n.gaia, portugal</td>\n",
              "      <td>17.0</td>\n",
              "    </tr>\n",
              "    <tr>\n",
              "      <th>4</th>\n",
              "      <td>5</td>\n",
              "      <td>farnborough, hants, united kingdom</td>\n",
              "      <td>NaN</td>\n",
              "    </tr>\n",
              "    <tr>\n",
              "      <th>...</th>\n",
              "      <td>...</td>\n",
              "      <td>...</td>\n",
              "      <td>...</td>\n",
              "    </tr>\n",
              "    <tr>\n",
              "      <th>278853</th>\n",
              "      <td>278854</td>\n",
              "      <td>portland, oregon, usa</td>\n",
              "      <td>NaN</td>\n",
              "    </tr>\n",
              "    <tr>\n",
              "      <th>278854</th>\n",
              "      <td>278855</td>\n",
              "      <td>tacoma, washington, united kingdom</td>\n",
              "      <td>50.0</td>\n",
              "    </tr>\n",
              "    <tr>\n",
              "      <th>278855</th>\n",
              "      <td>278856</td>\n",
              "      <td>brampton, ontario, canada</td>\n",
              "      <td>NaN</td>\n",
              "    </tr>\n",
              "    <tr>\n",
              "      <th>278856</th>\n",
              "      <td>278857</td>\n",
              "      <td>knoxville, tennessee, usa</td>\n",
              "      <td>NaN</td>\n",
              "    </tr>\n",
              "    <tr>\n",
              "      <th>278857</th>\n",
              "      <td>278858</td>\n",
              "      <td>dublin, n/a, ireland</td>\n",
              "      <td>NaN</td>\n",
              "    </tr>\n",
              "  </tbody>\n",
              "</table>\n",
              "<p>278858 rows × 3 columns</p>\n",
              "</div>\n",
              "      <button class=\"colab-df-convert\" onclick=\"convertToInteractive('df-87d473e1-a938-4e0c-bd0e-7adb5105992d')\"\n",
              "              title=\"Convert this dataframe to an interactive table.\"\n",
              "              style=\"display:none;\">\n",
              "        \n",
              "  <svg xmlns=\"http://www.w3.org/2000/svg\" height=\"24px\"viewBox=\"0 0 24 24\"\n",
              "       width=\"24px\">\n",
              "    <path d=\"M0 0h24v24H0V0z\" fill=\"none\"/>\n",
              "    <path d=\"M18.56 5.44l.94 2.06.94-2.06 2.06-.94-2.06-.94-.94-2.06-.94 2.06-2.06.94zm-11 1L8.5 8.5l.94-2.06 2.06-.94-2.06-.94L8.5 2.5l-.94 2.06-2.06.94zm10 10l.94 2.06.94-2.06 2.06-.94-2.06-.94-.94-2.06-.94 2.06-2.06.94z\"/><path d=\"M17.41 7.96l-1.37-1.37c-.4-.4-.92-.59-1.43-.59-.52 0-1.04.2-1.43.59L10.3 9.45l-7.72 7.72c-.78.78-.78 2.05 0 2.83L4 21.41c.39.39.9.59 1.41.59.51 0 1.02-.2 1.41-.59l7.78-7.78 2.81-2.81c.8-.78.8-2.07 0-2.86zM5.41 20L4 18.59l7.72-7.72 1.47 1.35L5.41 20z\"/>\n",
              "  </svg>\n",
              "      </button>\n",
              "      \n",
              "  <style>\n",
              "    .colab-df-container {\n",
              "      display:flex;\n",
              "      flex-wrap:wrap;\n",
              "      gap: 12px;\n",
              "    }\n",
              "\n",
              "    .colab-df-convert {\n",
              "      background-color: #E8F0FE;\n",
              "      border: none;\n",
              "      border-radius: 50%;\n",
              "      cursor: pointer;\n",
              "      display: none;\n",
              "      fill: #1967D2;\n",
              "      height: 32px;\n",
              "      padding: 0 0 0 0;\n",
              "      width: 32px;\n",
              "    }\n",
              "\n",
              "    .colab-df-convert:hover {\n",
              "      background-color: #E2EBFA;\n",
              "      box-shadow: 0px 1px 2px rgba(60, 64, 67, 0.3), 0px 1px 3px 1px rgba(60, 64, 67, 0.15);\n",
              "      fill: #174EA6;\n",
              "    }\n",
              "\n",
              "    [theme=dark] .colab-df-convert {\n",
              "      background-color: #3B4455;\n",
              "      fill: #D2E3FC;\n",
              "    }\n",
              "\n",
              "    [theme=dark] .colab-df-convert:hover {\n",
              "      background-color: #434B5C;\n",
              "      box-shadow: 0px 1px 3px 1px rgba(0, 0, 0, 0.15);\n",
              "      filter: drop-shadow(0px 1px 2px rgba(0, 0, 0, 0.3));\n",
              "      fill: #FFFFFF;\n",
              "    }\n",
              "  </style>\n",
              "\n",
              "      <script>\n",
              "        const buttonEl =\n",
              "          document.querySelector('#df-87d473e1-a938-4e0c-bd0e-7adb5105992d button.colab-df-convert');\n",
              "        buttonEl.style.display =\n",
              "          google.colab.kernel.accessAllowed ? 'block' : 'none';\n",
              "\n",
              "        async function convertToInteractive(key) {\n",
              "          const element = document.querySelector('#df-87d473e1-a938-4e0c-bd0e-7adb5105992d');\n",
              "          const dataTable =\n",
              "            await google.colab.kernel.invokeFunction('convertToInteractive',\n",
              "                                                     [key], {});\n",
              "          if (!dataTable) return;\n",
              "\n",
              "          const docLinkHtml = 'Like what you see? Visit the ' +\n",
              "            '<a target=\"_blank\" href=https://colab.research.google.com/notebooks/data_table.ipynb>data table notebook</a>'\n",
              "            + ' to learn more about interactive tables.';\n",
              "          element.innerHTML = '';\n",
              "          dataTable['output_type'] = 'display_data';\n",
              "          await google.colab.output.renderOutput(dataTable, element);\n",
              "          const docLink = document.createElement('div');\n",
              "          docLink.innerHTML = docLinkHtml;\n",
              "          element.appendChild(docLink);\n",
              "        }\n",
              "      </script>\n",
              "    </div>\n",
              "  </div>\n",
              "  "
            ]
          },
          "metadata": {},
          "execution_count": 14
        }
      ]
    },
    {
      "cell_type": "markdown",
      "source": [
        "Berdasarkaan tabel *dataframe* `Users` di atas, dapat dilihat bahwa terdapat nilai `null` atau `NaN` (*Not a Number*) pada kolom/atribut `Age`. Sehingga perlu dilakukan pemrosesan lebih lanjut pada tahap *data preparation*."
      ],
      "metadata": {
        "id": "koIqyMScSirQ"
      }
    },
    {
      "cell_type": "code",
      "source": [
        "df_u.info()"
      ],
      "metadata": {
        "colab": {
          "base_uri": "https://localhost:8080/"
        },
        "id": "ED3yXxZFdnV5",
        "outputId": "518ad01b-15ca-43dd-89f0-41199979aab9"
      },
      "execution_count": 15,
      "outputs": [
        {
          "output_type": "stream",
          "name": "stdout",
          "text": [
            "<class 'pandas.core.frame.DataFrame'>\n",
            "RangeIndex: 278858 entries, 0 to 278857\n",
            "Data columns (total 3 columns):\n",
            " #   Column    Non-Null Count   Dtype  \n",
            "---  ------    --------------   -----  \n",
            " 0   User-ID   278858 non-null  int64  \n",
            " 1   Location  278858 non-null  object \n",
            " 2   Age       168096 non-null  float64\n",
            "dtypes: float64(1), int64(1), object(1)\n",
            "memory usage: 6.4+ MB\n"
          ]
        }
      ]
    },
    {
      "cell_type": "markdown",
      "source": [
        "Deskripsi statistik untuk *dataframe* `Users`, seperti jumlah data (`count`), rata-rata (`mean`), simpangan baku/standar deviasi (`std`), nilai minimum (`min`), nilai maksimum (`max`), kuartil bawah/Q1 (`25%`), kuartil tengah/Q2/median (`50%`), dan kuartil atas/Q3 (`75%`)."
      ],
      "metadata": {
        "id": "ncOpcC2wQkeN"
      }
    },
    {
      "cell_type": "code",
      "source": [
        "df_u.describe()"
      ],
      "metadata": {
        "colab": {
          "base_uri": "https://localhost:8080/",
          "height": 300
        },
        "id": "p_u-AQXKaMbb",
        "outputId": "8be0e228-1fc7-4f3c-8010-110f194a2051"
      },
      "execution_count": 16,
      "outputs": [
        {
          "output_type": "execute_result",
          "data": {
            "text/plain": [
              "            User-ID            Age\n",
              "count  278858.00000  168096.000000\n",
              "mean   139429.50000      34.751434\n",
              "std     80499.51502      14.428097\n",
              "min         1.00000       0.000000\n",
              "25%     69715.25000      24.000000\n",
              "50%    139429.50000      32.000000\n",
              "75%    209143.75000      44.000000\n",
              "max    278858.00000     244.000000"
            ],
            "text/html": [
              "\n",
              "  <div id=\"df-4aeccc4d-01a8-44fc-b898-c4245106d385\">\n",
              "    <div class=\"colab-df-container\">\n",
              "      <div>\n",
              "<style scoped>\n",
              "    .dataframe tbody tr th:only-of-type {\n",
              "        vertical-align: middle;\n",
              "    }\n",
              "\n",
              "    .dataframe tbody tr th {\n",
              "        vertical-align: top;\n",
              "    }\n",
              "\n",
              "    .dataframe thead th {\n",
              "        text-align: right;\n",
              "    }\n",
              "</style>\n",
              "<table border=\"1\" class=\"dataframe\">\n",
              "  <thead>\n",
              "    <tr style=\"text-align: right;\">\n",
              "      <th></th>\n",
              "      <th>User-ID</th>\n",
              "      <th>Age</th>\n",
              "    </tr>\n",
              "  </thead>\n",
              "  <tbody>\n",
              "    <tr>\n",
              "      <th>count</th>\n",
              "      <td>278858.00000</td>\n",
              "      <td>168096.000000</td>\n",
              "    </tr>\n",
              "    <tr>\n",
              "      <th>mean</th>\n",
              "      <td>139429.50000</td>\n",
              "      <td>34.751434</td>\n",
              "    </tr>\n",
              "    <tr>\n",
              "      <th>std</th>\n",
              "      <td>80499.51502</td>\n",
              "      <td>14.428097</td>\n",
              "    </tr>\n",
              "    <tr>\n",
              "      <th>min</th>\n",
              "      <td>1.00000</td>\n",
              "      <td>0.000000</td>\n",
              "    </tr>\n",
              "    <tr>\n",
              "      <th>25%</th>\n",
              "      <td>69715.25000</td>\n",
              "      <td>24.000000</td>\n",
              "    </tr>\n",
              "    <tr>\n",
              "      <th>50%</th>\n",
              "      <td>139429.50000</td>\n",
              "      <td>32.000000</td>\n",
              "    </tr>\n",
              "    <tr>\n",
              "      <th>75%</th>\n",
              "      <td>209143.75000</td>\n",
              "      <td>44.000000</td>\n",
              "    </tr>\n",
              "    <tr>\n",
              "      <th>max</th>\n",
              "      <td>278858.00000</td>\n",
              "      <td>244.000000</td>\n",
              "    </tr>\n",
              "  </tbody>\n",
              "</table>\n",
              "</div>\n",
              "      <button class=\"colab-df-convert\" onclick=\"convertToInteractive('df-4aeccc4d-01a8-44fc-b898-c4245106d385')\"\n",
              "              title=\"Convert this dataframe to an interactive table.\"\n",
              "              style=\"display:none;\">\n",
              "        \n",
              "  <svg xmlns=\"http://www.w3.org/2000/svg\" height=\"24px\"viewBox=\"0 0 24 24\"\n",
              "       width=\"24px\">\n",
              "    <path d=\"M0 0h24v24H0V0z\" fill=\"none\"/>\n",
              "    <path d=\"M18.56 5.44l.94 2.06.94-2.06 2.06-.94-2.06-.94-.94-2.06-.94 2.06-2.06.94zm-11 1L8.5 8.5l.94-2.06 2.06-.94-2.06-.94L8.5 2.5l-.94 2.06-2.06.94zm10 10l.94 2.06.94-2.06 2.06-.94-2.06-.94-.94-2.06-.94 2.06-2.06.94z\"/><path d=\"M17.41 7.96l-1.37-1.37c-.4-.4-.92-.59-1.43-.59-.52 0-1.04.2-1.43.59L10.3 9.45l-7.72 7.72c-.78.78-.78 2.05 0 2.83L4 21.41c.39.39.9.59 1.41.59.51 0 1.02-.2 1.41-.59l7.78-7.78 2.81-2.81c.8-.78.8-2.07 0-2.86zM5.41 20L4 18.59l7.72-7.72 1.47 1.35L5.41 20z\"/>\n",
              "  </svg>\n",
              "      </button>\n",
              "      \n",
              "  <style>\n",
              "    .colab-df-container {\n",
              "      display:flex;\n",
              "      flex-wrap:wrap;\n",
              "      gap: 12px;\n",
              "    }\n",
              "\n",
              "    .colab-df-convert {\n",
              "      background-color: #E8F0FE;\n",
              "      border: none;\n",
              "      border-radius: 50%;\n",
              "      cursor: pointer;\n",
              "      display: none;\n",
              "      fill: #1967D2;\n",
              "      height: 32px;\n",
              "      padding: 0 0 0 0;\n",
              "      width: 32px;\n",
              "    }\n",
              "\n",
              "    .colab-df-convert:hover {\n",
              "      background-color: #E2EBFA;\n",
              "      box-shadow: 0px 1px 2px rgba(60, 64, 67, 0.3), 0px 1px 3px 1px rgba(60, 64, 67, 0.15);\n",
              "      fill: #174EA6;\n",
              "    }\n",
              "\n",
              "    [theme=dark] .colab-df-convert {\n",
              "      background-color: #3B4455;\n",
              "      fill: #D2E3FC;\n",
              "    }\n",
              "\n",
              "    [theme=dark] .colab-df-convert:hover {\n",
              "      background-color: #434B5C;\n",
              "      box-shadow: 0px 1px 3px 1px rgba(0, 0, 0, 0.15);\n",
              "      filter: drop-shadow(0px 1px 2px rgba(0, 0, 0, 0.3));\n",
              "      fill: #FFFFFF;\n",
              "    }\n",
              "  </style>\n",
              "\n",
              "      <script>\n",
              "        const buttonEl =\n",
              "          document.querySelector('#df-4aeccc4d-01a8-44fc-b898-c4245106d385 button.colab-df-convert');\n",
              "        buttonEl.style.display =\n",
              "          google.colab.kernel.accessAllowed ? 'block' : 'none';\n",
              "\n",
              "        async function convertToInteractive(key) {\n",
              "          const element = document.querySelector('#df-4aeccc4d-01a8-44fc-b898-c4245106d385');\n",
              "          const dataTable =\n",
              "            await google.colab.kernel.invokeFunction('convertToInteractive',\n",
              "                                                     [key], {});\n",
              "          if (!dataTable) return;\n",
              "\n",
              "          const docLinkHtml = 'Like what you see? Visit the ' +\n",
              "            '<a target=\"_blank\" href=https://colab.research.google.com/notebooks/data_table.ipynb>data table notebook</a>'\n",
              "            + ' to learn more about interactive tables.';\n",
              "          element.innerHTML = '';\n",
              "          dataTable['output_type'] = 'display_data';\n",
              "          await google.colab.output.renderOutput(dataTable, element);\n",
              "          const docLink = document.createElement('div');\n",
              "          docLink.innerHTML = docLinkHtml;\n",
              "          element.appendChild(docLink);\n",
              "        }\n",
              "      </script>\n",
              "    </div>\n",
              "  </div>\n",
              "  "
            ]
          },
          "metadata": {},
          "execution_count": 16
        }
      ]
    },
    {
      "cell_type": "markdown",
      "source": [
        "# **4. *Data Preprocessing***"
      ],
      "metadata": {
        "id": "1IiCOkz8GzvE"
      }
    },
    {
      "cell_type": "markdown",
      "source": [
        "Tahap pra-pemrosesan data atau *data preprocessing* merupakan tahap yang perlu diterapkan sebelum melakukan proses pemodelan. Tahap ini adalah teknik yang digunakan untuk mengubah data mentah *(raw data*) menjadi data yang bersih (*clean data*) yang siap untuk digunakan pada proses selanjutnya. Dalam kasus ini, tahap *data preprocessing* dilakukan dengan menyesuaikan nama kolom atau atribut masing-masing *dataframe*, melakukan penggabungkan data ISBN, dan data *User* untuk melihat jumlah data secara keseluruhan."
      ],
      "metadata": {
        "id": "BAHrlxawTYj7"
      }
    },
    {
      "cell_type": "markdown",
      "source": [
        "## 4.1 Mengubah Nama Kolom/Atribut"
      ],
      "metadata": {
        "id": "X3zCH10kKfXA"
      }
    },
    {
      "cell_type": "markdown",
      "source": [
        "Tujuan dari proses pengubahan nama kolom atau artibut dari masing-masing *dataframe* dengan menggunakan fungsi `.rename()` adalah untuk memudahkan proses pemanggilan *dataframe* dengan nama kolom atau atribut tertentu pada tahap selanjutnya."
      ],
      "metadata": {
        "id": "81gzj1hOVwNa"
      }
    },
    {
      "cell_type": "markdown",
      "source": [
        "### 4.1.1 Books"
      ],
      "metadata": {
        "id": "LzEJgSc9NMOW"
      }
    },
    {
      "cell_type": "code",
      "source": [
        "df_b.rename(columns={\n",
        "    'ISBN'                : 'isbn',\n",
        "    'Book-Title'          : 'book_title',\n",
        "    'Book-Author'         : 'book_author',\n",
        "    'Year-Of-Publication' : 'pub_year',\n",
        "    'Publisher'           : 'publisher',\n",
        "    'Image-URL-S'         : 'image_s_url',\n",
        "    'Image-URL-M'         : 'image_m_url',\n",
        "    'Image-URL-L'         : 'image_l_url'\n",
        "}, inplace=True)\n",
        "\n",
        "df_b"
      ],
      "metadata": {
        "colab": {
          "base_uri": "https://localhost:8080/",
          "height": 957
        },
        "id": "B5xVmNfTKjvE",
        "outputId": "8b978307-e1e2-45c4-bf77-b04d04cddf34"
      },
      "execution_count": 17,
      "outputs": [
        {
          "output_type": "execute_result",
          "data": {
            "text/plain": [
              "              isbn                                         book_title  \\\n",
              "0       0195153448                                Classical Mythology   \n",
              "1       0002005018                                       Clara Callan   \n",
              "2       0060973129                               Decision in Normandy   \n",
              "3       0374157065  Flu: The Story of the Great Influenza Pandemic...   \n",
              "4       0393045218                             The Mummies of Urumchi   \n",
              "...            ...                                                ...   \n",
              "271355  0440400988                         There's a Bat in Bunk Five   \n",
              "271356  0525447644                            From One to One Hundred   \n",
              "271357  006008667X  Lily Dale : The True Story of the Town that Ta...   \n",
              "271358  0192126040                        Republic (World's Classics)   \n",
              "271359  0767409752  A Guided Tour of Rene Descartes' Meditations o...   \n",
              "\n",
              "                 book_author pub_year  \\\n",
              "0         Mark P. O. Morford     2002   \n",
              "1       Richard Bruce Wright     2001   \n",
              "2               Carlo D'Este     1991   \n",
              "3           Gina Bari Kolata     1999   \n",
              "4            E. J. W. Barber     1999   \n",
              "...                      ...      ...   \n",
              "271355        Paula Danziger     1988   \n",
              "271356            Teri Sloat     1991   \n",
              "271357      Christine Wicker     2004   \n",
              "271358                 Plato     1996   \n",
              "271359   Christopher  Biffle     2000   \n",
              "\n",
              "                                               publisher  \\\n",
              "0                                Oxford University Press   \n",
              "1                                  HarperFlamingo Canada   \n",
              "2                                        HarperPerennial   \n",
              "3                                   Farrar Straus Giroux   \n",
              "4                             W. W. Norton &amp; Company   \n",
              "...                                                  ...   \n",
              "271355                   Random House Childrens Pub (Mm)   \n",
              "271356                                      Dutton Books   \n",
              "271357                                HarperSanFrancisco   \n",
              "271358                           Oxford University Press   \n",
              "271359  McGraw-Hill Humanities/Social Sciences/Languages   \n",
              "\n",
              "                                              image_s_url  \\\n",
              "0       http://images.amazon.com/images/P/0195153448.0...   \n",
              "1       http://images.amazon.com/images/P/0002005018.0...   \n",
              "2       http://images.amazon.com/images/P/0060973129.0...   \n",
              "3       http://images.amazon.com/images/P/0374157065.0...   \n",
              "4       http://images.amazon.com/images/P/0393045218.0...   \n",
              "...                                                   ...   \n",
              "271355  http://images.amazon.com/images/P/0440400988.0...   \n",
              "271356  http://images.amazon.com/images/P/0525447644.0...   \n",
              "271357  http://images.amazon.com/images/P/006008667X.0...   \n",
              "271358  http://images.amazon.com/images/P/0192126040.0...   \n",
              "271359  http://images.amazon.com/images/P/0767409752.0...   \n",
              "\n",
              "                                              image_m_url  \\\n",
              "0       http://images.amazon.com/images/P/0195153448.0...   \n",
              "1       http://images.amazon.com/images/P/0002005018.0...   \n",
              "2       http://images.amazon.com/images/P/0060973129.0...   \n",
              "3       http://images.amazon.com/images/P/0374157065.0...   \n",
              "4       http://images.amazon.com/images/P/0393045218.0...   \n",
              "...                                                   ...   \n",
              "271355  http://images.amazon.com/images/P/0440400988.0...   \n",
              "271356  http://images.amazon.com/images/P/0525447644.0...   \n",
              "271357  http://images.amazon.com/images/P/006008667X.0...   \n",
              "271358  http://images.amazon.com/images/P/0192126040.0...   \n",
              "271359  http://images.amazon.com/images/P/0767409752.0...   \n",
              "\n",
              "                                              image_l_url  \n",
              "0       http://images.amazon.com/images/P/0195153448.0...  \n",
              "1       http://images.amazon.com/images/P/0002005018.0...  \n",
              "2       http://images.amazon.com/images/P/0060973129.0...  \n",
              "3       http://images.amazon.com/images/P/0374157065.0...  \n",
              "4       http://images.amazon.com/images/P/0393045218.0...  \n",
              "...                                                   ...  \n",
              "271355  http://images.amazon.com/images/P/0440400988.0...  \n",
              "271356  http://images.amazon.com/images/P/0525447644.0...  \n",
              "271357  http://images.amazon.com/images/P/006008667X.0...  \n",
              "271358  http://images.amazon.com/images/P/0192126040.0...  \n",
              "271359  http://images.amazon.com/images/P/0767409752.0...  \n",
              "\n",
              "[271360 rows x 8 columns]"
            ],
            "text/html": [
              "\n",
              "  <div id=\"df-39ea2961-c800-41b5-9b1a-4be8372f4dba\">\n",
              "    <div class=\"colab-df-container\">\n",
              "      <div>\n",
              "<style scoped>\n",
              "    .dataframe tbody tr th:only-of-type {\n",
              "        vertical-align: middle;\n",
              "    }\n",
              "\n",
              "    .dataframe tbody tr th {\n",
              "        vertical-align: top;\n",
              "    }\n",
              "\n",
              "    .dataframe thead th {\n",
              "        text-align: right;\n",
              "    }\n",
              "</style>\n",
              "<table border=\"1\" class=\"dataframe\">\n",
              "  <thead>\n",
              "    <tr style=\"text-align: right;\">\n",
              "      <th></th>\n",
              "      <th>isbn</th>\n",
              "      <th>book_title</th>\n",
              "      <th>book_author</th>\n",
              "      <th>pub_year</th>\n",
              "      <th>publisher</th>\n",
              "      <th>image_s_url</th>\n",
              "      <th>image_m_url</th>\n",
              "      <th>image_l_url</th>\n",
              "    </tr>\n",
              "  </thead>\n",
              "  <tbody>\n",
              "    <tr>\n",
              "      <th>0</th>\n",
              "      <td>0195153448</td>\n",
              "      <td>Classical Mythology</td>\n",
              "      <td>Mark P. O. Morford</td>\n",
              "      <td>2002</td>\n",
              "      <td>Oxford University Press</td>\n",
              "      <td>http://images.amazon.com/images/P/0195153448.0...</td>\n",
              "      <td>http://images.amazon.com/images/P/0195153448.0...</td>\n",
              "      <td>http://images.amazon.com/images/P/0195153448.0...</td>\n",
              "    </tr>\n",
              "    <tr>\n",
              "      <th>1</th>\n",
              "      <td>0002005018</td>\n",
              "      <td>Clara Callan</td>\n",
              "      <td>Richard Bruce Wright</td>\n",
              "      <td>2001</td>\n",
              "      <td>HarperFlamingo Canada</td>\n",
              "      <td>http://images.amazon.com/images/P/0002005018.0...</td>\n",
              "      <td>http://images.amazon.com/images/P/0002005018.0...</td>\n",
              "      <td>http://images.amazon.com/images/P/0002005018.0...</td>\n",
              "    </tr>\n",
              "    <tr>\n",
              "      <th>2</th>\n",
              "      <td>0060973129</td>\n",
              "      <td>Decision in Normandy</td>\n",
              "      <td>Carlo D'Este</td>\n",
              "      <td>1991</td>\n",
              "      <td>HarperPerennial</td>\n",
              "      <td>http://images.amazon.com/images/P/0060973129.0...</td>\n",
              "      <td>http://images.amazon.com/images/P/0060973129.0...</td>\n",
              "      <td>http://images.amazon.com/images/P/0060973129.0...</td>\n",
              "    </tr>\n",
              "    <tr>\n",
              "      <th>3</th>\n",
              "      <td>0374157065</td>\n",
              "      <td>Flu: The Story of the Great Influenza Pandemic...</td>\n",
              "      <td>Gina Bari Kolata</td>\n",
              "      <td>1999</td>\n",
              "      <td>Farrar Straus Giroux</td>\n",
              "      <td>http://images.amazon.com/images/P/0374157065.0...</td>\n",
              "      <td>http://images.amazon.com/images/P/0374157065.0...</td>\n",
              "      <td>http://images.amazon.com/images/P/0374157065.0...</td>\n",
              "    </tr>\n",
              "    <tr>\n",
              "      <th>4</th>\n",
              "      <td>0393045218</td>\n",
              "      <td>The Mummies of Urumchi</td>\n",
              "      <td>E. J. W. Barber</td>\n",
              "      <td>1999</td>\n",
              "      <td>W. W. Norton &amp;amp; Company</td>\n",
              "      <td>http://images.amazon.com/images/P/0393045218.0...</td>\n",
              "      <td>http://images.amazon.com/images/P/0393045218.0...</td>\n",
              "      <td>http://images.amazon.com/images/P/0393045218.0...</td>\n",
              "    </tr>\n",
              "    <tr>\n",
              "      <th>...</th>\n",
              "      <td>...</td>\n",
              "      <td>...</td>\n",
              "      <td>...</td>\n",
              "      <td>...</td>\n",
              "      <td>...</td>\n",
              "      <td>...</td>\n",
              "      <td>...</td>\n",
              "      <td>...</td>\n",
              "    </tr>\n",
              "    <tr>\n",
              "      <th>271355</th>\n",
              "      <td>0440400988</td>\n",
              "      <td>There's a Bat in Bunk Five</td>\n",
              "      <td>Paula Danziger</td>\n",
              "      <td>1988</td>\n",
              "      <td>Random House Childrens Pub (Mm)</td>\n",
              "      <td>http://images.amazon.com/images/P/0440400988.0...</td>\n",
              "      <td>http://images.amazon.com/images/P/0440400988.0...</td>\n",
              "      <td>http://images.amazon.com/images/P/0440400988.0...</td>\n",
              "    </tr>\n",
              "    <tr>\n",
              "      <th>271356</th>\n",
              "      <td>0525447644</td>\n",
              "      <td>From One to One Hundred</td>\n",
              "      <td>Teri Sloat</td>\n",
              "      <td>1991</td>\n",
              "      <td>Dutton Books</td>\n",
              "      <td>http://images.amazon.com/images/P/0525447644.0...</td>\n",
              "      <td>http://images.amazon.com/images/P/0525447644.0...</td>\n",
              "      <td>http://images.amazon.com/images/P/0525447644.0...</td>\n",
              "    </tr>\n",
              "    <tr>\n",
              "      <th>271357</th>\n",
              "      <td>006008667X</td>\n",
              "      <td>Lily Dale : The True Story of the Town that Ta...</td>\n",
              "      <td>Christine Wicker</td>\n",
              "      <td>2004</td>\n",
              "      <td>HarperSanFrancisco</td>\n",
              "      <td>http://images.amazon.com/images/P/006008667X.0...</td>\n",
              "      <td>http://images.amazon.com/images/P/006008667X.0...</td>\n",
              "      <td>http://images.amazon.com/images/P/006008667X.0...</td>\n",
              "    </tr>\n",
              "    <tr>\n",
              "      <th>271358</th>\n",
              "      <td>0192126040</td>\n",
              "      <td>Republic (World's Classics)</td>\n",
              "      <td>Plato</td>\n",
              "      <td>1996</td>\n",
              "      <td>Oxford University Press</td>\n",
              "      <td>http://images.amazon.com/images/P/0192126040.0...</td>\n",
              "      <td>http://images.amazon.com/images/P/0192126040.0...</td>\n",
              "      <td>http://images.amazon.com/images/P/0192126040.0...</td>\n",
              "    </tr>\n",
              "    <tr>\n",
              "      <th>271359</th>\n",
              "      <td>0767409752</td>\n",
              "      <td>A Guided Tour of Rene Descartes' Meditations o...</td>\n",
              "      <td>Christopher  Biffle</td>\n",
              "      <td>2000</td>\n",
              "      <td>McGraw-Hill Humanities/Social Sciences/Languages</td>\n",
              "      <td>http://images.amazon.com/images/P/0767409752.0...</td>\n",
              "      <td>http://images.amazon.com/images/P/0767409752.0...</td>\n",
              "      <td>http://images.amazon.com/images/P/0767409752.0...</td>\n",
              "    </tr>\n",
              "  </tbody>\n",
              "</table>\n",
              "<p>271360 rows × 8 columns</p>\n",
              "</div>\n",
              "      <button class=\"colab-df-convert\" onclick=\"convertToInteractive('df-39ea2961-c800-41b5-9b1a-4be8372f4dba')\"\n",
              "              title=\"Convert this dataframe to an interactive table.\"\n",
              "              style=\"display:none;\">\n",
              "        \n",
              "  <svg xmlns=\"http://www.w3.org/2000/svg\" height=\"24px\"viewBox=\"0 0 24 24\"\n",
              "       width=\"24px\">\n",
              "    <path d=\"M0 0h24v24H0V0z\" fill=\"none\"/>\n",
              "    <path d=\"M18.56 5.44l.94 2.06.94-2.06 2.06-.94-2.06-.94-.94-2.06-.94 2.06-2.06.94zm-11 1L8.5 8.5l.94-2.06 2.06-.94-2.06-.94L8.5 2.5l-.94 2.06-2.06.94zm10 10l.94 2.06.94-2.06 2.06-.94-2.06-.94-.94-2.06-.94 2.06-2.06.94z\"/><path d=\"M17.41 7.96l-1.37-1.37c-.4-.4-.92-.59-1.43-.59-.52 0-1.04.2-1.43.59L10.3 9.45l-7.72 7.72c-.78.78-.78 2.05 0 2.83L4 21.41c.39.39.9.59 1.41.59.51 0 1.02-.2 1.41-.59l7.78-7.78 2.81-2.81c.8-.78.8-2.07 0-2.86zM5.41 20L4 18.59l7.72-7.72 1.47 1.35L5.41 20z\"/>\n",
              "  </svg>\n",
              "      </button>\n",
              "      \n",
              "  <style>\n",
              "    .colab-df-container {\n",
              "      display:flex;\n",
              "      flex-wrap:wrap;\n",
              "      gap: 12px;\n",
              "    }\n",
              "\n",
              "    .colab-df-convert {\n",
              "      background-color: #E8F0FE;\n",
              "      border: none;\n",
              "      border-radius: 50%;\n",
              "      cursor: pointer;\n",
              "      display: none;\n",
              "      fill: #1967D2;\n",
              "      height: 32px;\n",
              "      padding: 0 0 0 0;\n",
              "      width: 32px;\n",
              "    }\n",
              "\n",
              "    .colab-df-convert:hover {\n",
              "      background-color: #E2EBFA;\n",
              "      box-shadow: 0px 1px 2px rgba(60, 64, 67, 0.3), 0px 1px 3px 1px rgba(60, 64, 67, 0.15);\n",
              "      fill: #174EA6;\n",
              "    }\n",
              "\n",
              "    [theme=dark] .colab-df-convert {\n",
              "      background-color: #3B4455;\n",
              "      fill: #D2E3FC;\n",
              "    }\n",
              "\n",
              "    [theme=dark] .colab-df-convert:hover {\n",
              "      background-color: #434B5C;\n",
              "      box-shadow: 0px 1px 3px 1px rgba(0, 0, 0, 0.15);\n",
              "      filter: drop-shadow(0px 1px 2px rgba(0, 0, 0, 0.3));\n",
              "      fill: #FFFFFF;\n",
              "    }\n",
              "  </style>\n",
              "\n",
              "      <script>\n",
              "        const buttonEl =\n",
              "          document.querySelector('#df-39ea2961-c800-41b5-9b1a-4be8372f4dba button.colab-df-convert');\n",
              "        buttonEl.style.display =\n",
              "          google.colab.kernel.accessAllowed ? 'block' : 'none';\n",
              "\n",
              "        async function convertToInteractive(key) {\n",
              "          const element = document.querySelector('#df-39ea2961-c800-41b5-9b1a-4be8372f4dba');\n",
              "          const dataTable =\n",
              "            await google.colab.kernel.invokeFunction('convertToInteractive',\n",
              "                                                     [key], {});\n",
              "          if (!dataTable) return;\n",
              "\n",
              "          const docLinkHtml = 'Like what you see? Visit the ' +\n",
              "            '<a target=\"_blank\" href=https://colab.research.google.com/notebooks/data_table.ipynb>data table notebook</a>'\n",
              "            + ' to learn more about interactive tables.';\n",
              "          element.innerHTML = '';\n",
              "          dataTable['output_type'] = 'display_data';\n",
              "          await google.colab.output.renderOutput(dataTable, element);\n",
              "          const docLink = document.createElement('div');\n",
              "          docLink.innerHTML = docLinkHtml;\n",
              "          element.appendChild(docLink);\n",
              "        }\n",
              "      </script>\n",
              "    </div>\n",
              "  </div>\n",
              "  "
            ]
          },
          "metadata": {},
          "execution_count": 17
        }
      ]
    },
    {
      "cell_type": "markdown",
      "source": [
        "### 4.1.2 Ratings"
      ],
      "metadata": {
        "id": "3nIIQWDCNQWw"
      }
    },
    {
      "cell_type": "code",
      "source": [
        "df_r.rename(columns={\n",
        "    'User-ID'     : 'user_id',\n",
        "    'ISBN'        : 'isbn',\n",
        "    'Book-Rating' : 'book_rating'\n",
        "}, inplace=True)\n",
        "\n",
        "df_r"
      ],
      "metadata": {
        "colab": {
          "base_uri": "https://localhost:8080/",
          "height": 424
        },
        "id": "30GJfVPeNXir",
        "outputId": "e3a0f360-0b44-4314-82d4-598c956c99b2"
      },
      "execution_count": 18,
      "outputs": [
        {
          "output_type": "execute_result",
          "data": {
            "text/plain": [
              "         user_id         isbn  book_rating\n",
              "0         276725   034545104X            0\n",
              "1         276726   0155061224            5\n",
              "2         276727   0446520802            0\n",
              "3         276729   052165615X            3\n",
              "4         276729   0521795028            6\n",
              "...          ...          ...          ...\n",
              "1149775   276704   1563526298            9\n",
              "1149776   276706   0679447156            0\n",
              "1149777   276709   0515107662           10\n",
              "1149778   276721   0590442449           10\n",
              "1149779   276723  05162443314            8\n",
              "\n",
              "[1149780 rows x 3 columns]"
            ],
            "text/html": [
              "\n",
              "  <div id=\"df-000bf8e0-7ae2-40e8-8e49-ace3ba0cec33\">\n",
              "    <div class=\"colab-df-container\">\n",
              "      <div>\n",
              "<style scoped>\n",
              "    .dataframe tbody tr th:only-of-type {\n",
              "        vertical-align: middle;\n",
              "    }\n",
              "\n",
              "    .dataframe tbody tr th {\n",
              "        vertical-align: top;\n",
              "    }\n",
              "\n",
              "    .dataframe thead th {\n",
              "        text-align: right;\n",
              "    }\n",
              "</style>\n",
              "<table border=\"1\" class=\"dataframe\">\n",
              "  <thead>\n",
              "    <tr style=\"text-align: right;\">\n",
              "      <th></th>\n",
              "      <th>user_id</th>\n",
              "      <th>isbn</th>\n",
              "      <th>book_rating</th>\n",
              "    </tr>\n",
              "  </thead>\n",
              "  <tbody>\n",
              "    <tr>\n",
              "      <th>0</th>\n",
              "      <td>276725</td>\n",
              "      <td>034545104X</td>\n",
              "      <td>0</td>\n",
              "    </tr>\n",
              "    <tr>\n",
              "      <th>1</th>\n",
              "      <td>276726</td>\n",
              "      <td>0155061224</td>\n",
              "      <td>5</td>\n",
              "    </tr>\n",
              "    <tr>\n",
              "      <th>2</th>\n",
              "      <td>276727</td>\n",
              "      <td>0446520802</td>\n",
              "      <td>0</td>\n",
              "    </tr>\n",
              "    <tr>\n",
              "      <th>3</th>\n",
              "      <td>276729</td>\n",
              "      <td>052165615X</td>\n",
              "      <td>3</td>\n",
              "    </tr>\n",
              "    <tr>\n",
              "      <th>4</th>\n",
              "      <td>276729</td>\n",
              "      <td>0521795028</td>\n",
              "      <td>6</td>\n",
              "    </tr>\n",
              "    <tr>\n",
              "      <th>...</th>\n",
              "      <td>...</td>\n",
              "      <td>...</td>\n",
              "      <td>...</td>\n",
              "    </tr>\n",
              "    <tr>\n",
              "      <th>1149775</th>\n",
              "      <td>276704</td>\n",
              "      <td>1563526298</td>\n",
              "      <td>9</td>\n",
              "    </tr>\n",
              "    <tr>\n",
              "      <th>1149776</th>\n",
              "      <td>276706</td>\n",
              "      <td>0679447156</td>\n",
              "      <td>0</td>\n",
              "    </tr>\n",
              "    <tr>\n",
              "      <th>1149777</th>\n",
              "      <td>276709</td>\n",
              "      <td>0515107662</td>\n",
              "      <td>10</td>\n",
              "    </tr>\n",
              "    <tr>\n",
              "      <th>1149778</th>\n",
              "      <td>276721</td>\n",
              "      <td>0590442449</td>\n",
              "      <td>10</td>\n",
              "    </tr>\n",
              "    <tr>\n",
              "      <th>1149779</th>\n",
              "      <td>276723</td>\n",
              "      <td>05162443314</td>\n",
              "      <td>8</td>\n",
              "    </tr>\n",
              "  </tbody>\n",
              "</table>\n",
              "<p>1149780 rows × 3 columns</p>\n",
              "</div>\n",
              "      <button class=\"colab-df-convert\" onclick=\"convertToInteractive('df-000bf8e0-7ae2-40e8-8e49-ace3ba0cec33')\"\n",
              "              title=\"Convert this dataframe to an interactive table.\"\n",
              "              style=\"display:none;\">\n",
              "        \n",
              "  <svg xmlns=\"http://www.w3.org/2000/svg\" height=\"24px\"viewBox=\"0 0 24 24\"\n",
              "       width=\"24px\">\n",
              "    <path d=\"M0 0h24v24H0V0z\" fill=\"none\"/>\n",
              "    <path d=\"M18.56 5.44l.94 2.06.94-2.06 2.06-.94-2.06-.94-.94-2.06-.94 2.06-2.06.94zm-11 1L8.5 8.5l.94-2.06 2.06-.94-2.06-.94L8.5 2.5l-.94 2.06-2.06.94zm10 10l.94 2.06.94-2.06 2.06-.94-2.06-.94-.94-2.06-.94 2.06-2.06.94z\"/><path d=\"M17.41 7.96l-1.37-1.37c-.4-.4-.92-.59-1.43-.59-.52 0-1.04.2-1.43.59L10.3 9.45l-7.72 7.72c-.78.78-.78 2.05 0 2.83L4 21.41c.39.39.9.59 1.41.59.51 0 1.02-.2 1.41-.59l7.78-7.78 2.81-2.81c.8-.78.8-2.07 0-2.86zM5.41 20L4 18.59l7.72-7.72 1.47 1.35L5.41 20z\"/>\n",
              "  </svg>\n",
              "      </button>\n",
              "      \n",
              "  <style>\n",
              "    .colab-df-container {\n",
              "      display:flex;\n",
              "      flex-wrap:wrap;\n",
              "      gap: 12px;\n",
              "    }\n",
              "\n",
              "    .colab-df-convert {\n",
              "      background-color: #E8F0FE;\n",
              "      border: none;\n",
              "      border-radius: 50%;\n",
              "      cursor: pointer;\n",
              "      display: none;\n",
              "      fill: #1967D2;\n",
              "      height: 32px;\n",
              "      padding: 0 0 0 0;\n",
              "      width: 32px;\n",
              "    }\n",
              "\n",
              "    .colab-df-convert:hover {\n",
              "      background-color: #E2EBFA;\n",
              "      box-shadow: 0px 1px 2px rgba(60, 64, 67, 0.3), 0px 1px 3px 1px rgba(60, 64, 67, 0.15);\n",
              "      fill: #174EA6;\n",
              "    }\n",
              "\n",
              "    [theme=dark] .colab-df-convert {\n",
              "      background-color: #3B4455;\n",
              "      fill: #D2E3FC;\n",
              "    }\n",
              "\n",
              "    [theme=dark] .colab-df-convert:hover {\n",
              "      background-color: #434B5C;\n",
              "      box-shadow: 0px 1px 3px 1px rgba(0, 0, 0, 0.15);\n",
              "      filter: drop-shadow(0px 1px 2px rgba(0, 0, 0, 0.3));\n",
              "      fill: #FFFFFF;\n",
              "    }\n",
              "  </style>\n",
              "\n",
              "      <script>\n",
              "        const buttonEl =\n",
              "          document.querySelector('#df-000bf8e0-7ae2-40e8-8e49-ace3ba0cec33 button.colab-df-convert');\n",
              "        buttonEl.style.display =\n",
              "          google.colab.kernel.accessAllowed ? 'block' : 'none';\n",
              "\n",
              "        async function convertToInteractive(key) {\n",
              "          const element = document.querySelector('#df-000bf8e0-7ae2-40e8-8e49-ace3ba0cec33');\n",
              "          const dataTable =\n",
              "            await google.colab.kernel.invokeFunction('convertToInteractive',\n",
              "                                                     [key], {});\n",
              "          if (!dataTable) return;\n",
              "\n",
              "          const docLinkHtml = 'Like what you see? Visit the ' +\n",
              "            '<a target=\"_blank\" href=https://colab.research.google.com/notebooks/data_table.ipynb>data table notebook</a>'\n",
              "            + ' to learn more about interactive tables.';\n",
              "          element.innerHTML = '';\n",
              "          dataTable['output_type'] = 'display_data';\n",
              "          await google.colab.output.renderOutput(dataTable, element);\n",
              "          const docLink = document.createElement('div');\n",
              "          docLink.innerHTML = docLinkHtml;\n",
              "          element.appendChild(docLink);\n",
              "        }\n",
              "      </script>\n",
              "    </div>\n",
              "  </div>\n",
              "  "
            ]
          },
          "metadata": {},
          "execution_count": 18
        }
      ]
    },
    {
      "cell_type": "markdown",
      "source": [
        "### 4.1.3 Users"
      ],
      "metadata": {
        "id": "PnXcvkiSNo-a"
      }
    },
    {
      "cell_type": "code",
      "source": [
        "df_u.rename(columns={\n",
        "    'User-ID'  : 'user_id',\n",
        "    'Location' : 'location',\n",
        "    'Age'      : 'age'\n",
        "}, inplace=True)\n",
        "\n",
        "df_u"
      ],
      "metadata": {
        "colab": {
          "base_uri": "https://localhost:8080/",
          "height": 424
        },
        "id": "19-c9liPNrNX",
        "outputId": "876fc2b9-3d98-435e-9a8d-c9c82762491f"
      },
      "execution_count": 19,
      "outputs": [
        {
          "output_type": "execute_result",
          "data": {
            "text/plain": [
              "        user_id                            location   age\n",
              "0             1                  nyc, new york, usa   NaN\n",
              "1             2           stockton, california, usa  18.0\n",
              "2             3     moscow, yukon territory, russia   NaN\n",
              "3             4           porto, v.n.gaia, portugal  17.0\n",
              "4             5  farnborough, hants, united kingdom   NaN\n",
              "...         ...                                 ...   ...\n",
              "278853   278854               portland, oregon, usa   NaN\n",
              "278854   278855  tacoma, washington, united kingdom  50.0\n",
              "278855   278856           brampton, ontario, canada   NaN\n",
              "278856   278857           knoxville, tennessee, usa   NaN\n",
              "278857   278858                dublin, n/a, ireland   NaN\n",
              "\n",
              "[278858 rows x 3 columns]"
            ],
            "text/html": [
              "\n",
              "  <div id=\"df-2f25a0a4-c357-4a52-9c99-485aef028806\">\n",
              "    <div class=\"colab-df-container\">\n",
              "      <div>\n",
              "<style scoped>\n",
              "    .dataframe tbody tr th:only-of-type {\n",
              "        vertical-align: middle;\n",
              "    }\n",
              "\n",
              "    .dataframe tbody tr th {\n",
              "        vertical-align: top;\n",
              "    }\n",
              "\n",
              "    .dataframe thead th {\n",
              "        text-align: right;\n",
              "    }\n",
              "</style>\n",
              "<table border=\"1\" class=\"dataframe\">\n",
              "  <thead>\n",
              "    <tr style=\"text-align: right;\">\n",
              "      <th></th>\n",
              "      <th>user_id</th>\n",
              "      <th>location</th>\n",
              "      <th>age</th>\n",
              "    </tr>\n",
              "  </thead>\n",
              "  <tbody>\n",
              "    <tr>\n",
              "      <th>0</th>\n",
              "      <td>1</td>\n",
              "      <td>nyc, new york, usa</td>\n",
              "      <td>NaN</td>\n",
              "    </tr>\n",
              "    <tr>\n",
              "      <th>1</th>\n",
              "      <td>2</td>\n",
              "      <td>stockton, california, usa</td>\n",
              "      <td>18.0</td>\n",
              "    </tr>\n",
              "    <tr>\n",
              "      <th>2</th>\n",
              "      <td>3</td>\n",
              "      <td>moscow, yukon territory, russia</td>\n",
              "      <td>NaN</td>\n",
              "    </tr>\n",
              "    <tr>\n",
              "      <th>3</th>\n",
              "      <td>4</td>\n",
              "      <td>porto, v.n.gaia, portugal</td>\n",
              "      <td>17.0</td>\n",
              "    </tr>\n",
              "    <tr>\n",
              "      <th>4</th>\n",
              "      <td>5</td>\n",
              "      <td>farnborough, hants, united kingdom</td>\n",
              "      <td>NaN</td>\n",
              "    </tr>\n",
              "    <tr>\n",
              "      <th>...</th>\n",
              "      <td>...</td>\n",
              "      <td>...</td>\n",
              "      <td>...</td>\n",
              "    </tr>\n",
              "    <tr>\n",
              "      <th>278853</th>\n",
              "      <td>278854</td>\n",
              "      <td>portland, oregon, usa</td>\n",
              "      <td>NaN</td>\n",
              "    </tr>\n",
              "    <tr>\n",
              "      <th>278854</th>\n",
              "      <td>278855</td>\n",
              "      <td>tacoma, washington, united kingdom</td>\n",
              "      <td>50.0</td>\n",
              "    </tr>\n",
              "    <tr>\n",
              "      <th>278855</th>\n",
              "      <td>278856</td>\n",
              "      <td>brampton, ontario, canada</td>\n",
              "      <td>NaN</td>\n",
              "    </tr>\n",
              "    <tr>\n",
              "      <th>278856</th>\n",
              "      <td>278857</td>\n",
              "      <td>knoxville, tennessee, usa</td>\n",
              "      <td>NaN</td>\n",
              "    </tr>\n",
              "    <tr>\n",
              "      <th>278857</th>\n",
              "      <td>278858</td>\n",
              "      <td>dublin, n/a, ireland</td>\n",
              "      <td>NaN</td>\n",
              "    </tr>\n",
              "  </tbody>\n",
              "</table>\n",
              "<p>278858 rows × 3 columns</p>\n",
              "</div>\n",
              "      <button class=\"colab-df-convert\" onclick=\"convertToInteractive('df-2f25a0a4-c357-4a52-9c99-485aef028806')\"\n",
              "              title=\"Convert this dataframe to an interactive table.\"\n",
              "              style=\"display:none;\">\n",
              "        \n",
              "  <svg xmlns=\"http://www.w3.org/2000/svg\" height=\"24px\"viewBox=\"0 0 24 24\"\n",
              "       width=\"24px\">\n",
              "    <path d=\"M0 0h24v24H0V0z\" fill=\"none\"/>\n",
              "    <path d=\"M18.56 5.44l.94 2.06.94-2.06 2.06-.94-2.06-.94-.94-2.06-.94 2.06-2.06.94zm-11 1L8.5 8.5l.94-2.06 2.06-.94-2.06-.94L8.5 2.5l-.94 2.06-2.06.94zm10 10l.94 2.06.94-2.06 2.06-.94-2.06-.94-.94-2.06-.94 2.06-2.06.94z\"/><path d=\"M17.41 7.96l-1.37-1.37c-.4-.4-.92-.59-1.43-.59-.52 0-1.04.2-1.43.59L10.3 9.45l-7.72 7.72c-.78.78-.78 2.05 0 2.83L4 21.41c.39.39.9.59 1.41.59.51 0 1.02-.2 1.41-.59l7.78-7.78 2.81-2.81c.8-.78.8-2.07 0-2.86zM5.41 20L4 18.59l7.72-7.72 1.47 1.35L5.41 20z\"/>\n",
              "  </svg>\n",
              "      </button>\n",
              "      \n",
              "  <style>\n",
              "    .colab-df-container {\n",
              "      display:flex;\n",
              "      flex-wrap:wrap;\n",
              "      gap: 12px;\n",
              "    }\n",
              "\n",
              "    .colab-df-convert {\n",
              "      background-color: #E8F0FE;\n",
              "      border: none;\n",
              "      border-radius: 50%;\n",
              "      cursor: pointer;\n",
              "      display: none;\n",
              "      fill: #1967D2;\n",
              "      height: 32px;\n",
              "      padding: 0 0 0 0;\n",
              "      width: 32px;\n",
              "    }\n",
              "\n",
              "    .colab-df-convert:hover {\n",
              "      background-color: #E2EBFA;\n",
              "      box-shadow: 0px 1px 2px rgba(60, 64, 67, 0.3), 0px 1px 3px 1px rgba(60, 64, 67, 0.15);\n",
              "      fill: #174EA6;\n",
              "    }\n",
              "\n",
              "    [theme=dark] .colab-df-convert {\n",
              "      background-color: #3B4455;\n",
              "      fill: #D2E3FC;\n",
              "    }\n",
              "\n",
              "    [theme=dark] .colab-df-convert:hover {\n",
              "      background-color: #434B5C;\n",
              "      box-shadow: 0px 1px 3px 1px rgba(0, 0, 0, 0.15);\n",
              "      filter: drop-shadow(0px 1px 2px rgba(0, 0, 0, 0.3));\n",
              "      fill: #FFFFFF;\n",
              "    }\n",
              "  </style>\n",
              "\n",
              "      <script>\n",
              "        const buttonEl =\n",
              "          document.querySelector('#df-2f25a0a4-c357-4a52-9c99-485aef028806 button.colab-df-convert');\n",
              "        buttonEl.style.display =\n",
              "          google.colab.kernel.accessAllowed ? 'block' : 'none';\n",
              "\n",
              "        async function convertToInteractive(key) {\n",
              "          const element = document.querySelector('#df-2f25a0a4-c357-4a52-9c99-485aef028806');\n",
              "          const dataTable =\n",
              "            await google.colab.kernel.invokeFunction('convertToInteractive',\n",
              "                                                     [key], {});\n",
              "          if (!dataTable) return;\n",
              "\n",
              "          const docLinkHtml = 'Like what you see? Visit the ' +\n",
              "            '<a target=\"_blank\" href=https://colab.research.google.com/notebooks/data_table.ipynb>data table notebook</a>'\n",
              "            + ' to learn more about interactive tables.';\n",
              "          element.innerHTML = '';\n",
              "          dataTable['output_type'] = 'display_data';\n",
              "          await google.colab.output.renderOutput(dataTable, element);\n",
              "          const docLink = document.createElement('div');\n",
              "          docLink.innerHTML = docLinkHtml;\n",
              "          element.appendChild(docLink);\n",
              "        }\n",
              "      </script>\n",
              "    </div>\n",
              "  </div>\n",
              "  "
            ]
          },
          "metadata": {},
          "execution_count": 19
        }
      ]
    },
    {
      "cell_type": "markdown",
      "source": [
        "## 4.2 Menggabungkan Data ISBN"
      ],
      "metadata": {
        "id": "XHOJ2jrqG2wH"
      }
    },
    {
      "cell_type": "markdown",
      "source": [
        "Penggabungan data ISBN buku dilakukan menggunakan fungsi `.concatenate` dengan bantuan *library* [`numpy`](https://numpy.org). Data ISBN terdapat pada *dataframe* buku (`df_b`) dan *dataframe* *rating* (`df_r`), sehingga dilakukan penggabungan data tersebut pada atribut atau kolom `isbn`."
      ],
      "metadata": {
        "id": "_lhMEU83WLks"
      }
    },
    {
      "cell_type": "code",
      "source": [
        "ISBNAll = np.concatenate((\n",
        "    df_b.isbn.unique(),\n",
        "    df_r.isbn.unique()\n",
        "))\n",
        "\n",
        "ISBNAll = np.sort(np.unique(ISBNAll))\n",
        "\n",
        "print(f'Jumlah Buku berdasarkan ISBN : {len(ISBNAll)}')"
      ],
      "metadata": {
        "id": "Pv6WGhRuG2Hh",
        "colab": {
          "base_uri": "https://localhost:8080/"
        },
        "outputId": "27172ab2-e9fc-45e6-fc7a-ac97d649e2cf"
      },
      "execution_count": 20,
      "outputs": [
        {
          "output_type": "stream",
          "name": "stdout",
          "text": [
            "Jumlah Buku berdasarkan ISBN : 341765\n"
          ]
        }
      ]
    },
    {
      "cell_type": "markdown",
      "source": [
        "## 4.3 Menggabungkan Data *User*"
      ],
      "metadata": {
        "id": "Qgjf7UJCI7Ua"
      }
    },
    {
      "cell_type": "markdown",
      "source": [
        "Penggabungan data `user_id` buku dilakukan menggunakan fungsi `.concatenate` dengan bantuan *library* [`numpy`](https://numpy.org). Data `user_id` terdapat pada *dataframe* *rating* (`df_r`) dan *dataframe* *user* (`df_u`), sehingga dilakukan penggabungan data tersebut pada atribut atau kolom `user_id`."
      ],
      "metadata": {
        "id": "iUPH6WbaY-Z6"
      }
    },
    {
      "cell_type": "code",
      "source": [
        "UserAll = np.concatenate((\n",
        "    df_r.user_id.unique(),\n",
        "    df_u.user_id.unique()\n",
        "))\n",
        "\n",
        "UserAll = np.sort(np.unique(UserAll))\n",
        "\n",
        "print(f'Jumlah Buku berdasarkan ISBN : {len(UserAll)}')"
      ],
      "metadata": {
        "id": "aeWLY_4YI-D2",
        "colab": {
          "base_uri": "https://localhost:8080/"
        },
        "outputId": "954a9084-835c-416e-b5d4-399ce95e06b2"
      },
      "execution_count": 21,
      "outputs": [
        {
          "output_type": "stream",
          "name": "stdout",
          "text": [
            "Jumlah Buku berdasarkan ISBN : 278858\n"
          ]
        }
      ]
    },
    {
      "cell_type": "markdown",
      "source": [
        "# **5. *Data Preparation***"
      ],
      "metadata": {
        "id": "NCSP2FZWd4zL"
      }
    },
    {
      "cell_type": "markdown",
      "source": [
        "Tahap persiapan data atau *data preparation* juga merupakan tahapan penting sebelum memasuki proses pengembangan model machine learning. Pada tahap ini, dilakukan proses transformasi pada data sehingga menjadi bentuk yang cocok untuk proses pemodelan nantinya. Dalam kasus ini, tahap *data preparation* dilakukan dengan mengatasi *missing value*, pengecekan data duplikat, dan penggabungan data buku dan data *rating*."
      ],
      "metadata": {
        "id": "3oMWPDnOh54Z"
      }
    },
    {
      "cell_type": "markdown",
      "source": [
        "## 5.1 *Pengecekan* *Missing Value*"
      ],
      "metadata": {
        "id": "xfaPJm1Ey7nG"
      }
    },
    {
      "cell_type": "markdown",
      "source": [
        "Proses pengecekan missing value pada *dataframe* dapat dilakukan dengan menggunakan fungsi `.isnull().sum()`, sehingga diperoleh total jumlah data yang kosong atau hilang (*missing*)."
      ],
      "metadata": {
        "id": "JqvNrGrWi3fQ"
      }
    },
    {
      "cell_type": "markdown",
      "source": [
        "### 5.1.1 Books"
      ],
      "metadata": {
        "id": "RDeb6qNhUSj0"
      }
    },
    {
      "cell_type": "code",
      "source": [
        "books = df_b\n",
        "books.isnull().sum()"
      ],
      "metadata": {
        "colab": {
          "base_uri": "https://localhost:8080/"
        },
        "id": "68OXrnTOdocZ",
        "outputId": "63af26ec-ed59-4de5-a265-9df61edb1194"
      },
      "execution_count": 22,
      "outputs": [
        {
          "output_type": "execute_result",
          "data": {
            "text/plain": [
              "isbn           0\n",
              "book_title     0\n",
              "book_author    1\n",
              "pub_year       0\n",
              "publisher      2\n",
              "image_s_url    0\n",
              "image_m_url    0\n",
              "image_l_url    3\n",
              "dtype: int64"
            ]
          },
          "metadata": {},
          "execution_count": 22
        }
      ]
    },
    {
      "cell_type": "markdown",
      "source": [
        "Berdasarkan deskripsi di atas, dapat dilihat bahwa pada *dataframe* `books` terdapat atribut yang memiliki nilai kosong atau *null*, yaitu pada atribut `book_author` sebanyak 1 data, `publisher` sebanayk 2 data, dan `image_l_url` sebanyak 3 data."
      ],
      "metadata": {
        "id": "1NvB4Pqui2SY"
      }
    },
    {
      "cell_type": "markdown",
      "source": [
        "Dengan begitu, data yang kosong tersebut dapat dihapus atau di-*drop* dengan menggunakan fungsi `.dropna()`. Sehingga jika dilakukan pengecekan kembali maka sudah tidak ditemukan data yang kosong atau *null*."
      ],
      "metadata": {
        "id": "Bky1w6IRjlt_"
      }
    },
    {
      "cell_type": "code",
      "source": [
        "books = books.dropna()\n",
        "books.isnull().sum()"
      ],
      "metadata": {
        "colab": {
          "base_uri": "https://localhost:8080/"
        },
        "id": "W3hVriwDE4JR",
        "outputId": "71656ef9-3690-4a1a-883a-065648b1edb3"
      },
      "execution_count": 23,
      "outputs": [
        {
          "output_type": "execute_result",
          "data": {
            "text/plain": [
              "isbn           0\n",
              "book_title     0\n",
              "book_author    0\n",
              "pub_year       0\n",
              "publisher      0\n",
              "image_s_url    0\n",
              "image_m_url    0\n",
              "image_l_url    0\n",
              "dtype: int64"
            ]
          },
          "metadata": {},
          "execution_count": 23
        }
      ]
    },
    {
      "cell_type": "markdown",
      "source": [
        "### 5.1.2 Ratings"
      ],
      "metadata": {
        "id": "cYcESl-hVSwc"
      }
    },
    {
      "cell_type": "code",
      "source": [
        "ratings = df_r\n",
        "ratings.isnull().sum()"
      ],
      "metadata": {
        "colab": {
          "base_uri": "https://localhost:8080/"
        },
        "id": "wpDGnRDoUl6-",
        "outputId": "471a145f-f2e9-4697-e3de-0fe2f19f3437"
      },
      "execution_count": 24,
      "outputs": [
        {
          "output_type": "execute_result",
          "data": {
            "text/plain": [
              "user_id        0\n",
              "isbn           0\n",
              "book_rating    0\n",
              "dtype: int64"
            ]
          },
          "metadata": {},
          "execution_count": 24
        }
      ]
    },
    {
      "cell_type": "markdown",
      "source": [
        "Berdasarkan deskripsi di atas, dapat dilihat bahwa pada *dataframe* `ratings` tidak ditemukan adanya nilai kosong atau *null* di setiap atribut atau kolomnya."
      ],
      "metadata": {
        "id": "iytd0ngaj_yX"
      }
    },
    {
      "cell_type": "markdown",
      "source": [
        "Namun, pada tahap *Univariate Exploratory Data Analysis* (EDA) sebelumnya, dapat dilihat bahwa pada hasil visualisasi grafik histogram \"Jumlah Rating Buku\", sebagian besar data *rating* dari buku yang sudah pernah dibaca oleh *user* terdapat pada *rating* 0, dengan jumlah *rating* kira-kira sebanyak lebih dari 700.000. *Rating* tersebut dapat menyebabkan bias pada analisis data, sehingga data dengan *rating* 0 dapat dihapus."
      ],
      "metadata": {
        "id": "6JTldwqckPC7"
      }
    },
    {
      "cell_type": "code",
      "source": [
        "print(f'Total Rating 0 : {ratings.book_rating.eq(0).sum()}')\n",
        "\n",
        "ratings = ratings[df_r.book_rating > 0]"
      ],
      "metadata": {
        "colab": {
          "base_uri": "https://localhost:8080/"
        },
        "id": "6C8cnQ87XMf0",
        "outputId": "e32425c6-0319-4001-ceea-3a0eaa774693"
      },
      "execution_count": 25,
      "outputs": [
        {
          "output_type": "stream",
          "name": "stdout",
          "text": [
            "Total Rating 0 : 716109\n"
          ]
        }
      ]
    },
    {
      "cell_type": "markdown",
      "source": [
        "Data dengan *rating* 0 ternyata sebanyak 716.109 data. Data tersebut tidak akan diikutsertakan ke dalam *dataframe*, sehingga data yang diambil adalah data *rating* yang lebih dari 0, yaitu *rating* 1 hingga *rating* 10 saja."
      ],
      "metadata": {
        "id": "ZPTOPqqZl82e"
      }
    },
    {
      "cell_type": "code",
      "source": [
        "ratings.book_rating.value_counts().sort_index().plot(\n",
        "    kind    = 'barh',\n",
        "    color   = ['gray', 'pink', 'm', 'c', 'b', 'g', 'lightgreen', 'yellow', 'orange', 'r'],\n",
        "    title   = 'Jumlah Rating Buku',\n",
        "    xlabel  = 'Rating',\n",
        "    ylabel  = 'Jumlah',\n",
        "    figsize = (14, 5),\n",
        "    xticks  = (np.arange(0, 110000, 7500))\n",
        ").grid(linestyle='-.', linewidth=0.5)"
      ],
      "metadata": {
        "colab": {
          "base_uri": "https://localhost:8080/",
          "height": 336
        },
        "id": "huLm2y7YX207",
        "outputId": "485732a8-5286-486f-9da7-b5ab3814192e"
      },
      "execution_count": 26,
      "outputs": [
        {
          "output_type": "display_data",
          "data": {
            "text/plain": [
              "<Figure size 1008x360 with 1 Axes>"
            ],
            "image/png": "[encoded data removed]"
          },
          "metadata": {
            "needs_background": "light"
          }
        }
      ]
    },
    {
      "cell_type": "markdown",
      "source": [
        "Berdasarkan hasil visualisasi grafik histogram di atas dengan *rating* 0 yang telah dihapus, dapat dilihat distribusi frekuensi data yang lebih rapi dan jelas, terutama pada data *rating* 1 hingga *rating* 4."
      ],
      "metadata": {
        "id": "GIWYUxnGmgt8"
      }
    },
    {
      "cell_type": "markdown",
      "source": [
        "### 5.1.3 Users"
      ],
      "metadata": {
        "id": "PHq6vV9hVX9X"
      }
    },
    {
      "cell_type": "code",
      "source": [
        "users = df_u\n",
        "users.isnull().sum()"
      ],
      "metadata": {
        "colab": {
          "base_uri": "https://localhost:8080/"
        },
        "id": "RFMtjVRRVWl4",
        "outputId": "9eeb52ea-2a56-401b-8ee0-af3bfcfe78c0"
      },
      "execution_count": 27,
      "outputs": [
        {
          "output_type": "execute_result",
          "data": {
            "text/plain": [
              "user_id          0\n",
              "location         0\n",
              "age         110762\n",
              "dtype: int64"
            ]
          },
          "metadata": {},
          "execution_count": 27
        }
      ]
    },
    {
      "cell_type": "markdown",
      "source": [
        "Berdasarkan deskripsi di atas, dapat dilihat bahwa pada *dataframe* `users` terdapat atribut yang memiliki nilai kosong atau *null*, yaitu pada atribut `age` sebanyak 110.762 data."
      ],
      "metadata": {
        "id": "mJMlDaWfnTTA"
      }
    },
    {
      "cell_type": "markdown",
      "source": [
        "Dengan begitu, data yang kosong tersebut dapat diganti atau diisi dengan nilai modus atau nilai yang paling sering muncul dalam data `age` tersebut dengan menggunakan fungsi `.fillna()` dan fungsi ` .mode()`."
      ],
      "metadata": {
        "id": "tXVVTJECnYeK"
      }
    },
    {
      "cell_type": "code",
      "source": [
        "users.age = users.age.fillna(users.age.mode())\n",
        "users.isnull().sum()"
      ],
      "metadata": {
        "colab": {
          "base_uri": "https://localhost:8080/"
        },
        "id": "xgypQz2mVbbu",
        "outputId": "08b09f6c-e8df-44cc-dc98-b5052dccefbc"
      },
      "execution_count": 28,
      "outputs": [
        {
          "output_type": "execute_result",
          "data": {
            "text/plain": [
              "user_id          0\n",
              "location         0\n",
              "age         110761\n",
              "dtype: int64"
            ]
          },
          "metadata": {},
          "execution_count": 28
        }
      ]
    },
    {
      "cell_type": "code",
      "source": [
        "users.age.hist(bins=100)"
      ],
      "metadata": {
        "colab": {
          "base_uri": "https://localhost:8080/",
          "height": 283
        },
        "id": "R5my_P0La_Bk",
        "outputId": "92c3b4fe-ca6c-4bec-ae6b-6e880b8a8543"
      },
      "execution_count": 29,
      "outputs": [
        {
          "output_type": "execute_result",
          "data": {
            "text/plain": [
              "<matplotlib.axes._subplots.AxesSubplot at 0x7f5e30526b50>"
            ]
          },
          "metadata": {},
          "execution_count": 29
        },
        {
          "output_type": "display_data",
          "data": {
            "text/plain": [
              "<Figure size 432x288 with 1 Axes>"
            ],
            "image/png": "[encoded data removed]"
          },
          "metadata": {
            "needs_background": "light"
          }
        }
      ]
    },
    {
      "cell_type": "markdown",
      "source": [
        "Berdasarkan hasil visualisasi grafik histogram umur *user* di atas dapat dilihat bahwa rentang umur *user* paling banyak berada pada umur 20 hingga 30-an."
      ],
      "metadata": {
        "id": "KOzdplpYonRB"
      }
    },
    {
      "cell_type": "markdown",
      "source": [
        "## 5.2 Pengecekan Data Duplikat"
      ],
      "metadata": {
        "id": "RZbWuEUDplhY"
      }
    },
    {
      "cell_type": "markdown",
      "source": [
        "Melakukan pengecekan data yang duplikat atau data yang sama pada *dataframe* dapat dilakukan dengan menggunakan fungsi `.duplicated().sum()`."
      ],
      "metadata": {
        "id": "BhIzQBDepAKu"
      }
    },
    {
      "cell_type": "code",
      "source": [
        "print(f'Jumlah data books  yang duplikat: {books.duplicated().sum()}')\n",
        "print(f'Jumlah data rating yang duplikat: {ratings.duplicated().sum()}')\n",
        "print(f'Jumlah data users  yang duplikat: {users.duplicated().sum()}')"
      ],
      "metadata": {
        "colab": {
          "base_uri": "https://localhost:8080/"
        },
        "id": "jmdrqZJoo5xN",
        "outputId": "cc5718b6-a201-479c-fa3a-39a90961b243"
      },
      "execution_count": 30,
      "outputs": [
        {
          "output_type": "stream",
          "name": "stdout",
          "text": [
            "Jumlah data books  yang duplikat: 0\n",
            "Jumlah data rating yang duplikat: 0\n",
            "Jumlah data users  yang duplikat: 0\n"
          ]
        }
      ]
    },
    {
      "cell_type": "markdown",
      "source": [
        "Berdasarkan data di atas, dapat dilihat bahwa tidak terdapat data buku, *rating*, dan *user* yang sama atau duplikat."
      ],
      "metadata": {
        "id": "Wrq-o_XnpNeQ"
      }
    },
    {
      "cell_type": "markdown",
      "source": [
        "## 5.3 Data Buku dan *Rating*"
      ],
      "metadata": {
        "id": "RfcHHOTNqZeX"
      }
    },
    {
      "cell_type": "code",
      "source": [
        "books_ratings = pd.merge(ratings, books, on=['isbn'])\n",
        "books_ratings"
      ],
      "metadata": {
        "colab": {
          "base_uri": "https://localhost:8080/",
          "height": 957
        },
        "id": "xpwMYTJWqVSq",
        "outputId": "a97c26ba-012f-442d-a6d2-8dbcf21a8ec2"
      },
      "execution_count": 31,
      "outputs": [
        {
          "output_type": "execute_result",
          "data": {
            "text/plain": [
              "        user_id        isbn  book_rating  \\\n",
              "0        276726  0155061224            5   \n",
              "1        276729  052165615X            3   \n",
              "2        276729  0521795028            6   \n",
              "3        276744  038550120X            7   \n",
              "4         11676  038550120X           10   \n",
              "...         ...         ...          ...   \n",
              "383833   276688  0425156737            2   \n",
              "383834   276688  0671563149            6   \n",
              "383835   276688  1575660792            7   \n",
              "383836   276704  0380796155            5   \n",
              "383837   276704  0806917695            5   \n",
              "\n",
              "                                               book_title       book_author  \\\n",
              "0                                        Rites of Passage        Judith Rae   \n",
              "1                                          Help!: Level 1     Philip Prowse   \n",
              "2       The Amsterdam Connection : Level 4 (Cambridge ...       Sue Leather   \n",
              "3                                         A Painted House      JOHN GRISHAM   \n",
              "4                                         A Painted House      JOHN GRISHAM   \n",
              "...                                                   ...               ...   \n",
              "383833                                      Graven Images   Jane Waterhouse   \n",
              "383834          MUDDY WATER (Peter Bartholomew Mysteries)     Sally Gunning   \n",
              "383835                                        Gray Matter   Shirley Kennett   \n",
              "383836                                       White Abacus  Damien Broderick   \n",
              "383837  Perplexing Lateral Thinking Puzzles: Scholasti...       Paul Sloane   \n",
              "\n",
              "       pub_year                          publisher  \\\n",
              "0          2001                             Heinle   \n",
              "1          1999         Cambridge University Press   \n",
              "2          2001         Cambridge University Press   \n",
              "3          2001                          Doubleday   \n",
              "4          2001                          Doubleday   \n",
              "...         ...                                ...   \n",
              "383833     1997           Berkley Publishing Group   \n",
              "383834     1997                             Pocket   \n",
              "383835     1996  Kensington Publishing Corporation   \n",
              "383836     1998                                Eos   \n",
              "383837     1997                Sterling Publishing   \n",
              "\n",
              "                                              image_s_url  \\\n",
              "0       http://images.amazon.com/images/P/0155061224.0...   \n",
              "1       http://images.amazon.com/images/P/052165615X.0...   \n",
              "2       http://images.amazon.com/images/P/0521795028.0...   \n",
              "3       http://images.amazon.com/images/P/038550120X.0...   \n",
              "4       http://images.amazon.com/images/P/038550120X.0...   \n",
              "...                                                   ...   \n",
              "383833  http://images.amazon.com/images/P/0425156737.0...   \n",
              "383834  http://images.amazon.com/images/P/0671563149.0...   \n",
              "383835  http://images.amazon.com/images/P/1575660792.0...   \n",
              "383836  http://images.amazon.com/images/P/0380796155.0...   \n",
              "383837  http://images.amazon.com/images/P/0806917695.0...   \n",
              "\n",
              "                                              image_m_url  \\\n",
              "0       http://images.amazon.com/images/P/0155061224.0...   \n",
              "1       http://images.amazon.com/images/P/052165615X.0...   \n",
              "2       http://images.amazon.com/images/P/0521795028.0...   \n",
              "3       http://images.amazon.com/images/P/038550120X.0...   \n",
              "4       http://images.amazon.com/images/P/038550120X.0...   \n",
              "...                                                   ...   \n",
              "383833  http://images.amazon.com/images/P/0425156737.0...   \n",
              "383834  http://images.amazon.com/images/P/0671563149.0...   \n",
              "383835  http://images.amazon.com/images/P/1575660792.0...   \n",
              "383836  http://images.amazon.com/images/P/0380796155.0...   \n",
              "383837  http://images.amazon.com/images/P/0806917695.0...   \n",
              "\n",
              "                                              image_l_url  \n",
              "0       http://images.amazon.com/images/P/0155061224.0...  \n",
              "1       http://images.amazon.com/images/P/052165615X.0...  \n",
              "2       http://images.amazon.com/images/P/0521795028.0...  \n",
              "3       http://images.amazon.com/images/P/038550120X.0...  \n",
              "4       http://images.amazon.com/images/P/038550120X.0...  \n",
              "...                                                   ...  \n",
              "383833  http://images.amazon.com/images/P/0425156737.0...  \n",
              "383834  http://images.amazon.com/images/P/0671563149.0...  \n",
              "383835  http://images.amazon.com/images/P/1575660792.0...  \n",
              "383836  http://images.amazon.com/images/P/0380796155.0...  \n",
              "383837  http://images.amazon.com/images/P/0806917695.0...  \n",
              "\n",
              "[383838 rows x 10 columns]"
            ],
            "text/html": [
              "\n",
              "  <div id=\"df-a97d8c9f-b94c-4f33-a4dc-462c2cd6b8b7\">\n",
              "    <div class=\"colab-df-container\">\n",
              "      <div>\n",
              "<style scoped>\n",
              "    .dataframe tbody tr th:only-of-type {\n",
              "        vertical-align: middle;\n",
              "    }\n",
              "\n",
              "    .dataframe tbody tr th {\n",
              "        vertical-align: top;\n",
              "    }\n",
              "\n",
              "    .dataframe thead th {\n",
              "        text-align: right;\n",
              "    }\n",
              "</style>\n",
              "<table border=\"1\" class=\"dataframe\">\n",
              "  <thead>\n",
              "    <tr style=\"text-align: right;\">\n",
              "      <th></th>\n",
              "      <th>user_id</th>\n",
              "      <th>isbn</th>\n",
              "      <th>book_rating</th>\n",
              "      <th>book_title</th>\n",
              "      <th>book_author</th>\n",
              "      <th>pub_year</th>\n",
              "      <th>publisher</th>\n",
              "      <th>image_s_url</th>\n",
              "      <th>image_m_url</th>\n",
              "      <th>image_l_url</th>\n",
              "    </tr>\n",
              "  </thead>\n",
              "  <tbody>\n",
              "    <tr>\n",
              "      <th>0</th>\n",
              "      <td>276726</td>\n",
              "      <td>0155061224</td>\n",
              "      <td>5</td>\n",
              "      <td>Rites of Passage</td>\n",
              "      <td>Judith Rae</td>\n",
              "      <td>2001</td>\n",
              "      <td>Heinle</td>\n",
              "      <td>http://images.amazon.com/images/P/0155061224.0...</td>\n",
              "      <td>http://images.amazon.com/images/P/0155061224.0...</td>\n",
              "      <td>http://images.amazon.com/images/P/0155061224.0...</td>\n",
              "    </tr>\n",
              "    <tr>\n",
              "      <th>1</th>\n",
              "      <td>276729</td>\n",
              "      <td>052165615X</td>\n",
              "      <td>3</td>\n",
              "      <td>Help!: Level 1</td>\n",
              "      <td>Philip Prowse</td>\n",
              "      <td>1999</td>\n",
              "      <td>Cambridge University Press</td>\n",
              "      <td>http://images.amazon.com/images/P/052165615X.0...</td>\n",
              "      <td>http://images.amazon.com/images/P/052165615X.0...</td>\n",
              "      <td>http://images.amazon.com/images/P/052165615X.0...</td>\n",
              "    </tr>\n",
              "    <tr>\n",
              "      <th>2</th>\n",
              "      <td>276729</td>\n",
              "      <td>0521795028</td>\n",
              "      <td>6</td>\n",
              "      <td>The Amsterdam Connection : Level 4 (Cambridge ...</td>\n",
              "      <td>Sue Leather</td>\n",
              "      <td>2001</td>\n",
              "      <td>Cambridge University Press</td>\n",
              "      <td>http://images.amazon.com/images/P/0521795028.0...</td>\n",
              "      <td>http://images.amazon.com/images/P/0521795028.0...</td>\n",
              "      <td>http://images.amazon.com/images/P/0521795028.0...</td>\n",
              "    </tr>\n",
              "    <tr>\n",
              "      <th>3</th>\n",
              "      <td>276744</td>\n",
              "      <td>038550120X</td>\n",
              "      <td>7</td>\n",
              "      <td>A Painted House</td>\n",
              "      <td>JOHN GRISHAM</td>\n",
              "      <td>2001</td>\n",
              "      <td>Doubleday</td>\n",
              "      <td>http://images.amazon.com/images/P/038550120X.0...</td>\n",
              "      <td>http://images.amazon.com/images/P/038550120X.0...</td>\n",
              "      <td>http://images.amazon.com/images/P/038550120X.0...</td>\n",
              "    </tr>\n",
              "    <tr>\n",
              "      <th>4</th>\n",
              "      <td>11676</td>\n",
              "      <td>038550120X</td>\n",
              "      <td>10</td>\n",
              "      <td>A Painted House</td>\n",
              "      <td>JOHN GRISHAM</td>\n",
              "      <td>2001</td>\n",
              "      <td>Doubleday</td>\n",
              "      <td>http://images.amazon.com/images/P/038550120X.0...</td>\n",
              "      <td>http://images.amazon.com/images/P/038550120X.0...</td>\n",
              "      <td>http://images.amazon.com/images/P/038550120X.0...</td>\n",
              "    </tr>\n",
              "    <tr>\n",
              "      <th>...</th>\n",
              "      <td>...</td>\n",
              "      <td>...</td>\n",
              "      <td>...</td>\n",
              "      <td>...</td>\n",
              "      <td>...</td>\n",
              "      <td>...</td>\n",
              "      <td>...</td>\n",
              "      <td>...</td>\n",
              "      <td>...</td>\n",
              "      <td>...</td>\n",
              "    </tr>\n",
              "    <tr>\n",
              "      <th>383833</th>\n",
              "      <td>276688</td>\n",
              "      <td>0425156737</td>\n",
              "      <td>2</td>\n",
              "      <td>Graven Images</td>\n",
              "      <td>Jane Waterhouse</td>\n",
              "      <td>1997</td>\n",
              "      <td>Berkley Publishing Group</td>\n",
              "      <td>http://images.amazon.com/images/P/0425156737.0...</td>\n",
              "      <td>http://images.amazon.com/images/P/0425156737.0...</td>\n",
              "      <td>http://images.amazon.com/images/P/0425156737.0...</td>\n",
              "    </tr>\n",
              "    <tr>\n",
              "      <th>383834</th>\n",
              "      <td>276688</td>\n",
              "      <td>0671563149</td>\n",
              "      <td>6</td>\n",
              "      <td>MUDDY WATER (Peter Bartholomew Mysteries)</td>\n",
              "      <td>Sally Gunning</td>\n",
              "      <td>1997</td>\n",
              "      <td>Pocket</td>\n",
              "      <td>http://images.amazon.com/images/P/0671563149.0...</td>\n",
              "      <td>http://images.amazon.com/images/P/0671563149.0...</td>\n",
              "      <td>http://images.amazon.com/images/P/0671563149.0...</td>\n",
              "    </tr>\n",
              "    <tr>\n",
              "      <th>383835</th>\n",
              "      <td>276688</td>\n",
              "      <td>1575660792</td>\n",
              "      <td>7</td>\n",
              "      <td>Gray Matter</td>\n",
              "      <td>Shirley Kennett</td>\n",
              "      <td>1996</td>\n",
              "      <td>Kensington Publishing Corporation</td>\n",
              "      <td>http://images.amazon.com/images/P/1575660792.0...</td>\n",
              "      <td>http://images.amazon.com/images/P/1575660792.0...</td>\n",
              "      <td>http://images.amazon.com/images/P/1575660792.0...</td>\n",
              "    </tr>\n",
              "    <tr>\n",
              "      <th>383836</th>\n",
              "      <td>276704</td>\n",
              "      <td>0380796155</td>\n",
              "      <td>5</td>\n",
              "      <td>White Abacus</td>\n",
              "      <td>Damien Broderick</td>\n",
              "      <td>1998</td>\n",
              "      <td>Eos</td>\n",
              "      <td>http://images.amazon.com/images/P/0380796155.0...</td>\n",
              "      <td>http://images.amazon.com/images/P/0380796155.0...</td>\n",
              "      <td>http://images.amazon.com/images/P/0380796155.0...</td>\n",
              "    </tr>\n",
              "    <tr>\n",
              "      <th>383837</th>\n",
              "      <td>276704</td>\n",
              "      <td>0806917695</td>\n",
              "      <td>5</td>\n",
              "      <td>Perplexing Lateral Thinking Puzzles: Scholasti...</td>\n",
              "      <td>Paul Sloane</td>\n",
              "      <td>1997</td>\n",
              "      <td>Sterling Publishing</td>\n",
              "      <td>http://images.amazon.com/images/P/0806917695.0...</td>\n",
              "      <td>http://images.amazon.com/images/P/0806917695.0...</td>\n",
              "      <td>http://images.amazon.com/images/P/0806917695.0...</td>\n",
              "    </tr>\n",
              "  </tbody>\n",
              "</table>\n",
              "<p>383838 rows × 10 columns</p>\n",
              "</div>\n",
              "      <button class=\"colab-df-convert\" onclick=\"convertToInteractive('df-a97d8c9f-b94c-4f33-a4dc-462c2cd6b8b7')\"\n",
              "              title=\"Convert this dataframe to an interactive table.\"\n",
              "              style=\"display:none;\">\n",
              "        \n",
              "  <svg xmlns=\"http://www.w3.org/2000/svg\" height=\"24px\"viewBox=\"0 0 24 24\"\n",
              "       width=\"24px\">\n",
              "    <path d=\"M0 0h24v24H0V0z\" fill=\"none\"/>\n",
              "    <path d=\"M18.56 5.44l.94 2.06.94-2.06 2.06-.94-2.06-.94-.94-2.06-.94 2.06-2.06.94zm-11 1L8.5 8.5l.94-2.06 2.06-.94-2.06-.94L8.5 2.5l-.94 2.06-2.06.94zm10 10l.94 2.06.94-2.06 2.06-.94-2.06-.94-.94-2.06-.94 2.06-2.06.94z\"/><path d=\"M17.41 7.96l-1.37-1.37c-.4-.4-.92-.59-1.43-.59-.52 0-1.04.2-1.43.59L10.3 9.45l-7.72 7.72c-.78.78-.78 2.05 0 2.83L4 21.41c.39.39.9.59 1.41.59.51 0 1.02-.2 1.41-.59l7.78-7.78 2.81-2.81c.8-.78.8-2.07 0-2.86zM5.41 20L4 18.59l7.72-7.72 1.47 1.35L5.41 20z\"/>\n",
              "  </svg>\n",
              "      </button>\n",
              "      \n",
              "  <style>\n",
              "    .colab-df-container {\n",
              "      display:flex;\n",
              "      flex-wrap:wrap;\n",
              "      gap: 12px;\n",
              "    }\n",
              "\n",
              "    .colab-df-convert {\n",
              "      background-color: #E8F0FE;\n",
              "      border: none;\n",
              "      border-radius: 50%;\n",
              "      cursor: pointer;\n",
              "      display: none;\n",
              "      fill: #1967D2;\n",
              "      height: 32px;\n",
              "      padding: 0 0 0 0;\n",
              "      width: 32px;\n",
              "    }\n",
              "\n",
              "    .colab-df-convert:hover {\n",
              "      background-color: #E2EBFA;\n",
              "      box-shadow: 0px 1px 2px rgba(60, 64, 67, 0.3), 0px 1px 3px 1px rgba(60, 64, 67, 0.15);\n",
              "      fill: #174EA6;\n",
              "    }\n",
              "\n",
              "    [theme=dark] .colab-df-convert {\n",
              "      background-color: #3B4455;\n",
              "      fill: #D2E3FC;\n",
              "    }\n",
              "\n",
              "    [theme=dark] .colab-df-convert:hover {\n",
              "      background-color: #434B5C;\n",
              "      box-shadow: 0px 1px 3px 1px rgba(0, 0, 0, 0.15);\n",
              "      filter: drop-shadow(0px 1px 2px rgba(0, 0, 0, 0.3));\n",
              "      fill: #FFFFFF;\n",
              "    }\n",
              "  </style>\n",
              "\n",
              "      <script>\n",
              "        const buttonEl =\n",
              "          document.querySelector('#df-a97d8c9f-b94c-4f33-a4dc-462c2cd6b8b7 button.colab-df-convert');\n",
              "        buttonEl.style.display =\n",
              "          google.colab.kernel.accessAllowed ? 'block' : 'none';\n",
              "\n",
              "        async function convertToInteractive(key) {\n",
              "          const element = document.querySelector('#df-a97d8c9f-b94c-4f33-a4dc-462c2cd6b8b7');\n",
              "          const dataTable =\n",
              "            await google.colab.kernel.invokeFunction('convertToInteractive',\n",
              "                                                     [key], {});\n",
              "          if (!dataTable) return;\n",
              "\n",
              "          const docLinkHtml = 'Like what you see? Visit the ' +\n",
              "            '<a target=\"_blank\" href=https://colab.research.google.com/notebooks/data_table.ipynb>data table notebook</a>'\n",
              "            + ' to learn more about interactive tables.';\n",
              "          element.innerHTML = '';\n",
              "          dataTable['output_type'] = 'display_data';\n",
              "          await google.colab.output.renderOutput(dataTable, element);\n",
              "          const docLink = document.createElement('div');\n",
              "          docLink.innerHTML = docLinkHtml;\n",
              "          element.appendChild(docLink);\n",
              "        }\n",
              "      </script>\n",
              "    </div>\n",
              "  </div>\n",
              "  "
            ]
          },
          "metadata": {},
          "execution_count": 31
        }
      ]
    },
    {
      "cell_type": "markdown",
      "source": [
        "# **6. *Modeling***"
      ],
      "metadata": {
        "id": "7aprq0_NtI2m"
      }
    },
    {
      "cell_type": "markdown",
      "source": [
        "Tahap selanjutnya adalah proses *modeling* atau membuat model *machine learning* yang dapat digunakan sebagai sistem rekomendasi untuk menentukan rekomendasi buku yang terbaik kepada pengguna dengan beberapa algoritma sistem rekomendasi tertentu."
      ],
      "metadata": {
        "id": "7mIQ6P_ZpZFZ"
      }
    },
    {
      "cell_type": "markdown",
      "source": [
        "Berdasarkan tahap pemahaman data atau data understanding sebelumnya, dapat dilihat bahwa data untuk masing-masing *dataframe*, yaitu data buku, *rating*, dan *users* tergolong data yang cukup banyak, mencapai ratusan hingga jutaan data. Hal tersebut akan berdampak pada biaya yang akan diperlukan untuk melakukan proses pemodelan *machine learning*, seperti memakan waktu yang lama dan *resource* RAM ataupu GPU yang cukup besar. Oleh karena itu, dalam kasus ini data yang akan digunakan untuk proses pemodelan *machine learning* data akan dibatasi hanya 10.000 baris data buku dan 5000 baris data *rating*."
      ],
      "metadata": {
        "id": "SZbjLE9cp9sO"
      }
    },
    {
      "cell_type": "code",
      "source": [
        "books   = books[:10000]\n",
        "ratings = ratings[:5000]"
      ],
      "metadata": {
        "id": "WTLoMd-429fG"
      },
      "execution_count": 32,
      "outputs": []
    },
    {
      "cell_type": "markdown",
      "source": [
        "## 6.1 *Content-based Recommendation*"
      ],
      "metadata": {
        "id": "qYDslffIttc2"
      }
    },
    {
      "cell_type": "markdown",
      "source": [
        "Sistem rekomendasi yang berbasis konten (*Content-based Recommendation*) adalah sistem rekomendasi yang merekomendasikan item yang mirip dengan item yang disukai pengguna di masa lalu. *Content-based filtering* akan mempelajari profil minat pengguna baru berdasarkan data dari objek yang telah dinilai pengguna."
      ],
      "metadata": {
        "id": "AD0BJC61rXBt"
      }
    },
    {
      "cell_type": "markdown",
      "source": [
        "### 6.1.1 TF-IDF Vectorizer"
      ],
      "metadata": {
        "id": "3eSJBvLM6QmX"
      }
    },
    {
      "cell_type": "markdown",
      "source": [
        "*Term Frequency Inverse Document Frequency Vectorizer* ([TF-IDF Vectorizer](https://scikit-learn.org/stable/modules/generated/sklearn.feature_extraction.text.TfidfVectorizer.html 'TfidfVectorizer - scikit-learn Documentation')) *Algorithm* merupakan algoritma yang dapat melakukan kalkulasi dan transformasi dari teks mentah menjadi representasi angka yang memiliki makna tertentu dalam bentuk matriks serta dapat digunakan dan dimengerti oleh model *machine learning*."
      ],
      "metadata": {
        "id": "gsgKPzDSsRP2"
      }
    },
    {
      "cell_type": "code",
      "source": [
        "tfidf = TfidfVectorizer()\n",
        "tfidf.fit(books.book_author)\n",
        "# tfidf.get_feature_names_out()"
      ],
      "metadata": {
        "colab": {
          "base_uri": "https://localhost:8080/"
        },
        "id": "7jVunOHJrNES",
        "outputId": "cb0da2b9-923b-4803-d49c-588bcf88cb40"
      },
      "execution_count": 33,
      "outputs": [
        {
          "output_type": "execute_result",
          "data": {
            "text/plain": [
              "TfidfVectorizer()"
            ]
          },
          "metadata": {},
          "execution_count": 33
        }
      ]
    },
    {
      "cell_type": "markdown",
      "source": [
        "Proses transformasi data buku dengan atribut `book_author` ke dalam bentuk matriks dapat dilakukan dengan menggunakan fungsi `.fit_transform()`."
      ],
      "metadata": {
        "id": "wBDo1PErtxys"
      }
    },
    {
      "cell_type": "code",
      "source": [
        "tfidf_matrix = tfidf.fit_transform(books.book_author)\n",
        "tfidf_matrix.shape"
      ],
      "metadata": {
        "colab": {
          "base_uri": "https://localhost:8080/"
        },
        "id": "uYQXfcAR1AIM",
        "outputId": "fc9396af-2476-4b05-b034-84ca47e8565c"
      },
      "execution_count": 34,
      "outputs": [
        {
          "output_type": "execute_result",
          "data": {
            "text/plain": [
              "(10000, 5575)"
            ]
          },
          "metadata": {},
          "execution_count": 34
        }
      ]
    },
    {
      "cell_type": "markdown",
      "source": [
        "Ukuran matriks yang dihasilkan dari transformasi tersebut adalah 10.000 data buku dan 5.575 data *author*."
      ],
      "metadata": {
        "id": "fJCDXPbFuIEd"
      }
    },
    {
      "cell_type": "markdown",
      "source": [
        "Data di atas masih dalam bentuk vektor (dari *vectorizer*), sehingga perlu diubah ke dalam bentuk matriks dengan menggunakan fungsi `.todense()`."
      ],
      "metadata": {
        "id": "pNa8LSiiulT0"
      }
    },
    {
      "cell_type": "code",
      "source": [
        "tfidf_matrix.todense()"
      ],
      "metadata": {
        "id": "Y34rSAIF42pS",
        "colab": {
          "base_uri": "https://localhost:8080/"
        },
        "outputId": "35d50887-3634-404d-98d6-641edd24a3a8"
      },
      "execution_count": 35,
      "outputs": [
        {
          "output_type": "execute_result",
          "data": {
            "text/plain": [
              "matrix([[0., 0., 0., ..., 0., 0., 0.],\n",
              "        [0., 0., 0., ..., 0., 0., 0.],\n",
              "        [0., 0., 0., ..., 0., 0., 0.],\n",
              "        ...,\n",
              "        [0., 0., 0., ..., 0., 0., 0.],\n",
              "        [0., 0., 0., ..., 0., 0., 0.],\n",
              "        [0., 0., 0., ..., 0., 0., 0.]])"
            ]
          },
          "metadata": {},
          "execution_count": 35
        }
      ]
    },
    {
      "cell_type": "markdown",
      "source": [
        "Untuk dapat melihat matriks TF-IDF, matriks tersebut diubah terlebih dahulu menjadi sebuah *dataframe* dengan kolom adalah nama *author*, dan baris (*index*) merupakan judul buku."
      ],
      "metadata": {
        "id": "Yyq37EPAuxLt"
      }
    },
    {
      "cell_type": "code",
      "source": [
        "pd.DataFrame(\n",
        "    tfidf_matrix.todense(),\n",
        "    columns = tfidf.get_feature_names_out(),\n",
        "    index   = books.book_title\n",
        ").sample(20, axis=1).sample(10, axis=0)"
      ],
      "metadata": {
        "id": "ITeLgRKs4-sM",
        "colab": {
          "base_uri": "https://localhost:8080/",
          "height": 719
        },
        "outputId": "67763316-31a7-4beb-f689-f6f94a6a529c"
      },
      "execution_count": 36,
      "outputs": [
        {
          "output_type": "execute_result",
          "data": {
            "text/plain": [
              "                                                heche  maples  singer  gene  \\\n",
              "book_title                                                                    \n",
              "El Ultimo Judio (Punto de Lectura)                0.0     0.0     0.0   0.0   \n",
              "The Sound and the Fury (Vintage International)    0.0     0.0     0.0   0.0   \n",
              "Nowhere To Run                                    0.0     0.0     0.0   0.0   \n",
              "J Is for Judgment                                 0.0     0.0     0.0   0.0   \n",
              "Blackwood Farm (The Vampire Chronicles)           0.0     0.0     0.0   0.0   \n",
              "Blood Orchid (Holly Barker Novels (Hardcover))    0.0     0.0     0.0   0.0   \n",
              "Dragonflight                                      0.0     0.0     0.0   0.0   \n",
              "Belinda                                           0.0     0.0     0.0   0.0   \n",
              "Summer Island                                     0.0     0.0     0.0   0.0   \n",
              "The Flaming Corsage                               0.0     0.0     0.0   0.0   \n",
              "\n",
              "                                                cormac  gianfranco  phil  \\\n",
              "book_title                                                                 \n",
              "El Ultimo Judio (Punto de Lectura)                 0.0         0.0   0.0   \n",
              "The Sound and the Fury (Vintage International)     0.0         0.0   0.0   \n",
              "Nowhere To Run                                     0.0         0.0   0.0   \n",
              "J Is for Judgment                                  0.0         0.0   0.0   \n",
              "Blackwood Farm (The Vampire Chronicles)            0.0         0.0   0.0   \n",
              "Blood Orchid (Holly Barker Novels (Hardcover))     0.0         0.0   0.0   \n",
              "Dragonflight                                       0.0         0.0   0.0   \n",
              "Belinda                                            0.0         0.0   0.0   \n",
              "Summer Island                                      0.0         0.0   0.0   \n",
              "The Flaming Corsage                                0.0         0.0   0.0   \n",
              "\n",
              "                                                gladys  subrahmanian  \\\n",
              "book_title                                                             \n",
              "El Ultimo Judio (Punto de Lectura)                 0.0           0.0   \n",
              "The Sound and the Fury (Vintage International)     0.0           0.0   \n",
              "Nowhere To Run                                     0.0           0.0   \n",
              "J Is for Judgment                                  0.0           0.0   \n",
              "Blackwood Farm (The Vampire Chronicles)            0.0           0.0   \n",
              "Blood Orchid (Holly Barker Novels (Hardcover))     0.0           0.0   \n",
              "Dragonflight                                       0.0           0.0   \n",
              "Belinda                                            0.0           0.0   \n",
              "Summer Island                                      0.0           0.0   \n",
              "The Flaming Corsage                                0.0           0.0   \n",
              "\n",
              "                                                kendrick  isabel  berlinski  \\\n",
              "book_title                                                                    \n",
              "El Ultimo Judio (Punto de Lectura)                   0.0     0.0        0.0   \n",
              "The Sound and the Fury (Vintage International)       0.0     0.0        0.0   \n",
              "Nowhere To Run                                       0.0     0.0        0.0   \n",
              "J Is for Judgment                                    0.0     0.0        0.0   \n",
              "Blackwood Farm (The Vampire Chronicles)              0.0     0.0        0.0   \n",
              "Blood Orchid (Holly Barker Novels (Hardcover))       0.0     0.0        0.0   \n",
              "Dragonflight                                         0.0     0.0        0.0   \n",
              "Belinda                                              0.0     0.0        0.0   \n",
              "Summer Island                                        0.0     0.0        0.0   \n",
              "The Flaming Corsage                                  0.0     0.0        0.0   \n",
              "\n",
              "                                                mihaly  swick  mick  yastrow  \\\n",
              "book_title                                                                     \n",
              "El Ultimo Judio (Punto de Lectura)                 0.0    0.0   0.0      0.0   \n",
              "The Sound and the Fury (Vintage International)     0.0    0.0   0.0      0.0   \n",
              "Nowhere To Run                                     0.0    0.0   0.0      0.0   \n",
              "J Is for Judgment                                  0.0    0.0   0.0      0.0   \n",
              "Blackwood Farm (The Vampire Chronicles)            0.0    0.0   0.0      0.0   \n",
              "Blood Orchid (Holly Barker Novels (Hardcover))     0.0    0.0   0.0      0.0   \n",
              "Dragonflight                                       0.0    0.0   0.0      0.0   \n",
              "Belinda                                            0.0    0.0   0.0      0.0   \n",
              "Summer Island                                      0.0    0.0   0.0      0.0   \n",
              "The Flaming Corsage                                0.0    0.0   0.0      0.0   \n",
              "\n",
              "                                                tonke  hospital  mcquillan  \\\n",
              "book_title                                                                   \n",
              "El Ultimo Judio (Punto de Lectura)                0.0       0.0        0.0   \n",
              "The Sound and the Fury (Vintage International)    0.0       0.0        0.0   \n",
              "Nowhere To Run                                    0.0       0.0        0.0   \n",
              "J Is for Judgment                                 0.0       0.0        0.0   \n",
              "Blackwood Farm (The Vampire Chronicles)           0.0       0.0        0.0   \n",
              "Blood Orchid (Holly Barker Novels (Hardcover))    0.0       0.0        0.0   \n",
              "Dragonflight                                      0.0       0.0        0.0   \n",
              "Belinda                                           0.0       0.0        0.0   \n",
              "Summer Island                                     0.0       0.0        0.0   \n",
              "The Flaming Corsage                               0.0       0.0        0.0   \n",
              "\n",
              "                                                parkinson  \n",
              "book_title                                                 \n",
              "El Ultimo Judio (Punto de Lectura)                    0.0  \n",
              "The Sound and the Fury (Vintage International)        0.0  \n",
              "Nowhere To Run                                        0.0  \n",
              "J Is for Judgment                                     0.0  \n",
              "Blackwood Farm (The Vampire Chronicles)               0.0  \n",
              "Blood Orchid (Holly Barker Novels (Hardcover))        0.0  \n",
              "Dragonflight                                          0.0  \n",
              "Belinda                                               0.0  \n",
              "Summer Island                                         0.0  \n",
              "The Flaming Corsage                                   0.0  "
            ],
            "text/html": [
              "\n",
              "  <div id=\"df-8b0165b2-3789-42ac-956b-52e399ee690e\">\n",
              "    <div class=\"colab-df-container\">\n",
              "      <div>\n",
              "<style scoped>\n",
              "    .dataframe tbody tr th:only-of-type {\n",
              "        vertical-align: middle;\n",
              "    }\n",
              "\n",
              "    .dataframe tbody tr th {\n",
              "        vertical-align: top;\n",
              "    }\n",
              "\n",
              "    .dataframe thead th {\n",
              "        text-align: right;\n",
              "    }\n",
              "</style>\n",
              "<table border=\"1\" class=\"dataframe\">\n",
              "  <thead>\n",
              "    <tr style=\"text-align: right;\">\n",
              "      <th></th>\n",
              "      <th>heche</th>\n",
              "      <th>maples</th>\n",
              "      <th>singer</th>\n",
              "      <th>gene</th>\n",
              "      <th>cormac</th>\n",
              "      <th>gianfranco</th>\n",
              "      <th>phil</th>\n",
              "      <th>gladys</th>\n",
              "      <th>subrahmanian</th>\n",
              "      <th>kendrick</th>\n",
              "      <th>isabel</th>\n",
              "      <th>berlinski</th>\n",
              "      <th>mihaly</th>\n",
              "      <th>swick</th>\n",
              "      <th>mick</th>\n",
              "      <th>yastrow</th>\n",
              "      <th>tonke</th>\n",
              "      <th>hospital</th>\n",
              "      <th>mcquillan</th>\n",
              "      <th>parkinson</th>\n",
              "    </tr>\n",
              "    <tr>\n",
              "      <th>book_title</th>\n",
              "      <th></th>\n",
              "      <th></th>\n",
              "      <th></th>\n",
              "      <th></th>\n",
              "      <th></th>\n",
              "      <th></th>\n",
              "      <th></th>\n",
              "      <th></th>\n",
              "      <th></th>\n",
              "      <th></th>\n",
              "      <th></th>\n",
              "      <th></th>\n",
              "      <th></th>\n",
              "      <th></th>\n",
              "      <th></th>\n",
              "      <th></th>\n",
              "      <th></th>\n",
              "      <th></th>\n",
              "      <th></th>\n",
              "      <th></th>\n",
              "    </tr>\n",
              "  </thead>\n",
              "  <tbody>\n",
              "    <tr>\n",
              "      <th>El Ultimo Judio (Punto de Lectura)</th>\n",
              "      <td>0.0</td>\n",
              "      <td>0.0</td>\n",
              "      <td>0.0</td>\n",
              "      <td>0.0</td>\n",
              "      <td>0.0</td>\n",
              "      <td>0.0</td>\n",
              "      <td>0.0</td>\n",
              "      <td>0.0</td>\n",
              "      <td>0.0</td>\n",
              "      <td>0.0</td>\n",
              "      <td>0.0</td>\n",
              "      <td>0.0</td>\n",
              "      <td>0.0</td>\n",
              "      <td>0.0</td>\n",
              "      <td>0.0</td>\n",
              "      <td>0.0</td>\n",
              "      <td>0.0</td>\n",
              "      <td>0.0</td>\n",
              "      <td>0.0</td>\n",
              "      <td>0.0</td>\n",
              "    </tr>\n",
              "    <tr>\n",
              "      <th>The Sound and the Fury (Vintage International)</th>\n",
              "      <td>0.0</td>\n",
              "      <td>0.0</td>\n",
              "      <td>0.0</td>\n",
              "      <td>0.0</td>\n",
              "      <td>0.0</td>\n",
              "      <td>0.0</td>\n",
              "      <td>0.0</td>\n",
              "      <td>0.0</td>\n",
              "      <td>0.0</td>\n",
              "      <td>0.0</td>\n",
              "      <td>0.0</td>\n",
              "      <td>0.0</td>\n",
              "      <td>0.0</td>\n",
              "      <td>0.0</td>\n",
              "      <td>0.0</td>\n",
              "      <td>0.0</td>\n",
              "      <td>0.0</td>\n",
              "      <td>0.0</td>\n",
              "      <td>0.0</td>\n",
              "      <td>0.0</td>\n",
              "    </tr>\n",
              "    <tr>\n",
              "      <th>Nowhere To Run</th>\n",
              "      <td>0.0</td>\n",
              "      <td>0.0</td>\n",
              "      <td>0.0</td>\n",
              "      <td>0.0</td>\n",
              "      <td>0.0</td>\n",
              "      <td>0.0</td>\n",
              "      <td>0.0</td>\n",
              "      <td>0.0</td>\n",
              "      <td>0.0</td>\n",
              "      <td>0.0</td>\n",
              "      <td>0.0</td>\n",
              "      <td>0.0</td>\n",
              "      <td>0.0</td>\n",
              "      <td>0.0</td>\n",
              "      <td>0.0</td>\n",
              "      <td>0.0</td>\n",
              "      <td>0.0</td>\n",
              "      <td>0.0</td>\n",
              "      <td>0.0</td>\n",
              "      <td>0.0</td>\n",
              "    </tr>\n",
              "    <tr>\n",
              "      <th>J Is for Judgment</th>\n",
              "      <td>0.0</td>\n",
              "      <td>0.0</td>\n",
              "      <td>0.0</td>\n",
              "      <td>0.0</td>\n",
              "      <td>0.0</td>\n",
              "      <td>0.0</td>\n",
              "      <td>0.0</td>\n",
              "      <td>0.0</td>\n",
              "      <td>0.0</td>\n",
              "      <td>0.0</td>\n",
              "      <td>0.0</td>\n",
              "      <td>0.0</td>\n",
              "      <td>0.0</td>\n",
              "      <td>0.0</td>\n",
              "      <td>0.0</td>\n",
              "      <td>0.0</td>\n",
              "      <td>0.0</td>\n",
              "      <td>0.0</td>\n",
              "      <td>0.0</td>\n",
              "      <td>0.0</td>\n",
              "    </tr>\n",
              "    <tr>\n",
              "      <th>Blackwood Farm (The Vampire Chronicles)</th>\n",
              "      <td>0.0</td>\n",
              "      <td>0.0</td>\n",
              "      <td>0.0</td>\n",
              "      <td>0.0</td>\n",
              "      <td>0.0</td>\n",
              "      <td>0.0</td>\n",
              "      <td>0.0</td>\n",
              "      <td>0.0</td>\n",
              "      <td>0.0</td>\n",
              "      <td>0.0</td>\n",
              "      <td>0.0</td>\n",
              "      <td>0.0</td>\n",
              "      <td>0.0</td>\n",
              "      <td>0.0</td>\n",
              "      <td>0.0</td>\n",
              "      <td>0.0</td>\n",
              "      <td>0.0</td>\n",
              "      <td>0.0</td>\n",
              "      <td>0.0</td>\n",
              "      <td>0.0</td>\n",
              "    </tr>\n",
              "    <tr>\n",
              "      <th>Blood Orchid (Holly Barker Novels (Hardcover))</th>\n",
              "      <td>0.0</td>\n",
              "      <td>0.0</td>\n",
              "      <td>0.0</td>\n",
              "      <td>0.0</td>\n",
              "      <td>0.0</td>\n",
              "      <td>0.0</td>\n",
              "      <td>0.0</td>\n",
              "      <td>0.0</td>\n",
              "      <td>0.0</td>\n",
              "      <td>0.0</td>\n",
              "      <td>0.0</td>\n",
              "      <td>0.0</td>\n",
              "      <td>0.0</td>\n",
              "      <td>0.0</td>\n",
              "      <td>0.0</td>\n",
              "      <td>0.0</td>\n",
              "      <td>0.0</td>\n",
              "      <td>0.0</td>\n",
              "      <td>0.0</td>\n",
              "      <td>0.0</td>\n",
              "    </tr>\n",
              "    <tr>\n",
              "      <th>Dragonflight</th>\n",
              "      <td>0.0</td>\n",
              "      <td>0.0</td>\n",
              "      <td>0.0</td>\n",
              "      <td>0.0</td>\n",
              "      <td>0.0</td>\n",
              "      <td>0.0</td>\n",
              "      <td>0.0</td>\n",
              "      <td>0.0</td>\n",
              "      <td>0.0</td>\n",
              "      <td>0.0</td>\n",
              "      <td>0.0</td>\n",
              "      <td>0.0</td>\n",
              "      <td>0.0</td>\n",
              "      <td>0.0</td>\n",
              "      <td>0.0</td>\n",
              "      <td>0.0</td>\n",
              "      <td>0.0</td>\n",
              "      <td>0.0</td>\n",
              "      <td>0.0</td>\n",
              "      <td>0.0</td>\n",
              "    </tr>\n",
              "    <tr>\n",
              "      <th>Belinda</th>\n",
              "      <td>0.0</td>\n",
              "      <td>0.0</td>\n",
              "      <td>0.0</td>\n",
              "      <td>0.0</td>\n",
              "      <td>0.0</td>\n",
              "      <td>0.0</td>\n",
              "      <td>0.0</td>\n",
              "      <td>0.0</td>\n",
              "      <td>0.0</td>\n",
              "      <td>0.0</td>\n",
              "      <td>0.0</td>\n",
              "      <td>0.0</td>\n",
              "      <td>0.0</td>\n",
              "      <td>0.0</td>\n",
              "      <td>0.0</td>\n",
              "      <td>0.0</td>\n",
              "      <td>0.0</td>\n",
              "      <td>0.0</td>\n",
              "      <td>0.0</td>\n",
              "      <td>0.0</td>\n",
              "    </tr>\n",
              "    <tr>\n",
              "      <th>Summer Island</th>\n",
              "      <td>0.0</td>\n",
              "      <td>0.0</td>\n",
              "      <td>0.0</td>\n",
              "      <td>0.0</td>\n",
              "      <td>0.0</td>\n",
              "      <td>0.0</td>\n",
              "      <td>0.0</td>\n",
              "      <td>0.0</td>\n",
              "      <td>0.0</td>\n",
              "      <td>0.0</td>\n",
              "      <td>0.0</td>\n",
              "      <td>0.0</td>\n",
              "      <td>0.0</td>\n",
              "      <td>0.0</td>\n",
              "      <td>0.0</td>\n",
              "      <td>0.0</td>\n",
              "      <td>0.0</td>\n",
              "      <td>0.0</td>\n",
              "      <td>0.0</td>\n",
              "      <td>0.0</td>\n",
              "    </tr>\n",
              "    <tr>\n",
              "      <th>The Flaming Corsage</th>\n",
              "      <td>0.0</td>\n",
              "      <td>0.0</td>\n",
              "      <td>0.0</td>\n",
              "      <td>0.0</td>\n",
              "      <td>0.0</td>\n",
              "      <td>0.0</td>\n",
              "      <td>0.0</td>\n",
              "      <td>0.0</td>\n",
              "      <td>0.0</td>\n",
              "      <td>0.0</td>\n",
              "      <td>0.0</td>\n",
              "      <td>0.0</td>\n",
              "      <td>0.0</td>\n",
              "      <td>0.0</td>\n",
              "      <td>0.0</td>\n",
              "      <td>0.0</td>\n",
              "      <td>0.0</td>\n",
              "      <td>0.0</td>\n",
              "      <td>0.0</td>\n",
              "      <td>0.0</td>\n",
              "    </tr>\n",
              "  </tbody>\n",
              "</table>\n",
              "</div>\n",
              "      <button class=\"colab-df-convert\" onclick=\"convertToInteractive('df-8b0165b2-3789-42ac-956b-52e399ee690e')\"\n",
              "              title=\"Convert this dataframe to an interactive table.\"\n",
              "              style=\"display:none;\">\n",
              "        \n",
              "  <svg xmlns=\"http://www.w3.org/2000/svg\" height=\"24px\"viewBox=\"0 0 24 24\"\n",
              "       width=\"24px\">\n",
              "    <path d=\"M0 0h24v24H0V0z\" fill=\"none\"/>\n",
              "    <path d=\"M18.56 5.44l.94 2.06.94-2.06 2.06-.94-2.06-.94-.94-2.06-.94 2.06-2.06.94zm-11 1L8.5 8.5l.94-2.06 2.06-.94-2.06-.94L8.5 2.5l-.94 2.06-2.06.94zm10 10l.94 2.06.94-2.06 2.06-.94-2.06-.94-.94-2.06-.94 2.06-2.06.94z\"/><path d=\"M17.41 7.96l-1.37-1.37c-.4-.4-.92-.59-1.43-.59-.52 0-1.04.2-1.43.59L10.3 9.45l-7.72 7.72c-.78.78-.78 2.05 0 2.83L4 21.41c.39.39.9.59 1.41.59.51 0 1.02-.2 1.41-.59l7.78-7.78 2.81-2.81c.8-.78.8-2.07 0-2.86zM5.41 20L4 18.59l7.72-7.72 1.47 1.35L5.41 20z\"/>\n",
              "  </svg>\n",
              "      </button>\n",
              "      \n",
              "  <style>\n",
              "    .colab-df-container {\n",
              "      display:flex;\n",
              "      flex-wrap:wrap;\n",
              "      gap: 12px;\n",
              "    }\n",
              "\n",
              "    .colab-df-convert {\n",
              "      background-color: #E8F0FE;\n",
              "      border: none;\n",
              "      border-radius: 50%;\n",
              "      cursor: pointer;\n",
              "      display: none;\n",
              "      fill: #1967D2;\n",
              "      height: 32px;\n",
              "      padding: 0 0 0 0;\n",
              "      width: 32px;\n",
              "    }\n",
              "\n",
              "    .colab-df-convert:hover {\n",
              "      background-color: #E2EBFA;\n",
              "      box-shadow: 0px 1px 2px rgba(60, 64, 67, 0.3), 0px 1px 3px 1px rgba(60, 64, 67, 0.15);\n",
              "      fill: #174EA6;\n",
              "    }\n",
              "\n",
              "    [theme=dark] .colab-df-convert {\n",
              "      background-color: #3B4455;\n",
              "      fill: #D2E3FC;\n",
              "    }\n",
              "\n",
              "    [theme=dark] .colab-df-convert:hover {\n",
              "      background-color: #434B5C;\n",
              "      box-shadow: 0px 1px 3px 1px rgba(0, 0, 0, 0.15);\n",
              "      filter: drop-shadow(0px 1px 2px rgba(0, 0, 0, 0.3));\n",
              "      fill: #FFFFFF;\n",
              "    }\n",
              "  </style>\n",
              "\n",
              "      <script>\n",
              "        const buttonEl =\n",
              "          document.querySelector('#df-8b0165b2-3789-42ac-956b-52e399ee690e button.colab-df-convert');\n",
              "        buttonEl.style.display =\n",
              "          google.colab.kernel.accessAllowed ? 'block' : 'none';\n",
              "\n",
              "        async function convertToInteractive(key) {\n",
              "          const element = document.querySelector('#df-8b0165b2-3789-42ac-956b-52e399ee690e');\n",
              "          const dataTable =\n",
              "            await google.colab.kernel.invokeFunction('convertToInteractive',\n",
              "                                                     [key], {});\n",
              "          if (!dataTable) return;\n",
              "\n",
              "          const docLinkHtml = 'Like what you see? Visit the ' +\n",
              "            '<a target=\"_blank\" href=https://colab.research.google.com/notebooks/data_table.ipynb>data table notebook</a>'\n",
              "            + ' to learn more about interactive tables.';\n",
              "          element.innerHTML = '';\n",
              "          dataTable['output_type'] = 'display_data';\n",
              "          await google.colab.output.renderOutput(dataTable, element);\n",
              "          const docLink = document.createElement('div');\n",
              "          docLink.innerHTML = docLinkHtml;\n",
              "          element.appendChild(docLink);\n",
              "        }\n",
              "      </script>\n",
              "    </div>\n",
              "  </div>\n",
              "  "
            ]
          },
          "metadata": {},
          "execution_count": 36
        }
      ]
    },
    {
      "cell_type": "markdown",
      "source": [
        "### 6.1.2 *Cosine Similarity*"
      ],
      "metadata": {
        "id": "AYOoc9176TpD"
      }
    },
    {
      "cell_type": "markdown",
      "source": [
        "Untuk melakukan perhitungan derajat kesamaan (*similarity degree*) antar judul buku dapat dilakukan dengan teknik *cosine similarity* menggunakan fungsi [`cosine_similarity`](https://scikit-learn.org/stable/modules/generated/sklearn.metrics.pairwise.cosine_similarity.html 'cosine_similarity - scikit-learn Documentation') dari library `sklearn`."
      ],
      "metadata": {
        "id": "Le_KaOCmvRaM"
      }
    },
    {
      "cell_type": "code",
      "source": [
        "cosine_sim = cosine_similarity(tfidf_matrix)\n",
        "cosine_sim"
      ],
      "metadata": {
        "id": "ZrUUOCyX5gW6",
        "colab": {
          "base_uri": "https://localhost:8080/"
        },
        "outputId": "3e01d600-8d19-49eb-c332-321ed28eb361"
      },
      "execution_count": 37,
      "outputs": [
        {
          "output_type": "execute_result",
          "data": {
            "text/plain": [
              "array([[1., 0., 0., ..., 0., 0., 0.],\n",
              "       [0., 1., 0., ..., 0., 0., 0.],\n",
              "       [0., 0., 1., ..., 0., 0., 0.],\n",
              "       ...,\n",
              "       [0., 0., 0., ..., 1., 0., 0.],\n",
              "       [0., 0., 0., ..., 0., 1., 0.],\n",
              "       [0., 0., 0., ..., 0., 0., 1.]])"
            ]
          },
          "metadata": {},
          "execution_count": 37
        }
      ]
    },
    {
      "cell_type": "markdown",
      "source": [
        "Dengan teknik yang sama, untuk melihat *array* *cosine similarity* dapat diubah terlebih dahulu menjadi sebuah *dataframe*."
      ],
      "metadata": {
        "id": "x21Nk2bDv7PU"
      }
    },
    {
      "cell_type": "code",
      "source": [
        "cosine_sim_df = pd.DataFrame(\n",
        "    cosine_sim,\n",
        "    columns = books.book_title,\n",
        "    index   = books.book_title\n",
        ")\n",
        "\n",
        "print(f'Cosine Similarity Shape : {cosine_sim_df.shape}')\n",
        "\n",
        "cosine_sim_df.sample(8, axis=1).sample(8, axis=0)"
      ],
      "metadata": {
        "id": "xBP5xU0b6eST",
        "colab": {
          "base_uri": "https://localhost:8080/",
          "height": 671
        },
        "outputId": "1a42fc4a-cf84-4eeb-d875-b579ba890c3b"
      },
      "execution_count": 39,
      "outputs": [
        {
          "output_type": "stream",
          "name": "stdout",
          "text": [
            "Cosine Similarity Shape : (10000, 10000)\n"
          ]
        },
        {
          "output_type": "execute_result",
          "data": {
            "text/plain": [
              "book_title                                          Having Our Say : The Delany Sisters' First 100 Years  \\\n",
              "book_title                                                                                                 \n",
              "Amerigo : RÃ?Â©cit d'une erreur historique                                                        0.0      \n",
              "The Hobbit                                                                                        0.0      \n",
              "Mathematical Scandals                                                                             0.0      \n",
              "GRADUATION (FINAL FRIENDS 3) : GRADUATION (Fina...                                                0.0      \n",
              "And Then You Die                                                                                  0.0      \n",
              "Fantastic Four Illustrated Books                                                                  0.0      \n",
              "Fair Warning: A Novel                                                                             0.0      \n",
              "Alaska by Cruise Ship: The Complete Guide to th...                                                0.0      \n",
              "\n",
              "book_title                                          So Many Books: Reading and Publishing in an Age of Abundance  \\\n",
              "book_title                                                                                                         \n",
              "Amerigo : RÃ?Â©cit d'une erreur historique                                                        0.0              \n",
              "The Hobbit                                                                                        0.0              \n",
              "Mathematical Scandals                                                                             0.0              \n",
              "GRADUATION (FINAL FRIENDS 3) : GRADUATION (Fina...                                                0.0              \n",
              "And Then You Die                                                                                  0.0              \n",
              "Fantastic Four Illustrated Books                                                                  0.0              \n",
              "Fair Warning: A Novel                                                                             0.0              \n",
              "Alaska by Cruise Ship: The Complete Guide to th...                                                0.0              \n",
              "\n",
              "book_title                                          La Ingratitud  \\\n",
              "book_title                                                          \n",
              "Amerigo : RÃ?Â©cit d'une erreur historique                    0.0   \n",
              "The Hobbit                                                    0.0   \n",
              "Mathematical Scandals                                         0.0   \n",
              "GRADUATION (FINAL FRIENDS 3) : GRADUATION (Fina...            0.0   \n",
              "And Then You Die                                              0.0   \n",
              "Fantastic Four Illustrated Books                              0.0   \n",
              "Fair Warning: A Novel                                         0.0   \n",
              "Alaska by Cruise Ship: The Complete Guide to th...            0.0   \n",
              "\n",
              "book_title                                          Dollar Road: A Novel  \\\n",
              "book_title                                                                 \n",
              "Amerigo : RÃ?Â©cit d'une erreur historique                           0.0   \n",
              "The Hobbit                                                           0.0   \n",
              "Mathematical Scandals                                                0.0   \n",
              "GRADUATION (FINAL FRIENDS 3) : GRADUATION (Fina...                   0.0   \n",
              "And Then You Die                                                     0.0   \n",
              "Fantastic Four Illustrated Books                                     0.0   \n",
              "Fair Warning: A Novel                                                0.0   \n",
              "Alaska by Cruise Ship: The Complete Guide to th...                   0.0   \n",
              "\n",
              "book_title                                          Tanner on Ice: An Evan Tanner Novel (Tanner Mystery Series)  \\\n",
              "book_title                                                                                                        \n",
              "Amerigo : RÃ?Â©cit d'une erreur historique                                                        0.0             \n",
              "The Hobbit                                                                                        0.0             \n",
              "Mathematical Scandals                                                                             0.0             \n",
              "GRADUATION (FINAL FRIENDS 3) : GRADUATION (Fina...                                                0.0             \n",
              "And Then You Die                                                                                  0.0             \n",
              "Fantastic Four Illustrated Books                                                                  0.0             \n",
              "Fair Warning: A Novel                                                                             0.0             \n",
              "Alaska by Cruise Ship: The Complete Guide to th...                                                0.0             \n",
              "\n",
              "book_title                                          A Monstrous Regiment of Women  \\\n",
              "book_title                                                                          \n",
              "Amerigo : RÃ?Â©cit d'une erreur historique                                    0.0   \n",
              "The Hobbit                                                                    0.0   \n",
              "Mathematical Scandals                                                         0.0   \n",
              "GRADUATION (FINAL FRIENDS 3) : GRADUATION (Fina...                            0.0   \n",
              "And Then You Die                                                              0.0   \n",
              "Fantastic Four Illustrated Books                                              0.0   \n",
              "Fair Warning: A Novel                                                         0.0   \n",
              "Alaska by Cruise Ship: The Complete Guide to th...                            0.0   \n",
              "\n",
              "book_title                                          Dreams of Dead Womens Handbags  \\\n",
              "book_title                                                                           \n",
              "Amerigo : RÃ?Â©cit d'une erreur historique                                     0.0   \n",
              "The Hobbit                                                                     0.0   \n",
              "Mathematical Scandals                                                          0.0   \n",
              "GRADUATION (FINAL FRIENDS 3) : GRADUATION (Fina...                             0.0   \n",
              "And Then You Die                                                               0.0   \n",
              "Fantastic Four Illustrated Books                                               0.0   \n",
              "Fair Warning: A Novel                                                          0.0   \n",
              "Alaska by Cruise Ship: The Complete Guide to th...                             0.0   \n",
              "\n",
              "book_title                                          True Singapore Ghost Stories : Book 8  \n",
              "book_title                                                                                 \n",
              "Amerigo : RÃ?Â©cit d'une erreur historique                                        0.00000  \n",
              "The Hobbit                                                                        0.00000  \n",
              "Mathematical Scandals                                                             0.00000  \n",
              "GRADUATION (FINAL FRIENDS 3) : GRADUATION (Fina...                                0.00000  \n",
              "And Then You Die                                                                  0.00000  \n",
              "Fantastic Four Illustrated Books                                                  0.39472  \n",
              "Fair Warning: A Novel                                                             0.00000  \n",
              "Alaska by Cruise Ship: The Complete Guide to th...                                0.00000  "
            ],
            "text/html": [
              "\n",
              "  <div id=\"df-59c17158-27b1-456d-9b48-8cc19caecf86\">\n",
              "    <div class=\"colab-df-container\">\n",
              "      <div>\n",
              "<style scoped>\n",
              "    .dataframe tbody tr th:only-of-type {\n",
              "        vertical-align: middle;\n",
              "    }\n",
              "\n",
              "    .dataframe tbody tr th {\n",
              "        vertical-align: top;\n",
              "    }\n",
              "\n",
              "    .dataframe thead th {\n",
              "        text-align: right;\n",
              "    }\n",
              "</style>\n",
              "<table border=\"1\" class=\"dataframe\">\n",
              "  <thead>\n",
              "    <tr style=\"text-align: right;\">\n",
              "      <th>book_title</th>\n",
              "      <th>Having Our Say : The Delany Sisters' First 100 Years</th>\n",
              "      <th>So Many Books: Reading and Publishing in an Age of Abundance</th>\n",
              "      <th>La Ingratitud</th>\n",
              "      <th>Dollar Road: A Novel</th>\n",
              "      <th>Tanner on Ice: An Evan Tanner Novel (Tanner Mystery Series)</th>\n",
              "      <th>A Monstrous Regiment of Women</th>\n",
              "      <th>Dreams of Dead Womens Handbags</th>\n",
              "      <th>True Singapore Ghost Stories : Book 8</th>\n",
              "    </tr>\n",
              "    <tr>\n",
              "      <th>book_title</th>\n",
              "      <th></th>\n",
              "      <th></th>\n",
              "      <th></th>\n",
              "      <th></th>\n",
              "      <th></th>\n",
              "      <th></th>\n",
              "      <th></th>\n",
              "      <th></th>\n",
              "    </tr>\n",
              "  </thead>\n",
              "  <tbody>\n",
              "    <tr>\n",
              "      <th>Amerigo : RÃ?Â©cit d'une erreur historique</th>\n",
              "      <td>0.0</td>\n",
              "      <td>0.0</td>\n",
              "      <td>0.0</td>\n",
              "      <td>0.0</td>\n",
              "      <td>0.0</td>\n",
              "      <td>0.0</td>\n",
              "      <td>0.0</td>\n",
              "      <td>0.00000</td>\n",
              "    </tr>\n",
              "    <tr>\n",
              "      <th>The Hobbit</th>\n",
              "      <td>0.0</td>\n",
              "      <td>0.0</td>\n",
              "      <td>0.0</td>\n",
              "      <td>0.0</td>\n",
              "      <td>0.0</td>\n",
              "      <td>0.0</td>\n",
              "      <td>0.0</td>\n",
              "      <td>0.00000</td>\n",
              "    </tr>\n",
              "    <tr>\n",
              "      <th>Mathematical Scandals</th>\n",
              "      <td>0.0</td>\n",
              "      <td>0.0</td>\n",
              "      <td>0.0</td>\n",
              "      <td>0.0</td>\n",
              "      <td>0.0</td>\n",
              "      <td>0.0</td>\n",
              "      <td>0.0</td>\n",
              "      <td>0.00000</td>\n",
              "    </tr>\n",
              "    <tr>\n",
              "      <th>GRADUATION (FINAL FRIENDS 3) : GRADUATION (Final Friends, No 3)</th>\n",
              "      <td>0.0</td>\n",
              "      <td>0.0</td>\n",
              "      <td>0.0</td>\n",
              "      <td>0.0</td>\n",
              "      <td>0.0</td>\n",
              "      <td>0.0</td>\n",
              "      <td>0.0</td>\n",
              "      <td>0.00000</td>\n",
              "    </tr>\n",
              "    <tr>\n",
              "      <th>And Then You Die</th>\n",
              "      <td>0.0</td>\n",
              "      <td>0.0</td>\n",
              "      <td>0.0</td>\n",
              "      <td>0.0</td>\n",
              "      <td>0.0</td>\n",
              "      <td>0.0</td>\n",
              "      <td>0.0</td>\n",
              "      <td>0.00000</td>\n",
              "    </tr>\n",
              "    <tr>\n",
              "      <th>Fantastic Four Illustrated Books</th>\n",
              "      <td>0.0</td>\n",
              "      <td>0.0</td>\n",
              "      <td>0.0</td>\n",
              "      <td>0.0</td>\n",
              "      <td>0.0</td>\n",
              "      <td>0.0</td>\n",
              "      <td>0.0</td>\n",
              "      <td>0.39472</td>\n",
              "    </tr>\n",
              "    <tr>\n",
              "      <th>Fair Warning: A Novel</th>\n",
              "      <td>0.0</td>\n",
              "      <td>0.0</td>\n",
              "      <td>0.0</td>\n",
              "      <td>0.0</td>\n",
              "      <td>0.0</td>\n",
              "      <td>0.0</td>\n",
              "      <td>0.0</td>\n",
              "      <td>0.00000</td>\n",
              "    </tr>\n",
              "    <tr>\n",
              "      <th>Alaska by Cruise Ship: The Complete Guide to the Alaska Cruise Experience</th>\n",
              "      <td>0.0</td>\n",
              "      <td>0.0</td>\n",
              "      <td>0.0</td>\n",
              "      <td>0.0</td>\n",
              "      <td>0.0</td>\n",
              "      <td>0.0</td>\n",
              "      <td>0.0</td>\n",
              "      <td>0.00000</td>\n",
              "    </tr>\n",
              "  </tbody>\n",
              "</table>\n",
              "</div>\n",
              "      <button class=\"colab-df-convert\" onclick=\"convertToInteractive('df-59c17158-27b1-456d-9b48-8cc19caecf86')\"\n",
              "              title=\"Convert this dataframe to an interactive table.\"\n",
              "              style=\"display:none;\">\n",
              "        \n",
              "  <svg xmlns=\"http://www.w3.org/2000/svg\" height=\"24px\"viewBox=\"0 0 24 24\"\n",
              "       width=\"24px\">\n",
              "    <path d=\"M0 0h24v24H0V0z\" fill=\"none\"/>\n",
              "    <path d=\"M18.56 5.44l.94 2.06.94-2.06 2.06-.94-2.06-.94-.94-2.06-.94 2.06-2.06.94zm-11 1L8.5 8.5l.94-2.06 2.06-.94-2.06-.94L8.5 2.5l-.94 2.06-2.06.94zm10 10l.94 2.06.94-2.06 2.06-.94-2.06-.94-.94-2.06-.94 2.06-2.06.94z\"/><path d=\"M17.41 7.96l-1.37-1.37c-.4-.4-.92-.59-1.43-.59-.52 0-1.04.2-1.43.59L10.3 9.45l-7.72 7.72c-.78.78-.78 2.05 0 2.83L4 21.41c.39.39.9.59 1.41.59.51 0 1.02-.2 1.41-.59l7.78-7.78 2.81-2.81c.8-.78.8-2.07 0-2.86zM5.41 20L4 18.59l7.72-7.72 1.47 1.35L5.41 20z\"/>\n",
              "  </svg>\n",
              "      </button>\n",
              "      \n",
              "  <style>\n",
              "    .colab-df-container {\n",
              "      display:flex;\n",
              "      flex-wrap:wrap;\n",
              "      gap: 12px;\n",
              "    }\n",
              "\n",
              "    .colab-df-convert {\n",
              "      background-color: #E8F0FE;\n",
              "      border: none;\n",
              "      border-radius: 50%;\n",
              "      cursor: pointer;\n",
              "      display: none;\n",
              "      fill: #1967D2;\n",
              "      height: 32px;\n",
              "      padding: 0 0 0 0;\n",
              "      width: 32px;\n",
              "    }\n",
              "\n",
              "    .colab-df-convert:hover {\n",
              "      background-color: #E2EBFA;\n",
              "      box-shadow: 0px 1px 2px rgba(60, 64, 67, 0.3), 0px 1px 3px 1px rgba(60, 64, 67, 0.15);\n",
              "      fill: #174EA6;\n",
              "    }\n",
              "\n",
              "    [theme=dark] .colab-df-convert {\n",
              "      background-color: #3B4455;\n",
              "      fill: #D2E3FC;\n",
              "    }\n",
              "\n",
              "    [theme=dark] .colab-df-convert:hover {\n",
              "      background-color: #434B5C;\n",
              "      box-shadow: 0px 1px 3px 1px rgba(0, 0, 0, 0.15);\n",
              "      filter: drop-shadow(0px 1px 2px rgba(0, 0, 0, 0.3));\n",
              "      fill: #FFFFFF;\n",
              "    }\n",
              "  </style>\n",
              "\n",
              "      <script>\n",
              "        const buttonEl =\n",
              "          document.querySelector('#df-59c17158-27b1-456d-9b48-8cc19caecf86 button.colab-df-convert');\n",
              "        buttonEl.style.display =\n",
              "          google.colab.kernel.accessAllowed ? 'block' : 'none';\n",
              "\n",
              "        async function convertToInteractive(key) {\n",
              "          const element = document.querySelector('#df-59c17158-27b1-456d-9b48-8cc19caecf86');\n",
              "          const dataTable =\n",
              "            await google.colab.kernel.invokeFunction('convertToInteractive',\n",
              "                                                     [key], {});\n",
              "          if (!dataTable) return;\n",
              "\n",
              "          const docLinkHtml = 'Like what you see? Visit the ' +\n",
              "            '<a target=\"_blank\" href=https://colab.research.google.com/notebooks/data_table.ipynb>data table notebook</a>'\n",
              "            + ' to learn more about interactive tables.';\n",
              "          element.innerHTML = '';\n",
              "          dataTable['output_type'] = 'display_data';\n",
              "          await google.colab.output.renderOutput(dataTable, element);\n",
              "          const docLink = document.createElement('div');\n",
              "          docLink.innerHTML = docLinkHtml;\n",
              "          element.appendChild(docLink);\n",
              "        }\n",
              "      </script>\n",
              "    </div>\n",
              "  </div>\n",
              "  "
            ]
          },
          "metadata": {},
          "execution_count": 39
        }
      ]
    },
    {
      "cell_type": "markdown",
      "source": [
        "### 6.1.3 Recommendation Testing"
      ],
      "metadata": {
        "id": "LbU_TXd0rraK"
      }
    },
    {
      "cell_type": "markdown",
      "source": [
        "Mendefinisikan fungsi `author_recommendations` untuk menampilkan data buku yang direkomendasikan oleh algoritma sistem yang telah dibuat, dengan parameter masukan berupa judul buku yang sudah pernah dibaca oleh *user*."
      ],
      "metadata": {
        "id": "BXeOgQzMwXEX"
      }
    },
    {
      "cell_type": "code",
      "source": [
        "def author_recommendations(book_title, similarity_data=cosine_sim_df, items=books[['book_title', 'book_author']], k=10):\n",
        "    index = similarity_data.loc[:,book_title].to_numpy().argpartition(range(-1, -k, -1))\n",
        "    closest = similarity_data.columns[index[-1:-(k+2):-1]]\n",
        "    closest = closest.drop(book_title, errors='ignore')\n",
        "    \n",
        "    return pd.DataFrame(closest).merge(items).head(k)"
      ],
      "metadata": {
        "id": "Yld108fL674U"
      },
      "execution_count": 40,
      "outputs": []
    },
    {
      "cell_type": "code",
      "source": [
        "readed_book_title = 'Proxies'"
      ],
      "metadata": {
        "id": "H3jPuOSz-DIK"
      },
      "execution_count": 41,
      "outputs": []
    },
    {
      "cell_type": "code",
      "source": [
        "books[books.book_title.eq(readed_book_title)]"
      ],
      "metadata": {
        "id": "luPGP_a_8s2l",
        "colab": {
          "base_uri": "https://localhost:8080/",
          "height": 142
        },
        "outputId": "aeca10ac-3bd8-466c-a550-b18f17c6905c"
      },
      "execution_count": 42,
      "outputs": [
        {
          "output_type": "execute_result",
          "data": {
            "text/plain": [
              "          isbn book_title     book_author pub_year  publisher  \\\n",
              "50  0812523873    Proxies  Laura J. Mixon     1999  Tor Books   \n",
              "\n",
              "                                          image_s_url  \\\n",
              "50  http://images.amazon.com/images/P/0812523873.0...   \n",
              "\n",
              "                                          image_m_url  \\\n",
              "50  http://images.amazon.com/images/P/0812523873.0...   \n",
              "\n",
              "                                          image_l_url  \n",
              "50  http://images.amazon.com/images/P/0812523873.0...  "
            ],
            "text/html": [
              "\n",
              "  <div id=\"df-9b422324-5a23-46b6-8c5d-d6f836fc815a\">\n",
              "    <div class=\"colab-df-container\">\n",
              "      <div>\n",
              "<style scoped>\n",
              "    .dataframe tbody tr th:only-of-type {\n",
              "        vertical-align: middle;\n",
              "    }\n",
              "\n",
              "    .dataframe tbody tr th {\n",
              "        vertical-align: top;\n",
              "    }\n",
              "\n",
              "    .dataframe thead th {\n",
              "        text-align: right;\n",
              "    }\n",
              "</style>\n",
              "<table border=\"1\" class=\"dataframe\">\n",
              "  <thead>\n",
              "    <tr style=\"text-align: right;\">\n",
              "      <th></th>\n",
              "      <th>isbn</th>\n",
              "      <th>book_title</th>\n",
              "      <th>book_author</th>\n",
              "      <th>pub_year</th>\n",
              "      <th>publisher</th>\n",
              "      <th>image_s_url</th>\n",
              "      <th>image_m_url</th>\n",
              "      <th>image_l_url</th>\n",
              "    </tr>\n",
              "  </thead>\n",
              "  <tbody>\n",
              "    <tr>\n",
              "      <th>50</th>\n",
              "      <td>0812523873</td>\n",
              "      <td>Proxies</td>\n",
              "      <td>Laura J. Mixon</td>\n",
              "      <td>1999</td>\n",
              "      <td>Tor Books</td>\n",
              "      <td>http://images.amazon.com/images/P/0812523873.0...</td>\n",
              "      <td>http://images.amazon.com/images/P/0812523873.0...</td>\n",
              "      <td>http://images.amazon.com/images/P/0812523873.0...</td>\n",
              "    </tr>\n",
              "  </tbody>\n",
              "</table>\n",
              "</div>\n",
              "      <button class=\"colab-df-convert\" onclick=\"convertToInteractive('df-9b422324-5a23-46b6-8c5d-d6f836fc815a')\"\n",
              "              title=\"Convert this dataframe to an interactive table.\"\n",
              "              style=\"display:none;\">\n",
              "        \n",
              "  <svg xmlns=\"http://www.w3.org/2000/svg\" height=\"24px\"viewBox=\"0 0 24 24\"\n",
              "       width=\"24px\">\n",
              "    <path d=\"M0 0h24v24H0V0z\" fill=\"none\"/>\n",
              "    <path d=\"M18.56 5.44l.94 2.06.94-2.06 2.06-.94-2.06-.94-.94-2.06-.94 2.06-2.06.94zm-11 1L8.5 8.5l.94-2.06 2.06-.94-2.06-.94L8.5 2.5l-.94 2.06-2.06.94zm10 10l.94 2.06.94-2.06 2.06-.94-2.06-.94-.94-2.06-.94 2.06-2.06.94z\"/><path d=\"M17.41 7.96l-1.37-1.37c-.4-.4-.92-.59-1.43-.59-.52 0-1.04.2-1.43.59L10.3 9.45l-7.72 7.72c-.78.78-.78 2.05 0 2.83L4 21.41c.39.39.9.59 1.41.59.51 0 1.02-.2 1.41-.59l7.78-7.78 2.81-2.81c.8-.78.8-2.07 0-2.86zM5.41 20L4 18.59l7.72-7.72 1.47 1.35L5.41 20z\"/>\n",
              "  </svg>\n",
              "      </button>\n",
              "      \n",
              "  <style>\n",
              "    .colab-df-container {\n",
              "      display:flex;\n",
              "      flex-wrap:wrap;\n",
              "      gap: 12px;\n",
              "    }\n",
              "\n",
              "    .colab-df-convert {\n",
              "      background-color: #E8F0FE;\n",
              "      border: none;\n",
              "      border-radius: 50%;\n",
              "      cursor: pointer;\n",
              "      display: none;\n",
              "      fill: #1967D2;\n",
              "      height: 32px;\n",
              "      padding: 0 0 0 0;\n",
              "      width: 32px;\n",
              "    }\n",
              "\n",
              "    .colab-df-convert:hover {\n",
              "      background-color: #E2EBFA;\n",
              "      box-shadow: 0px 1px 2px rgba(60, 64, 67, 0.3), 0px 1px 3px 1px rgba(60, 64, 67, 0.15);\n",
              "      fill: #174EA6;\n",
              "    }\n",
              "\n",
              "    [theme=dark] .colab-df-convert {\n",
              "      background-color: #3B4455;\n",
              "      fill: #D2E3FC;\n",
              "    }\n",
              "\n",
              "    [theme=dark] .colab-df-convert:hover {\n",
              "      background-color: #434B5C;\n",
              "      box-shadow: 0px 1px 3px 1px rgba(0, 0, 0, 0.15);\n",
              "      filter: drop-shadow(0px 1px 2px rgba(0, 0, 0, 0.3));\n",
              "      fill: #FFFFFF;\n",
              "    }\n",
              "  </style>\n",
              "\n",
              "      <script>\n",
              "        const buttonEl =\n",
              "          document.querySelector('#df-9b422324-5a23-46b6-8c5d-d6f836fc815a button.colab-df-convert');\n",
              "        buttonEl.style.display =\n",
              "          google.colab.kernel.accessAllowed ? 'block' : 'none';\n",
              "\n",
              "        async function convertToInteractive(key) {\n",
              "          const element = document.querySelector('#df-9b422324-5a23-46b6-8c5d-d6f836fc815a');\n",
              "          const dataTable =\n",
              "            await google.colab.kernel.invokeFunction('convertToInteractive',\n",
              "                                                     [key], {});\n",
              "          if (!dataTable) return;\n",
              "\n",
              "          const docLinkHtml = 'Like what you see? Visit the ' +\n",
              "            '<a target=\"_blank\" href=https://colab.research.google.com/notebooks/data_table.ipynb>data table notebook</a>'\n",
              "            + ' to learn more about interactive tables.';\n",
              "          element.innerHTML = '';\n",
              "          dataTable['output_type'] = 'display_data';\n",
              "          await google.colab.output.renderOutput(dataTable, element);\n",
              "          const docLink = document.createElement('div');\n",
              "          docLink.innerHTML = docLinkHtml;\n",
              "          element.appendChild(docLink);\n",
              "        }\n",
              "      </script>\n",
              "    </div>\n",
              "  </div>\n",
              "  "
            ]
          },
          "metadata": {},
          "execution_count": 42
        }
      ]
    },
    {
      "cell_type": "markdown",
      "source": [
        "Pada beberapa kasus, sistem rekomendasi akan memberikan rekomendasi buku yang terduplikat, sehingga perlu dilakukan penghapusan data judul buku rekomendasi yang terduplikat."
      ],
      "metadata": {
        "id": "wfvxGfWGyOEk"
      }
    },
    {
      "cell_type": "code",
      "source": [
        "author_recommendations(readed_book_title).drop_duplicates()"
      ],
      "metadata": {
        "id": "N8ccm2UF9MPy",
        "colab": {
          "base_uri": "https://localhost:8080/",
          "height": 269
        },
        "outputId": "e6bde6a1-5fb0-4fad-b1c2-e3c0eaa1f7a0"
      },
      "execution_count": 43,
      "outputs": [
        {
          "output_type": "execute_result",
          "data": {
            "text/plain": [
              "                                          book_title     book_author\n",
              "0  Lethal Lover (Dangerous Men) (Harlequin Intrig...    Laura Gordon\n",
              "1  Last Writes (Levine, Laura, Jaine Austen Myste...    Laura Levine\n",
              "2                           Diary of a Mad Mom-To-Be      Laura Wolf\n",
              "3  Diary of a Mad Bride (Summer Display Opportunity)      Laura Wolf\n",
              "4                                    The Law of Love  Laura Esquivel\n",
              "8  Like Water for Chocolate: A Novel in Monthly I...  Laura Esquivel\n",
              "9  Like Water for Chocolate: A Novel in Monthly I...  Laura Esquivel"
            ],
            "text/html": [
              "\n",
              "  <div id=\"df-53e6c4db-87b8-4dbd-a54d-53838b7457b1\">\n",
              "    <div class=\"colab-df-container\">\n",
              "      <div>\n",
              "<style scoped>\n",
              "    .dataframe tbody tr th:only-of-type {\n",
              "        vertical-align: middle;\n",
              "    }\n",
              "\n",
              "    .dataframe tbody tr th {\n",
              "        vertical-align: top;\n",
              "    }\n",
              "\n",
              "    .dataframe thead th {\n",
              "        text-align: right;\n",
              "    }\n",
              "</style>\n",
              "<table border=\"1\" class=\"dataframe\">\n",
              "  <thead>\n",
              "    <tr style=\"text-align: right;\">\n",
              "      <th></th>\n",
              "      <th>book_title</th>\n",
              "      <th>book_author</th>\n",
              "    </tr>\n",
              "  </thead>\n",
              "  <tbody>\n",
              "    <tr>\n",
              "      <th>0</th>\n",
              "      <td>Lethal Lover (Dangerous Men) (Harlequin Intrig...</td>\n",
              "      <td>Laura Gordon</td>\n",
              "    </tr>\n",
              "    <tr>\n",
              "      <th>1</th>\n",
              "      <td>Last Writes (Levine, Laura, Jaine Austen Myste...</td>\n",
              "      <td>Laura Levine</td>\n",
              "    </tr>\n",
              "    <tr>\n",
              "      <th>2</th>\n",
              "      <td>Diary of a Mad Mom-To-Be</td>\n",
              "      <td>Laura Wolf</td>\n",
              "    </tr>\n",
              "    <tr>\n",
              "      <th>3</th>\n",
              "      <td>Diary of a Mad Bride (Summer Display Opportunity)</td>\n",
              "      <td>Laura Wolf</td>\n",
              "    </tr>\n",
              "    <tr>\n",
              "      <th>4</th>\n",
              "      <td>The Law of Love</td>\n",
              "      <td>Laura Esquivel</td>\n",
              "    </tr>\n",
              "    <tr>\n",
              "      <th>8</th>\n",
              "      <td>Like Water for Chocolate: A Novel in Monthly I...</td>\n",
              "      <td>Laura Esquivel</td>\n",
              "    </tr>\n",
              "    <tr>\n",
              "      <th>9</th>\n",
              "      <td>Like Water for Chocolate: A Novel in Monthly I...</td>\n",
              "      <td>Laura Esquivel</td>\n",
              "    </tr>\n",
              "  </tbody>\n",
              "</table>\n",
              "</div>\n",
              "      <button class=\"colab-df-convert\" onclick=\"convertToInteractive('df-53e6c4db-87b8-4dbd-a54d-53838b7457b1')\"\n",
              "              title=\"Convert this dataframe to an interactive table.\"\n",
              "              style=\"display:none;\">\n",
              "        \n",
              "  <svg xmlns=\"http://www.w3.org/2000/svg\" height=\"24px\"viewBox=\"0 0 24 24\"\n",
              "       width=\"24px\">\n",
              "    <path d=\"M0 0h24v24H0V0z\" fill=\"none\"/>\n",
              "    <path d=\"M18.56 5.44l.94 2.06.94-2.06 2.06-.94-2.06-.94-.94-2.06-.94 2.06-2.06.94zm-11 1L8.5 8.5l.94-2.06 2.06-.94-2.06-.94L8.5 2.5l-.94 2.06-2.06.94zm10 10l.94 2.06.94-2.06 2.06-.94-2.06-.94-.94-2.06-.94 2.06-2.06.94z\"/><path d=\"M17.41 7.96l-1.37-1.37c-.4-.4-.92-.59-1.43-.59-.52 0-1.04.2-1.43.59L10.3 9.45l-7.72 7.72c-.78.78-.78 2.05 0 2.83L4 21.41c.39.39.9.59 1.41.59.51 0 1.02-.2 1.41-.59l7.78-7.78 2.81-2.81c.8-.78.8-2.07 0-2.86zM5.41 20L4 18.59l7.72-7.72 1.47 1.35L5.41 20z\"/>\n",
              "  </svg>\n",
              "      </button>\n",
              "      \n",
              "  <style>\n",
              "    .colab-df-container {\n",
              "      display:flex;\n",
              "      flex-wrap:wrap;\n",
              "      gap: 12px;\n",
              "    }\n",
              "\n",
              "    .colab-df-convert {\n",
              "      background-color: #E8F0FE;\n",
              "      border: none;\n",
              "      border-radius: 50%;\n",
              "      cursor: pointer;\n",
              "      display: none;\n",
              "      fill: #1967D2;\n",
              "      height: 32px;\n",
              "      padding: 0 0 0 0;\n",
              "      width: 32px;\n",
              "    }\n",
              "\n",
              "    .colab-df-convert:hover {\n",
              "      background-color: #E2EBFA;\n",
              "      box-shadow: 0px 1px 2px rgba(60, 64, 67, 0.3), 0px 1px 3px 1px rgba(60, 64, 67, 0.15);\n",
              "      fill: #174EA6;\n",
              "    }\n",
              "\n",
              "    [theme=dark] .colab-df-convert {\n",
              "      background-color: #3B4455;\n",
              "      fill: #D2E3FC;\n",
              "    }\n",
              "\n",
              "    [theme=dark] .colab-df-convert:hover {\n",
              "      background-color: #434B5C;\n",
              "      box-shadow: 0px 1px 3px 1px rgba(0, 0, 0, 0.15);\n",
              "      filter: drop-shadow(0px 1px 2px rgba(0, 0, 0, 0.3));\n",
              "      fill: #FFFFFF;\n",
              "    }\n",
              "  </style>\n",
              "\n",
              "      <script>\n",
              "        const buttonEl =\n",
              "          document.querySelector('#df-53e6c4db-87b8-4dbd-a54d-53838b7457b1 button.colab-df-convert');\n",
              "        buttonEl.style.display =\n",
              "          google.colab.kernel.accessAllowed ? 'block' : 'none';\n",
              "\n",
              "        async function convertToInteractive(key) {\n",
              "          const element = document.querySelector('#df-53e6c4db-87b8-4dbd-a54d-53838b7457b1');\n",
              "          const dataTable =\n",
              "            await google.colab.kernel.invokeFunction('convertToInteractive',\n",
              "                                                     [key], {});\n",
              "          if (!dataTable) return;\n",
              "\n",
              "          const docLinkHtml = 'Like what you see? Visit the ' +\n",
              "            '<a target=\"_blank\" href=https://colab.research.google.com/notebooks/data_table.ipynb>data table notebook</a>'\n",
              "            + ' to learn more about interactive tables.';\n",
              "          element.innerHTML = '';\n",
              "          dataTable['output_type'] = 'display_data';\n",
              "          await google.colab.output.renderOutput(dataTable, element);\n",
              "          const docLink = document.createElement('div');\n",
              "          docLink.innerHTML = docLinkHtml;\n",
              "          element.appendChild(docLink);\n",
              "        }\n",
              "      </script>\n",
              "    </div>\n",
              "  </div>\n",
              "  "
            ]
          },
          "metadata": {},
          "execution_count": 43
        }
      ]
    },
    {
      "cell_type": "markdown",
      "source": [
        "Dapat dilihat bahwa sistem yang telah dibangun berhasil memberikan rekomendasi beberapa judul buku berdasarkan input atau masukan sebuah judul buku, yaitu \"Proxies\", dan diperoleh beberapa judul buku yang berdasarkan perhitungan sistem."
      ],
      "metadata": {
        "id": "t6rcuYydwxej"
      }
    },
    {
      "cell_type": "markdown",
      "source": [
        "## 6.2 *Collaborative Filtering Recommendation*"
      ],
      "metadata": {
        "id": "_kgMSZSwcFJb"
      }
    },
    {
      "cell_type": "markdown",
      "source": [
        "Sistem rekomendasi penyaringan kolaboratif (*Collaborative Filtering Recommendation*) adalah sistem rekomendasi yang merekomendasikan item yang mirip dengan preferensi pengguna di masa lalu, misalnya berdasarkan *rating* yang telah diberikan oleh pengguna di masa lalu."
      ],
      "metadata": {
        "id": "iCKQfKRYzMbA"
      }
    },
    {
      "cell_type": "markdown",
      "source": [
        "### 6.2.1 *Data Preparation*"
      ],
      "metadata": {
        "id": "dlKfEAkmcgXh"
      }
    },
    {
      "cell_type": "markdown",
      "source": [
        "Melakukan penyandian (*encoding*) fitur `user_id` ke dalam indeks integer."
      ],
      "metadata": {
        "id": "v41SJ6rf3sFT"
      }
    },
    {
      "cell_type": "code",
      "source": [
        "user_ids = ratings.user_id.unique().tolist()\n",
        "user_to_user_encoded = {x: i for i, x in enumerate(user_ids)}\n",
        "user_encoded_to_user = {i: x for i, x in enumerate(user_ids)}"
      ],
      "metadata": {
        "id": "WO_MeIhZb4cJ"
      },
      "execution_count": 44,
      "outputs": []
    },
    {
      "cell_type": "code",
      "source": [
        "print(user_ids)\n",
        "print(user_to_user_encoded)\n",
        "print(user_encoded_to_user)"
      ],
      "metadata": {
        "colab": {
          "base_uri": "https://localhost:8080/"
        },
        "id": "n0JhqfeVdQTy",
        "outputId": "31e18978-48d9-4ff8-e39c-e5d47868a8c4"
      },
      "execution_count": 45,
      "outputs": [
        {
          "output_type": "stream",
          "name": "stdout",
          "text": [
            "[276726, 276729, 276736, 276737, 276744, 276745, 276747, 276748, 276751, 276754, 276755, 276760, 276762, 276768, 276772, 276774, 276780, 276786, 276788, 276796, 276798, 276800, 276804, 276808, 276811, 276812, 276813, 276814, 276820, 276822, 276827, 276828, 276830, 276832, 276835, 276837, 276842, 276847, 276848, 276850, 276853, 276854, 276857, 276859, 276861, 276862, 276863, 276866, 276870, 276872, 276873, 276875, 276878, 276879, 276884, 276887, 276888, 276896, 276904, 276905, 276911, 276912, 276915, 276916, 276925, 276927, 276928, 276929, 276934, 276936, 276939, 276949, 276953, 276954, 276957, 276959, 276964, 276965, 276984, 276986, 276988, 276990, 276992, 276994, 276998, 277002, 277007, 277009, 277010, 277012, 277018, 277023, 277028, 277031, 277032, 277036, 277042, 277048, 277051, 277052, 277053, 277056, 277058, 277065, 277072, 277074, 277079, 277085, 277087, 277090, 277094, 277096, 277107, 277109, 277116, 277124, 277128, 277129, 277134, 277135, 277139, 277143, 277157, 277159, 277165, 277168, 277170, 277171, 277179, 277186, 277187, 277188, 277189, 277195, 277196, 277197, 277203, 277205, 277212, 277220, 277221, 277228, 277229, 277230, 277231, 277232, 277235, 277237, 277240, 277242, 277243, 277244, 277246, 277249, 277253, 277256, 277257, 277261, 277262, 277265, 277269, 277271, 277272, 277274, 277281, 277284, 277285, 277291, 277292, 277293, 277305, 277314, 277315, 277317, 277334, 277339, 277341, 277343, 277348, 277351, 277353, 277358, 277359, 277363, 277364, 277367, 277369, 277371, 277374, 277378, 277379, 277380, 277384, 277389, 277392, 277397, 277399, 277400, 277402, 277424, 277427, 277432, 277433, 277435, 277436, 277439, 277444, 277457, 277462, 277466, 277469, 277470, 277471, 277473, 277474, 277478, 277479, 277486, 277489, 277502, 277506, 277508, 277509, 277514, 277516, 277517, 277519, 277523, 277526, 277527, 277529, 277532, 277533, 277535, 277538, 277544, 277547, 277548, 277554, 277556, 277559, 277562, 277563, 277565, 277568, 277574, 277575, 277585, 277586, 277588, 277589, 277590, 277598, 277601, 277605, 277610, 277619, 277622, 277623, 277627, 277629, 277633, 277638, 277639, 277641, 277646, 277647, 277648, 277650, 277651, 277657, 277660, 277662, 277665, 277680, 277681, 277682, 277687, 277688, 277691, 277696, 277697, 277698, 277700, 277710, 277711, 277712, 277714, 277720, 277722, 277727, 277728, 277737, 277740, 277743, 277744, 277746, 277748, 277752, 277756, 277759, 277761, 277764, 277765, 277767, 277774, 277776, 277778, 277782, 277783, 277784, 277788, 277794, 277795, 277797, 277798, 277800, 277801, 277802, 277803, 277807, 277808, 277817, 277820, 277823, 277824, 277825, 277827, 277828, 277830, 277833, 277835, 277844, 277856, 277862, 277872, 277873, 277877, 277879, 277884, 277898, 277901, 277903, 277904, 277909, 277911, 277913, 277915, 277918, 277919, 277921, 277922, 277923, 277928, 277929, 277934, 277937, 277938, 277941, 277945, 277946, 277947, 277953, 277954, 277958, 277959, 277962, 277964, 277965, 277969, 277975, 277978, 277982, 277984, 277988, 277989, 277992, 277996, 277997, 278002, 278007, 278012, 278013, 278017, 278019, 278023, 278024, 278026, 278030, 278034, 278036, 278044, 278048, 278054, 278056, 278057, 278063, 278064, 278065, 278066, 278069, 278070, 278075, 278079, 278085, 278089, 278094, 278095, 278097, 278098, 278100, 278106, 278107, 278110, 278111, 278112, 278119, 278122, 278130, 278131, 278137, 278139, 278140, 278148, 278155, 278156, 278159, 278160, 278161, 278162, 278167, 278168, 278172, 278176, 278181, 278183, 278184, 278185, 278188, 278194, 278197, 278200, 278202, 278204, 278206, 278207, 278209, 278215, 278218, 278220, 278221, 278238, 278243, 278244, 278245, 278246, 278248, 278249, 278251, 278253, 278254, 278255, 278257, 278259, 278260, 278263, 278264, 278270, 278279, 278297, 278300, 278302, 278307, 278310, 278314, 278319, 278325, 278328, 278330, 278333, 278336, 278342, 278345, 278346, 278350, 278355, 278356, 278357, 278358, 278361, 278364, 278376, 278378, 278388, 278389, 278390, 278396, 278398, 278401, 278407, 278411, 278413, 278418, 278422, 278423, 278425, 278435, 278444, 278446, 278449, 278450, 278452, 278459, 278461, 278465, 278469, 278474, 278475, 278479, 278483, 278487, 278488, 278491, 278492, 278500, 278501, 278510, 278512, 278520, 278522, 278524, 278525, 278529, 278531, 278534, 278535, 278536, 278539, 278540, 278541, 278543, 278545, 278550, 278551, 278552, 278554, 278556, 278561, 278563, 278565, 278569, 278571, 278582, 278586, 278588, 278597, 278601, 278608, 278610, 278615, 278618, 278620, 278621, 278633, 278636, 278637, 278641, 278645, 278648, 278650, 278652, 278653, 278659, 278663, 278668, 278671, 278672, 278675, 278681, 278683, 278688, 278694, 278698, 278710, 278713, 278715, 278720, 278721, 278723, 278724, 278732, 278740, 278750, 278752, 278755, 278759, 278760, 278764, 278767, 278772, 278773, 278777, 278778, 278782, 278786, 278798, 278800, 278806, 278807, 278818, 278820, 278823, 278824, 278825, 278828, 278831, 278832, 278836, 278843, 278844, 278846, 278849, 278851, 278852, 278854, 8, 9, 10, 12, 14, 16, 17, 19, 22, 26, 32, 39, 42, 44, 51, 53, 56, 64, 67, 69, 70, 73, 75, 78, 81, 82, 83, 85, 86, 87, 88, 91, 92, 97, 99, 102, 107, 109, 110, 114, 125, 129, 133, 137, 141, 160, 162, 165, 169, 176, 178, 182, 183, 185, 190, 202, 212, 215, 217, 221, 224, 226, 228, 230, 232, 233, 242, 243, 244, 247, 249, 254, 256, 257, 269, 272, 273, 278, 280, 289, 291, 300, 302, 310, 313, 316, 323, 326, 332, 334, 337, 339, 345, 356, 361, 362, 367, 369, 372, 376, 382, 383, 387, 388, 392, 393, 406, 408, 413, 424, 430, 431, 432, 433, 440, 441, 444, 446, 447, 453, 460, 463, 472, 475, 476, 479, 486, 487, 489, 493, 494, 496, 499, 500, 503, 505, 507, 508, 512, 513, 523, 530, 537, 538, 542, 546, 558, 565, 566, 567, 585, 592, 595, 596, 614, 618, 619, 620, 621, 623, 625, 626, 628, 634, 638, 639, 640, 641, 643, 649, 650, 651, 657, 660, 677, 678, 683, 685, 695, 698, 705, 707, 708, 709, 711, 712, 713, 714, 717, 726, 728, 730, 735, 739, 741, 743, 744, 746, 753, 756, 757, 758, 759, 763, 765, 767, 769, 771, 774, 776, 777, 778, 780, 782, 785, 786, 790, 799, 805, 811, 818, 819, 822, 824, 827, 828, 834, 835, 843, 850, 853, 878, 882, 883, 885, 886, 887, 895, 896, 899, 900, 901, 902, 903, 913, 914, 915, 916, 919, 921, 924, 929, 932, 933, 936, 938, 941, 951, 965, 967, 969, 973, 974, 984, 998, 999, 1003, 1008, 1009, 1010, 1016, 1019, 1021, 1022, 1024, 1025, 1026, 1031, 1032, 1038, 1040, 1046, 1048, 1054, 1056, 1057, 1060, 1063, 1075, 1079, 1082, 1083, 1087, 1093, 1094, 1095, 1096, 1098, 1106, 1108, 1111, 1113, 1116, 1118, 1123, 1124, 1129, 1131, 1133, 1137, 1140, 1150, 1155, 1161, 1164, 1166, 1167, 1169, 1172, 1174, 1178, 1180, 1184, 1192, 1193, 1200, 1206, 1210, 1211, 1214, 1219, 1223, 1234, 1235, 1237, 1242, 1248, 1249, 1250, 1252, 1254, 1258, 1259, 1260, 1261, 1262, 1263, 1264, 1266, 1267, 1279, 1281, 1293, 1294, 1296, 1297, 1309, 1314, 1324, 1326, 1330, 1331, 1343, 1344, 1348, 1355, 1359, 1360, 1361, 1368, 1369, 1372, 1375, 1376, 1377, 1378, 1389, 1395, 1396, 1398, 1399, 1403, 1409, 1410, 1412, 1417, 1421, 1424, 1427, 1433, 1434, 1435, 1436, 1439, 1442, 1448, 1455, 1461, 1466, 1467, 1473, 1475, 1484, 1485, 1486, 1489, 1491, 1496, 1499, 1500, 1504, 1505, 1511, 1513, 1515, 1517, 1519, 1530, 1535, 1539, 1545, 1548, 1550, 1554, 1556, 1557, 1558, 1559, 1570, 1578, 1582, 1583, 1585, 1586, 1589, 1591, 1596, 1597, 1599, 1608, 1615, 1616, 1617, 1619, 1633, 1639, 1641, 1650, 1652, 1653, 1654, 1660, 1664, 1667, 1673, 1674, 1683, 1684, 1688, 1696, 1706, 1718, 1719, 1721, 1723, 1725, 1730, 1733, 1745, 1759, 1761, 1762, 1765, 1768, 1773, 1775, 1782, 1785, 1790, 1791, 1792, 1797, 1799, 1802, 1803, 1805, 1807, 1812, 1813, 1827, 1829, 1830, 1835, 1838, 1841, 1844, 1846, 1848, 1850, 1859, 1863, 1869, 1878, 1881, 1888, 1891, 1892, 1898, 1900, 1901, 1903, 1905, 1910, 1915, 1918, 1921, 1923, 1924, 1928, 1933, 1937, 1945, 1947, 1949, 1951, 1954, 1956, 1960, 1961, 1966, 1971, 1973, 1978, 1983, 1984, 1987, 1989, 1990, 1993, 1995, 1996, 2009, 2010, 2012, 2013, 2018, 2019, 2024, 2030, 2033, 2035, 2036, 2038, 2041, 2043, 2045, 2046, 2051, 2060, 2063, 2066, 2070, 2074, 2075, 2076, 2077, 2082, 2084, 2089, 2090, 2097, 2099, 2103, 2104, 2105, 2106, 2108, 2109, 2110]\n",
            "{276726: 0, 276729: 1, 276736: 2, 276737: 3, 276744: 4, 276745: 5, 276747: 6, 276748: 7, 276751: 8, 276754: 9, 276755: 10, 276760: 11, 276762: 12, 276768: 13, 276772: 14, 276774: 15, 276780: 16, 276786: 17, 276788: 18, 276796: 19, 276798: 20, 276800: 21, 276804: 22, 276808: 23, 276811: 24, 276812: 25, 276813: 26, 276814: 27, 276820: 28, 276822: 29, 276827: 30, 276828: 31, 276830: 32, 276832: 33, 276835: 34, 276837: 35, 276842: 36, 276847: 37, 276848: 38, 276850: 39, 276853: 40, 276854: 41, 276857: 42, 276859: 43, 276861: 44, 276862: 45, 276863: 46, 276866: 47, 276870: 48, 276872: 49, 276873: 50, 276875: 51, 276878: 52, 276879: 53, 276884: 54, 276887: 55, 276888: 56, 276896: 57, 276904: 58, 276905: 59, 276911: 60, 276912: 61, 276915: 62, 276916: 63, 276925: 64, 276927: 65, 276928: 66, 276929: 67, 276934: 68, 276936: 69, 276939: 70, 276949: 71, 276953: 72, 276954: 73, 276957: 74, 276959: 75, 276964: 76, 276965: 77, 276984: 78, 276986: 79, 276988: 80, 276990: 81, 276992: 82, 276994: 83, 276998: 84, 277002: 85, 277007: 86, 277009: 87, 277010: 88, 277012: 89, 277018: 90, 277023: 91, 277028: 92, 277031: 93, 277032: 94, 277036: 95, 277042: 96, 277048: 97, 277051: 98, 277052: 99, 277053: 100, 277056: 101, 277058: 102, 277065: 103, 277072: 104, 277074: 105, 277079: 106, 277085: 107, 277087: 108, 277090: 109, 277094: 110, 277096: 111, 277107: 112, 277109: 113, 277116: 114, 277124: 115, 277128: 116, 277129: 117, 277134: 118, 277135: 119, 277139: 120, 277143: 121, 277157: 122, 277159: 123, 277165: 124, 277168: 125, 277170: 126, 277171: 127, 277179: 128, 277186: 129, 277187: 130, 277188: 131, 277189: 132, 277195: 133, 277196: 134, 277197: 135, 277203: 136, 277205: 137, 277212: 138, 277220: 139, 277221: 140, 277228: 141, 277229: 142, 277230: 143, 277231: 144, 277232: 145, 277235: 146, 277237: 147, 277240: 148, 277242: 149, 277243: 150, 277244: 151, 277246: 152, 277249: 153, 277253: 154, 277256: 155, 277257: 156, 277261: 157, 277262: 158, 277265: 159, 277269: 160, 277271: 161, 277272: 162, 277274: 163, 277281: 164, 277284: 165, 277285: 166, 277291: 167, 277292: 168, 277293: 169, 277305: 170, 277314: 171, 277315: 172, 277317: 173, 277334: 174, 277339: 175, 277341: 176, 277343: 177, 277348: 178, 277351: 179, 277353: 180, 277358: 181, 277359: 182, 277363: 183, 277364: 184, 277367: 185, 277369: 186, 277371: 187, 277374: 188, 277378: 189, 277379: 190, 277380: 191, 277384: 192, 277389: 193, 277392: 194, 277397: 195, 277399: 196, 277400: 197, 277402: 198, 277424: 199, 277427: 200, 277432: 201, 277433: 202, 277435: 203, 277436: 204, 277439: 205, 277444: 206, 277457: 207, 277462: 208, 277466: 209, 277469: 210, 277470: 211, 277471: 212, 277473: 213, 277474: 214, 277478: 215, 277479: 216, 277486: 217, 277489: 218, 277502: 219, 277506: 220, 277508: 221, 277509: 222, 277514: 223, 277516: 224, 277517: 225, 277519: 226, 277523: 227, 277526: 228, 277527: 229, 277529: 230, 277532: 231, 277533: 232, 277535: 233, 277538: 234, 277544: 235, 277547: 236, 277548: 237, 277554: 238, 277556: 239, 277559: 240, 277562: 241, 277563: 242, 277565: 243, 277568: 244, 277574: 245, 277575: 246, 277585: 247, 277586: 248, 277588: 249, 277589: 250, 277590: 251, 277598: 252, 277601: 253, 277605: 254, 277610: 255, 277619: 256, 277622: 257, 277623: 258, 277627: 259, 277629: 260, 277633: 261, 277638: 262, 277639: 263, 277641: 264, 277646: 265, 277647: 266, 277648: 267, 277650: 268, 277651: 269, 277657: 270, 277660: 271, 277662: 272, 277665: 273, 277680: 274, 277681: 275, 277682: 276, 277687: 277, 277688: 278, 277691: 279, 277696: 280, 277697: 281, 277698: 282, 277700: 283, 277710: 284, 277711: 285, 277712: 286, 277714: 287, 277720: 288, 277722: 289, 277727: 290, 277728: 291, 277737: 292, 277740: 293, 277743: 294, 277744: 295, 277746: 296, 277748: 297, 277752: 298, 277756: 299, 277759: 300, 277761: 301, 277764: 302, 277765: 303, 277767: 304, 277774: 305, 277776: 306, 277778: 307, 277782: 308, 277783: 309, 277784: 310, 277788: 311, 277794: 312, 277795: 313, 277797: 314, 277798: 315, 277800: 316, 277801: 317, 277802: 318, 277803: 319, 277807: 320, 277808: 321, 277817: 322, 277820: 323, 277823: 324, 277824: 325, 277825: 326, 277827: 327, 277828: 328, 277830: 329, 277833: 330, 277835: 331, 277844: 332, 277856: 333, 277862: 334, 277872: 335, 277873: 336, 277877: 337, 277879: 338, 277884: 339, 277898: 340, 277901: 341, 277903: 342, 277904: 343, 277909: 344, 277911: 345, 277913: 346, 277915: 347, 277918: 348, 277919: 349, 277921: 350, 277922: 351, 277923: 352, 277928: 353, 277929: 354, 277934: 355, 277937: 356, 277938: 357, 277941: 358, 277945: 359, 277946: 360, 277947: 361, 277953: 362, 277954: 363, 277958: 364, 277959: 365, 277962: 366, 277964: 367, 277965: 368, 277969: 369, 277975: 370, 277978: 371, 277982: 372, 277984: 373, 277988: 374, 277989: 375, 277992: 376, 277996: 377, 277997: 378, 278002: 379, 278007: 380, 278012: 381, 278013: 382, 278017: 383, 278019: 384, 278023: 385, 278024: 386, 278026: 387, 278030: 388, 278034: 389, 278036: 390, 278044: 391, 278048: 392, 278054: 393, 278056: 394, 278057: 395, 278063: 396, 278064: 397, 278065: 398, 278066: 399, 278069: 400, 278070: 401, 278075: 402, 278079: 403, 278085: 404, 278089: 405, 278094: 406, 278095: 407, 278097: 408, 278098: 409, 278100: 410, 278106: 411, 278107: 412, 278110: 413, 278111: 414, 278112: 415, 278119: 416, 278122: 417, 278130: 418, 278131: 419, 278137: 420, 278139: 421, 278140: 422, 278148: 423, 278155: 424, 278156: 425, 278159: 426, 278160: 427, 278161: 428, 278162: 429, 278167: 430, 278168: 431, 278172: 432, 278176: 433, 278181: 434, 278183: 435, 278184: 436, 278185: 437, 278188: 438, 278194: 439, 278197: 440, 278200: 441, 278202: 442, 278204: 443, 278206: 444, 278207: 445, 278209: 446, 278215: 447, 278218: 448, 278220: 449, 278221: 450, 278238: 451, 278243: 452, 278244: 453, 278245: 454, 278246: 455, 278248: 456, 278249: 457, 278251: 458, 278253: 459, 278254: 460, 278255: 461, 278257: 462, 278259: 463, 278260: 464, 278263: 465, 278264: 466, 278270: 467, 278279: 468, 278297: 469, 278300: 470, 278302: 471, 278307: 472, 278310: 473, 278314: 474, 278319: 475, 278325: 476, 278328: 477, 278330: 478, 278333: 479, 278336: 480, 278342: 481, 278345: 482, 278346: 483, 278350: 484, 278355: 485, 278356: 486, 278357: 487, 278358: 488, 278361: 489, 278364: 490, 278376: 491, 278378: 492, 278388: 493, 278389: 494, 278390: 495, 278396: 496, 278398: 497, 278401: 498, 278407: 499, 278411: 500, 278413: 501, 278418: 502, 278422: 503, 278423: 504, 278425: 505, 278435: 506, 278444: 507, 278446: 508, 278449: 509, 278450: 510, 278452: 511, 278459: 512, 278461: 513, 278465: 514, 278469: 515, 278474: 516, 278475: 517, 278479: 518, 278483: 519, 278487: 520, 278488: 521, 278491: 522, 278492: 523, 278500: 524, 278501: 525, 278510: 526, 278512: 527, 278520: 528, 278522: 529, 278524: 530, 278525: 531, 278529: 532, 278531: 533, 278534: 534, 278535: 535, 278536: 536, 278539: 537, 278540: 538, 278541: 539, 278543: 540, 278545: 541, 278550: 542, 278551: 543, 278552: 544, 278554: 545, 278556: 546, 278561: 547, 278563: 548, 278565: 549, 278569: 550, 278571: 551, 278582: 552, 278586: 553, 278588: 554, 278597: 555, 278601: 556, 278608: 557, 278610: 558, 278615: 559, 278618: 560, 278620: 561, 278621: 562, 278633: 563, 278636: 564, 278637: 565, 278641: 566, 278645: 567, 278648: 568, 278650: 569, 278652: 570, 278653: 571, 278659: 572, 278663: 573, 278668: 574, 278671: 575, 278672: 576, 278675: 577, 278681: 578, 278683: 579, 278688: 580, 278694: 581, 278698: 582, 278710: 583, 278713: 584, 278715: 585, 278720: 586, 278721: 587, 278723: 588, 278724: 589, 278732: 590, 278740: 591, 278750: 592, 278752: 593, 278755: 594, 278759: 595, 278760: 596, 278764: 597, 278767: 598, 278772: 599, 278773: 600, 278777: 601, 278778: 602, 278782: 603, 278786: 604, 278798: 605, 278800: 606, 278806: 607, 278807: 608, 278818: 609, 278820: 610, 278823: 611, 278824: 612, 278825: 613, 278828: 614, 278831: 615, 278832: 616, 278836: 617, 278843: 618, 278844: 619, 278846: 620, 278849: 621, 278851: 622, 278852: 623, 278854: 624, 8: 625, 9: 626, 10: 627, 12: 628, 14: 629, 16: 630, 17: 631, 19: 632, 22: 633, 26: 634, 32: 635, 39: 636, 42: 637, 44: 638, 51: 639, 53: 640, 56: 641, 64: 642, 67: 643, 69: 644, 70: 645, 73: 646, 75: 647, 78: 648, 81: 649, 82: 650, 83: 651, 85: 652, 86: 653, 87: 654, 88: 655, 91: 656, 92: 657, 97: 658, 99: 659, 102: 660, 107: 661, 109: 662, 110: 663, 114: 664, 125: 665, 129: 666, 133: 667, 137: 668, 141: 669, 160: 670, 162: 671, 165: 672, 169: 673, 176: 674, 178: 675, 182: 676, 183: 677, 185: 678, 190: 679, 202: 680, 212: 681, 215: 682, 217: 683, 221: 684, 224: 685, 226: 686, 228: 687, 230: 688, 232: 689, 233: 690, 242: 691, 243: 692, 244: 693, 247: 694, 249: 695, 254: 696, 256: 697, 257: 698, 269: 699, 272: 700, 273: 701, 278: 702, 280: 703, 289: 704, 291: 705, 300: 706, 302: 707, 310: 708, 313: 709, 316: 710, 323: 711, 326: 712, 332: 713, 334: 714, 337: 715, 339: 716, 345: 717, 356: 718, 361: 719, 362: 720, 367: 721, 369: 722, 372: 723, 376: 724, 382: 725, 383: 726, 387: 727, 388: 728, 392: 729, 393: 730, 406: 731, 408: 732, 413: 733, 424: 734, 430: 735, 431: 736, 432: 737, 433: 738, 440: 739, 441: 740, 444: 741, 446: 742, 447: 743, 453: 744, 460: 745, 463: 746, 472: 747, 475: 748, 476: 749, 479: 750, 486: 751, 487: 752, 489: 753, 493: 754, 494: 755, 496: 756, 499: 757, 500: 758, 503: 759, 505: 760, 507: 761, 508: 762, 512: 763, 513: 764, 523: 765, 530: 766, 537: 767, 538: 768, 542: 769, 546: 770, 558: 771, 565: 772, 566: 773, 567: 774, 585: 775, 592: 776, 595: 777, 596: 778, 614: 779, 618: 780, 619: 781, 620: 782, 621: 783, 623: 784, 625: 785, 626: 786, 628: 787, 634: 788, 638: 789, 639: 790, 640: 791, 641: 792, 643: 793, 649: 794, 650: 795, 651: 796, 657: 797, 660: 798, 677: 799, 678: 800, 683: 801, 685: 802, 695: 803, 698: 804, 705: 805, 707: 806, 708: 807, 709: 808, 711: 809, 712: 810, 713: 811, 714: 812, 717: 813, 726: 814, 728: 815, 730: 816, 735: 817, 739: 818, 741: 819, 743: 820, 744: 821, 746: 822, 753: 823, 756: 824, 757: 825, 758: 826, 759: 827, 763: 828, 765: 829, 767: 830, 769: 831, 771: 832, 774: 833, 776: 834, 777: 835, 778: 836, 780: 837, 782: 838, 785: 839, 786: 840, 790: 841, 799: 842, 805: 843, 811: 844, 818: 845, 819: 846, 822: 847, 824: 848, 827: 849, 828: 850, 834: 851, 835: 852, 843: 853, 850: 854, 853: 855, 878: 856, 882: 857, 883: 858, 885: 859, 886: 860, 887: 861, 895: 862, 896: 863, 899: 864, 900: 865, 901: 866, 902: 867, 903: 868, 913: 869, 914: 870, 915: 871, 916: 872, 919: 873, 921: 874, 924: 875, 929: 876, 932: 877, 933: 878, 936: 879, 938: 880, 941: 881, 951: 882, 965: 883, 967: 884, 969: 885, 973: 886, 974: 887, 984: 888, 998: 889, 999: 890, 1003: 891, 1008: 892, 1009: 893, 1010: 894, 1016: 895, 1019: 896, 1021: 897, 1022: 898, 1024: 899, 1025: 900, 1026: 901, 1031: 902, 1032: 903, 1038: 904, 1040: 905, 1046: 906, 1048: 907, 1054: 908, 1056: 909, 1057: 910, 1060: 911, 1063: 912, 1075: 913, 1079: 914, 1082: 915, 1083: 916, 1087: 917, 1093: 918, 1094: 919, 1095: 920, 1096: 921, 1098: 922, 1106: 923, 1108: 924, 1111: 925, 1113: 926, 1116: 927, 1118: 928, 1123: 929, 1124: 930, 1129: 931, 1131: 932, 1133: 933, 1137: 934, 1140: 935, 1150: 936, 1155: 937, 1161: 938, 1164: 939, 1166: 940, 1167: 941, 1169: 942, 1172: 943, 1174: 944, 1178: 945, 1180: 946, 1184: 947, 1192: 948, 1193: 949, 1200: 950, 1206: 951, 1210: 952, 1211: 953, 1214: 954, 1219: 955, 1223: 956, 1234: 957, 1235: 958, 1237: 959, 1242: 960, 1248: 961, 1249: 962, 1250: 963, 1252: 964, 1254: 965, 1258: 966, 1259: 967, 1260: 968, 1261: 969, 1262: 970, 1263: 971, 1264: 972, 1266: 973, 1267: 974, 1279: 975, 1281: 976, 1293: 977, 1294: 978, 1296: 979, 1297: 980, 1309: 981, 1314: 982, 1324: 983, 1326: 984, 1330: 985, 1331: 986, 1343: 987, 1344: 988, 1348: 989, 1355: 990, 1359: 991, 1360: 992, 1361: 993, 1368: 994, 1369: 995, 1372: 996, 1375: 997, 1376: 998, 1377: 999, 1378: 1000, 1389: 1001, 1395: 1002, 1396: 1003, 1398: 1004, 1399: 1005, 1403: 1006, 1409: 1007, 1410: 1008, 1412: 1009, 1417: 1010, 1421: 1011, 1424: 1012, 1427: 1013, 1433: 1014, 1434: 1015, 1435: 1016, 1436: 1017, 1439: 1018, 1442: 1019, 1448: 1020, 1455: 1021, 1461: 1022, 1466: 1023, 1467: 1024, 1473: 1025, 1475: 1026, 1484: 1027, 1485: 1028, 1486: 1029, 1489: 1030, 1491: 1031, 1496: 1032, 1499: 1033, 1500: 1034, 1504: 1035, 1505: 1036, 1511: 1037, 1513: 1038, 1515: 1039, 1517: 1040, 1519: 1041, 1530: 1042, 1535: 1043, 1539: 1044, 1545: 1045, 1548: 1046, 1550: 1047, 1554: 1048, 1556: 1049, 1557: 1050, 1558: 1051, 1559: 1052, 1570: 1053, 1578: 1054, 1582: 1055, 1583: 1056, 1585: 1057, 1586: 1058, 1589: 1059, 1591: 1060, 1596: 1061, 1597: 1062, 1599: 1063, 1608: 1064, 1615: 1065, 1616: 1066, 1617: 1067, 1619: 1068, 1633: 1069, 1639: 1070, 1641: 1071, 1650: 1072, 1652: 1073, 1653: 1074, 1654: 1075, 1660: 1076, 1664: 1077, 1667: 1078, 1673: 1079, 1674: 1080, 1683: 1081, 1684: 1082, 1688: 1083, 1696: 1084, 1706: 1085, 1718: 1086, 1719: 1087, 1721: 1088, 1723: 1089, 1725: 1090, 1730: 1091, 1733: 1092, 1745: 1093, 1759: 1094, 1761: 1095, 1762: 1096, 1765: 1097, 1768: 1098, 1773: 1099, 1775: 1100, 1782: 1101, 1785: 1102, 1790: 1103, 1791: 1104, 1792: 1105, 1797: 1106, 1799: 1107, 1802: 1108, 1803: 1109, 1805: 1110, 1807: 1111, 1812: 1112, 1813: 1113, 1827: 1114, 1829: 1115, 1830: 1116, 1835: 1117, 1838: 1118, 1841: 1119, 1844: 1120, 1846: 1121, 1848: 1122, 1850: 1123, 1859: 1124, 1863: 1125, 1869: 1126, 1878: 1127, 1881: 1128, 1888: 1129, 1891: 1130, 1892: 1131, 1898: 1132, 1900: 1133, 1901: 1134, 1903: 1135, 1905: 1136, 1910: 1137, 1915: 1138, 1918: 1139, 1921: 1140, 1923: 1141, 1924: 1142, 1928: 1143, 1933: 1144, 1937: 1145, 1945: 1146, 1947: 1147, 1949: 1148, 1951: 1149, 1954: 1150, 1956: 1151, 1960: 1152, 1961: 1153, 1966: 1154, 1971: 1155, 1973: 1156, 1978: 1157, 1983: 1158, 1984: 1159, 1987: 1160, 1989: 1161, 1990: 1162, 1993: 1163, 1995: 1164, 1996: 1165, 2009: 1166, 2010: 1167, 2012: 1168, 2013: 1169, 2018: 1170, 2019: 1171, 2024: 1172, 2030: 1173, 2033: 1174, 2035: 1175, 2036: 1176, 2038: 1177, 2041: 1178, 2043: 1179, 2045: 1180, 2046: 1181, 2051: 1182, 2060: 1183, 2063: 1184, 2066: 1185, 2070: 1186, 2074: 1187, 2075: 1188, 2076: 1189, 2077: 1190, 2082: 1191, 2084: 1192, 2089: 1193, 2090: 1194, 2097: 1195, 2099: 1196, 2103: 1197, 2104: 1198, 2105: 1199, 2106: 1200, 2108: 1201, 2109: 1202, 2110: 1203}\n",
            "{0: 276726, 1: 276729, 2: 276736, 3: 276737, 4: 276744, 5: 276745, 6: 276747, 7: 276748, 8: 276751, 9: 276754, 10: 276755, 11: 276760, 12: 276762, 13: 276768, 14: 276772, 15: 276774, 16: 276780, 17: 276786, 18: 276788, 19: 276796, 20: 276798, 21: 276800, 22: 276804, 23: 276808, 24: 276811, 25: 276812, 26: 276813, 27: 276814, 28: 276820, 29: 276822, 30: 276827, 31: 276828, 32: 276830, 33: 276832, 34: 276835, 35: 276837, 36: 276842, 37: 276847, 38: 276848, 39: 276850, 40: 276853, 41: 276854, 42: 276857, 43: 276859, 44: 276861, 45: 276862, 46: 276863, 47: 276866, 48: 276870, 49: 276872, 50: 276873, 51: 276875, 52: 276878, 53: 276879, 54: 276884, 55: 276887, 56: 276888, 57: 276896, 58: 276904, 59: 276905, 60: 276911, 61: 276912, 62: 276915, 63: 276916, 64: 276925, 65: 276927, 66: 276928, 67: 276929, 68: 276934, 69: 276936, 70: 276939, 71: 276949, 72: 276953, 73: 276954, 74: 276957, 75: 276959, 76: 276964, 77: 276965, 78: 276984, 79: 276986, 80: 276988, 81: 276990, 82: 276992, 83: 276994, 84: 276998, 85: 277002, 86: 277007, 87: 277009, 88: 277010, 89: 277012, 90: 277018, 91: 277023, 92: 277028, 93: 277031, 94: 277032, 95: 277036, 96: 277042, 97: 277048, 98: 277051, 99: 277052, 100: 277053, 101: 277056, 102: 277058, 103: 277065, 104: 277072, 105: 277074, 106: 277079, 107: 277085, 108: 277087, 109: 277090, 110: 277094, 111: 277096, 112: 277107, 113: 277109, 114: 277116, 115: 277124, 116: 277128, 117: 277129, 118: 277134, 119: 277135, 120: 277139, 121: 277143, 122: 277157, 123: 277159, 124: 277165, 125: 277168, 126: 277170, 127: 277171, 128: 277179, 129: 277186, 130: 277187, 131: 277188, 132: 277189, 133: 277195, 134: 277196, 135: 277197, 136: 277203, 137: 277205, 138: 277212, 139: 277220, 140: 277221, 141: 277228, 142: 277229, 143: 277230, 144: 277231, 145: 277232, 146: 277235, 147: 277237, 148: 277240, 149: 277242, 150: 277243, 151: 277244, 152: 277246, 153: 277249, 154: 277253, 155: 277256, 156: 277257, 157: 277261, 158: 277262, 159: 277265, 160: 277269, 161: 277271, 162: 277272, 163: 277274, 164: 277281, 165: 277284, 166: 277285, 167: 277291, 168: 277292, 169: 277293, 170: 277305, 171: 277314, 172: 277315, 173: 277317, 174: 277334, 175: 277339, 176: 277341, 177: 277343, 178: 277348, 179: 277351, 180: 277353, 181: 277358, 182: 277359, 183: 277363, 184: 277364, 185: 277367, 186: 277369, 187: 277371, 188: 277374, 189: 277378, 190: 277379, 191: 277380, 192: 277384, 193: 277389, 194: 277392, 195: 277397, 196: 277399, 197: 277400, 198: 277402, 199: 277424, 200: 277427, 201: 277432, 202: 277433, 203: 277435, 204: 277436, 205: 277439, 206: 277444, 207: 277457, 208: 277462, 209: 277466, 210: 277469, 211: 277470, 212: 277471, 213: 277473, 214: 277474, 215: 277478, 216: 277479, 217: 277486, 218: 277489, 219: 277502, 220: 277506, 221: 277508, 222: 277509, 223: 277514, 224: 277516, 225: 277517, 226: 277519, 227: 277523, 228: 277526, 229: 277527, 230: 277529, 231: 277532, 232: 277533, 233: 277535, 234: 277538, 235: 277544, 236: 277547, 237: 277548, 238: 277554, 239: 277556, 240: 277559, 241: 277562, 242: 277563, 243: 277565, 244: 277568, 245: 277574, 246: 277575, 247: 277585, 248: 277586, 249: 277588, 250: 277589, 251: 277590, 252: 277598, 253: 277601, 254: 277605, 255: 277610, 256: 277619, 257: 277622, 258: 277623, 259: 277627, 260: 277629, 261: 277633, 262: 277638, 263: 277639, 264: 277641, 265: 277646, 266: 277647, 267: 277648, 268: 277650, 269: 277651, 270: 277657, 271: 277660, 272: 277662, 273: 277665, 274: 277680, 275: 277681, 276: 277682, 277: 277687, 278: 277688, 279: 277691, 280: 277696, 281: 277697, 282: 277698, 283: 277700, 284: 277710, 285: 277711, 286: 277712, 287: 277714, 288: 277720, 289: 277722, 290: 277727, 291: 277728, 292: 277737, 293: 277740, 294: 277743, 295: 277744, 296: 277746, 297: 277748, 298: 277752, 299: 277756, 300: 277759, 301: 277761, 302: 277764, 303: 277765, 304: 277767, 305: 277774, 306: 277776, 307: 277778, 308: 277782, 309: 277783, 310: 277784, 311: 277788, 312: 277794, 313: 277795, 314: 277797, 315: 277798, 316: 277800, 317: 277801, 318: 277802, 319: 277803, 320: 277807, 321: 277808, 322: 277817, 323: 277820, 324: 277823, 325: 277824, 326: 277825, 327: 277827, 328: 277828, 329: 277830, 330: 277833, 331: 277835, 332: 277844, 333: 277856, 334: 277862, 335: 277872, 336: 277873, 337: 277877, 338: 277879, 339: 277884, 340: 277898, 341: 277901, 342: 277903, 343: 277904, 344: 277909, 345: 277911, 346: 277913, 347: 277915, 348: 277918, 349: 277919, 350: 277921, 351: 277922, 352: 277923, 353: 277928, 354: 277929, 355: 277934, 356: 277937, 357: 277938, 358: 277941, 359: 277945, 360: 277946, 361: 277947, 362: 277953, 363: 277954, 364: 277958, 365: 277959, 366: 277962, 367: 277964, 368: 277965, 369: 277969, 370: 277975, 371: 277978, 372: 277982, 373: 277984, 374: 277988, 375: 277989, 376: 277992, 377: 277996, 378: 277997, 379: 278002, 380: 278007, 381: 278012, 382: 278013, 383: 278017, 384: 278019, 385: 278023, 386: 278024, 387: 278026, 388: 278030, 389: 278034, 390: 278036, 391: 278044, 392: 278048, 393: 278054, 394: 278056, 395: 278057, 396: 278063, 397: 278064, 398: 278065, 399: 278066, 400: 278069, 401: 278070, 402: 278075, 403: 278079, 404: 278085, 405: 278089, 406: 278094, 407: 278095, 408: 278097, 409: 278098, 410: 278100, 411: 278106, 412: 278107, 413: 278110, 414: 278111, 415: 278112, 416: 278119, 417: 278122, 418: 278130, 419: 278131, 420: 278137, 421: 278139, 422: 278140, 423: 278148, 424: 278155, 425: 278156, 426: 278159, 427: 278160, 428: 278161, 429: 278162, 430: 278167, 431: 278168, 432: 278172, 433: 278176, 434: 278181, 435: 278183, 436: 278184, 437: 278185, 438: 278188, 439: 278194, 440: 278197, 441: 278200, 442: 278202, 443: 278204, 444: 278206, 445: 278207, 446: 278209, 447: 278215, 448: 278218, 449: 278220, 450: 278221, 451: 278238, 452: 278243, 453: 278244, 454: 278245, 455: 278246, 456: 278248, 457: 278249, 458: 278251, 459: 278253, 460: 278254, 461: 278255, 462: 278257, 463: 278259, 464: 278260, 465: 278263, 466: 278264, 467: 278270, 468: 278279, 469: 278297, 470: 278300, 471: 278302, 472: 278307, 473: 278310, 474: 278314, 475: 278319, 476: 278325, 477: 278328, 478: 278330, 479: 278333, 480: 278336, 481: 278342, 482: 278345, 483: 278346, 484: 278350, 485: 278355, 486: 278356, 487: 278357, 488: 278358, 489: 278361, 490: 278364, 491: 278376, 492: 278378, 493: 278388, 494: 278389, 495: 278390, 496: 278396, 497: 278398, 498: 278401, 499: 278407, 500: 278411, 501: 278413, 502: 278418, 503: 278422, 504: 278423, 505: 278425, 506: 278435, 507: 278444, 508: 278446, 509: 278449, 510: 278450, 511: 278452, 512: 278459, 513: 278461, 514: 278465, 515: 278469, 516: 278474, 517: 278475, 518: 278479, 519: 278483, 520: 278487, 521: 278488, 522: 278491, 523: 278492, 524: 278500, 525: 278501, 526: 278510, 527: 278512, 528: 278520, 529: 278522, 530: 278524, 531: 278525, 532: 278529, 533: 278531, 534: 278534, 535: 278535, 536: 278536, 537: 278539, 538: 278540, 539: 278541, 540: 278543, 541: 278545, 542: 278550, 543: 278551, 544: 278552, 545: 278554, 546: 278556, 547: 278561, 548: 278563, 549: 278565, 550: 278569, 551: 278571, 552: 278582, 553: 278586, 554: 278588, 555: 278597, 556: 278601, 557: 278608, 558: 278610, 559: 278615, 560: 278618, 561: 278620, 562: 278621, 563: 278633, 564: 278636, 565: 278637, 566: 278641, 567: 278645, 568: 278648, 569: 278650, 570: 278652, 571: 278653, 572: 278659, 573: 278663, 574: 278668, 575: 278671, 576: 278672, 577: 278675, 578: 278681, 579: 278683, 580: 278688, 581: 278694, 582: 278698, 583: 278710, 584: 278713, 585: 278715, 586: 278720, 587: 278721, 588: 278723, 589: 278724, 590: 278732, 591: 278740, 592: 278750, 593: 278752, 594: 278755, 595: 278759, 596: 278760, 597: 278764, 598: 278767, 599: 278772, 600: 278773, 601: 278777, 602: 278778, 603: 278782, 604: 278786, 605: 278798, 606: 278800, 607: 278806, 608: 278807, 609: 278818, 610: 278820, 611: 278823, 612: 278824, 613: 278825, 614: 278828, 615: 278831, 616: 278832, 617: 278836, 618: 278843, 619: 278844, 620: 278846, 621: 278849, 622: 278851, 623: 278852, 624: 278854, 625: 8, 626: 9, 627: 10, 628: 12, 629: 14, 630: 16, 631: 17, 632: 19, 633: 22, 634: 26, 635: 32, 636: 39, 637: 42, 638: 44, 639: 51, 640: 53, 641: 56, 642: 64, 643: 67, 644: 69, 645: 70, 646: 73, 647: 75, 648: 78, 649: 81, 650: 82, 651: 83, 652: 85, 653: 86, 654: 87, 655: 88, 656: 91, 657: 92, 658: 97, 659: 99, 660: 102, 661: 107, 662: 109, 663: 110, 664: 114, 665: 125, 666: 129, 667: 133, 668: 137, 669: 141, 670: 160, 671: 162, 672: 165, 673: 169, 674: 176, 675: 178, 676: 182, 677: 183, 678: 185, 679: 190, 680: 202, 681: 212, 682: 215, 683: 217, 684: 221, 685: 224, 686: 226, 687: 228, 688: 230, 689: 232, 690: 233, 691: 242, 692: 243, 693: 244, 694: 247, 695: 249, 696: 254, 697: 256, 698: 257, 699: 269, 700: 272, 701: 273, 702: 278, 703: 280, 704: 289, 705: 291, 706: 300, 707: 302, 708: 310, 709: 313, 710: 316, 711: 323, 712: 326, 713: 332, 714: 334, 715: 337, 716: 339, 717: 345, 718: 356, 719: 361, 720: 362, 721: 367, 722: 369, 723: 372, 724: 376, 725: 382, 726: 383, 727: 387, 728: 388, 729: 392, 730: 393, 731: 406, 732: 408, 733: 413, 734: 424, 735: 430, 736: 431, 737: 432, 738: 433, 739: 440, 740: 441, 741: 444, 742: 446, 743: 447, 744: 453, 745: 460, 746: 463, 747: 472, 748: 475, 749: 476, 750: 479, 751: 486, 752: 487, 753: 489, 754: 493, 755: 494, 756: 496, 757: 499, 758: 500, 759: 503, 760: 505, 761: 507, 762: 508, 763: 512, 764: 513, 765: 523, 766: 530, 767: 537, 768: 538, 769: 542, 770: 546, 771: 558, 772: 565, 773: 566, 774: 567, 775: 585, 776: 592, 777: 595, 778: 596, 779: 614, 780: 618, 781: 619, 782: 620, 783: 621, 784: 623, 785: 625, 786: 626, 787: 628, 788: 634, 789: 638, 790: 639, 791: 640, 792: 641, 793: 643, 794: 649, 795: 650, 796: 651, 797: 657, 798: 660, 799: 677, 800: 678, 801: 683, 802: 685, 803: 695, 804: 698, 805: 705, 806: 707, 807: 708, 808: 709, 809: 711, 810: 712, 811: 713, 812: 714, 813: 717, 814: 726, 815: 728, 816: 730, 817: 735, 818: 739, 819: 741, 820: 743, 821: 744, 822: 746, 823: 753, 824: 756, 825: 757, 826: 758, 827: 759, 828: 763, 829: 765, 830: 767, 831: 769, 832: 771, 833: 774, 834: 776, 835: 777, 836: 778, 837: 780, 838: 782, 839: 785, 840: 786, 841: 790, 842: 799, 843: 805, 844: 811, 845: 818, 846: 819, 847: 822, 848: 824, 849: 827, 850: 828, 851: 834, 852: 835, 853: 843, 854: 850, 855: 853, 856: 878, 857: 882, 858: 883, 859: 885, 860: 886, 861: 887, 862: 895, 863: 896, 864: 899, 865: 900, 866: 901, 867: 902, 868: 903, 869: 913, 870: 914, 871: 915, 872: 916, 873: 919, 874: 921, 875: 924, 876: 929, 877: 932, 878: 933, 879: 936, 880: 938, 881: 941, 882: 951, 883: 965, 884: 967, 885: 969, 886: 973, 887: 974, 888: 984, 889: 998, 890: 999, 891: 1003, 892: 1008, 893: 1009, 894: 1010, 895: 1016, 896: 1019, 897: 1021, 898: 1022, 899: 1024, 900: 1025, 901: 1026, 902: 1031, 903: 1032, 904: 1038, 905: 1040, 906: 1046, 907: 1048, 908: 1054, 909: 1056, 910: 1057, 911: 1060, 912: 1063, 913: 1075, 914: 1079, 915: 1082, 916: 1083, 917: 1087, 918: 1093, 919: 1094, 920: 1095, 921: 1096, 922: 1098, 923: 1106, 924: 1108, 925: 1111, 926: 1113, 927: 1116, 928: 1118, 929: 1123, 930: 1124, 931: 1129, 932: 1131, 933: 1133, 934: 1137, 935: 1140, 936: 1150, 937: 1155, 938: 1161, 939: 1164, 940: 1166, 941: 1167, 942: 1169, 943: 1172, 944: 1174, 945: 1178, 946: 1180, 947: 1184, 948: 1192, 949: 1193, 950: 1200, 951: 1206, 952: 1210, 953: 1211, 954: 1214, 955: 1219, 956: 1223, 957: 1234, 958: 1235, 959: 1237, 960: 1242, 961: 1248, 962: 1249, 963: 1250, 964: 1252, 965: 1254, 966: 1258, 967: 1259, 968: 1260, 969: 1261, 970: 1262, 971: 1263, 972: 1264, 973: 1266, 974: 1267, 975: 1279, 976: 1281, 977: 1293, 978: 1294, 979: 1296, 980: 1297, 981: 1309, 982: 1314, 983: 1324, 984: 1326, 985: 1330, 986: 1331, 987: 1343, 988: 1344, 989: 1348, 990: 1355, 991: 1359, 992: 1360, 993: 1361, 994: 1368, 995: 1369, 996: 1372, 997: 1375, 998: 1376, 999: 1377, 1000: 1378, 1001: 1389, 1002: 1395, 1003: 1396, 1004: 1398, 1005: 1399, 1006: 1403, 1007: 1409, 1008: 1410, 1009: 1412, 1010: 1417, 1011: 1421, 1012: 1424, 1013: 1427, 1014: 1433, 1015: 1434, 1016: 1435, 1017: 1436, 1018: 1439, 1019: 1442, 1020: 1448, 1021: 1455, 1022: 1461, 1023: 1466, 1024: 1467, 1025: 1473, 1026: 1475, 1027: 1484, 1028: 1485, 1029: 1486, 1030: 1489, 1031: 1491, 1032: 1496, 1033: 1499, 1034: 1500, 1035: 1504, 1036: 1505, 1037: 1511, 1038: 1513, 1039: 1515, 1040: 1517, 1041: 1519, 1042: 1530, 1043: 1535, 1044: 1539, 1045: 1545, 1046: 1548, 1047: 1550, 1048: 1554, 1049: 1556, 1050: 1557, 1051: 1558, 1052: 1559, 1053: 1570, 1054: 1578, 1055: 1582, 1056: 1583, 1057: 1585, 1058: 1586, 1059: 1589, 1060: 1591, 1061: 1596, 1062: 1597, 1063: 1599, 1064: 1608, 1065: 1615, 1066: 1616, 1067: 1617, 1068: 1619, 1069: 1633, 1070: 1639, 1071: 1641, 1072: 1650, 1073: 1652, 1074: 1653, 1075: 1654, 1076: 1660, 1077: 1664, 1078: 1667, 1079: 1673, 1080: 1674, 1081: 1683, 1082: 1684, 1083: 1688, 1084: 1696, 1085: 1706, 1086: 1718, 1087: 1719, 1088: 1721, 1089: 1723, 1090: 1725, 1091: 1730, 1092: 1733, 1093: 1745, 1094: 1759, 1095: 1761, 1096: 1762, 1097: 1765, 1098: 1768, 1099: 1773, 1100: 1775, 1101: 1782, 1102: 1785, 1103: 1790, 1104: 1791, 1105: 1792, 1106: 1797, 1107: 1799, 1108: 1802, 1109: 1803, 1110: 1805, 1111: 1807, 1112: 1812, 1113: 1813, 1114: 1827, 1115: 1829, 1116: 1830, 1117: 1835, 1118: 1838, 1119: 1841, 1120: 1844, 1121: 1846, 1122: 1848, 1123: 1850, 1124: 1859, 1125: 1863, 1126: 1869, 1127: 1878, 1128: 1881, 1129: 1888, 1130: 1891, 1131: 1892, 1132: 1898, 1133: 1900, 1134: 1901, 1135: 1903, 1136: 1905, 1137: 1910, 1138: 1915, 1139: 1918, 1140: 1921, 1141: 1923, 1142: 1924, 1143: 1928, 1144: 1933, 1145: 1937, 1146: 1945, 1147: 1947, 1148: 1949, 1149: 1951, 1150: 1954, 1151: 1956, 1152: 1960, 1153: 1961, 1154: 1966, 1155: 1971, 1156: 1973, 1157: 1978, 1158: 1983, 1159: 1984, 1160: 1987, 1161: 1989, 1162: 1990, 1163: 1993, 1164: 1995, 1165: 1996, 1166: 2009, 1167: 2010, 1168: 2012, 1169: 2013, 1170: 2018, 1171: 2019, 1172: 2024, 1173: 2030, 1174: 2033, 1175: 2035, 1176: 2036, 1177: 2038, 1178: 2041, 1179: 2043, 1180: 2045, 1181: 2046, 1182: 2051, 1183: 2060, 1184: 2063, 1185: 2066, 1186: 2070, 1187: 2074, 1188: 2075, 1189: 2076, 1190: 2077, 1191: 2082, 1192: 2084, 1193: 2089, 1194: 2090, 1195: 2097, 1196: 2099, 1197: 2103, 1198: 2104, 1199: 2105, 1200: 2106, 1201: 2108, 1202: 2109, 1203: 2110}\n"
          ]
        }
      ]
    },
    {
      "cell_type": "markdown",
      "source": [
        "Melakukan penyandian (*encoding*) fitur `isbn` buku ke dalam indeks integer."
      ],
      "metadata": {
        "id": "EbMMbiUR32WM"
      }
    },
    {
      "cell_type": "code",
      "source": [
        "book_ids = ratings.isbn.unique().tolist()\n",
        "book_to_book_encoded = {x: i for i, x in enumerate(book_ids)}\n",
        "book_encoded_to_book = {i: x for i, x in enumerate(book_ids)}"
      ],
      "metadata": {
        "id": "Hvk_JpKkdiLJ"
      },
      "execution_count": 46,
      "outputs": []
    },
    {
      "cell_type": "code",
      "source": [
        "print(book_ids)\n",
        "print(book_to_book_encoded)\n",
        "print(book_encoded_to_book)"
      ],
      "metadata": {
        "colab": {
          "base_uri": "https://localhost:8080/"
        },
        "id": "8aiwC0Hsd0ZP",
        "outputId": "4c90f2b3-c5fb-4aac-c150-f80efc125566"
      },
      "execution_count": 47,
      "outputs": [
        {
          "output_type": "stream",
          "name": "stdout",
          "text": [
            "['0155061224', '052165615X', '0521795028', '3257224281', '0600570967', '038550120X', '342310538', '0060517794', '0671537458', '0679776818', '0943066433', '1885408226', '0747558167', '3596218098', '0684867621', '0451166892', '8440682697', '0380711524', '3453092007', '3453213025', 'N3453124715', '9057868059', '0553572369', '3499230933', '3596151465', '3442136644', '8484330478', '8484332039', '2864322102', '8437606322', '8466300821', '8478442588', '0345443683', '043935806X', '055310666X', '0330332775', '0006379702', '3442131340', '3548603203', '1562827898', '0440498058', '0395547032', '0440414121', '8879839993', '8423996565', '8426449476', '8426449573', '8478884831', '8478885218', '8478885463', '8478886044', '0091830893', '0586207414', '0812571029', '0140260498', '0060096195', '0141310340', '0142302198', '0156006065', '0375821813', '038076041X', '0439401399', '0552546933', '0689804458', '0699854289', '0786812508', '0786817070', '0805057706', '1551925060', '1573248533', '000651118X', '2253150711', '0440225825', '0345446860', '3125785006', '0380005239', '3809407536', '3257200552', '3404145909', '3404148576', '3404921178', '3423071516', '3426029553', '3426671298', '344215121X', '3442413508', '3442422035', '3442435773', '3442437717', '3442441080', '3442444020', '3442446414', '3442448530', '3442449820', '3453137442', '347354034X', '3492231322', '3499222213', '3499228297', '3499433443', '3506464078', '3551551677', '3551551685', '3551551693', '3551551936', '359621078X', '3608932240', '360893541X', '3608935428', '3608935436', '3809024589', '3821815191', '3932069234', '3462026062', '0449217264', '8420457477', '8448034023', '0671034944', '074931012X', '8439598459', '0140252517', '0517642689', '077104450X', '0789706032', '0836218833', '0836220889', '088365721X', '1559712252', '1567616089', '0141011904', '3423201509', '3423206616', '344242529', '3446200452', '349223903X', '3499231603', '3704320196', '3886807843', '1569312435', '1892213141', '8530805461', '3257218516', '3404126343', '3404139178', '3404143299', '340645724X', '3426192543', '3442443806', '345309221X', '3453108361', '3453130901', '3809410357', '9026935722', '0425167097', '042518109X', '0425188221', '8500010452', '8501023450', '8571648972', '8588615126', '8589885291', '009975181X', '00273755', '014366020444', '8496075850', '8804407808', '8804464895', '8807810751', '880781112X', '8817106100', '8817112917', '8833908488', '8838910987', '8846200624', '88741800047', '8876846565', '8877825200', '8879285513', '8879285645', '8887432252', '8888424121', '0449210197', '8817151068', '8496280012', 'B158991965', '0064430227', '0812533550', '8806162160', '0440241537', '0375901582', '0439317746', '0440228840', '0738205737', '0060542845', '0449148831', '8420430943', '8420636282', '8432205311', '000225669X', '0099549611', '042513976X', '0441008291', '002542730X', '0099414732', '0140154078', '0194216748', '0385504209', '0553275283', '0582530431', '063403541X', '1400002672', '840149236X', '8420432113', '8420444367', '8422655500', '8422657104', '8423976645', '8426109799', '8474104823', '950491036X', '0749336145', '1899344705', '059030271X', '0590470108', '0671021354', '0671026283', '0671027506', '2020101653', '202011528X', '20202006935', '20203119888', '2020564777', '2070386023', '2070394956', '2070404587', '2070404706', '2253030570', '2253171670', '2253172367', '2264010991', '2264018194', '2264024674', '226402593X', '2264027568', '226403114', '2264031158', '2264036036', '2266047280', '226604960', '22660861003', '2266102621', '2266104535', '2266105698', '2702424131', '2742724028', '2742724613', '2743602295', '2842611462', '2869304129', '2869304560', '2869305583', '1566190096', '3492224768', '3596122279', '3596147700', '0713628944', '1853260665', '2070414256', '2070419657', '2253063339', '2253137243', '2253144452', '2253152072', '226612269X', '2702400612', '2702401694', '2878580753', '8423310353', '349202436X', '0140182551', '0446310786', '0886776783', '3419528078', '3423118709', '3453034120', '3772420176', '3806852456', '0312966970', '680ISBN359623', '0312169817', '0345348672', '0345354621', '0345435036', '0385264356', '0425104273', '0440218667', '0440220602', '0515131520', '0812550153', '0812550307', '0843949163', '0886773741', '0886774802', '0886774829', '0886775426', '0886775957', '0886777178', '9722900684', '0590259970', '0590260251', '0590426702', '0590436422', '0590436449', '0590436465', '0590436481', '059043649X', '0590442589', '0590442996', '0590448234', '0590448595', '0590456504', '0590470485', '0060930187', '0375760911', '0689817851', '0874869870', '0061081450', '0061083259', '0061087017', '0061094404', '0671793489', '880701601X', '8817134899', '0099268345', '3100970616', '3257062354', '3423128879', '3423202327', '342677609X', '3442727073', '3453132041', '3478387507', '3492045170', '3492230814', '3545202461', '3548359698', '3550075359', '3596154766', '3596214629', '0618045996', '3822858617', '0864425589', '8817860751', '0452282101', '3257060580', '0553581112', '0805047379', '0892964456', '0373250223', '0451097009', '0451179994', '0553140779', '0425182150', '1883473004', '0061007129', '0812511816', '0880381736', '0880381744', '0312283709', '0446605484', '0446611212', '0451207955', '0609804138', '074343627X', '0971880107', '3426615355', '0075536498', '0099287692', '0099845008', '0330262130', '0385720920', '0553262505', '3442430496', '3442446325', '3453171500', '3464371506', '9513098648', '0590108395', '3442451353', '8425330866', '8481301213', '0816704627', '1573229571', '9782922145441', '3499263998', '0434009407', '1841193887', '457871971', '840149768X', '8401499917', '8420600369', '8420603066', '8423918335', '8426105084', '8426429807', '843223138X', '8437608570', '8440630921', '8440630922', '8470394126', '8471662531', '8472230082', '8474541913', '8478091351', '3426193310', '0064404773', '0064407667', '006054094X', '0375706038', '081297106X', '0843951826', '1400032628', '1585861553', '0385334141', '0425191184', '0751503894', '3548208975', '0425189864', '0440236053', '0440241073', '0553586122', '0099935708', '0140118608', '3518408127', '1586609726', '0865472807', '0312960344', '031286504X', '0345342968', '0767903382', '0312331754', '0312979517', '0316154059', '0345450175', '0345452550', '0375727981', '0385305389', '0394543289', '0399135804', '0399141340', '0399146466', '0399146504', '0399146687', '0399147101', '0399147624', '0399148337', '0399148639', '0399148728', '0399150811', '0399151451', '039915177X', '0425183181', '0671024094', '0679450408', '0684801663', '0684846608', '074320607X', '0743407377', '0743486226', '0804109990', '0812571118', '0969691319', '8475251471', '0671032658', '0812568710', '0843921609', '0553211056', '0553285920', '0020259700', '0385422598', '0449213730', '0449224449', '0451173139', '0486282406', '0553580930', '0804102511', '080410946X', '0440414806', '0679767800', '0006543545', '0141011947', '0340734043', '0340770015', '0349105227', '0571152236', '0679745203', '0140254188', '0525945636', '074341232X', '0060391626', '0440174953', '055326611X', '0553347756', '0553379615', '0670869902', '0671021001', '0671647458', '1573221856', '0449209733', '0553271644', '0316969680', '0375703861', '0440225442', '0743229878', '030700645X', '0307127923', '0307302016', '0307302636', '0307987655', '0316563242', '039480001X', '0394800028', '0394800184', '039480029X', '039480967X', '0394925696', '0439083702', '0439213592', '0439242363', '0439449316', '0590386522', '0590402218', '0590404342', '0590442619', '0590442791', '0590442805', '0590442899', '059044297X', '059046602X', '0590466577', '0590629719', '0590921622', '0590965492', '0689845405', '0689847564', '0717283194', '0717283208', '0717283275', '0717283364', '0717283372', '0717284832', '0717284972', '0717287017', '0717287106', '0721452728', '0736401113', '0761406158', '0769600239', '0785316477', '0785316493', '0785316531', '087701759X', '0895777010', '1561452718', '1562826468', '2764104936', '0671664964', '044023722X', '0671015648', '0749397365', '0061044636', '0884948706', '0312282990', '0060613998', '037541309X', '0826308791', '0722539924', '0970961502', '014029628X', '0425188175', '038550926X', '0440772109', '0812514440', '0449005909', '055347782X', '0670637823', '1585671312', '0452282152', '8804483156', '0380807343', '0397314728', '0345422384', '0395760704', '0615116426', '1555037763', '0618134298', '0375708049', '9722000322', '9722320742', '9722326414', '972232957', '972232957X', '9722906259', '9722906283', '9725752228', '9726101794', '9726106141', '1887128441', '0062501860', '0553581929', '0806523794', '0671738232', '1551668726', '0380721643', 'O6712345670', '0446360716', '0060173289', '0060976845', '1561840564', '0006530400', '44901668125', '084230052X', '3257204817', '0446363073', '3596200547', '3716020028', '3717581546', '3803120624', '0739417096', '0679781587', '071009505506', '1591820537', '0060393823', '0156027321', '0929264215', '0061011509', '0553576801', '0312276885', '8806164104', '0007137699', '0671521705', '0140058605', '0192827588', '0312195516', '0446608955', '0670892963', '0671646575', '0804114986', '0812507452', '0812515560', '0812515595', '3453156366', '1558509828', '0957868251', '2253141860', '859009751X', '0399140751', '000254794', '87812797', '887983830', '8880894536', '8880897470', '051511605X', '0060170166', '003008685X', '0060006641', '0060542128', '0061009059', '0062507109', '0132220598', '0140283374', '014039026X', '0140390715', '0141439742', '0152050167', '0201000822', '0310435706', '0312944691', '0316776963', '033031582', '0345413903', '0375408886', '0375751513', '0380702843', '0380791978', '038081904X', '0385424736', '0385486804', '0385503857', '039304016X', '0394738136', '0394862147', '0399149562', '0399225064', '0399501487', '0425047962', '0425104338', '0425116840', '0425133516', '0425190749', '0440185327', '0440224764', '0440236061', '0440236738', '0440428130', '0441627404', '0446311677', '0446325503', '0446350982', '0446522384', '0446600415', '0446608890', '0446676640', '0451180739', '0451191153', '0451203593', '0452284449', '0471018732', '0517573636', '0523485964', '0552137030', '0553078925', '0553280368', '0553351672', '0553571656', '0553573926', '0553574566', '0670307254', '0671014420', '0671037692', '0671528904', '067172021X', '0671727079', '0671740504', '0671749897', '0671876821', '0679417648', '0679419853', '0679731148', '0679736042', '0684869098', '0715388185', '0718002067', '0736903054', '0740723367', '0743406176', '0743412028', '0743422082', '0743444477', '0743457943', '0785243038', '0786866845', '0800757483', '0802425488', '0803653719', '0805018956', '0810909650', '0811802981', '0811811409', '0812504798', '0812531353', '0836210263', '0836213076', '0836217691', '0836218515', '0836218817', '0836221192', '0836221311', '0836236688', '084233338X', '0842370668', '0843947888', '0849995892', '0871890917', '087605534X', '0877790426', '087784870X', '0887621112', '0890814082', '0890876517', '0890876967', '0897330536', '0898155843', '0898157803', '0898793912', '0898794080', '0898794544', '0898796601', '089879661X', '0898797055', '0912452161', '0932592007', '0964420805', '0965035214', '0967201519', '1400060265', '1559586893', '1562923668', '1564403963', '1565075722', '1568380593', '156865037X', '1572302399', '1572304510', '1576733343', '1576739597', '1581690606', '1852303468', '1930285000', '8251800811', '0373765541', '009977920X', '0864425767', '031215125X', '0590629786', '0590629794', '0590629808', '0590629816', '0312242026', '0316666343', '0345444892', '0399149821', '051509272X', '0553579134', '0671027360', '0849908647', '3150087201', '3442729785', '0380718340', '0440226414', '0553292722', '0553571885', '0684855518', '0446609749', '0553572997', '0330312367', '3423101776', '3596200261', '0785264280', '014038572X', '006008216X', '0140318720', '0140620257', '014200281X', '0304359416', '0312113420', '0312979533', '0340565276', '0340745983', '0345330129', '038067470X', '0399128158', '0440213320', '0449907635', '0451162218', '0451459393', '0517119250', '0552142379', '0552149209', '0582528232', '0670808393', '0671020560', '0752524593', '0752853694', '0789477831', '0789477858', '0810945797', '0810946122', '0831759267', '0882668099', '0907849741', '1558745718', '1740595904', '1903919134', '1903919142', '2723426890', '382289642X', '8493127817', '9041001557', '9057121379', '9068340344', '9070415011', '1588515893', '0812520165', '8432221783', '0385482388', '0553148001', '0446609781', '0192823523', '0385492103', '1400030382', '2221090810', '9724115380', '9727474799', '345302611X', '3453042476', '3473306991', '0358159521888', '0525946241', '0553272586', '0767904311', '0895261901', '0312289723', '0316603570', '0316693200', '0345452577', '0345452593', '0385336322', '0385336357', '0385508042', '0385510438', '039915180X', '0399151877', '0446530891', '0446613843', '0515133302', '0517162768', '055308576X', '0553801589', '0553803409', '0671886665', '0684835983', '0739442309', '0743206045', '0785275967', '1558744150', '0340657987', '0316777722', '0374516812', '0375707166', '0679439382', '0679723161', '0688178456', '0805048782', '0064400557', '1550544683', '0452268060', '0679734775', '0316601950', '034543739X', '0911913009', '0553587196', '0743482077', '3404149114', '0970172605', '0345392825', '0345435168', '0553211803', '0345318587', '1582790671', '0140043519', '0140274286', '0571212018', '0751310158', '0751360007', '0863189113', '0879052473', '0934802904', '1858286018', '0061053775', '0312971400', '0312986769', '0312995431', '044667883X', '0525937021', '0006551238', '0007651864', '0099675404', '0385305893', '0590558021', '0671741403', '0803701225', '0553583956', '1885403003', '0142004235', '0446301582', '0446608262', '0091879434', '0091894158', '056353821', '0715309404', '0312202318', '8401463017', '8401499585', '8408039369', '8478884661', '0425125467', '0553263226', '0671026704', '0812579402', '0340769181', '0375707972', '0312421273', '0679771476', '8755900623', '8787498782', '8807701375', '0688150772', '0618002219', '0671025368', '0028604199', '0140340203', '0312167792', '0312290659', '0786890436', '1400031346', '1400031354', '1588720756', '3423124199', '3423125756', '0312857322', '0374184232', '0380005166', '0380018179', '0385472943', '0399132414', '0671000306', '0671000314', '0671026682', '0671795740', '0553245694', '0552994421', '0552994928', '030702024X', '0307605701', '0345335058', '0345346777', '034539657X', '0380001799', '0380707837', '0380731851', '0425071014', '0425107507', '0425142485', '0425147363', '042516098X', '0440211727', '0440214041', '0440430712', '0446794031', '0448027011', '0449200256', '044921852X', '0451085108', '0451162145', '0553235354', '0553297260', '0553579754', '0590088203', '0671416367', '0671823035', '0812543262', '082173766X', '0375406328', '0452277337', '0451210980', '067976397X', '0679745580', '0451622898', '0743225406', '0771060548', '1882943155', '2070360016', '2253006629', '051510566X', '052594544X', '0743206061', '0764222171', '087542127X', '0886777011', '3453007867', '2070541886', '2253054615', '225309031X', '0747546290', '2070381803', '2070425525', '2253016950', '2253057649', '2266000489', '229031465X', '0060096209', '3423128178', '432530757', '0446607657', '0449208281', '0395680905', '0316769487', '0425171396', '0399145850', '0061015725', '0312983395', '0425192032', '0446611638', '0451208765', '0451210840', '0451210867', '0451210875', '0553582763', '0140058494', '0140512276', '0330344927', '0449911160', '0553282980', '0671755056', '0812967224', '1573227889', '1853752797', '3499100045', '3821805897', '3937793003', '089296751X', '1551663058', '0061031070', '0449005615', '0553381520', '345308201X', '3453171861', '3453198875', '0451167783', '0440217520', '074324523', '0743469984', '743411447', '185326086X', '0061031550', '0316117064', '0345339681', '0345377443', '0375760245', '0385491328', '0440235162', '0452279844', '0553213997', '0553298240', '0609806564', '0679416498', '0871137240', '0880482605', '0887307876', '0929634063', '1551660717', '1585360384', '0553576194', '0843950366', '881715010X', '0385484518', '0553211404', '0385502532', '0553272535', '3423125659', '0451524462', '0061097314', '0425173739', '0380778556', '0440802911', '0440407524', '0440967694', '0064406601', '0440228441', '0590684841', '0380750260', '0553210793', '0142001740', '0345443284', '0425173755', '0689843186', '0140345353', '0141310073', '0060931396', '0140118993', '0809015803', '014032724X', '8496200752', '9723706148', '9728608225', '9728609187', '8845913104', '1410749029', '0395977894', '042518336X', '0553575538', '0767903579', '0425126064', '0373152604', '0380710056', '0450586235', '0451204492', '0505522004', '0671759361', '0743438035', '0843943289', '088396631', '1557734569', '3350071300', '0380789019', '1558744606', '0064440044', '0140239820', '0330484338', '0446672211', '0446675059', '0525446044', '0525458417', '0671876295', '0679427430', '0803717377', '0894716174', '089480751X', '0962756245', '0440226430', '006019491X', '0896592413', '0399138250', '0452284937', '0452269571', '0671510053', '0766607216', '0451206460', '0394868161', '0394909674', '0439104645', '0345384377', '0440225701', '0446609943', '0451171071', '0553580191', '0553582917', '0061093947', '0226848639', '0385492081', '0446754552', '0684173182', '091988802X', '0374266441', '0374524653', '0375410287', '0380978210', '0385301499', '0394572068', '0449908186', '0553057014', '0670843105', '0679751602', '0679764925', '0679770151', '0767915062', '0804105820', '0812928318', '0892963883', '0937247065', '0937247502', '1573220310', '0373292341', '0373440421', '0380757311', '0380782782', '0425191001', '0440217628', '0446302538', '0449209148', '0451198948', '0451404645', '0451408373', '0451408659', '0505523035', '0515129968', '0553561537', '0804117586', '0821724479', '0821742167', '0843932430', '1551665522', '0590461249', '0060934417', '0316168815', '0316785261', '0345468694', '0452283205', '0452283868', '0684848406', '0743225325', '0743237188', '0380723573', '0451184734', '0743437802', '0006531156', '0312974256', '0312980353', '0312983301', '0375759689', '0380785218', '0446610550', '0451203771', '0451210611', '0515121843', '051512317X', '0515124214', '0515134384', '0515136263', '0515136379', '0515136530', '0515137111', '080505801X', '1865156035', '1869433637', '0803251246', '0140096922', '0375507876', '0500976147', '0500976236', '0970559100', '3822800740', '8085794551', '0446529788', '0553802542', '0688179088', '0743204697', '0767905385', '1551668904', '0028638670', '0771590113', '0307101711', '0062701649', '0312312873', '0316789089', '0374190666', '0395900239', '0399141464', '0399145087', '0446392251', '0446526126', '044840124X', '0486285537', '0517705869', '0525462325', '0671240862', '0679457526', '0684808943', '0684874350', '0688151981', '0743204735', '0761107363', '0785263950', '0786867434', '0786881852', '0937921556', '096665370X', '1888387408', '0446527785', '0440216818', '0896083535', '0312964919', '0425147711', '0446401064', '0451206274', '0553283960', '0743420373', '1853260282', '0345386108', '0446611778', '0515087491', '0515101486', '0515104175', '1593080549', '1593081017', '780451524201', '157174259X', '1558745157', '0486280500', '0855642440', '0002240114', '0679440526', '0771074549', '067976402X', '0671672878', '034543479X', '0374480095', '0446670251', '0804115761', '0821766570', '1551669110', '0061056200', '0099908506', '0140134212', '9025414532', '9027472718', '0575073047', '0771087004', '0878571140', '0930345037', '093393114X', '0060196300', '0671002384', '0671002406', '0671004247', '0671006754', '1558747281', '0375757597', '0060008350', '0060572965', '0061020028', '0061031410', '0061094129', '0312983433', '0345440064', '0345545571', '0380820889', '038533558X', '0399142649', '0440221048', '0446527041', '0446531588', '0446610607', '0446612510', '0449006522', '0449219364', '0449221512', '0449227545', '0451179153', '0451179897', '0451188950', '0451202473', '0451204301', '0451206525', '0515125490', '0515129038', '0515130389', '0515135968', '0553582364', '0671001795', '0671658301', '0671891537', '0684810387', '068815333X', '0743417836', '0786889667', '0805060251', '0812528042', '1551667517', '1551669625', '7099300799', '7100100699', '7100100750', '7678300699', '780446525800', '0805044272', '0875847706', '1857235460', '0061092800', '0525942998', '0553564528', '0316569321', '0060501804', '0752837168', '1842322753', '8804520612', '880452431', '8817113204', '8830414824', '8838431345', '8844011611', '8845907341', '8855203292', '8877822171', '8885008836', '88O6166255', '0812571991', '0553813021', '0452281253', '0091881048', '0283073381', '0712623930', '0725107251', '1853064408', '1882663128', '0062737465', '0099244527', '0201354705', '044900371X', '0374270325', '0425076695', '0761128093', '0553210416', '8804484101', '0307126293', '0425144062', '0451160916', '0812549287', '0140244824', '0446605239', '0671870998', '0375412123', '0385472951', '0440236665', '0515118230', '044661162X', '0375727345', '8804491523', '0060958022', '0060002492', '0061057894', '0140067647', '0140350144', '0310239826', '0312088027', '0345257596', '0345274695', '0345331044', '0345337662', '0373079001', '037308935X', '0373089376', '0373115377', '0373115431', '0374475067', '0380429780', '0380600129', '0380708655', '0425065553', '0425189082', '0425194876', '0440111188', '0440844444', '0440940001', '0441094880', '0446606812', '0449209830', '0449702634', '0515094978', '055325698X', '0553287532', '0590434160', '0670894508', '0671434225', '0671525808', '0671745093', '0684846675', '0802400086', '0804106304', '0812533518', '0825428688', '0842339337', '0842354220', '0879050470', '088419597X', '0895774011', '0899669492', '1556611536', '1558745017', '1576739562', '1582293031', '373219350', '373219377', '373219407', '373219415', '37321944X', '373219458', '325722575X', '0590939882', '0671010123', '0330241117', '006107635X', '0743427033', '0385318073', '044022425X', '0312870582', '059035342X', '0671227718', '0747530386', '0749395699', '0380817144', '0374527075', '0399139087', '0440324386', '0425174360', '0060198346', '0142000205', '0671038230', '0156005891', '0316171565', '0373218192', '0373223218', '0373244487', '0373272898', '037327291X', '0373290861', '0373441762', '0373441851', '0373484003', '0373762380', '0440122090', '044022103X', '0440223571', '0446603589', '0451180348', '0515124621', '0553574477', '0590424939', '0590424971', '0590433474', '0590433865', '0590436414', '0590436597', '0590437216', '0590439006', '0590448331', '0590456490', '0590523562', '0670877514', '0671644459', '0671644475', '0689800975', '0743410181', '0778320022', '0778320065', '0778320286', '0821714600', '0821715402', '0821774638', '082177574X', '1551660679', '1551661586', '1551664992', '1551665220', '1551665344', '1551666960', '1551667487', '1557485534', '0020532105', '0060926317', '0060958014', '0140280553', '0156007819', '0156011042', '0345423135', '0375705619', '0385334923', '0385498802', '0440212723', '0451209907', '051512219X', '0671683993', '0688177859', '0802139256', '0553574671', '0849937531', '0553268937', '014025448X', '0312252617', '0316102121', '0385316925', '0385319568', '0385324057', '0385334710', '0385497466', '0399145060', '0399148019', '0446527017', '0446527130', '0553104039', '0553104047', '0553104136', '0671510126', '0671786458', '068815090X', '0743206029', '0743412761', '1401030270', '8420634158', '0766607615', '0425191028', '0060168862', '014011291X', '0345392698', '0452267455', '0883680661', '0060977493', '0140039589', '014017513X', '0224060198', '0349101779', '0446672661', '0863695930', '1865080012', '0671003755', '0316031038', '0316031046', '0316031054', '0316779032', '0316779075', '0440216745', '0446613436', '0553582755', '0671027123', '0671027441', '0722535562', '074341702X', '0743460529', '0840776381', '0871236447', '0871237954', '0874776929', '1556611188', '1556612257', '155661246X', '1576738469', '1589196635', '1840386762', '1889613010', '0156711427', '0375725784', '0800714083', '3423205903', '0618129030', '080506723X', '3257009100', '3453092880', '3492004717', '3492028969', '3596237874', '044020562X', '0345455916', '1565611489', '0062720732', '0316926078', '0440241162', '0897333659', '0060194596', '0060974788', '0449912302', '0451153553', '0451170385', '0880299428', '0451163494', '0689821085', '0373218036', '8466303316', '0679435549', '0590553232', '1567184693', '0743418719', '0345447832', '2070495027', '0375410848', '0432534220', '006091291X', '0140055932', '0140309578', '0385319959', '0399146431', '0425181618', '0679445315', '0691017840', '1573221775', '1551667525', '0312202911', '0898861411', '0312275420', '0771099894', '0061099813', '0140444173', '0312009941', '0345334531', '0394484479', '0425185001', '051513287X', '1583226443', '1577780728', '0025173251', '0028620585', '0028629299', '0060111011', '0060163704', '0060551895', '006091646X', '0062502123', '0140167153', '0312265859', '0312965338', '0375504044', '0385266359', '0439064872', '0439136369', '0439139600', '0440057574', '0446378445', '0446517097', '0446977551', '0517060205', '0671016768', '0688041140', '0688111289', '0761522212', '0762721979', '0786868414', '0802100155', '0814450598', '0842304673', '087795979X', '0884270610', '1567310028', '1853263214', '0064407462', '0878332170', '0312957866', '0671868691', '0816730091', '0060530103', '0471214205', '0786886323', '0752826883', '0375409440', '0380730847', '0385313667', '0399147195', '0425182908', '044661257X', '0553569058', '0688152449', '080410753X', '1853260339', '0732257476', '3426600218', '8879831607', '0446608831', '0446610542', '0679308806', '0006542808', '0060392185', '0140367209', '0140546499', '0146000579', '0146000706', '0146000994', '0146001109', '0192816071', '0307022196', '0310912520', '0312850131', '0312860862', '0312923651', '0312970234', '0321096983', '0345300742', '0345318617', '0345334590', '0345352459', '0345369335', '0345431464', '037302973X', '0373071388', '0373074646', '0373106939', '0373110138', '0373112572', '0373117868', '0373122772', '0373167318', '0373708335', '037383375X', '0375756817', '0380710870', '038097391X', '0385320329', '0394800168', '0394820371', '0395681863', '0399122400', '0399134883', '0425048543', '042513525X', '0425140032', '0425178102', '042518630X', '0439040825', '0440139791', '0440184622', '0440206561', '0440207622', '0440479002', '044056753X', '0440800129', '0440920833', '0441116183', '0441470734', '0445205636', '0446520608', '0446603368', '0449210324', '0451136683', '0451173392', '0515131229', '051788710X', '0553131834', '0553201344', '0553202790', '0553271571', '0553282700', '0553297988', '0553299352', '0553565605', '0590117653', '0590413848', '059046244X', '0590466178', '059088008X', '0671017128', '0671019961', '0671502522', '0671556843', '067160550X', '0671655450', '0671663755', '0671721623', '0671775715', '0684174707', '0684832860', '0684835614', '0689828896', '0786862572', '0800786092', '0812055721', '0812502076', '0812504321', '0812508084', '0812511840', '0812523466', '0812531558', '0812533232', '0812543181', '0821713655', '0821726595', '0848706978', '0865926433', '0871318156', '0880380845', '088184781X', '0886775981', '0890817596', '0898151899', '155882068X', '1569751544', '1570423008', '0060935464', '0385475721', '8817106054', '8817853712', '8845907244', '9722216333', '9729750734', '9729801320', '3453146972', '0671723316', '0743418190', '0312978340', '0425178781', '0743930142', '0761519858', '1568846010', '1576904423', '0688149596', '0064401324', '0451409736', '050552502X', '0843949090', '0440217466', '0446679593', '0575068620', '0060185147', '0380788683', '0553578693', '0553577867', '01420.01740', '0826308252', '0316158720', '0425167720', '1853264083', '0152413588', '0316693251', '0385306148', '0312955006', '0425137937', '0440225590', '0515124060', '0553565095', '0786889152', '020140964X', '0805035842', '0446518581', '031284879X', '0684802899', '0749800424', '0803703724', '0887140963', '0894713477', '1561383074', '1568659040', '1571741097', '1879678012', '1558532315', '038079943X', '0425178765', '0425182878', '0440221595', '0446610038', '0449003787', '0449219461', '0553213180', '0553269216', '0770422071', '0553106686', '0874778883', '0965060495', '0965589444', '0965693015', '0060937742', '1931561648', '0553096834', '0679434488', '1576734218', '0425131327', '0440200989', '1887166092', '0028630343', '0345339703', '0673397394', '0425129586', '044041833X', '0590660543', '0345388879', '0385471181', '0553573616', '0679768203', '0684829746', '0140292683', '0140293450', '0330375253', '0345423097', '0385730586', '0439201632', '0439312280', '0446314854', '0752837613', '0671028375', '0446612545', '185813501X', '320375536X', '3257233086', '3492223710', '3548250459', '380520406X', '8873122933', '0060976683', '0140069623', '0446343439', '0446400009', '0449219399', '0679750533', '8420646032', '0061044725', '0061063746', '0140277471', '0141001976', '0226848620', '0312957785', '0312980140', '0312983298', '0312983867', '0312990456', '0312991460', '0345348176', '0345350499', '0425163717', '0425190927', '0425191583', '0425193772', '0441478123', '0449003183', '0449206874', '0449217213', '0449223558', '0451202503', '0515136557', '055327239X', '0671877445', '0743406583', '0743480562', '0765344513', '0804109818', '1400034779', '157566254X', '1890208442', '0440224624', '0553575090', '0786889187', '8887775206', '0130454699', '1401300057', '0767902890', '034073356X', '0340733578', '0062700227', '0525449922', '3453862732', '0688165664', '1550390961', '0060160713', '0060987561', '014028009X', '0140296298', '0141312378', '0201095696', '0316096199', '0316899984', '0375703063', '0385512147', '0393045900', '0425178900', '0439324599', '0440514428', '0449907481', '0451163524', '0451408535', '0452273749', '0452283221', '0515123536', '0515131083', '0553278355', '0553570870', '059099459X', '0671028014', '0671038184', '0671735594', '0679425268', '0684814994', '0684837986', '0684873796', '0688162827', '0688170528', '0743225082', '0843928395', '1562477544', '1882723007', '1885840055', '1896095186', '0375507299', '202005986x', '202054296X', '2020555549', '2020581167', '2070377229', '2253170313', '2264035894', '2877304892', '0553151967', '0765342294', '1550741055', '1550741195', '0060959037', '0449225208', '0451182391', '0515109509', '1576731235', '0862321107', '0380820145', '0345330293', '0061095052', '0440223202', '044023574X', '0451182014', '8408022938', '8408044079', '8422642999', '8423322912', '8440644965', '8440662394', '8466307125', '8497593197', '3442093406', '0679309519', '2841160297', '9782253172109', '0375704965', '0446364495', '0425182215', '042518692X', '0451197674', '0451410017', '0451410785', '0515132039', '0553578227', '074341022X', '0553381903', '0670528951', '0446404136', '0192818252', '359625180X', '3894376163', '3596109744', '0679735909', '0786867647', '1865085537', '0446609404', '097162397X', '0440402255', '0945575009', '0399147772', '3511749116', '0553574078', '0312186681', '0140270590', '0345457374', '0553578316', '1583225366', '3442421357', '0552995061', '0553408453', '0860680649', '0399146164', '0316284955', '0786868015', '0312995423', '0007139918', '0449223612', '0064405788', '0743400526', '0399135790', '0771037163', '0671014188', '0671014196', '0449205193', '155874262X', '1558747109', '0385260075', '0435120425', '0440211263', '0553274503', '0590045296', '0679412956', '0689818904', '0743525493', '082301200X', '0865732027', '0865732132', '1561580880', '0345387651', '1892597020', '0060809833', '0380698439', '0380865610', '0439050006', '0440486599', '067161746X', '0767907566', '0789721260', '0843106743', '0884159221', '0894803700', '0912333022', '0914511211', '1558531025', '1569661057', '1885071213', '0449907597', '0316184152', '0425163393', '0553275739', '0553579606', '0002005018', '074322678X', '0887841740', '1552041778', '1567407781', '1575663937', '1881320189', '0452264464', '8477024456', '1879384493', '0061076031', '0439095026', '0689821166', '0345402871', '0425099148', '0553264990', '0891075275', '0891076182', '0375759778', '3404921038', '0060168013', '0553582909', '0671888587', '0553582747', '0060914068', '0156047624', '0245542957', '0380715899', '0671623249', '0679865691', '2070423204', '0394743741', '0617683993', '0676973655', '1853260053', '1414035004', '0060938412', '0394895894', '0375410538', '0966986105', '087113375X', '0340767936', '0060930365', '0071416331', '0375509038', '0553062042', '8445071408', '8445071769', '8445071777', '0671867156', '0312261594', '0316748641', '0385235941', '0446677450', '0553347594', '0671621009', '8472238822', '0671864769', '0671521519', '0440222303', '0312953453', '0446608653', '0446612618', '0451208080', '0553584383', '0812575954', '0679429220', '0316735736', '0345372700', '0771024894', '0840734530', '8573022876', '8573024771', '9722322702', '9727110843', '9727114962', '9728579225', '0451205197', '0061099325', '0446601640', '1900850303', '0451410319', '9044601695', '100940/86', '127420/98', '13440/86', '1351394403', '140274871', '15019/87', '16560/87', '16785/87', '18128/87', '18678/87', '19973/88', '203671/03', '2070567842', '23950/88', '30623/89', '36388/90', '40052/90', '40614/2098', '71837/93', '75666/95', '77556/94', '80651/94', '8401422825', '8440630794', '847223973X', '8476409419', '8497890663', '8585362693', '8585443464', '9714511081', '9721028800', '9721033561', '9721035130', '9722013831', '9722020242', '9722105507', '9722113747', '9722319914', '9722330950', '9722902628', '972370403X', '9723706504', '9724114384', '9724128725', '9724129411', '9724131009', '9724502023', '9724508552', '9724509524', '97245146089', '9726080630', '9726081327', '9726081378', '9726081424', '9726101034', '9726593855', '9726653525', '9726991366', '9726993474', '9727100112', '9727110541', '9728305729', '9728313039', '9728440006', '9728440030', '9728440057', '9728440138', '9728440170', '9728440200', '9728440324', '9728440383', '9728440405', '9728440456', '9728440642', '9728440693', '9728440804', '9728487002', '9728487142', '9728487150', '9728487266', '9728487304', '9728487355', '9728487576', '9728487606', '9728487614', '9728515227', '9729720495', '972975831X', '9729817715', '9729852405', '9748440537', '0002740230', '0140252800', '0060801263', '0061030147', '0140250964', '1880539365$9.', '0446527165', '0671461494', '0385337639', '039575514X', '0451206673', '0007123817', '0486284735', '0671021745', '0671047612', '0671504282', '9511173758', '0553278223', '3150000335', '3257202083', '3257203136', '3257203659', '3257207522', '3257208626', '3257208634', '3257208640', '3257208650', '3257208669', '3257210450', '3257212054', '3257212429', '3257214154', '3257216416', '3257233051', '342311360X', '3423114185', '3451040395', '3453212150', '3492045642', '3498020862', '3499110695', '3499151502', '349917281X', '3518370324', '3548254268', '3570300099', '3596221269', '3596292646', '3928812343', '393463849X', '0060915544', '0140272100', '0375400117', '0385316895', '0385720106', '0425163407', '0446364800', '0446606383', '0553580388', '0786863986', '0803251718', '0060987103', '0151008116', '0525947647', '0804111359', '0435272683', '0349109117', '0060502320', '0060934700', '0060976977', '0064471047', '0066238501', '0312863934', '0373033605', '0373162669', '0373226063', '0373226144', '0373243944', '0373243979', '0373709889', '0373810431', '0373810601', '0373834446', '0373834489', '0373836023', '0375756469', '037582345X', '0375823468', '0380730448', '0380789035', '0380810492', '0380817845', '0380973634', '0380973650', '0380973839', '0380977281', '038097827X', '0439064864', '0439136350', '0439139597', '0446341932', '0451167317', '0451406176', '0451409256', '0451524934', '0451526341', '0553263633', '0553280325', '0590353403', '0618002227', '0679879242', '0681415207', '1556520743', '156389226X', '1563895730', '1567310877', '156971620X', '1931081727', '0440235502', '1573225487', '1853260673', '8700236403', '0060977477', '0520011171', '0670856045', '0872200760', '0671649949', '0590431110', '0064470113', '0553571486', '0972044205', '0312963009', '0345430476', '0380728729', '038081840X', '055329198X', '0671018930', '0812541642', '0312988699', '8483007010', '0385313748', '0671440276', '1575843366', '0684193957', '0380730138', '014062032X', '1573228737', '9681500555', '0452283914', '067153484X', '0380728273', '8433914545', '8484509141', '0446606197', '0575064706', '0671643290', '0773756183', '140102505X', '0062770500', '0671847546', '667241688', '0380815923', '0385416342', '0425098109', '0517577402', '0712695230', '0743411269', '0891091963', '1880185008', '0198320264', '0373196989', '0451527747', '0812504208', '1590071212', '0060973897', '006101351X', '0140104682', '039456894X', '0449002632', '0449213773', '0452279690', '0679725393', '0802114369', '0819154946', '0897322339', '0940322978', '1573225126', '1579651658', '1878424319', '8427007450', '8429725792', '8432295914', '8473861345', '8474103347', '847592543X', '8475960650', '8475960936', '8476021550', '8476021569', '8476021844', '8477270120', '8477397856', '8478092943', '8478098267', '8478884963', '8483002523', '8483008505', '8486433193', '8486433673', '8742977932', '0600586898', '1857938011', '8495971909', '0312283784', '0553582682', '0590947257', '0801491827', '1561561428', '0553210092', '0553258524', '0316314927', '0375414746', '0425156842', '0805063897', '0679777431', '0553285343', '0486285529', '0385495145', '0842329129', '0393321576', '0743424425', '0446610178', '0684854953', '0385337132', '0440235057', '0618119760', '0871138646', '0026329859', '0060925000', '0060932759', '0061000280', '0393048977', '039914739X', '0451523318', '0486281965', '0553145460', '0684824442', '081296666X', '1877727083', '0486206173', '0312278586', '8807170698', '8838916489', '8845229041', '887641486X', '9770390107900', '0140370900', '0030096189', '0312965745', '0345374657', '0395710901', '080521061X', '0865732787', '0679310002', '0312288115', '0515118656', '1561672033', '0425178242', '0451202341', '0345441133', '0385335407', '0385490992', '0486272664', '0945586051', '0590419625', '0451195663', '055356451X', '0743412621', '0849943450', '084994371X', '0140179836', '0345348656', '0373076746', '0385483724', '0385496095', '0395798671', '0439099404', '0440241006', '0440508827', '0515131679', '068484267X', '0805009086', '0809244942', '0892819774', '1558743669', '006017143X', '0345313860', '0385306032', '038549825X', '042517736X', '0553202294', '0671868713', '0679401377', '0805056491', '0816152446', '1562827049', '0020427859', '0060558865', '0140230165', '0312312628', '0345369068', '034546074X', '0375815147', '0425115844', '0425168948', '0451184718', '0553294849', '0553297341', '0553571842', '055357695X', '0553580523', '0553583441', '0553583468', '0590021117', '0679893105', '0689710879', '0689710887', '0689710895', '0689711522', '0743260244', '0743444523', '0767912918', '0812533534', '0821772953', '0898153778', '0936034025', '1557733856', '1557734909', '0385335679', '0671525832', '0553279572', '0516076272', '0679450432', '0821775863', '0670855758', '8845901777', '0446364193', '0061042943', '0312206763', '0385314019', '0399144463', '0618231617', '0743444167', '0965044192', '0140185216', '0425174484', '0486272745', '0684717255', '0787955671', '8807120194', '0062507249', '0060083298', '0140293248', '0446610399', '0807070718', '1576737357', '0345305477', '0671808672', '0743213831', '8804367482', '0020867409', '0062517856', '015600710X', '0316735027', '193156146X', '0140021566', '0449245691', '8447802701', '9870205656', '2070334368', '2070384349', '2070417743', '207053880X', '2253004022', '2253007102', '2266029460', '2266033689', '2266084372', '2877060527', '3423105410', '3423202033', '3426760207', '3466110564', '3492207006', '3725410127', '3442724686', '3596144434', '3890827462', '0060164662', '0060191929', '0140107649', '0140128107', '0151000719', '0151001006', '0316603287', '0316693006', '0316779423', '0316779490', '0316969443', '0345339711', '0345428900', '0375400699', '0380978539', '0385420161', '0385470819', '0385500769', '0385505833', '0394574745', '0399148582', '0425184129', '0446523569', '0446525502', '0446525537', '0446527793', '0446531332', '0525943862', '052594463X', '0609605925', '0609606727', '0671042556', '0679410430', '0679419624', '0679442790', '0679603352', '067972768X', '0679732241', '0679746048', '0684874318', '0688180639', '0743230051', '0842336214', '1558747028', '1558747346', '1570717257', '0451176812', '0394551427', '0446602086', '0718144538', '0006510345', '0007100221', '0061092606', '0099449943', '0140292918', '0140366660', '0140366857', '0140482202', '0140622063', '0198604025', '0261102214', '0349102155', '0416196772', '0552771090', '057120354X', '0571209521', '0671894455', '0743222229', '0743462335', '0747538069', '0749391308', '0749396067', '0752804510', '0753507579', '0753807327', '0890877564', '0947782230', '1405200677', '1405401184', '1841150355', '1841950521', '1841952931', '1842040405', '1853260002', '185479549X', '1854795554', '1858813093', '190178424X', '2020315491', '2070322068', '2070375617', '2070393577', '2229137939', '2253000868', '2253001457', '2253002895', '2253006866', '2253037796', '2253043974', '2253046922', '2253049417', '2253051381', '2253140872', '2253148539', '2253170127', '2253170372', '2253170569', '2253171077', '2702418112', '2737329787', '2742722771', '2857043821', '2868696945', '2871290911', '2876915618', '2876916193', '2909051196', '0375501347', '0060927240', '0060006048', '0060934719', '0307215342', '0312287240', '0345370740', '0345403339', '0374343381', '0374386676', '0380788497', '0425049981', '0440219604', '0440226694', '0446300101', '0451456548', '0553574159', '0553574167', '0553574175', '0553579673', '0679801146', '0786886463', '0786889160', '0962893862', '156341029X', '1563411148', '1563899388', '1886383421', '1888451084', '038529929X', '0767903285', '0345418778', '0316875961', '0552996092', '0517201658', '039914370X', '0743211383', '0312977905', '0451205421', '0812521331', '1884777805', '0894342789', '8806142267', '0394559487', '039457513X', '0670844594', '0804001944', '0060535032', '0064405052', '0064409457', '0152162445', '015216250X', '0152162577', '0345391802', '0439042917', '043922165X', '0439221676', '0439221684', '0439221706', '0439221714', '0439221730', '0440219078', '0440415993', '0590129015', '0590183729', '0590897985', '0689829698', '0689832877', '1562477528', '158852038', '9780590962735', '9781562477547', '0330367358', '3257201761', '3404118960', '349913358X', '3784419445', '0753804700', '0451155750', '0884111342', '0671694049', '0373250339', '0380820447', '0385497679', '0451454243', '067175145X', '0380538504', '038533334X', '0440120470', '0440222818', '0440224829', '0449001954', '0449131548', '0451185277', '0515134368', '0671779338', '1551660016', '1558505377', '0130139165', '0140065172', '0373036582', '0373037449', '0373196725', '0373196741', '0381999866', '0393030342', '044132231X', '0450029956', '0451524489', '0451526503', '0553256785', '0590514776', '07472668', '0786889705', '0425113892', '042512892X', '0425137945', '014036336X', '0812516826', '0679420118', '0741402858', '0741402912', '0741403056', '0741403471', '0741403781', '0741405784', '0741407213', '0741409690', '074141127X', '0741412740', '0759612277', '0871137380', '1585007366', '1588206769', '1594110119', '0553568760', '034538184X', '0140620109', '0140620125', '3499234246', '0671745530', '0553211412', '0805062971', '1573229385', '0945397410', '0060914653', '0345347536', '055321313X', '0060529709', '0140274154', '0375507256', '0375704027', '0876850867', '3473540420', '0590484753', '0874067391', '0449911004', '0975311255', '0553584510', '0345341201', '0060933771', '0060256672', '0060928336', '0140070206', '0140077022', '014016930X', '0140236589', '0140253602', '0316777730', '0375501851', '0375705228', '038001503X', '039592720X', '0440215625', '0553268449', '0679732764', '0684844729', '0810935627', '0877733759', '0911104542', '1566193966', '3499134446', '067142517X', '0345384466', '0451124340', '0671726889', '0099518015', '0152013369', '0425124819', '0440414717', '059044646', '0345409469', '0141001771', '0373250177', '0449005569', '0671027344', '0763615382', '0786884622', '0965975401', '8830415200', '8838423806', '0066211611', '0684819066', '0786927089', '0671578103', '3404203097', '3404203135', '3423009152', '3423620005', '3426074427', '3426616262', '3426701448', '3453046196', '3453137205', '3453147243', '3453171977', '3453177800', '3492229336', '3499237016', '3499425394', '3505044539', '3518371002', '3596133319', '3596142229', '3596505356', '3746611229', '3800025590', '3808536519', '3893850589', '3893852921', '3934254454', '0140042520', '0345358791', '0345375211', '034545829X', '0446677574', '0553574833', '0020418809', '0064401847', '0064402967', '0140440399', '0340188022', '0345334930', '0373218400', '0373484224', '0394557433', '0394743180', '039607412X', '0425179672', '0425195899', '0440215978', '0446344109', '0446895725', '0449230279', '0449700712', '0452265347', '051509465X', '0515135062', '0517556278', '0553205587', '0553247921', '0553250426', '0553258656', '0553280589', '0553290207', '0618260307', '067101420X', '0671641778', '8423995801', '0140266771', '0380002450', '0679723420', '0441004016', '0671500546', '0140620338', '0460878263', '3257061269', '3453088433', '3453199766', '3746670144', '0373057296', '0373058446', '0373092237', '0373257074', '0425137015', '0441001335', '0449212084', '0451450604', '0451454677', '0553572490', '0553576976', '000649840X', '0091880963', '009974371X', '0099771519', '0140431268', '014044503X', '0551030682', '0551031085', '0551032510', '0785268480', '0842329072', '0851707777', '1576832899', '1853261750', '067102535X', '0876855575', '0099422468', '0140272658', '3257250053', '340780573X', '3407805853', '3442432251', '349800878', '3785532237', '0140273980', '848966983X', '2070372294', '2264030542', '0029087104', '0030615321', '0226726770', '0312140940', '0345285549', '0345307674', '0345331605', '0385314744', '0394312066', '0425050750', '0439404371', '044100962X', '0451169530', '0553234811', '0553296981', '0553801031', '0671617028', '067163884X', '0679741011', '0766607119', '0939766027', '1895383129', '4491217967', '0385335482', '0553258001', '0375704043', '0805063889', '8586280070', '068986020X', '1573228567', '662257283', '0373084520', '0449217868', '0671573020', '2266026658', '2715224141', '0441003257', '0399149759', '0451181468', '0345384733', '0399146008', '0515132632', '1902879023', '0060930535', '0385473117', '1570362084', '0375702709', '044990928X', '0060916508', '000636988X', '0006642004', '0060562080', '0099254611', '0099385716', '0099427974', '009969221X', '0099755114', '0140562109', '0140563733', '0140620915', '0141182571', '0142000663', '0142300128', '0146003241', '0330258648', '0330306839', '0380012863', '0385600526', '0394404289', '0434971383', '0552106615', '0552107735', '0552108812', '055211804', '0552124753', '0552996009', '0552998001', '0552999504', '0552999512', '0575073004', '0575073314', '058242092X', '0586210687', '0613117905', '0679883878', '070121015X', '0722159676', '0744531500', '074603010X', '0749397543', '0749720182', '0749725028', '0752853007', '0805067868', '0811828379', '0861638522', '1578562333', '0345458915', '006092988X', '038531258X', '0140317937', '0749336501', '0553256696', '0785263780', '0802433243', '0375413081', '8422617226', '038533303X', '0451163753', '0786885688', '0345387007', '0671311891', '0671721038', '0671880187', '0771074719', '0802069347', '0895773538', '1558506454', '0375726403', '0472113658', '0553377868', '0609608444', '0767902521', '0892967048', '0915811332', '014131088X', '0345325818', '043909013X', '044023767X', '0884043142', '0312983212', '0553486411', '0865532168', '3478088534', '059040640X', '1566197155', '031227999X', '3404150406', '0385508417', '0718001044', '0812515722', '0848705459', '0061030651', '006109594X', '031298250X', '0425095584', '0425185710', '0451409086', '0553575619', '0671527215', '0486203077', '0671522817', '0618074716', '0151010102', '0385493800', '0553377876', '0671318314', '1400062888', '1558612815', '1931520038', '0061093092', '0061098361', '0070212570', '0174434642', '0312243022', '0312983824', '0345370805', '0375703055', '0385480016', '0394758285', '0440214424', '0446605891', '0446673544', '0449149676', '0451187903', '0451523067', '0671004565', '0679761837', '0679772677', '0743418174', '0446611239', '8481301132', '0486280616', '006101253X', '0380814021', '0380817683', '0440217806', '0446607835', '0451402103', '0671000381', '0671689231', '0671701053', '0743405978', '0061098795', '0373226519', '0465016146', '0791423549', '0380012774', '225313922X', '0060929596', '0373834985', '038533656X', '0440224675', '0679450548', '0743230213', '0802135196', '0375707425', '3453151933', '0231105592', '014056232X', '0440203155', '0440401119', '0812565959', '034536628X', '0425163385', '0553585118', '0880387483', '0373152655', '0451404033', '11238356', '8807840227', '0380773155', '3763500634', '0006513204', '0140621725', '014143984X', '0375726322', '0786889373', '1857988132', '2020291541', '2070360024', '2070360423', '2070364283', '2070375161', '2070412571', '2070415686', '2070417700', '2070426815', '2070513726', '2070544281', '2207245810', '2207250474', '2207251756', '2207252000', '2253001295', '2253004898', '2253005274', '2253009164', '2253051020', '2253152064', '2253152277', '2258036992', '2264027681', '2264028815', '2266022504', '2266085778', '2266120158', '2290305251', '2290307831', '2290314110', '2290331406', '2290337382', '2707318094', '2723407381', '2723407403', '2723407411', '2723409821', '273811167X', '287129478X', '2871294798', '0451522389', '034058269', '0425169324', '082176828X', '0316693324', '8420725927', '0140089586', '0330236504', '0345378490', '084813013290', '084845086330', '1559277785', '0205280854', '0312169655', '0312205872', '0345367898', '0345396529', '0385425686', '0393029190', '0440455332', '0449912558', '0553110721', '0553580272', '0609601628', '0670867144', '0679412271', '0679452281', '0785324712', '0803281730', '0805051732', '0811807150', '0934257345', '1558534245', '1560980087', '1860462995', '0770428797', '0385721358', '031231616X', '0894805770', '089480829X', '0971453217', '0553232053', '0062502174', '8508046642', '8511046019', '0345401123', '0345438329', '0688177751', '1593160127', '1593160151', '0451209435', '0618126988', '0060094850', '031219126X', '0872860175', '0446310492', '037348285X', '0812590244', '0963641328', '0060192119', '0836218256', '1574551108', '055357227X', '8807015293', '0689109865', '08846202260', '3518368540', '0141180633', '0773762078', '0786248688', '0749316853', '0753505592', '0753505657', '0753505703', '0753506262', '0786014210', '0061008028', '1888740051', '1931646384', '157566559X', '3423125551', '0060514949', '0066210151', '0375411992', '0425188361', '0060287802', '3423620196', '3442730066', '3453023471', '3828919383', '0743203313', '0345417623', '0425172554', '0425177173', '8817210412', '193072229X', '0380727501', '03990145990', '0312423799', '0316089745', '037542217X', '0345440773', '0061093106', '0440208912', '0515120006', '0515127396', '0684868911', '0345416260', '0345433084', '0385494785', '0385512104', '0451180208', '089587198X', '0525237704', '8422668947', '8432040592', '846630536X', '8489669597', '0060000805', '0060512822', '0060730552', '0061030015', '0061056871', '0140185844', '0140255087', '0142001430', '0142003581', '0151002290', '0151004137', '0156001314', '0156006332', '0224018256', '0312420366', '0316291161', '0316353299', '0330291610', '0330357808', '033036197X', '0330391763', '0330483013', '033390785X', '0345439481', '0345450515', '0375725296', '0380603764', '0385319452', '0385336403', '039914255X', '044652719X', '0451526988', '0451527569', '0531301427', '0553295071', '0590988301', '0595157939', '0606006133', '0606011773', '0618446877', '0671776134', '0676974562', '0702231088', '0743228480', '0743234413', '0743418735', '0743431014', '0746020120', '0747265097', '075350507X', '0812541979', '0881104086', '1400060648', '1585672939', '1585673625', '1592247865', '1841955469', '1860491235', '1876825251', '0062502182', '0060175400', '0345410998', '0374517886', '0375505547', '0380728249', '0385325126', '0385490615', '0394742591', '0399133143', '0451183665', '0486408760', '0517149257', '0517573822', '0570060265', '0618127453', '0671017586', '0671024248', '0679751343', '0684848783', '0684855631', '0684863324', '0802713815', '0812590236', '0844239461', '0850315336', '0875964125', '0877732906', '0887482570', '0913367176', '0929587227', '0933121245', '1558007725', '1569021074', '1893910245', '1932270329', '044022165X', '0451201558', '0891074759', '0061032077', '2253004243', '0679459626', '0812566629', '0816614024', '3518390473', '3596113350', '0553583085', '0671001701', '0782125557', '1555217532', '1892051001', '1587991039', '1587214768', '1857931467', '0140004424', '0380706725', '0380717085', '0440512158', '0767904281', '0451524829', '0751346853', '0465090974', '0877287384', '1931412677', '0670848549', '0345370775', '0006482058', '0425130215', '8420444782', '8433924710', '8489618844', '8497594886', '006017935X', '1558532161', '8879835181', '0060394447', '006093395X', '034540288X', '0345425707', '0345434692', '0374177023', '037541181X', '0425167313', '0451821971', '0553131893', '0553234609', '0553258540', '0802713661', '0440237688', '0679884394', '1566091446', '0552146161', '006105660X', '0374281602', '0446519960', '0609610597', '0671698419', '0140126716', '0156787334', '1569314195', 'O809463121', '0060908548', '0028606353', '0061030953', '0316182540', '0316919896', '0446355224', '0446604658', '0446611611', '0449212602', '0451147375', '0451178033', '0553282476', '0553299506', '0553343874', '0881845906', '0590634275', '0061031569', '3257228007', '0385511612', '0679426159', '0671020315', '067169071X', '1860469450', '0449214982', '0515090174', '0515095826', '0515111279', '3492232981', '0553580876', '0385475713', '0553280341', '0425045250', '0689825234', '0553375407', '0151006903', '0679744479', '1931561281', '8401466350', '1562477676', '0312983654', '0345454073', '0553561618', '0553582933', '0671034022', '0789414708', '006440630', '8804332247', '8804362979', '8804398124', '8845906876', '1740510305', '0060187271', '0060975547', '0131554255', '0312314256', '0312868308', '0312874006', '0316136778', '0345382544', '0345416880', '0385483503', '038548951X', '0385497288', '0393312801', '0445202718', '0451162463', '0553380958', '0590486101', '0679725164', '0679775471', '0812505166', '34501532095', '0786005998', '0385254520', '0515122491', '051512902X', '0515131091', '0552138223', '0812530314', '8401427177', '8420401153', '8484502112', '0060182792', '0393038440', '0446606723', '0679721819', '0737020121', '0375412972', '0679745645', '1569470901', '0449225151', '0590449737', '0765342405', '8408026933', '844062719X', '844507119X', '8466307982', '8493225061', '0767905180', '0060536705', '0061042005', '0061083275', '0061095869', '0312968256', '0316089699', '0345447840', '0373079621', '0373121601', '0373121709', '0373121857', '0373168438', '0373169299', '0373195036', '0373196636', '0373224818', '0373226934', '0373226950', '0373240228', '0373242328', '037325928X', '0373259840', '0373271867', '0373273193', '0373301529', '0373301537', '037330174X', '0373700474', '0373703023', '0373706200', '0373706545', '0373706901', '0373707959', '037370822X', '0373708300', '0373708319', '0373708351', '0373764146', '037383232X', '0373835426', '0373871864', '0373871945', '038076735X', '0380775840', '0380777304', '0425181111', '0440168724', '0440225868', '0446346438', '0446357405', '0446364762', '0446603082', '0451205189', '0451205650', '0451207963', '0505522969', '0505524333', '050552435X', '0515130419', '0517077744', '0553107232', '0553267159', '0553285947', '055329945X', '0553562746', '0553584898', '0671007696', '0671521446', '067179793X', '0689856644', '0743431367', '0743467191', '0821740121', '0821768107', '0828003882', '0843948078', '1551664348', '155166450X', '1551665794', '1551666200', '1551669404', '0380804670', '0671411535', '067164257X', '0440900581', '8807810360', '1860464289', '0140348107', '0884092119', '2253032832', '0060506679', '0375701427', '0553135457', '0803263724', '0380000830', '0380014300', '0812504364', '0895773570', '0007683022', '0340588721', '2253143790', '2280150131', '2743606789', '8806160427', '8879833103', '0553255142', '0060936363', '0312281250', '0345406516', '038082101X', '0385490461', '843760494X', '9500703203', '3426861550', '3453099613', '0312774842', '0312979479', '0375727566', '0671708635', '1579213405', '0399139125', '972747005X', '0099288850', '0099387913', '0553377884', '9679787834', '0061012289', '0425162788', '0609605623', '0451208811', '3404920910', '2070419878', '0070419361', '0312852487', '0345348109', '0345378482', '0375705090', '0385029551', '0394712447', '0525463313', '0671722727', '0684818868', '0717802418', '0762406984', '0765348438', '0765348446', '0778800229', '0786868716', '0804832463', '0812513738', '0812550706', '0871401185', '0890420254', '1882180887', '1929194196', '477001970X', '0207185905', '0330236474', '0340612843', '0670856258', '0733311733', '0855612819', '1869430727', '416158501', '0812515609', '3442424623', '3502517959', '0425122123', '0812530489', '0446326488', '0446609986', '080410882X', '0375726624', '0892882816', '1577487370', '0060922532', '0060951710', '0786864133', '006251119X', '0345380274', '0440224039', '0060928069', '0060931361', '0130289221', '0130647608', '0130891347', '0130957011', '0140125086', '0140260234', '0140261346', '0140289216', '0151104212', '0194315193', '0300087152', '0316441791', '0340697687', '0345333152', '0375757325', '0380810336', '0385722192', '0394743644', '0415167914', '0435240609', '044022330X', '0446391581', '0452266688', '0465021433', '0517084732', '0582037670', '0670031518', '067162248X', '0679430946', '0684866005', '068815252X', '0688164080', '0767913973', '078686351X', '0803959907', '0806957050', '0840339402', '0879804211', '0953309819', '0968246907', '1564146731', '1565115228', '1565840968', '157322829X', '1573922110', '1581820542', '1585420611', '185788292X', 'B0000DAPP1', '0099203502', '0440224659', '1841492086', '9724608152', '0330357190', '0413588106', '0671757059', '014021649', '0312267819', '0394830148', '0835902242', '087197195X', '1563521024', '0060175532', '0671023373', '0679748083', '0425175405', '0749930721', '1857990889', '9027479593', '8806138480', '0345298365', '1570422826', '0312874995', '880436033X', '8811667798', '8912667827', '0425185702', '8479048778', '3888972922', '8496246221', '0684862719', '8522405697', '852543010', '8528602931', '8532501192', '8570070063', '8585438010', '8585622032', '8586488046', '8526502654', '8485229606', '0552998338', '0571219764', '0385299842', '0486243451', '0713723076', '071411393X', '087226002X', '1555910408', '0380796090', '0399147357', '0440221420', '0446604666', '0451197879', '0671614460', '0684836491', '0684859262', '0688156126', '0740704532', '0836221974', '1552976246', '0316154067', '0345353145', '0449221482', '0515120863', '0553279912', '0553348973', '0671023616', '0752841890', '1855681870', '8590368130', '0446516538', '0060167084', '0151002231', '0226067114', '0312028784', '0380717972', '0385239068', '0393011224', '0415907411', '0453006892', '0472095978', '0525480374', '0525943730', '0802116825', '0802130259', '0807079200', '0812822625', '0841502439', '0846705672', '0877736510', '0878670319', '0890876096', '0896082172', '1555831753', '1560238763', '1565842103', '1895857058', '0060191988', '0062500287', '0062507567', '0062508482', '0062509594', '006251279X', '0062513346', '0062513982', '0140298479', '0140422226', '0345453549', '0345453557', '0385315287', '0385484100', '0425133656', '0440108268', '0440204321', '0446676489', '0451525353', '0525945040', '0553255959', '0553274384', '0553476580', '067084487X', '0671777351', '0694524638', '0743400720', '0786860642', '0806514094', '0809237601', '0809237628', '0811812006', '0821211226', '0874221501', '0912365579', '0915811898', '1561706213', '1561707236', '1561707244', '1563054671', '1577310454', '1577311868', '1880032627', '1882591275', '0007166311', '0030020786', '0060248025', '0060256664', '0060256737', '0060950536', '0061020419', '0061020427', '0061056278', '0061056286', '0061056294', '0061059773', '0099428385', '0133502813', '0140386645', '0142500135', '0192800493', '0201632721', '0312921098', '0316542377', '0316779059', '0345340426', '0375815260', '0380775123', '0399523308', '0441004997', '0451456718', '0451456734', '0451457781', '0451458028', '0451458508', '0451458990', '0451459423', '0452279089', '0471485527', '051513628X', '0553379534', '0553573136', '0595006035', '0595093019', '0671025554', '0671519751', '0671524313', '0671676253', '0688117619', '0688149790', '0688161162', '0698119509', '0716723980', '0716724022', '0764550039', '0765342987', '0765345048', '0786861320', '0786880007', '0812090381', '0812500865', '0812516850', '0812520157', '0812521358', '0812523040', '0812523679', '0812532554', '0812532597', '0812532619', '0812532635', '0812532961', '0812532988', '0812533313', '0812533577', '0812533658', '0812535219', '0812575717', '0836204387', '0836218787', '0836221362', '0874936225', '0875962432', '0880887575', '0882710583', '0886773776', '0886773784', '0886774004', '0886774012', '0886774144', '0886774543', '0886774632', '0886775035', '0886775043', '0886775167', '0886775205', '0886775493', '0886775639', '0886775876', '0886776120', '0886776589', '0886776619', '0886777127', '0886777151', '0886777208', '0886777550', '0886777593', '0886777739', '0886778603', '0889652066', '0895295458', '0895779129', '0912500522', '0912500867', '0920668372', '0965921506', '0965987302', '1556432151', '1558506438', '1559274581', '156305700X', '1841490490', '1891400495', '0140376410', '0452281296', '1573229326', '038072930X', '0060923717', '0151003394', '0316754315', '0345406036', '0671672576', '0679743243', '068483376X', '068484270X', '0345421825', '8817844330', '0373123086', '0380752123', '8877468912', '0380896931', '0971942315', '3455059554', '0553275860', '844140898X', '3423105518', '8845911411', '0380725398', '0590254715', '8401329329', '840309375', '8420443026', '8420465321', '8420483885', '843396951X', '8434845091', '8440616368', '8440675550', '8440682441', '8445073818', '8474448174', '8477021090', '8477021473', '8478886818', '8484500020', '8484509125', '0380470845', '0440162041', '0671739778', '0679770232', '0060955775', '0140259988', '014029645X', '0142003409', '0395629497', '0441225691', '0451451686', '0671577727', '0671721720', '0671875965', '0679723374', '0679745963', '068486780X', '0716744481', '0966543610', '0671010115', '0671004549', '0312422601', '0375509283', '0553565915', '0731806883', '055356160X', '0060987529', '0064472779', '0140022651', '0142302163', '0345260627', '0345283554', '0345283929', '034528710X', '0345314255', '0345317580', '0345335287', '0345362276', '0345375580', '0345423038', '0373614845', '0373614896', '037361490X', '0373619472', '0373619499', '0373619502', '0373638078', '0373638167', '0373642849', '0373642857', '0373642911', '037364292X', '0373765649', '037379116x', '0380570009', '038513097x', '0394553284', '0394563131', '0394707745', '0394843509', '042516540X', '0439176824', '0439222303', '0439240700', '0440920221', '0441000150', '0441000762', '0451077237', '0451137965', '0486270718', '051512463X', '0553073273', '0590109715', '0590109960', '0590213040', '0590448285', '0590448315', '0590448323', '059045367X', '059046678X', '059047054X', '0590629778', '0590879979', '0590880748', '0590880780', '0590956159', '0671001868', '0671038931', '0671529714', '0671532642', '067166865X', '0671695304', '0671751174', '0671802283', '0671803530', '0679023755', '0679805265', '0679811761', '0688047211', '068808527X', '0698119916', '0743486625', '0786807555', '0786814241', '0803298145']\n",
            "{'0155061224': 0, '052165615X': 1, '0521795028': 2, '3257224281': 3, '0600570967': 4, '038550120X': 5, '342310538': 6, '0060517794': 7, '0671537458': 8, '0679776818': 9, '0943066433': 10, '1885408226': 11, '0747558167': 12, '3596218098': 13, '0684867621': 14, '0451166892': 15, '8440682697': 16, '0380711524': 17, '3453092007': 18, '3453213025': 19, 'N3453124715': 20, '9057868059': 21, '0553572369': 22, '3499230933': 23, '3596151465': 24, '3442136644': 25, '8484330478': 26, '8484332039': 27, '2864322102': 28, '8437606322': 29, '8466300821': 30, '8478442588': 31, '0345443683': 32, '043935806X': 33, '055310666X': 34, '0330332775': 35, '0006379702': 36, '3442131340': 37, '3548603203': 38, '1562827898': 39, '0440498058': 40, '0395547032': 41, '0440414121': 42, '8879839993': 43, '8423996565': 44, '8426449476': 45, '8426449573': 46, '8478884831': 47, '8478885218': 48, '8478885463': 49, '8478886044': 50, '0091830893': 51, '0586207414': 52, '0812571029': 53, '0140260498': 54, '0060096195': 55, '0141310340': 56, '0142302198': 57, '0156006065': 58, '0375821813': 59, '038076041X': 60, '0439401399': 61, '0552546933': 62, '0689804458': 63, '0699854289': 64, '0786812508': 65, '0786817070': 66, '0805057706': 67, '1551925060': 68, '1573248533': 69, '000651118X': 70, '2253150711': 71, '0440225825': 72, '0345446860': 73, '3125785006': 74, '0380005239': 75, '3809407536': 76, '3257200552': 77, '3404145909': 78, '3404148576': 79, '3404921178': 80, '3423071516': 81, '3426029553': 82, '3426671298': 83, '344215121X': 84, '3442413508': 85, '3442422035': 86, '3442435773': 87, '3442437717': 88, '3442441080': 89, '3442444020': 90, '3442446414': 91, '3442448530': 92, '3442449820': 93, '3453137442': 94, '347354034X': 95, '3492231322': 96, '3499222213': 97, '3499228297': 98, '3499433443': 99, '3506464078': 100, '3551551677': 101, '3551551685': 102, '3551551693': 103, '3551551936': 104, '359621078X': 105, '3608932240': 106, '360893541X': 107, '3608935428': 108, '3608935436': 109, '3809024589': 110, '3821815191': 111, '3932069234': 112, '3462026062': 113, '0449217264': 114, '8420457477': 115, '8448034023': 116, '0671034944': 117, '074931012X': 118, '8439598459': 119, '0140252517': 120, '0517642689': 121, '077104450X': 122, '0789706032': 123, '0836218833': 124, '0836220889': 125, '088365721X': 126, '1559712252': 127, '1567616089': 128, '0141011904': 129, '3423201509': 130, '3423206616': 131, '344242529': 132, '3446200452': 133, '349223903X': 134, '3499231603': 135, '3704320196': 136, '3886807843': 137, '1569312435': 138, '1892213141': 139, '8530805461': 140, '3257218516': 141, '3404126343': 142, '3404139178': 143, '3404143299': 144, '340645724X': 145, '3426192543': 146, '3442443806': 147, '345309221X': 148, '3453108361': 149, '3453130901': 150, '3809410357': 151, '9026935722': 152, '0425167097': 153, '042518109X': 154, '0425188221': 155, '8500010452': 156, '8501023450': 157, '8571648972': 158, '8588615126': 159, '8589885291': 160, '009975181X': 161, '00273755': 162, '014366020444': 163, '8496075850': 164, '8804407808': 165, '8804464895': 166, '8807810751': 167, '880781112X': 168, '8817106100': 169, '8817112917': 170, '8833908488': 171, '8838910987': 172, '8846200624': 173, '88741800047': 174, '8876846565': 175, '8877825200': 176, '8879285513': 177, '8879285645': 178, '8887432252': 179, '8888424121': 180, '0449210197': 181, '8817151068': 182, '8496280012': 183, 'B158991965': 184, '0064430227': 185, '0812533550': 186, '8806162160': 187, '0440241537': 188, '0375901582': 189, '0439317746': 190, '0440228840': 191, '0738205737': 192, '0060542845': 193, '0449148831': 194, '8420430943': 195, '8420636282': 196, '8432205311': 197, '000225669X': 198, '0099549611': 199, '042513976X': 200, '0441008291': 201, '002542730X': 202, '0099414732': 203, '0140154078': 204, '0194216748': 205, '0385504209': 206, '0553275283': 207, '0582530431': 208, '063403541X': 209, '1400002672': 210, '840149236X': 211, '8420432113': 212, '8420444367': 213, '8422655500': 214, '8422657104': 215, '8423976645': 216, '8426109799': 217, '8474104823': 218, '950491036X': 219, '0749336145': 220, '1899344705': 221, '059030271X': 222, '0590470108': 223, '0671021354': 224, '0671026283': 225, '0671027506': 226, '2020101653': 227, '202011528X': 228, '20202006935': 229, '20203119888': 230, '2020564777': 231, '2070386023': 232, '2070394956': 233, '2070404587': 234, '2070404706': 235, '2253030570': 236, '2253171670': 237, '2253172367': 238, '2264010991': 239, '2264018194': 240, '2264024674': 241, '226402593X': 242, '2264027568': 243, '226403114': 244, '2264031158': 245, '2264036036': 246, '2266047280': 247, '226604960': 248, '22660861003': 249, '2266102621': 250, '2266104535': 251, '2266105698': 252, '2702424131': 253, '2742724028': 254, '2742724613': 255, '2743602295': 256, '2842611462': 257, '2869304129': 258, '2869304560': 259, '2869305583': 260, '1566190096': 261, '3492224768': 262, '3596122279': 263, '3596147700': 264, '0713628944': 265, '1853260665': 266, '2070414256': 267, '2070419657': 268, '2253063339': 269, '2253137243': 270, '2253144452': 271, '2253152072': 272, '226612269X': 273, '2702400612': 274, '2702401694': 275, '2878580753': 276, '8423310353': 277, '349202436X': 278, '0140182551': 279, '0446310786': 280, '0886776783': 281, '3419528078': 282, '3423118709': 283, '3453034120': 284, '3772420176': 285, '3806852456': 286, '0312966970': 287, '680ISBN359623': 288, '0312169817': 289, '0345348672': 290, '0345354621': 291, '0345435036': 292, '0385264356': 293, '0425104273': 294, '0440218667': 295, '0440220602': 296, '0515131520': 297, '0812550153': 298, '0812550307': 299, '0843949163': 300, '0886773741': 301, '0886774802': 302, '0886774829': 303, '0886775426': 304, '0886775957': 305, '0886777178': 306, '9722900684': 307, '0590259970': 308, '0590260251': 309, '0590426702': 310, '0590436422': 311, '0590436449': 312, '0590436465': 313, '0590436481': 314, '059043649X': 315, '0590442589': 316, '0590442996': 317, '0590448234': 318, '0590448595': 319, '0590456504': 320, '0590470485': 321, '0060930187': 322, '0375760911': 323, '0689817851': 324, '0874869870': 325, '0061081450': 326, '0061083259': 327, '0061087017': 328, '0061094404': 329, '0671793489': 330, '880701601X': 331, '8817134899': 332, '0099268345': 333, '3100970616': 334, '3257062354': 335, '3423128879': 336, '3423202327': 337, '342677609X': 338, '3442727073': 339, '3453132041': 340, '3478387507': 341, '3492045170': 342, '3492230814': 343, '3545202461': 344, '3548359698': 345, '3550075359': 346, '3596154766': 347, '3596214629': 348, '0618045996': 349, '3822858617': 350, '0864425589': 351, '8817860751': 352, '0452282101': 353, '3257060580': 354, '0553581112': 355, '0805047379': 356, '0892964456': 357, '0373250223': 358, '0451097009': 359, '0451179994': 360, '0553140779': 361, '0425182150': 362, '1883473004': 363, '0061007129': 364, '0812511816': 365, '0880381736': 366, '0880381744': 367, '0312283709': 368, '0446605484': 369, '0446611212': 370, '0451207955': 371, '0609804138': 372, '074343627X': 373, '0971880107': 374, '3426615355': 375, '0075536498': 376, '0099287692': 377, '0099845008': 378, '0330262130': 379, '0385720920': 380, '0553262505': 381, '3442430496': 382, '3442446325': 383, '3453171500': 384, '3464371506': 385, '9513098648': 386, '0590108395': 387, '3442451353': 388, '8425330866': 389, '8481301213': 390, '0816704627': 391, '1573229571': 392, '9782922145441': 393, '3499263998': 394, '0434009407': 395, '1841193887': 396, '457871971': 397, '840149768X': 398, '8401499917': 399, '8420600369': 400, '8420603066': 401, '8423918335': 402, '8426105084': 403, '8426429807': 404, '843223138X': 405, '8437608570': 406, '8440630921': 407, '8440630922': 408, '8470394126': 409, '8471662531': 410, '8472230082': 411, '8474541913': 412, '8478091351': 413, '3426193310': 414, '0064404773': 415, '0064407667': 416, '006054094X': 417, '0375706038': 418, '081297106X': 419, '0843951826': 420, '1400032628': 421, '1585861553': 422, '0385334141': 423, '0425191184': 424, '0751503894': 425, '3548208975': 426, '0425189864': 427, '0440236053': 428, '0440241073': 429, '0553586122': 430, '0099935708': 431, '0140118608': 432, '3518408127': 433, '1586609726': 434, '0865472807': 435, '0312960344': 436, '031286504X': 437, '0345342968': 438, '0767903382': 439, '0312331754': 440, '0312979517': 441, '0316154059': 442, '0345450175': 443, '0345452550': 444, '0375727981': 445, '0385305389': 446, '0394543289': 447, '0399135804': 448, '0399141340': 449, '0399146466': 450, '0399146504': 451, '0399146687': 452, '0399147101': 453, '0399147624': 454, '0399148337': 455, '0399148639': 456, '0399148728': 457, '0399150811': 458, '0399151451': 459, '039915177X': 460, '0425183181': 461, '0671024094': 462, '0679450408': 463, '0684801663': 464, '0684846608': 465, '074320607X': 466, '0743407377': 467, '0743486226': 468, '0804109990': 469, '0812571118': 470, '0969691319': 471, '8475251471': 472, '0671032658': 473, '0812568710': 474, '0843921609': 475, '0553211056': 476, '0553285920': 477, '0020259700': 478, '0385422598': 479, '0449213730': 480, '0449224449': 481, '0451173139': 482, '0486282406': 483, '0553580930': 484, '0804102511': 485, '080410946X': 486, '0440414806': 487, '0679767800': 488, '0006543545': 489, '0141011947': 490, '0340734043': 491, '0340770015': 492, '0349105227': 493, '0571152236': 494, '0679745203': 495, '0140254188': 496, '0525945636': 497, '074341232X': 498, '0060391626': 499, '0440174953': 500, '055326611X': 501, '0553347756': 502, '0553379615': 503, '0670869902': 504, '0671021001': 505, '0671647458': 506, '1573221856': 507, '0449209733': 508, '0553271644': 509, '0316969680': 510, '0375703861': 511, '0440225442': 512, '0743229878': 513, '030700645X': 514, '0307127923': 515, '0307302016': 516, '0307302636': 517, '0307987655': 518, '0316563242': 519, '039480001X': 520, '0394800028': 521, '0394800184': 522, '039480029X': 523, '039480967X': 524, '0394925696': 525, '0439083702': 526, '0439213592': 527, '0439242363': 528, '0439449316': 529, '0590386522': 530, '0590402218': 531, '0590404342': 532, '0590442619': 533, '0590442791': 534, '0590442805': 535, '0590442899': 536, '059044297X': 537, '059046602X': 538, '0590466577': 539, '0590629719': 540, '0590921622': 541, '0590965492': 542, '0689845405': 543, '0689847564': 544, '0717283194': 545, '0717283208': 546, '0717283275': 547, '0717283364': 548, '0717283372': 549, '0717284832': 550, '0717284972': 551, '0717287017': 552, '0717287106': 553, '0721452728': 554, '0736401113': 555, '0761406158': 556, '0769600239': 557, '0785316477': 558, '0785316493': 559, '0785316531': 560, '087701759X': 561, '0895777010': 562, '1561452718': 563, '1562826468': 564, '2764104936': 565, '0671664964': 566, '044023722X': 567, '0671015648': 568, '0749397365': 569, '0061044636': 570, '0884948706': 571, '0312282990': 572, '0060613998': 573, '037541309X': 574, '0826308791': 575, '0722539924': 576, '0970961502': 577, '014029628X': 578, '0425188175': 579, '038550926X': 580, '0440772109': 581, '0812514440': 582, '0449005909': 583, '055347782X': 584, '0670637823': 585, '1585671312': 586, '0452282152': 587, '8804483156': 588, '0380807343': 589, '0397314728': 590, '0345422384': 591, '0395760704': 592, '0615116426': 593, '1555037763': 594, '0618134298': 595, '0375708049': 596, '9722000322': 597, '9722320742': 598, '9722326414': 599, '972232957': 600, '972232957X': 601, '9722906259': 602, '9722906283': 603, '9725752228': 604, '9726101794': 605, '9726106141': 606, '1887128441': 607, '0062501860': 608, '0553581929': 609, '0806523794': 610, '0671738232': 611, '1551668726': 612, '0380721643': 613, 'O6712345670': 614, '0446360716': 615, '0060173289': 616, '0060976845': 617, '1561840564': 618, '0006530400': 619, '44901668125': 620, '084230052X': 621, '3257204817': 622, '0446363073': 623, '3596200547': 624, '3716020028': 625, '3717581546': 626, '3803120624': 627, '0739417096': 628, '0679781587': 629, '071009505506': 630, '1591820537': 631, '0060393823': 632, '0156027321': 633, '0929264215': 634, '0061011509': 635, '0553576801': 636, '0312276885': 637, '8806164104': 638, '0007137699': 639, '0671521705': 640, '0140058605': 641, '0192827588': 642, '0312195516': 643, '0446608955': 644, '0670892963': 645, '0671646575': 646, '0804114986': 647, '0812507452': 648, '0812515560': 649, '0812515595': 650, '3453156366': 651, '1558509828': 652, '0957868251': 653, '2253141860': 654, '859009751X': 655, '0399140751': 656, '000254794': 657, '87812797': 658, '887983830': 659, '8880894536': 660, '8880897470': 661, '051511605X': 662, '0060170166': 663, '003008685X': 664, '0060006641': 665, '0060542128': 666, '0061009059': 667, '0062507109': 668, '0132220598': 669, '0140283374': 670, '014039026X': 671, '0140390715': 672, '0141439742': 673, '0152050167': 674, '0201000822': 675, '0310435706': 676, '0312944691': 677, '0316776963': 678, '033031582': 679, '0345413903': 680, '0375408886': 681, '0375751513': 682, '0380702843': 683, '0380791978': 684, '038081904X': 685, '0385424736': 686, '0385486804': 687, '0385503857': 688, '039304016X': 689, '0394738136': 690, '0394862147': 691, '0399149562': 692, '0399225064': 693, '0399501487': 694, '0425047962': 695, '0425104338': 696, '0425116840': 697, '0425133516': 698, '0425190749': 699, '0440185327': 700, '0440224764': 701, '0440236061': 702, '0440236738': 703, '0440428130': 704, '0441627404': 705, '0446311677': 706, '0446325503': 707, '0446350982': 708, '0446522384': 709, '0446600415': 710, '0446608890': 711, '0446676640': 712, '0451180739': 713, '0451191153': 714, '0451203593': 715, '0452284449': 716, '0471018732': 717, '0517573636': 718, '0523485964': 719, '0552137030': 720, '0553078925': 721, '0553280368': 722, '0553351672': 723, '0553571656': 724, '0553573926': 725, '0553574566': 726, '0670307254': 727, '0671014420': 728, '0671037692': 729, '0671528904': 730, '067172021X': 731, '0671727079': 732, '0671740504': 733, '0671749897': 734, '0671876821': 735, '0679417648': 736, '0679419853': 737, '0679731148': 738, '0679736042': 739, '0684869098': 740, '0715388185': 741, '0718002067': 742, '0736903054': 743, '0740723367': 744, '0743406176': 745, '0743412028': 746, '0743422082': 747, '0743444477': 748, '0743457943': 749, '0785243038': 750, '0786866845': 751, '0800757483': 752, '0802425488': 753, '0803653719': 754, '0805018956': 755, '0810909650': 756, '0811802981': 757, '0811811409': 758, '0812504798': 759, '0812531353': 760, '0836210263': 761, '0836213076': 762, '0836217691': 763, '0836218515': 764, '0836218817': 765, '0836221192': 766, '0836221311': 767, '0836236688': 768, '084233338X': 769, '0842370668': 770, '0843947888': 771, '0849995892': 772, '0871890917': 773, '087605534X': 774, '0877790426': 775, '087784870X': 776, '0887621112': 777, '0890814082': 778, '0890876517': 779, '0890876967': 780, '0897330536': 781, '0898155843': 782, '0898157803': 783, '0898793912': 784, '0898794080': 785, '0898794544': 786, '0898796601': 787, '089879661X': 788, '0898797055': 789, '0912452161': 790, '0932592007': 791, '0964420805': 792, '0965035214': 793, '0967201519': 794, '1400060265': 795, '1559586893': 796, '1562923668': 797, '1564403963': 798, '1565075722': 799, '1568380593': 800, '156865037X': 801, '1572302399': 802, '1572304510': 803, '1576733343': 804, '1576739597': 805, '1581690606': 806, '1852303468': 807, '1930285000': 808, '8251800811': 809, '0373765541': 810, '009977920X': 811, '0864425767': 812, '031215125X': 813, '0590629786': 814, '0590629794': 815, '0590629808': 816, '0590629816': 817, '0312242026': 818, '0316666343': 819, '0345444892': 820, '0399149821': 821, '051509272X': 822, '0553579134': 823, '0671027360': 824, '0849908647': 825, '3150087201': 826, '3442729785': 827, '0380718340': 828, '0440226414': 829, '0553292722': 830, '0553571885': 831, '0684855518': 832, '0446609749': 833, '0553572997': 834, '0330312367': 835, '3423101776': 836, '3596200261': 837, '0785264280': 838, '014038572X': 839, '006008216X': 840, '0140318720': 841, '0140620257': 842, '014200281X': 843, '0304359416': 844, '0312113420': 845, '0312979533': 846, '0340565276': 847, '0340745983': 848, '0345330129': 849, '038067470X': 850, '0399128158': 851, '0440213320': 852, '0449907635': 853, '0451162218': 854, '0451459393': 855, '0517119250': 856, '0552142379': 857, '0552149209': 858, '0582528232': 859, '0670808393': 860, '0671020560': 861, '0752524593': 862, '0752853694': 863, '0789477831': 864, '0789477858': 865, '0810945797': 866, '0810946122': 867, '0831759267': 868, '0882668099': 869, '0907849741': 870, '1558745718': 871, '1740595904': 872, '1903919134': 873, '1903919142': 874, '2723426890': 875, '382289642X': 876, '8493127817': 877, '9041001557': 878, '9057121379': 879, '9068340344': 880, '9070415011': 881, '1588515893': 882, '0812520165': 883, '8432221783': 884, '0385482388': 885, '0553148001': 886, '0446609781': 887, '0192823523': 888, '0385492103': 889, '1400030382': 890, '2221090810': 891, '9724115380': 892, '9727474799': 893, '345302611X': 894, '3453042476': 895, '3473306991': 896, '0358159521888': 897, '0525946241': 898, '0553272586': 899, '0767904311': 900, '0895261901': 901, '0312289723': 902, '0316603570': 903, '0316693200': 904, '0345452577': 905, '0345452593': 906, '0385336322': 907, '0385336357': 908, '0385508042': 909, '0385510438': 910, '039915180X': 911, '0399151877': 912, '0446530891': 913, '0446613843': 914, '0515133302': 915, '0517162768': 916, '055308576X': 917, '0553801589': 918, '0553803409': 919, '0671886665': 920, '0684835983': 921, '0739442309': 922, '0743206045': 923, '0785275967': 924, '1558744150': 925, '0340657987': 926, '0316777722': 927, '0374516812': 928, '0375707166': 929, '0679439382': 930, '0679723161': 931, '0688178456': 932, '0805048782': 933, '0064400557': 934, '1550544683': 935, '0452268060': 936, '0679734775': 937, '0316601950': 938, '034543739X': 939, '0911913009': 940, '0553587196': 941, '0743482077': 942, '3404149114': 943, '0970172605': 944, '0345392825': 945, '0345435168': 946, '0553211803': 947, '0345318587': 948, '1582790671': 949, '0140043519': 950, '0140274286': 951, '0571212018': 952, '0751310158': 953, '0751360007': 954, '0863189113': 955, '0879052473': 956, '0934802904': 957, '1858286018': 958, '0061053775': 959, '0312971400': 960, '0312986769': 961, '0312995431': 962, '044667883X': 963, '0525937021': 964, '0006551238': 965, '0007651864': 966, '0099675404': 967, '0385305893': 968, '0590558021': 969, '0671741403': 970, '0803701225': 971, '0553583956': 972, '1885403003': 973, '0142004235': 974, '0446301582': 975, '0446608262': 976, '0091879434': 977, '0091894158': 978, '056353821': 979, '0715309404': 980, '0312202318': 981, '8401463017': 982, '8401499585': 983, '8408039369': 984, '8478884661': 985, '0425125467': 986, '0553263226': 987, '0671026704': 988, '0812579402': 989, '0340769181': 990, '0375707972': 991, '0312421273': 992, '0679771476': 993, '8755900623': 994, '8787498782': 995, '8807701375': 996, '0688150772': 997, '0618002219': 998, '0671025368': 999, '0028604199': 1000, '0140340203': 1001, '0312167792': 1002, '0312290659': 1003, '0786890436': 1004, '1400031346': 1005, '1400031354': 1006, '1588720756': 1007, '3423124199': 1008, '3423125756': 1009, '0312857322': 1010, '0374184232': 1011, '0380005166': 1012, '0380018179': 1013, '0385472943': 1014, '0399132414': 1015, '0671000306': 1016, '0671000314': 1017, '0671026682': 1018, '0671795740': 1019, '0553245694': 1020, '0552994421': 1021, '0552994928': 1022, '030702024X': 1023, '0307605701': 1024, '0345335058': 1025, '0345346777': 1026, '034539657X': 1027, '0380001799': 1028, '0380707837': 1029, '0380731851': 1030, '0425071014': 1031, '0425107507': 1032, '0425142485': 1033, '0425147363': 1034, '042516098X': 1035, '0440211727': 1036, '0440214041': 1037, '0440430712': 1038, '0446794031': 1039, '0448027011': 1040, '0449200256': 1041, '044921852X': 1042, '0451085108': 1043, '0451162145': 1044, '0553235354': 1045, '0553297260': 1046, '0553579754': 1047, '0590088203': 1048, '0671416367': 1049, '0671823035': 1050, '0812543262': 1051, '082173766X': 1052, '0375406328': 1053, '0452277337': 1054, '0451210980': 1055, '067976397X': 1056, '0679745580': 1057, '0451622898': 1058, '0743225406': 1059, '0771060548': 1060, '1882943155': 1061, '2070360016': 1062, '2253006629': 1063, '051510566X': 1064, '052594544X': 1065, '0743206061': 1066, '0764222171': 1067, '087542127X': 1068, '0886777011': 1069, '3453007867': 1070, '2070541886': 1071, '2253054615': 1072, '225309031X': 1073, '0747546290': 1074, '2070381803': 1075, '2070425525': 1076, '2253016950': 1077, '2253057649': 1078, '2266000489': 1079, '229031465X': 1080, '0060096209': 1081, '3423128178': 1082, '432530757': 1083, '0446607657': 1084, '0449208281': 1085, '0395680905': 1086, '0316769487': 1087, '0425171396': 1088, '0399145850': 1089, '0061015725': 1090, '0312983395': 1091, '0425192032': 1092, '0446611638': 1093, '0451208765': 1094, '0451210840': 1095, '0451210867': 1096, '0451210875': 1097, '0553582763': 1098, '0140058494': 1099, '0140512276': 1100, '0330344927': 1101, '0449911160': 1102, '0553282980': 1103, '0671755056': 1104, '0812967224': 1105, '1573227889': 1106, '1853752797': 1107, '3499100045': 1108, '3821805897': 1109, '3937793003': 1110, '089296751X': 1111, '1551663058': 1112, '0061031070': 1113, '0449005615': 1114, '0553381520': 1115, '345308201X': 1116, '3453171861': 1117, '3453198875': 1118, '0451167783': 1119, '0440217520': 1120, '074324523': 1121, '0743469984': 1122, '743411447': 1123, '185326086X': 1124, '0061031550': 1125, '0316117064': 1126, '0345339681': 1127, '0345377443': 1128, '0375760245': 1129, '0385491328': 1130, '0440235162': 1131, '0452279844': 1132, '0553213997': 1133, '0553298240': 1134, '0609806564': 1135, '0679416498': 1136, '0871137240': 1137, '0880482605': 1138, '0887307876': 1139, '0929634063': 1140, '1551660717': 1141, '1585360384': 1142, '0553576194': 1143, '0843950366': 1144, '881715010X': 1145, '0385484518': 1146, '0553211404': 1147, '0385502532': 1148, '0553272535': 1149, '3423125659': 1150, '0451524462': 1151, '0061097314': 1152, '0425173739': 1153, '0380778556': 1154, '0440802911': 1155, '0440407524': 1156, '0440967694': 1157, '0064406601': 1158, '0440228441': 1159, '0590684841': 1160, '0380750260': 1161, '0553210793': 1162, '0142001740': 1163, '0345443284': 1164, '0425173755': 1165, '0689843186': 1166, '0140345353': 1167, '0141310073': 1168, '0060931396': 1169, '0140118993': 1170, '0809015803': 1171, '014032724X': 1172, '8496200752': 1173, '9723706148': 1174, '9728608225': 1175, '9728609187': 1176, '8845913104': 1177, '1410749029': 1178, '0395977894': 1179, '042518336X': 1180, '0553575538': 1181, '0767903579': 1182, '0425126064': 1183, '0373152604': 1184, '0380710056': 1185, '0450586235': 1186, '0451204492': 1187, '0505522004': 1188, '0671759361': 1189, '0743438035': 1190, '0843943289': 1191, '088396631': 1192, '1557734569': 1193, '3350071300': 1194, '0380789019': 1195, '1558744606': 1196, '0064440044': 1197, '0140239820': 1198, '0330484338': 1199, '0446672211': 1200, '0446675059': 1201, '0525446044': 1202, '0525458417': 1203, '0671876295': 1204, '0679427430': 1205, '0803717377': 1206, '0894716174': 1207, '089480751X': 1208, '0962756245': 1209, '0440226430': 1210, '006019491X': 1211, '0896592413': 1212, '0399138250': 1213, '0452284937': 1214, '0452269571': 1215, '0671510053': 1216, '0766607216': 1217, '0451206460': 1218, '0394868161': 1219, '0394909674': 1220, '0439104645': 1221, '0345384377': 1222, '0440225701': 1223, '0446609943': 1224, '0451171071': 1225, '0553580191': 1226, '0553582917': 1227, '0061093947': 1228, '0226848639': 1229, '0385492081': 1230, '0446754552': 1231, '0684173182': 1232, '091988802X': 1233, '0374266441': 1234, '0374524653': 1235, '0375410287': 1236, '0380978210': 1237, '0385301499': 1238, '0394572068': 1239, '0449908186': 1240, '0553057014': 1241, '0670843105': 1242, '0679751602': 1243, '0679764925': 1244, '0679770151': 1245, '0767915062': 1246, '0804105820': 1247, '0812928318': 1248, '0892963883': 1249, '0937247065': 1250, '0937247502': 1251, '1573220310': 1252, '0373292341': 1253, '0373440421': 1254, '0380757311': 1255, '0380782782': 1256, '0425191001': 1257, '0440217628': 1258, '0446302538': 1259, '0449209148': 1260, '0451198948': 1261, '0451404645': 1262, '0451408373': 1263, '0451408659': 1264, '0505523035': 1265, '0515129968': 1266, '0553561537': 1267, '0804117586': 1268, '0821724479': 1269, '0821742167': 1270, '0843932430': 1271, '1551665522': 1272, '0590461249': 1273, '0060934417': 1274, '0316168815': 1275, '0316785261': 1276, '0345468694': 1277, '0452283205': 1278, '0452283868': 1279, '0684848406': 1280, '0743225325': 1281, '0743237188': 1282, '0380723573': 1283, '0451184734': 1284, '0743437802': 1285, '0006531156': 1286, '0312974256': 1287, '0312980353': 1288, '0312983301': 1289, '0375759689': 1290, '0380785218': 1291, '0446610550': 1292, '0451203771': 1293, '0451210611': 1294, '0515121843': 1295, '051512317X': 1296, '0515124214': 1297, '0515134384': 1298, '0515136263': 1299, '0515136379': 1300, '0515136530': 1301, '0515137111': 1302, '080505801X': 1303, '1865156035': 1304, '1869433637': 1305, '0803251246': 1306, '0140096922': 1307, '0375507876': 1308, '0500976147': 1309, '0500976236': 1310, '0970559100': 1311, '3822800740': 1312, '8085794551': 1313, '0446529788': 1314, '0553802542': 1315, '0688179088': 1316, '0743204697': 1317, '0767905385': 1318, '1551668904': 1319, '0028638670': 1320, '0771590113': 1321, '0307101711': 1322, '0062701649': 1323, '0312312873': 1324, '0316789089': 1325, '0374190666': 1326, '0395900239': 1327, '0399141464': 1328, '0399145087': 1329, '0446392251': 1330, '0446526126': 1331, '044840124X': 1332, '0486285537': 1333, '0517705869': 1334, '0525462325': 1335, '0671240862': 1336, '0679457526': 1337, '0684808943': 1338, '0684874350': 1339, '0688151981': 1340, '0743204735': 1341, '0761107363': 1342, '0785263950': 1343, '0786867434': 1344, '0786881852': 1345, '0937921556': 1346, '096665370X': 1347, '1888387408': 1348, '0446527785': 1349, '0440216818': 1350, '0896083535': 1351, '0312964919': 1352, '0425147711': 1353, '0446401064': 1354, '0451206274': 1355, '0553283960': 1356, '0743420373': 1357, '1853260282': 1358, '0345386108': 1359, '0446611778': 1360, '0515087491': 1361, '0515101486': 1362, '0515104175': 1363, '1593080549': 1364, '1593081017': 1365, '780451524201': 1366, '157174259X': 1367, '1558745157': 1368, '0486280500': 1369, '0855642440': 1370, '0002240114': 1371, '0679440526': 1372, '0771074549': 1373, '067976402X': 1374, '0671672878': 1375, '034543479X': 1376, '0374480095': 1377, '0446670251': 1378, '0804115761': 1379, '0821766570': 1380, '1551669110': 1381, '0061056200': 1382, '0099908506': 1383, '0140134212': 1384, '9025414532': 1385, '9027472718': 1386, '0575073047': 1387, '0771087004': 1388, '0878571140': 1389, '0930345037': 1390, '093393114X': 1391, '0060196300': 1392, '0671002384': 1393, '0671002406': 1394, '0671004247': 1395, '0671006754': 1396, '1558747281': 1397, '0375757597': 1398, '0060008350': 1399, '0060572965': 1400, '0061020028': 1401, '0061031410': 1402, '0061094129': 1403, '0312983433': 1404, '0345440064': 1405, '0345545571': 1406, '0380820889': 1407, '038533558X': 1408, '0399142649': 1409, '0440221048': 1410, '0446527041': 1411, '0446531588': 1412, '0446610607': 1413, '0446612510': 1414, '0449006522': 1415, '0449219364': 1416, '0449221512': 1417, '0449227545': 1418, '0451179153': 1419, '0451179897': 1420, '0451188950': 1421, '0451202473': 1422, '0451204301': 1423, '0451206525': 1424, '0515125490': 1425, '0515129038': 1426, '0515130389': 1427, '0515135968': 1428, '0553582364': 1429, '0671001795': 1430, '0671658301': 1431, '0671891537': 1432, '0684810387': 1433, '068815333X': 1434, '0743417836': 1435, '0786889667': 1436, '0805060251': 1437, '0812528042': 1438, '1551667517': 1439, '1551669625': 1440, '7099300799': 1441, '7100100699': 1442, '7100100750': 1443, '7678300699': 1444, '780446525800': 1445, '0805044272': 1446, '0875847706': 1447, '1857235460': 1448, '0061092800': 1449, '0525942998': 1450, '0553564528': 1451, '0316569321': 1452, '0060501804': 1453, '0752837168': 1454, '1842322753': 1455, '8804520612': 1456, '880452431': 1457, '8817113204': 1458, '8830414824': 1459, '8838431345': 1460, '8844011611': 1461, '8845907341': 1462, '8855203292': 1463, '8877822171': 1464, '8885008836': 1465, '88O6166255': 1466, '0812571991': 1467, '0553813021': 1468, '0452281253': 1469, '0091881048': 1470, '0283073381': 1471, '0712623930': 1472, '0725107251': 1473, '1853064408': 1474, '1882663128': 1475, '0062737465': 1476, '0099244527': 1477, '0201354705': 1478, '044900371X': 1479, '0374270325': 1480, '0425076695': 1481, '0761128093': 1482, '0553210416': 1483, '8804484101': 1484, '0307126293': 1485, '0425144062': 1486, '0451160916': 1487, '0812549287': 1488, '0140244824': 1489, '0446605239': 1490, '0671870998': 1491, '0375412123': 1492, '0385472951': 1493, '0440236665': 1494, '0515118230': 1495, '044661162X': 1496, '0375727345': 1497, '8804491523': 1498, '0060958022': 1499, '0060002492': 1500, '0061057894': 1501, '0140067647': 1502, '0140350144': 1503, '0310239826': 1504, '0312088027': 1505, '0345257596': 1506, '0345274695': 1507, '0345331044': 1508, '0345337662': 1509, '0373079001': 1510, '037308935X': 1511, '0373089376': 1512, '0373115377': 1513, '0373115431': 1514, '0374475067': 1515, '0380429780': 1516, '0380600129': 1517, '0380708655': 1518, '0425065553': 1519, '0425189082': 1520, '0425194876': 1521, '0440111188': 1522, '0440844444': 1523, '0440940001': 1524, '0441094880': 1525, '0446606812': 1526, '0449209830': 1527, '0449702634': 1528, '0515094978': 1529, '055325698X': 1530, '0553287532': 1531, '0590434160': 1532, '0670894508': 1533, '0671434225': 1534, '0671525808': 1535, '0671745093': 1536, '0684846675': 1537, '0802400086': 1538, '0804106304': 1539, '0812533518': 1540, '0825428688': 1541, '0842339337': 1542, '0842354220': 1543, '0879050470': 1544, '088419597X': 1545, '0895774011': 1546, '0899669492': 1547, '1556611536': 1548, '1558745017': 1549, '1576739562': 1550, '1582293031': 1551, '373219350': 1552, '373219377': 1553, '373219407': 1554, '373219415': 1555, '37321944X': 1556, '373219458': 1557, '325722575X': 1558, '0590939882': 1559, '0671010123': 1560, '0330241117': 1561, '006107635X': 1562, '0743427033': 1563, '0385318073': 1564, '044022425X': 1565, '0312870582': 1566, '059035342X': 1567, '0671227718': 1568, '0747530386': 1569, '0749395699': 1570, '0380817144': 1571, '0374527075': 1572, '0399139087': 1573, '0440324386': 1574, '0425174360': 1575, '0060198346': 1576, '0142000205': 1577, '0671038230': 1578, '0156005891': 1579, '0316171565': 1580, '0373218192': 1581, '0373223218': 1582, '0373244487': 1583, '0373272898': 1584, '037327291X': 1585, '0373290861': 1586, '0373441762': 1587, '0373441851': 1588, '0373484003': 1589, '0373762380': 1590, '0440122090': 1591, '044022103X': 1592, '0440223571': 1593, '0446603589': 1594, '0451180348': 1595, '0515124621': 1596, '0553574477': 1597, '0590424939': 1598, '0590424971': 1599, '0590433474': 1600, '0590433865': 1601, '0590436414': 1602, '0590436597': 1603, '0590437216': 1604, '0590439006': 1605, '0590448331': 1606, '0590456490': 1607, '0590523562': 1608, '0670877514': 1609, '0671644459': 1610, '0671644475': 1611, '0689800975': 1612, '0743410181': 1613, '0778320022': 1614, '0778320065': 1615, '0778320286': 1616, '0821714600': 1617, '0821715402': 1618, '0821774638': 1619, '082177574X': 1620, '1551660679': 1621, '1551661586': 1622, '1551664992': 1623, '1551665220': 1624, '1551665344': 1625, '1551666960': 1626, '1551667487': 1627, '1557485534': 1628, '0020532105': 1629, '0060926317': 1630, '0060958014': 1631, '0140280553': 1632, '0156007819': 1633, '0156011042': 1634, '0345423135': 1635, '0375705619': 1636, '0385334923': 1637, '0385498802': 1638, '0440212723': 1639, '0451209907': 1640, '051512219X': 1641, '0671683993': 1642, '0688177859': 1643, '0802139256': 1644, '0553574671': 1645, '0849937531': 1646, '0553268937': 1647, '014025448X': 1648, '0312252617': 1649, '0316102121': 1650, '0385316925': 1651, '0385319568': 1652, '0385324057': 1653, '0385334710': 1654, '0385497466': 1655, '0399145060': 1656, '0399148019': 1657, '0446527017': 1658, '0446527130': 1659, '0553104039': 1660, '0553104047': 1661, '0553104136': 1662, '0671510126': 1663, '0671786458': 1664, '068815090X': 1665, '0743206029': 1666, '0743412761': 1667, '1401030270': 1668, '8420634158': 1669, '0766607615': 1670, '0425191028': 1671, '0060168862': 1672, '014011291X': 1673, '0345392698': 1674, '0452267455': 1675, '0883680661': 1676, '0060977493': 1677, '0140039589': 1678, '014017513X': 1679, '0224060198': 1680, '0349101779': 1681, '0446672661': 1682, '0863695930': 1683, '1865080012': 1684, '0671003755': 1685, '0316031038': 1686, '0316031046': 1687, '0316031054': 1688, '0316779032': 1689, '0316779075': 1690, '0440216745': 1691, '0446613436': 1692, '0553582755': 1693, '0671027123': 1694, '0671027441': 1695, '0722535562': 1696, '074341702X': 1697, '0743460529': 1698, '0840776381': 1699, '0871236447': 1700, '0871237954': 1701, '0874776929': 1702, '1556611188': 1703, '1556612257': 1704, '155661246X': 1705, '1576738469': 1706, '1589196635': 1707, '1840386762': 1708, '1889613010': 1709, '0156711427': 1710, '0375725784': 1711, '0800714083': 1712, '3423205903': 1713, '0618129030': 1714, '080506723X': 1715, '3257009100': 1716, '3453092880': 1717, '3492004717': 1718, '3492028969': 1719, '3596237874': 1720, '044020562X': 1721, '0345455916': 1722, '1565611489': 1723, '0062720732': 1724, '0316926078': 1725, '0440241162': 1726, '0897333659': 1727, '0060194596': 1728, '0060974788': 1729, '0449912302': 1730, '0451153553': 1731, '0451170385': 1732, '0880299428': 1733, '0451163494': 1734, '0689821085': 1735, '0373218036': 1736, '8466303316': 1737, '0679435549': 1738, '0590553232': 1739, '1567184693': 1740, '0743418719': 1741, '0345447832': 1742, '2070495027': 1743, '0375410848': 1744, '0432534220': 1745, '006091291X': 1746, '0140055932': 1747, '0140309578': 1748, '0385319959': 1749, '0399146431': 1750, '0425181618': 1751, '0679445315': 1752, '0691017840': 1753, '1573221775': 1754, '1551667525': 1755, '0312202911': 1756, '0898861411': 1757, '0312275420': 1758, '0771099894': 1759, '0061099813': 1760, '0140444173': 1761, '0312009941': 1762, '0345334531': 1763, '0394484479': 1764, '0425185001': 1765, '051513287X': 1766, '1583226443': 1767, '1577780728': 1768, '0025173251': 1769, '0028620585': 1770, '0028629299': 1771, '0060111011': 1772, '0060163704': 1773, '0060551895': 1774, '006091646X': 1775, '0062502123': 1776, '0140167153': 1777, '0312265859': 1778, '0312965338': 1779, '0375504044': 1780, '0385266359': 1781, '0439064872': 1782, '0439136369': 1783, '0439139600': 1784, '0440057574': 1785, '0446378445': 1786, '0446517097': 1787, '0446977551': 1788, '0517060205': 1789, '0671016768': 1790, '0688041140': 1791, '0688111289': 1792, '0761522212': 1793, '0762721979': 1794, '0786868414': 1795, '0802100155': 1796, '0814450598': 1797, '0842304673': 1798, '087795979X': 1799, '0884270610': 1800, '1567310028': 1801, '1853263214': 1802, '0064407462': 1803, '0878332170': 1804, '0312957866': 1805, '0671868691': 1806, '0816730091': 1807, '0060530103': 1808, '0471214205': 1809, '0786886323': 1810, '0752826883': 1811, '0375409440': 1812, '0380730847': 1813, '0385313667': 1814, '0399147195': 1815, '0425182908': 1816, '044661257X': 1817, '0553569058': 1818, '0688152449': 1819, '080410753X': 1820, '1853260339': 1821, '0732257476': 1822, '3426600218': 1823, '8879831607': 1824, '0446608831': 1825, '0446610542': 1826, '0679308806': 1827, '0006542808': 1828, '0060392185': 1829, '0140367209': 1830, '0140546499': 1831, '0146000579': 1832, '0146000706': 1833, '0146000994': 1834, '0146001109': 1835, '0192816071': 1836, '0307022196': 1837, '0310912520': 1838, '0312850131': 1839, '0312860862': 1840, '0312923651': 1841, '0312970234': 1842, '0321096983': 1843, '0345300742': 1844, '0345318617': 1845, '0345334590': 1846, '0345352459': 1847, '0345369335': 1848, '0345431464': 1849, '037302973X': 1850, '0373071388': 1851, '0373074646': 1852, '0373106939': 1853, '0373110138': 1854, '0373112572': 1855, '0373117868': 1856, '0373122772': 1857, '0373167318': 1858, '0373708335': 1859, '037383375X': 1860, '0375756817': 1861, '0380710870': 1862, '038097391X': 1863, '0385320329': 1864, '0394800168': 1865, '0394820371': 1866, '0395681863': 1867, '0399122400': 1868, '0399134883': 1869, '0425048543': 1870, '042513525X': 1871, '0425140032': 1872, '0425178102': 1873, '042518630X': 1874, '0439040825': 1875, '0440139791': 1876, '0440184622': 1877, '0440206561': 1878, '0440207622': 1879, '0440479002': 1880, '044056753X': 1881, '0440800129': 1882, '0440920833': 1883, '0441116183': 1884, '0441470734': 1885, '0445205636': 1886, '0446520608': 1887, '0446603368': 1888, '0449210324': 1889, '0451136683': 1890, '0451173392': 1891, '0515131229': 1892, '051788710X': 1893, '0553131834': 1894, '0553201344': 1895, '0553202790': 1896, '0553271571': 1897, '0553282700': 1898, '0553297988': 1899, '0553299352': 1900, '0553565605': 1901, '0590117653': 1902, '0590413848': 1903, '059046244X': 1904, '0590466178': 1905, '059088008X': 1906, '0671017128': 1907, '0671019961': 1908, '0671502522': 1909, '0671556843': 1910, '067160550X': 1911, '0671655450': 1912, '0671663755': 1913, '0671721623': 1914, '0671775715': 1915, '0684174707': 1916, '0684832860': 1917, '0684835614': 1918, '0689828896': 1919, '0786862572': 1920, '0800786092': 1921, '0812055721': 1922, '0812502076': 1923, '0812504321': 1924, '0812508084': 1925, '0812511840': 1926, '0812523466': 1927, '0812531558': 1928, '0812533232': 1929, '0812543181': 1930, '0821713655': 1931, '0821726595': 1932, '0848706978': 1933, '0865926433': 1934, '0871318156': 1935, '0880380845': 1936, '088184781X': 1937, '0886775981': 1938, '0890817596': 1939, '0898151899': 1940, '155882068X': 1941, '1569751544': 1942, '1570423008': 1943, '0060935464': 1944, '0385475721': 1945, '8817106054': 1946, '8817853712': 1947, '8845907244': 1948, '9722216333': 1949, '9729750734': 1950, '9729801320': 1951, '3453146972': 1952, '0671723316': 1953, '0743418190': 1954, '0312978340': 1955, '0425178781': 1956, '0743930142': 1957, '0761519858': 1958, '1568846010': 1959, '1576904423': 1960, '0688149596': 1961, '0064401324': 1962, '0451409736': 1963, '050552502X': 1964, '0843949090': 1965, '0440217466': 1966, '0446679593': 1967, '0575068620': 1968, '0060185147': 1969, '0380788683': 1970, '0553578693': 1971, '0553577867': 1972, '01420.01740': 1973, '0826308252': 1974, '0316158720': 1975, '0425167720': 1976, '1853264083': 1977, '0152413588': 1978, '0316693251': 1979, '0385306148': 1980, '0312955006': 1981, '0425137937': 1982, '0440225590': 1983, '0515124060': 1984, '0553565095': 1985, '0786889152': 1986, '020140964X': 1987, '0805035842': 1988, '0446518581': 1989, '031284879X': 1990, '0684802899': 1991, '0749800424': 1992, '0803703724': 1993, '0887140963': 1994, '0894713477': 1995, '1561383074': 1996, '1568659040': 1997, '1571741097': 1998, '1879678012': 1999, '1558532315': 2000, '038079943X': 2001, '0425178765': 2002, '0425182878': 2003, '0440221595': 2004, '0446610038': 2005, '0449003787': 2006, '0449219461': 2007, '0553213180': 2008, '0553269216': 2009, '0770422071': 2010, '0553106686': 2011, '0874778883': 2012, '0965060495': 2013, '0965589444': 2014, '0965693015': 2015, '0060937742': 2016, '1931561648': 2017, '0553096834': 2018, '0679434488': 2019, '1576734218': 2020, '0425131327': 2021, '0440200989': 2022, '1887166092': 2023, '0028630343': 2024, '0345339703': 2025, '0673397394': 2026, '0425129586': 2027, '044041833X': 2028, '0590660543': 2029, '0345388879': 2030, '0385471181': 2031, '0553573616': 2032, '0679768203': 2033, '0684829746': 2034, '0140292683': 2035, '0140293450': 2036, '0330375253': 2037, '0345423097': 2038, '0385730586': 2039, '0439201632': 2040, '0439312280': 2041, '0446314854': 2042, '0752837613': 2043, '0671028375': 2044, '0446612545': 2045, '185813501X': 2046, '320375536X': 2047, '3257233086': 2048, '3492223710': 2049, '3548250459': 2050, '380520406X': 2051, '8873122933': 2052, '0060976683': 2053, '0140069623': 2054, '0446343439': 2055, '0446400009': 2056, '0449219399': 2057, '0679750533': 2058, '8420646032': 2059, '0061044725': 2060, '0061063746': 2061, '0140277471': 2062, '0141001976': 2063, '0226848620': 2064, '0312957785': 2065, '0312980140': 2066, '0312983298': 2067, '0312983867': 2068, '0312990456': 2069, '0312991460': 2070, '0345348176': 2071, '0345350499': 2072, '0425163717': 2073, '0425190927': 2074, '0425191583': 2075, '0425193772': 2076, '0441478123': 2077, '0449003183': 2078, '0449206874': 2079, '0449217213': 2080, '0449223558': 2081, '0451202503': 2082, '0515136557': 2083, '055327239X': 2084, '0671877445': 2085, '0743406583': 2086, '0743480562': 2087, '0765344513': 2088, '0804109818': 2089, '1400034779': 2090, '157566254X': 2091, '1890208442': 2092, '0440224624': 2093, '0553575090': 2094, '0786889187': 2095, '8887775206': 2096, '0130454699': 2097, '1401300057': 2098, '0767902890': 2099, '034073356X': 2100, '0340733578': 2101, '0062700227': 2102, '0525449922': 2103, '3453862732': 2104, '0688165664': 2105, '1550390961': 2106, '0060160713': 2107, '0060987561': 2108, '014028009X': 2109, '0140296298': 2110, '0141312378': 2111, '0201095696': 2112, '0316096199': 2113, '0316899984': 2114, '0375703063': 2115, '0385512147': 2116, '0393045900': 2117, '0425178900': 2118, '0439324599': 2119, '0440514428': 2120, '0449907481': 2121, '0451163524': 2122, '0451408535': 2123, '0452273749': 2124, '0452283221': 2125, '0515123536': 2126, '0515131083': 2127, '0553278355': 2128, '0553570870': 2129, '059099459X': 2130, '0671028014': 2131, '0671038184': 2132, '0671735594': 2133, '0679425268': 2134, '0684814994': 2135, '0684837986': 2136, '0684873796': 2137, '0688162827': 2138, '0688170528': 2139, '0743225082': 2140, '0843928395': 2141, '1562477544': 2142, '1882723007': 2143, '1885840055': 2144, '1896095186': 2145, '0375507299': 2146, '202005986x': 2147, '202054296X': 2148, '2020555549': 2149, '2020581167': 2150, '2070377229': 2151, '2253170313': 2152, '2264035894': 2153, '2877304892': 2154, '0553151967': 2155, '0765342294': 2156, '1550741055': 2157, '1550741195': 2158, '0060959037': 2159, '0449225208': 2160, '0451182391': 2161, '0515109509': 2162, '1576731235': 2163, '0862321107': 2164, '0380820145': 2165, '0345330293': 2166, '0061095052': 2167, '0440223202': 2168, '044023574X': 2169, '0451182014': 2170, '8408022938': 2171, '8408044079': 2172, '8422642999': 2173, '8423322912': 2174, '8440644965': 2175, '8440662394': 2176, '8466307125': 2177, '8497593197': 2178, '3442093406': 2179, '0679309519': 2180, '2841160297': 2181, '9782253172109': 2182, '0375704965': 2183, '0446364495': 2184, '0425182215': 2185, '042518692X': 2186, '0451197674': 2187, '0451410017': 2188, '0451410785': 2189, '0515132039': 2190, '0553578227': 2191, '074341022X': 2192, '0553381903': 2193, '0670528951': 2194, '0446404136': 2195, '0192818252': 2196, '359625180X': 2197, '3894376163': 2198, '3596109744': 2199, '0679735909': 2200, '0786867647': 2201, '1865085537': 2202, '0446609404': 2203, '097162397X': 2204, '0440402255': 2205, '0945575009': 2206, '0399147772': 2207, '3511749116': 2208, '0553574078': 2209, '0312186681': 2210, '0140270590': 2211, '0345457374': 2212, '0553578316': 2213, '1583225366': 2214, '3442421357': 2215, '0552995061': 2216, '0553408453': 2217, '0860680649': 2218, '0399146164': 2219, '0316284955': 2220, '0786868015': 2221, '0312995423': 2222, '0007139918': 2223, '0449223612': 2224, '0064405788': 2225, '0743400526': 2226, '0399135790': 2227, '0771037163': 2228, '0671014188': 2229, '0671014196': 2230, '0449205193': 2231, '155874262X': 2232, '1558747109': 2233, '0385260075': 2234, '0435120425': 2235, '0440211263': 2236, '0553274503': 2237, '0590045296': 2238, '0679412956': 2239, '0689818904': 2240, '0743525493': 2241, '082301200X': 2242, '0865732027': 2243, '0865732132': 2244, '1561580880': 2245, '0345387651': 2246, '1892597020': 2247, '0060809833': 2248, '0380698439': 2249, '0380865610': 2250, '0439050006': 2251, '0440486599': 2252, '067161746X': 2253, '0767907566': 2254, '0789721260': 2255, '0843106743': 2256, '0884159221': 2257, '0894803700': 2258, '0912333022': 2259, '0914511211': 2260, '1558531025': 2261, '1569661057': 2262, '1885071213': 2263, '0449907597': 2264, '0316184152': 2265, '0425163393': 2266, '0553275739': 2267, '0553579606': 2268, '0002005018': 2269, '074322678X': 2270, '0887841740': 2271, '1552041778': 2272, '1567407781': 2273, '1575663937': 2274, '1881320189': 2275, '0452264464': 2276, '8477024456': 2277, '1879384493': 2278, '0061076031': 2279, '0439095026': 2280, '0689821166': 2281, '0345402871': 2282, '0425099148': 2283, '0553264990': 2284, '0891075275': 2285, '0891076182': 2286, '0375759778': 2287, '3404921038': 2288, '0060168013': 2289, '0553582909': 2290, '0671888587': 2291, '0553582747': 2292, '0060914068': 2293, '0156047624': 2294, '0245542957': 2295, '0380715899': 2296, '0671623249': 2297, '0679865691': 2298, '2070423204': 2299, '0394743741': 2300, '0617683993': 2301, '0676973655': 2302, '1853260053': 2303, '1414035004': 2304, '0060938412': 2305, '0394895894': 2306, '0375410538': 2307, '0966986105': 2308, '087113375X': 2309, '0340767936': 2310, '0060930365': 2311, '0071416331': 2312, '0375509038': 2313, '0553062042': 2314, '8445071408': 2315, '8445071769': 2316, '8445071777': 2317, '0671867156': 2318, '0312261594': 2319, '0316748641': 2320, '0385235941': 2321, '0446677450': 2322, '0553347594': 2323, '0671621009': 2324, '8472238822': 2325, '0671864769': 2326, '0671521519': 2327, '0440222303': 2328, '0312953453': 2329, '0446608653': 2330, '0446612618': 2331, '0451208080': 2332, '0553584383': 2333, '0812575954': 2334, '0679429220': 2335, '0316735736': 2336, '0345372700': 2337, '0771024894': 2338, '0840734530': 2339, '8573022876': 2340, '8573024771': 2341, '9722322702': 2342, '9727110843': 2343, '9727114962': 2344, '9728579225': 2345, '0451205197': 2346, '0061099325': 2347, '0446601640': 2348, '1900850303': 2349, '0451410319': 2350, '9044601695': 2351, '100940/86': 2352, '127420/98': 2353, '13440/86': 2354, '1351394403': 2355, '140274871': 2356, '15019/87': 2357, '16560/87': 2358, '16785/87': 2359, '18128/87': 2360, '18678/87': 2361, '19973/88': 2362, '203671/03': 2363, '2070567842': 2364, '23950/88': 2365, '30623/89': 2366, '36388/90': 2367, '40052/90': 2368, '40614/2098': 2369, '71837/93': 2370, '75666/95': 2371, '77556/94': 2372, '80651/94': 2373, '8401422825': 2374, '8440630794': 2375, '847223973X': 2376, '8476409419': 2377, '8497890663': 2378, '8585362693': 2379, '8585443464': 2380, '9714511081': 2381, '9721028800': 2382, '9721033561': 2383, '9721035130': 2384, '9722013831': 2385, '9722020242': 2386, '9722105507': 2387, '9722113747': 2388, '9722319914': 2389, '9722330950': 2390, '9722902628': 2391, '972370403X': 2392, '9723706504': 2393, '9724114384': 2394, '9724128725': 2395, '9724129411': 2396, '9724131009': 2397, '9724502023': 2398, '9724508552': 2399, '9724509524': 2400, '97245146089': 2401, '9726080630': 2402, '9726081327': 2403, '9726081378': 2404, '9726081424': 2405, '9726101034': 2406, '9726593855': 2407, '9726653525': 2408, '9726991366': 2409, '9726993474': 2410, '9727100112': 2411, '9727110541': 2412, '9728305729': 2413, '9728313039': 2414, '9728440006': 2415, '9728440030': 2416, '9728440057': 2417, '9728440138': 2418, '9728440170': 2419, '9728440200': 2420, '9728440324': 2421, '9728440383': 2422, '9728440405': 2423, '9728440456': 2424, '9728440642': 2425, '9728440693': 2426, '9728440804': 2427, '9728487002': 2428, '9728487142': 2429, '9728487150': 2430, '9728487266': 2431, '9728487304': 2432, '9728487355': 2433, '9728487576': 2434, '9728487606': 2435, '9728487614': 2436, '9728515227': 2437, '9729720495': 2438, '972975831X': 2439, '9729817715': 2440, '9729852405': 2441, '9748440537': 2442, '0002740230': 2443, '0140252800': 2444, '0060801263': 2445, '0061030147': 2446, '0140250964': 2447, '1880539365$9.': 2448, '0446527165': 2449, '0671461494': 2450, '0385337639': 2451, '039575514X': 2452, '0451206673': 2453, '0007123817': 2454, '0486284735': 2455, '0671021745': 2456, '0671047612': 2457, '0671504282': 2458, '9511173758': 2459, '0553278223': 2460, '3150000335': 2461, '3257202083': 2462, '3257203136': 2463, '3257203659': 2464, '3257207522': 2465, '3257208626': 2466, '3257208634': 2467, '3257208640': 2468, '3257208650': 2469, '3257208669': 2470, '3257210450': 2471, '3257212054': 2472, '3257212429': 2473, '3257214154': 2474, '3257216416': 2475, '3257233051': 2476, '342311360X': 2477, '3423114185': 2478, '3451040395': 2479, '3453212150': 2480, '3492045642': 2481, '3498020862': 2482, '3499110695': 2483, '3499151502': 2484, '349917281X': 2485, '3518370324': 2486, '3548254268': 2487, '3570300099': 2488, '3596221269': 2489, '3596292646': 2490, '3928812343': 2491, '393463849X': 2492, '0060915544': 2493, '0140272100': 2494, '0375400117': 2495, '0385316895': 2496, '0385720106': 2497, '0425163407': 2498, '0446364800': 2499, '0446606383': 2500, '0553580388': 2501, '0786863986': 2502, '0803251718': 2503, '0060987103': 2504, '0151008116': 2505, '0525947647': 2506, '0804111359': 2507, '0435272683': 2508, '0349109117': 2509, '0060502320': 2510, '0060934700': 2511, '0060976977': 2512, '0064471047': 2513, '0066238501': 2514, '0312863934': 2515, '0373033605': 2516, '0373162669': 2517, '0373226063': 2518, '0373226144': 2519, '0373243944': 2520, '0373243979': 2521, '0373709889': 2522, '0373810431': 2523, '0373810601': 2524, '0373834446': 2525, '0373834489': 2526, '0373836023': 2527, '0375756469': 2528, '037582345X': 2529, '0375823468': 2530, '0380730448': 2531, '0380789035': 2532, '0380810492': 2533, '0380817845': 2534, '0380973634': 2535, '0380973650': 2536, '0380973839': 2537, '0380977281': 2538, '038097827X': 2539, '0439064864': 2540, '0439136350': 2541, '0439139597': 2542, '0446341932': 2543, '0451167317': 2544, '0451406176': 2545, '0451409256': 2546, '0451524934': 2547, '0451526341': 2548, '0553263633': 2549, '0553280325': 2550, '0590353403': 2551, '0618002227': 2552, '0679879242': 2553, '0681415207': 2554, '1556520743': 2555, '156389226X': 2556, '1563895730': 2557, '1567310877': 2558, '156971620X': 2559, '1931081727': 2560, '0440235502': 2561, '1573225487': 2562, '1853260673': 2563, '8700236403': 2564, '0060977477': 2565, '0520011171': 2566, '0670856045': 2567, '0872200760': 2568, '0671649949': 2569, '0590431110': 2570, '0064470113': 2571, '0553571486': 2572, '0972044205': 2573, '0312963009': 2574, '0345430476': 2575, '0380728729': 2576, '038081840X': 2577, '055329198X': 2578, '0671018930': 2579, '0812541642': 2580, '0312988699': 2581, '8483007010': 2582, '0385313748': 2583, '0671440276': 2584, '1575843366': 2585, '0684193957': 2586, '0380730138': 2587, '014062032X': 2588, '1573228737': 2589, '9681500555': 2590, '0452283914': 2591, '067153484X': 2592, '0380728273': 2593, '8433914545': 2594, '8484509141': 2595, '0446606197': 2596, '0575064706': 2597, '0671643290': 2598, '0773756183': 2599, '140102505X': 2600, '0062770500': 2601, '0671847546': 2602, '667241688': 2603, '0380815923': 2604, '0385416342': 2605, '0425098109': 2606, '0517577402': 2607, '0712695230': 2608, '0743411269': 2609, '0891091963': 2610, '1880185008': 2611, '0198320264': 2612, '0373196989': 2613, '0451527747': 2614, '0812504208': 2615, '1590071212': 2616, '0060973897': 2617, '006101351X': 2618, '0140104682': 2619, '039456894X': 2620, '0449002632': 2621, '0449213773': 2622, '0452279690': 2623, '0679725393': 2624, '0802114369': 2625, '0819154946': 2626, '0897322339': 2627, '0940322978': 2628, '1573225126': 2629, '1579651658': 2630, '1878424319': 2631, '8427007450': 2632, '8429725792': 2633, '8432295914': 2634, '8473861345': 2635, '8474103347': 2636, '847592543X': 2637, '8475960650': 2638, '8475960936': 2639, '8476021550': 2640, '8476021569': 2641, '8476021844': 2642, '8477270120': 2643, '8477397856': 2644, '8478092943': 2645, '8478098267': 2646, '8478884963': 2647, '8483002523': 2648, '8483008505': 2649, '8486433193': 2650, '8486433673': 2651, '8742977932': 2652, '0600586898': 2653, '1857938011': 2654, '8495971909': 2655, '0312283784': 2656, '0553582682': 2657, '0590947257': 2658, '0801491827': 2659, '1561561428': 2660, '0553210092': 2661, '0553258524': 2662, '0316314927': 2663, '0375414746': 2664, '0425156842': 2665, '0805063897': 2666, '0679777431': 2667, '0553285343': 2668, '0486285529': 2669, '0385495145': 2670, '0842329129': 2671, '0393321576': 2672, '0743424425': 2673, '0446610178': 2674, '0684854953': 2675, '0385337132': 2676, '0440235057': 2677, '0618119760': 2678, '0871138646': 2679, '0026329859': 2680, '0060925000': 2681, '0060932759': 2682, '0061000280': 2683, '0393048977': 2684, '039914739X': 2685, '0451523318': 2686, '0486281965': 2687, '0553145460': 2688, '0684824442': 2689, '081296666X': 2690, '1877727083': 2691, '0486206173': 2692, '0312278586': 2693, '8807170698': 2694, '8838916489': 2695, '8845229041': 2696, '887641486X': 2697, '9770390107900': 2698, '0140370900': 2699, '0030096189': 2700, '0312965745': 2701, '0345374657': 2702, '0395710901': 2703, '080521061X': 2704, '0865732787': 2705, '0679310002': 2706, '0312288115': 2707, '0515118656': 2708, '1561672033': 2709, '0425178242': 2710, '0451202341': 2711, '0345441133': 2712, '0385335407': 2713, '0385490992': 2714, '0486272664': 2715, '0945586051': 2716, '0590419625': 2717, '0451195663': 2718, '055356451X': 2719, '0743412621': 2720, '0849943450': 2721, '084994371X': 2722, '0140179836': 2723, '0345348656': 2724, '0373076746': 2725, '0385483724': 2726, '0385496095': 2727, '0395798671': 2728, '0439099404': 2729, '0440241006': 2730, '0440508827': 2731, '0515131679': 2732, '068484267X': 2733, '0805009086': 2734, '0809244942': 2735, '0892819774': 2736, '1558743669': 2737, '006017143X': 2738, '0345313860': 2739, '0385306032': 2740, '038549825X': 2741, '042517736X': 2742, '0553202294': 2743, '0671868713': 2744, '0679401377': 2745, '0805056491': 2746, '0816152446': 2747, '1562827049': 2748, '0020427859': 2749, '0060558865': 2750, '0140230165': 2751, '0312312628': 2752, '0345369068': 2753, '034546074X': 2754, '0375815147': 2755, '0425115844': 2756, '0425168948': 2757, '0451184718': 2758, '0553294849': 2759, '0553297341': 2760, '0553571842': 2761, '055357695X': 2762, '0553580523': 2763, '0553583441': 2764, '0553583468': 2765, '0590021117': 2766, '0679893105': 2767, '0689710879': 2768, '0689710887': 2769, '0689710895': 2770, '0689711522': 2771, '0743260244': 2772, '0743444523': 2773, '0767912918': 2774, '0812533534': 2775, '0821772953': 2776, '0898153778': 2777, '0936034025': 2778, '1557733856': 2779, '1557734909': 2780, '0385335679': 2781, '0671525832': 2782, '0553279572': 2783, '0516076272': 2784, '0679450432': 2785, '0821775863': 2786, '0670855758': 2787, '8845901777': 2788, '0446364193': 2789, '0061042943': 2790, '0312206763': 2791, '0385314019': 2792, '0399144463': 2793, '0618231617': 2794, '0743444167': 2795, '0965044192': 2796, '0140185216': 2797, '0425174484': 2798, '0486272745': 2799, '0684717255': 2800, '0787955671': 2801, '8807120194': 2802, '0062507249': 2803, '0060083298': 2804, '0140293248': 2805, '0446610399': 2806, '0807070718': 2807, '1576737357': 2808, '0345305477': 2809, '0671808672': 2810, '0743213831': 2811, '8804367482': 2812, '0020867409': 2813, '0062517856': 2814, '015600710X': 2815, '0316735027': 2816, '193156146X': 2817, '0140021566': 2818, '0449245691': 2819, '8447802701': 2820, '9870205656': 2821, '2070334368': 2822, '2070384349': 2823, '2070417743': 2824, '207053880X': 2825, '2253004022': 2826, '2253007102': 2827, '2266029460': 2828, '2266033689': 2829, '2266084372': 2830, '2877060527': 2831, '3423105410': 2832, '3423202033': 2833, '3426760207': 2834, '3466110564': 2835, '3492207006': 2836, '3725410127': 2837, '3442724686': 2838, '3596144434': 2839, '3890827462': 2840, '0060164662': 2841, '0060191929': 2842, '0140107649': 2843, '0140128107': 2844, '0151000719': 2845, '0151001006': 2846, '0316603287': 2847, '0316693006': 2848, '0316779423': 2849, '0316779490': 2850, '0316969443': 2851, '0345339711': 2852, '0345428900': 2853, '0375400699': 2854, '0380978539': 2855, '0385420161': 2856, '0385470819': 2857, '0385500769': 2858, '0385505833': 2859, '0394574745': 2860, '0399148582': 2861, '0425184129': 2862, '0446523569': 2863, '0446525502': 2864, '0446525537': 2865, '0446527793': 2866, '0446531332': 2867, '0525943862': 2868, '052594463X': 2869, '0609605925': 2870, '0609606727': 2871, '0671042556': 2872, '0679410430': 2873, '0679419624': 2874, '0679442790': 2875, '0679603352': 2876, '067972768X': 2877, '0679732241': 2878, '0679746048': 2879, '0684874318': 2880, '0688180639': 2881, '0743230051': 2882, '0842336214': 2883, '1558747028': 2884, '1558747346': 2885, '1570717257': 2886, '0451176812': 2887, '0394551427': 2888, '0446602086': 2889, '0718144538': 2890, '0006510345': 2891, '0007100221': 2892, '0061092606': 2893, '0099449943': 2894, '0140292918': 2895, '0140366660': 2896, '0140366857': 2897, '0140482202': 2898, '0140622063': 2899, '0198604025': 2900, '0261102214': 2901, '0349102155': 2902, '0416196772': 2903, '0552771090': 2904, '057120354X': 2905, '0571209521': 2906, '0671894455': 2907, '0743222229': 2908, '0743462335': 2909, '0747538069': 2910, '0749391308': 2911, '0749396067': 2912, '0752804510': 2913, '0753507579': 2914, '0753807327': 2915, '0890877564': 2916, '0947782230': 2917, '1405200677': 2918, '1405401184': 2919, '1841150355': 2920, '1841950521': 2921, '1841952931': 2922, '1842040405': 2923, '1853260002': 2924, '185479549X': 2925, '1854795554': 2926, '1858813093': 2927, '190178424X': 2928, '2020315491': 2929, '2070322068': 2930, '2070375617': 2931, '2070393577': 2932, '2229137939': 2933, '2253000868': 2934, '2253001457': 2935, '2253002895': 2936, '2253006866': 2937, '2253037796': 2938, '2253043974': 2939, '2253046922': 2940, '2253049417': 2941, '2253051381': 2942, '2253140872': 2943, '2253148539': 2944, '2253170127': 2945, '2253170372': 2946, '2253170569': 2947, '2253171077': 2948, '2702418112': 2949, '2737329787': 2950, '2742722771': 2951, '2857043821': 2952, '2868696945': 2953, '2871290911': 2954, '2876915618': 2955, '2876916193': 2956, '2909051196': 2957, '0375501347': 2958, '0060927240': 2959, '0060006048': 2960, '0060934719': 2961, '0307215342': 2962, '0312287240': 2963, '0345370740': 2964, '0345403339': 2965, '0374343381': 2966, '0374386676': 2967, '0380788497': 2968, '0425049981': 2969, '0440219604': 2970, '0440226694': 2971, '0446300101': 2972, '0451456548': 2973, '0553574159': 2974, '0553574167': 2975, '0553574175': 2976, '0553579673': 2977, '0679801146': 2978, '0786886463': 2979, '0786889160': 2980, '0962893862': 2981, '156341029X': 2982, '1563411148': 2983, '1563899388': 2984, '1886383421': 2985, '1888451084': 2986, '038529929X': 2987, '0767903285': 2988, '0345418778': 2989, '0316875961': 2990, '0552996092': 2991, '0517201658': 2992, '039914370X': 2993, '0743211383': 2994, '0312977905': 2995, '0451205421': 2996, '0812521331': 2997, '1884777805': 2998, '0894342789': 2999, '8806142267': 3000, '0394559487': 3001, '039457513X': 3002, '0670844594': 3003, '0804001944': 3004, '0060535032': 3005, '0064405052': 3006, '0064409457': 3007, '0152162445': 3008, '015216250X': 3009, '0152162577': 3010, '0345391802': 3011, '0439042917': 3012, '043922165X': 3013, '0439221676': 3014, '0439221684': 3015, '0439221706': 3016, '0439221714': 3017, '0439221730': 3018, '0440219078': 3019, '0440415993': 3020, '0590129015': 3021, '0590183729': 3022, '0590897985': 3023, '0689829698': 3024, '0689832877': 3025, '1562477528': 3026, '158852038': 3027, '9780590962735': 3028, '9781562477547': 3029, '0330367358': 3030, '3257201761': 3031, '3404118960': 3032, '349913358X': 3033, '3784419445': 3034, '0753804700': 3035, '0451155750': 3036, '0884111342': 3037, '0671694049': 3038, '0373250339': 3039, '0380820447': 3040, '0385497679': 3041, '0451454243': 3042, '067175145X': 3043, '0380538504': 3044, '038533334X': 3045, '0440120470': 3046, '0440222818': 3047, '0440224829': 3048, '0449001954': 3049, '0449131548': 3050, '0451185277': 3051, '0515134368': 3052, '0671779338': 3053, '1551660016': 3054, '1558505377': 3055, '0130139165': 3056, '0140065172': 3057, '0373036582': 3058, '0373037449': 3059, '0373196725': 3060, '0373196741': 3061, '0381999866': 3062, '0393030342': 3063, '044132231X': 3064, '0450029956': 3065, '0451524489': 3066, '0451526503': 3067, '0553256785': 3068, '0590514776': 3069, '07472668': 3070, '0786889705': 3071, '0425113892': 3072, '042512892X': 3073, '0425137945': 3074, '014036336X': 3075, '0812516826': 3076, '0679420118': 3077, '0741402858': 3078, '0741402912': 3079, '0741403056': 3080, '0741403471': 3081, '0741403781': 3082, '0741405784': 3083, '0741407213': 3084, '0741409690': 3085, '074141127X': 3086, '0741412740': 3087, '0759612277': 3088, '0871137380': 3089, '1585007366': 3090, '1588206769': 3091, '1594110119': 3092, '0553568760': 3093, '034538184X': 3094, '0140620109': 3095, '0140620125': 3096, '3499234246': 3097, '0671745530': 3098, '0553211412': 3099, '0805062971': 3100, '1573229385': 3101, '0945397410': 3102, '0060914653': 3103, '0345347536': 3104, '055321313X': 3105, '0060529709': 3106, '0140274154': 3107, '0375507256': 3108, '0375704027': 3109, '0876850867': 3110, '3473540420': 3111, '0590484753': 3112, '0874067391': 3113, '0449911004': 3114, '0975311255': 3115, '0553584510': 3116, '0345341201': 3117, '0060933771': 3118, '0060256672': 3119, '0060928336': 3120, '0140070206': 3121, '0140077022': 3122, '014016930X': 3123, '0140236589': 3124, '0140253602': 3125, '0316777730': 3126, '0375501851': 3127, '0375705228': 3128, '038001503X': 3129, '039592720X': 3130, '0440215625': 3131, '0553268449': 3132, '0679732764': 3133, '0684844729': 3134, '0810935627': 3135, '0877733759': 3136, '0911104542': 3137, '1566193966': 3138, '3499134446': 3139, '067142517X': 3140, '0345384466': 3141, '0451124340': 3142, '0671726889': 3143, '0099518015': 3144, '0152013369': 3145, '0425124819': 3146, '0440414717': 3147, '059044646': 3148, '0345409469': 3149, '0141001771': 3150, '0373250177': 3151, '0449005569': 3152, '0671027344': 3153, '0763615382': 3154, '0786884622': 3155, '0965975401': 3156, '8830415200': 3157, '8838423806': 3158, '0066211611': 3159, '0684819066': 3160, '0786927089': 3161, '0671578103': 3162, '3404203097': 3163, '3404203135': 3164, '3423009152': 3165, '3423620005': 3166, '3426074427': 3167, '3426616262': 3168, '3426701448': 3169, '3453046196': 3170, '3453137205': 3171, '3453147243': 3172, '3453171977': 3173, '3453177800': 3174, '3492229336': 3175, '3499237016': 3176, '3499425394': 3177, '3505044539': 3178, '3518371002': 3179, '3596133319': 3180, '3596142229': 3181, '3596505356': 3182, '3746611229': 3183, '3800025590': 3184, '3808536519': 3185, '3893850589': 3186, '3893852921': 3187, '3934254454': 3188, '0140042520': 3189, '0345358791': 3190, '0345375211': 3191, '034545829X': 3192, '0446677574': 3193, '0553574833': 3194, '0020418809': 3195, '0064401847': 3196, '0064402967': 3197, '0140440399': 3198, '0340188022': 3199, '0345334930': 3200, '0373218400': 3201, '0373484224': 3202, '0394557433': 3203, '0394743180': 3204, '039607412X': 3205, '0425179672': 3206, '0425195899': 3207, '0440215978': 3208, '0446344109': 3209, '0446895725': 3210, '0449230279': 3211, '0449700712': 3212, '0452265347': 3213, '051509465X': 3214, '0515135062': 3215, '0517556278': 3216, '0553205587': 3217, '0553247921': 3218, '0553250426': 3219, '0553258656': 3220, '0553280589': 3221, '0553290207': 3222, '0618260307': 3223, '067101420X': 3224, '0671641778': 3225, '8423995801': 3226, '0140266771': 3227, '0380002450': 3228, '0679723420': 3229, '0441004016': 3230, '0671500546': 3231, '0140620338': 3232, '0460878263': 3233, '3257061269': 3234, '3453088433': 3235, '3453199766': 3236, '3746670144': 3237, '0373057296': 3238, '0373058446': 3239, '0373092237': 3240, '0373257074': 3241, '0425137015': 3242, '0441001335': 3243, '0449212084': 3244, '0451450604': 3245, '0451454677': 3246, '0553572490': 3247, '0553576976': 3248, '000649840X': 3249, '0091880963': 3250, '009974371X': 3251, '0099771519': 3252, '0140431268': 3253, '014044503X': 3254, '0551030682': 3255, '0551031085': 3256, '0551032510': 3257, '0785268480': 3258, '0842329072': 3259, '0851707777': 3260, '1576832899': 3261, '1853261750': 3262, '067102535X': 3263, '0876855575': 3264, '0099422468': 3265, '0140272658': 3266, '3257250053': 3267, '340780573X': 3268, '3407805853': 3269, '3442432251': 3270, '349800878': 3271, '3785532237': 3272, '0140273980': 3273, '848966983X': 3274, '2070372294': 3275, '2264030542': 3276, '0029087104': 3277, '0030615321': 3278, '0226726770': 3279, '0312140940': 3280, '0345285549': 3281, '0345307674': 3282, '0345331605': 3283, '0385314744': 3284, '0394312066': 3285, '0425050750': 3286, '0439404371': 3287, '044100962X': 3288, '0451169530': 3289, '0553234811': 3290, '0553296981': 3291, '0553801031': 3292, '0671617028': 3293, '067163884X': 3294, '0679741011': 3295, '0766607119': 3296, '0939766027': 3297, '1895383129': 3298, '4491217967': 3299, '0385335482': 3300, '0553258001': 3301, '0375704043': 3302, '0805063889': 3303, '8586280070': 3304, '068986020X': 3305, '1573228567': 3306, '662257283': 3307, '0373084520': 3308, '0449217868': 3309, '0671573020': 3310, '2266026658': 3311, '2715224141': 3312, '0441003257': 3313, '0399149759': 3314, '0451181468': 3315, '0345384733': 3316, '0399146008': 3317, '0515132632': 3318, '1902879023': 3319, '0060930535': 3320, '0385473117': 3321, '1570362084': 3322, '0375702709': 3323, '044990928X': 3324, '0060916508': 3325, '000636988X': 3326, '0006642004': 3327, '0060562080': 3328, '0099254611': 3329, '0099385716': 3330, '0099427974': 3331, '009969221X': 3332, '0099755114': 3333, '0140562109': 3334, '0140563733': 3335, '0140620915': 3336, '0141182571': 3337, '0142000663': 3338, '0142300128': 3339, '0146003241': 3340, '0330258648': 3341, '0330306839': 3342, '0380012863': 3343, '0385600526': 3344, '0394404289': 3345, '0434971383': 3346, '0552106615': 3347, '0552107735': 3348, '0552108812': 3349, '055211804': 3350, '0552124753': 3351, '0552996009': 3352, '0552998001': 3353, '0552999504': 3354, '0552999512': 3355, '0575073004': 3356, '0575073314': 3357, '058242092X': 3358, '0586210687': 3359, '0613117905': 3360, '0679883878': 3361, '070121015X': 3362, '0722159676': 3363, '0744531500': 3364, '074603010X': 3365, '0749397543': 3366, '0749720182': 3367, '0749725028': 3368, '0752853007': 3369, '0805067868': 3370, '0811828379': 3371, '0861638522': 3372, '1578562333': 3373, '0345458915': 3374, '006092988X': 3375, '038531258X': 3376, '0140317937': 3377, '0749336501': 3378, '0553256696': 3379, '0785263780': 3380, '0802433243': 3381, '0375413081': 3382, '8422617226': 3383, '038533303X': 3384, '0451163753': 3385, '0786885688': 3386, '0345387007': 3387, '0671311891': 3388, '0671721038': 3389, '0671880187': 3390, '0771074719': 3391, '0802069347': 3392, '0895773538': 3393, '1558506454': 3394, '0375726403': 3395, '0472113658': 3396, '0553377868': 3397, '0609608444': 3398, '0767902521': 3399, '0892967048': 3400, '0915811332': 3401, '014131088X': 3402, '0345325818': 3403, '043909013X': 3404, '044023767X': 3405, '0884043142': 3406, '0312983212': 3407, '0553486411': 3408, '0865532168': 3409, '3478088534': 3410, '059040640X': 3411, '1566197155': 3412, '031227999X': 3413, '3404150406': 3414, '0385508417': 3415, '0718001044': 3416, '0812515722': 3417, '0848705459': 3418, '0061030651': 3419, '006109594X': 3420, '031298250X': 3421, '0425095584': 3422, '0425185710': 3423, '0451409086': 3424, '0553575619': 3425, '0671527215': 3426, '0486203077': 3427, '0671522817': 3428, '0618074716': 3429, '0151010102': 3430, '0385493800': 3431, '0553377876': 3432, '0671318314': 3433, '1400062888': 3434, '1558612815': 3435, '1931520038': 3436, '0061093092': 3437, '0061098361': 3438, '0070212570': 3439, '0174434642': 3440, '0312243022': 3441, '0312983824': 3442, '0345370805': 3443, '0375703055': 3444, '0385480016': 3445, '0394758285': 3446, '0440214424': 3447, '0446605891': 3448, '0446673544': 3449, '0449149676': 3450, '0451187903': 3451, '0451523067': 3452, '0671004565': 3453, '0679761837': 3454, '0679772677': 3455, '0743418174': 3456, '0446611239': 3457, '8481301132': 3458, '0486280616': 3459, '006101253X': 3460, '0380814021': 3461, '0380817683': 3462, '0440217806': 3463, '0446607835': 3464, '0451402103': 3465, '0671000381': 3466, '0671689231': 3467, '0671701053': 3468, '0743405978': 3469, '0061098795': 3470, '0373226519': 3471, '0465016146': 3472, '0791423549': 3473, '0380012774': 3474, '225313922X': 3475, '0060929596': 3476, '0373834985': 3477, '038533656X': 3478, '0440224675': 3479, '0679450548': 3480, '0743230213': 3481, '0802135196': 3482, '0375707425': 3483, '3453151933': 3484, '0231105592': 3485, '014056232X': 3486, '0440203155': 3487, '0440401119': 3488, '0812565959': 3489, '034536628X': 3490, '0425163385': 3491, '0553585118': 3492, '0880387483': 3493, '0373152655': 3494, '0451404033': 3495, '11238356': 3496, '8807840227': 3497, '0380773155': 3498, '3763500634': 3499, '0006513204': 3500, '0140621725': 3501, '014143984X': 3502, '0375726322': 3503, '0786889373': 3504, '1857988132': 3505, '2020291541': 3506, '2070360024': 3507, '2070360423': 3508, '2070364283': 3509, '2070375161': 3510, '2070412571': 3511, '2070415686': 3512, '2070417700': 3513, '2070426815': 3514, '2070513726': 3515, '2070544281': 3516, '2207245810': 3517, '2207250474': 3518, '2207251756': 3519, '2207252000': 3520, '2253001295': 3521, '2253004898': 3522, '2253005274': 3523, '2253009164': 3524, '2253051020': 3525, '2253152064': 3526, '2253152277': 3527, '2258036992': 3528, '2264027681': 3529, '2264028815': 3530, '2266022504': 3531, '2266085778': 3532, '2266120158': 3533, '2290305251': 3534, '2290307831': 3535, '2290314110': 3536, '2290331406': 3537, '2290337382': 3538, '2707318094': 3539, '2723407381': 3540, '2723407403': 3541, '2723407411': 3542, '2723409821': 3543, '273811167X': 3544, '287129478X': 3545, '2871294798': 3546, '0451522389': 3547, '034058269': 3548, '0425169324': 3549, '082176828X': 3550, '0316693324': 3551, '8420725927': 3552, '0140089586': 3553, '0330236504': 3554, '0345378490': 3555, '084813013290': 3556, '084845086330': 3557, '1559277785': 3558, '0205280854': 3559, '0312169655': 3560, '0312205872': 3561, '0345367898': 3562, '0345396529': 3563, '0385425686': 3564, '0393029190': 3565, '0440455332': 3566, '0449912558': 3567, '0553110721': 3568, '0553580272': 3569, '0609601628': 3570, '0670867144': 3571, '0679412271': 3572, '0679452281': 3573, '0785324712': 3574, '0803281730': 3575, '0805051732': 3576, '0811807150': 3577, '0934257345': 3578, '1558534245': 3579, '1560980087': 3580, '1860462995': 3581, '0770428797': 3582, '0385721358': 3583, '031231616X': 3584, '0894805770': 3585, '089480829X': 3586, '0971453217': 3587, '0553232053': 3588, '0062502174': 3589, '8508046642': 3590, '8511046019': 3591, '0345401123': 3592, '0345438329': 3593, '0688177751': 3594, '1593160127': 3595, '1593160151': 3596, '0451209435': 3597, '0618126988': 3598, '0060094850': 3599, '031219126X': 3600, '0872860175': 3601, '0446310492': 3602, '037348285X': 3603, '0812590244': 3604, '0963641328': 3605, '0060192119': 3606, '0836218256': 3607, '1574551108': 3608, '055357227X': 3609, '8807015293': 3610, '0689109865': 3611, '08846202260': 3612, '3518368540': 3613, '0141180633': 3614, '0773762078': 3615, '0786248688': 3616, '0749316853': 3617, '0753505592': 3618, '0753505657': 3619, '0753505703': 3620, '0753506262': 3621, '0786014210': 3622, '0061008028': 3623, '1888740051': 3624, '1931646384': 3625, '157566559X': 3626, '3423125551': 3627, '0060514949': 3628, '0066210151': 3629, '0375411992': 3630, '0425188361': 3631, '0060287802': 3632, '3423620196': 3633, '3442730066': 3634, '3453023471': 3635, '3828919383': 3636, '0743203313': 3637, '0345417623': 3638, '0425172554': 3639, '0425177173': 3640, '8817210412': 3641, '193072229X': 3642, '0380727501': 3643, '03990145990': 3644, '0312423799': 3645, '0316089745': 3646, '037542217X': 3647, '0345440773': 3648, '0061093106': 3649, '0440208912': 3650, '0515120006': 3651, '0515127396': 3652, '0684868911': 3653, '0345416260': 3654, '0345433084': 3655, '0385494785': 3656, '0385512104': 3657, '0451180208': 3658, '089587198X': 3659, '0525237704': 3660, '8422668947': 3661, '8432040592': 3662, '846630536X': 3663, '8489669597': 3664, '0060000805': 3665, '0060512822': 3666, '0060730552': 3667, '0061030015': 3668, '0061056871': 3669, '0140185844': 3670, '0140255087': 3671, '0142001430': 3672, '0142003581': 3673, '0151002290': 3674, '0151004137': 3675, '0156001314': 3676, '0156006332': 3677, '0224018256': 3678, '0312420366': 3679, '0316291161': 3680, '0316353299': 3681, '0330291610': 3682, '0330357808': 3683, '033036197X': 3684, '0330391763': 3685, '0330483013': 3686, '033390785X': 3687, '0345439481': 3688, '0345450515': 3689, '0375725296': 3690, '0380603764': 3691, '0385319452': 3692, '0385336403': 3693, '039914255X': 3694, '044652719X': 3695, '0451526988': 3696, '0451527569': 3697, '0531301427': 3698, '0553295071': 3699, '0590988301': 3700, '0595157939': 3701, '0606006133': 3702, '0606011773': 3703, '0618446877': 3704, '0671776134': 3705, '0676974562': 3706, '0702231088': 3707, '0743228480': 3708, '0743234413': 3709, '0743418735': 3710, '0743431014': 3711, '0746020120': 3712, '0747265097': 3713, '075350507X': 3714, '0812541979': 3715, '0881104086': 3716, '1400060648': 3717, '1585672939': 3718, '1585673625': 3719, '1592247865': 3720, '1841955469': 3721, '1860491235': 3722, '1876825251': 3723, '0062502182': 3724, '0060175400': 3725, '0345410998': 3726, '0374517886': 3727, '0375505547': 3728, '0380728249': 3729, '0385325126': 3730, '0385490615': 3731, '0394742591': 3732, '0399133143': 3733, '0451183665': 3734, '0486408760': 3735, '0517149257': 3736, '0517573822': 3737, '0570060265': 3738, '0618127453': 3739, '0671017586': 3740, '0671024248': 3741, '0679751343': 3742, '0684848783': 3743, '0684855631': 3744, '0684863324': 3745, '0802713815': 3746, '0812590236': 3747, '0844239461': 3748, '0850315336': 3749, '0875964125': 3750, '0877732906': 3751, '0887482570': 3752, '0913367176': 3753, '0929587227': 3754, '0933121245': 3755, '1558007725': 3756, '1569021074': 3757, '1893910245': 3758, '1932270329': 3759, '044022165X': 3760, '0451201558': 3761, '0891074759': 3762, '0061032077': 3763, '2253004243': 3764, '0679459626': 3765, '0812566629': 3766, '0816614024': 3767, '3518390473': 3768, '3596113350': 3769, '0553583085': 3770, '0671001701': 3771, '0782125557': 3772, '1555217532': 3773, '1892051001': 3774, '1587991039': 3775, '1587214768': 3776, '1857931467': 3777, '0140004424': 3778, '0380706725': 3779, '0380717085': 3780, '0440512158': 3781, '0767904281': 3782, '0451524829': 3783, '0751346853': 3784, '0465090974': 3785, '0877287384': 3786, '1931412677': 3787, '0670848549': 3788, '0345370775': 3789, '0006482058': 3790, '0425130215': 3791, '8420444782': 3792, '8433924710': 3793, '8489618844': 3794, '8497594886': 3795, '006017935X': 3796, '1558532161': 3797, '8879835181': 3798, '0060394447': 3799, '006093395X': 3800, '034540288X': 3801, '0345425707': 3802, '0345434692': 3803, '0374177023': 3804, '037541181X': 3805, '0425167313': 3806, '0451821971': 3807, '0553131893': 3808, '0553234609': 3809, '0553258540': 3810, '0802713661': 3811, '0440237688': 3812, '0679884394': 3813, '1566091446': 3814, '0552146161': 3815, '006105660X': 3816, '0374281602': 3817, '0446519960': 3818, '0609610597': 3819, '0671698419': 3820, '0140126716': 3821, '0156787334': 3822, '1569314195': 3823, 'O809463121': 3824, '0060908548': 3825, '0028606353': 3826, '0061030953': 3827, '0316182540': 3828, '0316919896': 3829, '0446355224': 3830, '0446604658': 3831, '0446611611': 3832, '0449212602': 3833, '0451147375': 3834, '0451178033': 3835, '0553282476': 3836, '0553299506': 3837, '0553343874': 3838, '0881845906': 3839, '0590634275': 3840, '0061031569': 3841, '3257228007': 3842, '0385511612': 3843, '0679426159': 3844, '0671020315': 3845, '067169071X': 3846, '1860469450': 3847, '0449214982': 3848, '0515090174': 3849, '0515095826': 3850, '0515111279': 3851, '3492232981': 3852, '0553580876': 3853, '0385475713': 3854, '0553280341': 3855, '0425045250': 3856, '0689825234': 3857, '0553375407': 3858, '0151006903': 3859, '0679744479': 3860, '1931561281': 3861, '8401466350': 3862, '1562477676': 3863, '0312983654': 3864, '0345454073': 3865, '0553561618': 3866, '0553582933': 3867, '0671034022': 3868, '0789414708': 3869, '006440630': 3870, '8804332247': 3871, '8804362979': 3872, '8804398124': 3873, '8845906876': 3874, '1740510305': 3875, '0060187271': 3876, '0060975547': 3877, '0131554255': 3878, '0312314256': 3879, '0312868308': 3880, '0312874006': 3881, '0316136778': 3882, '0345382544': 3883, '0345416880': 3884, '0385483503': 3885, '038548951X': 3886, '0385497288': 3887, '0393312801': 3888, '0445202718': 3889, '0451162463': 3890, '0553380958': 3891, '0590486101': 3892, '0679725164': 3893, '0679775471': 3894, '0812505166': 3895, '34501532095': 3896, '0786005998': 3897, '0385254520': 3898, '0515122491': 3899, '051512902X': 3900, '0515131091': 3901, '0552138223': 3902, '0812530314': 3903, '8401427177': 3904, '8420401153': 3905, '8484502112': 3906, '0060182792': 3907, '0393038440': 3908, '0446606723': 3909, '0679721819': 3910, '0737020121': 3911, '0375412972': 3912, '0679745645': 3913, '1569470901': 3914, '0449225151': 3915, '0590449737': 3916, '0765342405': 3917, '8408026933': 3918, '844062719X': 3919, '844507119X': 3920, '8466307982': 3921, '8493225061': 3922, '0767905180': 3923, '0060536705': 3924, '0061042005': 3925, '0061083275': 3926, '0061095869': 3927, '0312968256': 3928, '0316089699': 3929, '0345447840': 3930, '0373079621': 3931, '0373121601': 3932, '0373121709': 3933, '0373121857': 3934, '0373168438': 3935, '0373169299': 3936, '0373195036': 3937, '0373196636': 3938, '0373224818': 3939, '0373226934': 3940, '0373226950': 3941, '0373240228': 3942, '0373242328': 3943, '037325928X': 3944, '0373259840': 3945, '0373271867': 3946, '0373273193': 3947, '0373301529': 3948, '0373301537': 3949, '037330174X': 3950, '0373700474': 3951, '0373703023': 3952, '0373706200': 3953, '0373706545': 3954, '0373706901': 3955, '0373707959': 3956, '037370822X': 3957, '0373708300': 3958, '0373708319': 3959, '0373708351': 3960, '0373764146': 3961, '037383232X': 3962, '0373835426': 3963, '0373871864': 3964, '0373871945': 3965, '038076735X': 3966, '0380775840': 3967, '0380777304': 3968, '0425181111': 3969, '0440168724': 3970, '0440225868': 3971, '0446346438': 3972, '0446357405': 3973, '0446364762': 3974, '0446603082': 3975, '0451205189': 3976, '0451205650': 3977, '0451207963': 3978, '0505522969': 3979, '0505524333': 3980, '050552435X': 3981, '0515130419': 3982, '0517077744': 3983, '0553107232': 3984, '0553267159': 3985, '0553285947': 3986, '055329945X': 3987, '0553562746': 3988, '0553584898': 3989, '0671007696': 3990, '0671521446': 3991, '067179793X': 3992, '0689856644': 3993, '0743431367': 3994, '0743467191': 3995, '0821740121': 3996, '0821768107': 3997, '0828003882': 3998, '0843948078': 3999, '1551664348': 4000, '155166450X': 4001, '1551665794': 4002, '1551666200': 4003, '1551669404': 4004, '0380804670': 4005, '0671411535': 4006, '067164257X': 4007, '0440900581': 4008, '8807810360': 4009, '1860464289': 4010, '0140348107': 4011, '0884092119': 4012, '2253032832': 4013, '0060506679': 4014, '0375701427': 4015, '0553135457': 4016, '0803263724': 4017, '0380000830': 4018, '0380014300': 4019, '0812504364': 4020, '0895773570': 4021, '0007683022': 4022, '0340588721': 4023, '2253143790': 4024, '2280150131': 4025, '2743606789': 4026, '8806160427': 4027, '8879833103': 4028, '0553255142': 4029, '0060936363': 4030, '0312281250': 4031, '0345406516': 4032, '038082101X': 4033, '0385490461': 4034, '843760494X': 4035, '9500703203': 4036, '3426861550': 4037, '3453099613': 4038, '0312774842': 4039, '0312979479': 4040, '0375727566': 4041, '0671708635': 4042, '1579213405': 4043, '0399139125': 4044, '972747005X': 4045, '0099288850': 4046, '0099387913': 4047, '0553377884': 4048, '9679787834': 4049, '0061012289': 4050, '0425162788': 4051, '0609605623': 4052, '0451208811': 4053, '3404920910': 4054, '2070419878': 4055, '0070419361': 4056, '0312852487': 4057, '0345348109': 4058, '0345378482': 4059, '0375705090': 4060, '0385029551': 4061, '0394712447': 4062, '0525463313': 4063, '0671722727': 4064, '0684818868': 4065, '0717802418': 4066, '0762406984': 4067, '0765348438': 4068, '0765348446': 4069, '0778800229': 4070, '0786868716': 4071, '0804832463': 4072, '0812513738': 4073, '0812550706': 4074, '0871401185': 4075, '0890420254': 4076, '1882180887': 4077, '1929194196': 4078, '477001970X': 4079, '0207185905': 4080, '0330236474': 4081, '0340612843': 4082, '0670856258': 4083, '0733311733': 4084, '0855612819': 4085, '1869430727': 4086, '416158501': 4087, '0812515609': 4088, '3442424623': 4089, '3502517959': 4090, '0425122123': 4091, '0812530489': 4092, '0446326488': 4093, '0446609986': 4094, '080410882X': 4095, '0375726624': 4096, '0892882816': 4097, '1577487370': 4098, '0060922532': 4099, '0060951710': 4100, '0786864133': 4101, '006251119X': 4102, '0345380274': 4103, '0440224039': 4104, '0060928069': 4105, '0060931361': 4106, '0130289221': 4107, '0130647608': 4108, '0130891347': 4109, '0130957011': 4110, '0140125086': 4111, '0140260234': 4112, '0140261346': 4113, '0140289216': 4114, '0151104212': 4115, '0194315193': 4116, '0300087152': 4117, '0316441791': 4118, '0340697687': 4119, '0345333152': 4120, '0375757325': 4121, '0380810336': 4122, '0385722192': 4123, '0394743644': 4124, '0415167914': 4125, '0435240609': 4126, '044022330X': 4127, '0446391581': 4128, '0452266688': 4129, '0465021433': 4130, '0517084732': 4131, '0582037670': 4132, '0670031518': 4133, '067162248X': 4134, '0679430946': 4135, '0684866005': 4136, '068815252X': 4137, '0688164080': 4138, '0767913973': 4139, '078686351X': 4140, '0803959907': 4141, '0806957050': 4142, '0840339402': 4143, '0879804211': 4144, '0953309819': 4145, '0968246907': 4146, '1564146731': 4147, '1565115228': 4148, '1565840968': 4149, '157322829X': 4150, '1573922110': 4151, '1581820542': 4152, '1585420611': 4153, '185788292X': 4154, 'B0000DAPP1': 4155, '0099203502': 4156, '0440224659': 4157, '1841492086': 4158, '9724608152': 4159, '0330357190': 4160, '0413588106': 4161, '0671757059': 4162, '014021649': 4163, '0312267819': 4164, '0394830148': 4165, '0835902242': 4166, '087197195X': 4167, '1563521024': 4168, '0060175532': 4169, '0671023373': 4170, '0679748083': 4171, '0425175405': 4172, '0749930721': 4173, '1857990889': 4174, '9027479593': 4175, '8806138480': 4176, '0345298365': 4177, '1570422826': 4178, '0312874995': 4179, '880436033X': 4180, '8811667798': 4181, '8912667827': 4182, '0425185702': 4183, '8479048778': 4184, '3888972922': 4185, '8496246221': 4186, '0684862719': 4187, '8522405697': 4188, '852543010': 4189, '8528602931': 4190, '8532501192': 4191, '8570070063': 4192, '8585438010': 4193, '8585622032': 4194, '8586488046': 4195, '8526502654': 4196, '8485229606': 4197, '0552998338': 4198, '0571219764': 4199, '0385299842': 4200, '0486243451': 4201, '0713723076': 4202, '071411393X': 4203, '087226002X': 4204, '1555910408': 4205, '0380796090': 4206, '0399147357': 4207, '0440221420': 4208, '0446604666': 4209, '0451197879': 4210, '0671614460': 4211, '0684836491': 4212, '0684859262': 4213, '0688156126': 4214, '0740704532': 4215, '0836221974': 4216, '1552976246': 4217, '0316154067': 4218, '0345353145': 4219, '0449221482': 4220, '0515120863': 4221, '0553279912': 4222, '0553348973': 4223, '0671023616': 4224, '0752841890': 4225, '1855681870': 4226, '8590368130': 4227, '0446516538': 4228, '0060167084': 4229, '0151002231': 4230, '0226067114': 4231, '0312028784': 4232, '0380717972': 4233, '0385239068': 4234, '0393011224': 4235, '0415907411': 4236, '0453006892': 4237, '0472095978': 4238, '0525480374': 4239, '0525943730': 4240, '0802116825': 4241, '0802130259': 4242, '0807079200': 4243, '0812822625': 4244, '0841502439': 4245, '0846705672': 4246, '0877736510': 4247, '0878670319': 4248, '0890876096': 4249, '0896082172': 4250, '1555831753': 4251, '1560238763': 4252, '1565842103': 4253, '1895857058': 4254, '0060191988': 4255, '0062500287': 4256, '0062507567': 4257, '0062508482': 4258, '0062509594': 4259, '006251279X': 4260, '0062513346': 4261, '0062513982': 4262, '0140298479': 4263, '0140422226': 4264, '0345453549': 4265, '0345453557': 4266, '0385315287': 4267, '0385484100': 4268, '0425133656': 4269, '0440108268': 4270, '0440204321': 4271, '0446676489': 4272, '0451525353': 4273, '0525945040': 4274, '0553255959': 4275, '0553274384': 4276, '0553476580': 4277, '067084487X': 4278, '0671777351': 4279, '0694524638': 4280, '0743400720': 4281, '0786860642': 4282, '0806514094': 4283, '0809237601': 4284, '0809237628': 4285, '0811812006': 4286, '0821211226': 4287, '0874221501': 4288, '0912365579': 4289, '0915811898': 4290, '1561706213': 4291, '1561707236': 4292, '1561707244': 4293, '1563054671': 4294, '1577310454': 4295, '1577311868': 4296, '1880032627': 4297, '1882591275': 4298, '0007166311': 4299, '0030020786': 4300, '0060248025': 4301, '0060256664': 4302, '0060256737': 4303, '0060950536': 4304, '0061020419': 4305, '0061020427': 4306, '0061056278': 4307, '0061056286': 4308, '0061056294': 4309, '0061059773': 4310, '0099428385': 4311, '0133502813': 4312, '0140386645': 4313, '0142500135': 4314, '0192800493': 4315, '0201632721': 4316, '0312921098': 4317, '0316542377': 4318, '0316779059': 4319, '0345340426': 4320, '0375815260': 4321, '0380775123': 4322, '0399523308': 4323, '0441004997': 4324, '0451456718': 4325, '0451456734': 4326, '0451457781': 4327, '0451458028': 4328, '0451458508': 4329, '0451458990': 4330, '0451459423': 4331, '0452279089': 4332, '0471485527': 4333, '051513628X': 4334, '0553379534': 4335, '0553573136': 4336, '0595006035': 4337, '0595093019': 4338, '0671025554': 4339, '0671519751': 4340, '0671524313': 4341, '0671676253': 4342, '0688117619': 4343, '0688149790': 4344, '0688161162': 4345, '0698119509': 4346, '0716723980': 4347, '0716724022': 4348, '0764550039': 4349, '0765342987': 4350, '0765345048': 4351, '0786861320': 4352, '0786880007': 4353, '0812090381': 4354, '0812500865': 4355, '0812516850': 4356, '0812520157': 4357, '0812521358': 4358, '0812523040': 4359, '0812523679': 4360, '0812532554': 4361, '0812532597': 4362, '0812532619': 4363, '0812532635': 4364, '0812532961': 4365, '0812532988': 4366, '0812533313': 4367, '0812533577': 4368, '0812533658': 4369, '0812535219': 4370, '0812575717': 4371, '0836204387': 4372, '0836218787': 4373, '0836221362': 4374, '0874936225': 4375, '0875962432': 4376, '0880887575': 4377, '0882710583': 4378, '0886773776': 4379, '0886773784': 4380, '0886774004': 4381, '0886774012': 4382, '0886774144': 4383, '0886774543': 4384, '0886774632': 4385, '0886775035': 4386, '0886775043': 4387, '0886775167': 4388, '0886775205': 4389, '0886775493': 4390, '0886775639': 4391, '0886775876': 4392, '0886776120': 4393, '0886776589': 4394, '0886776619': 4395, '0886777127': 4396, '0886777151': 4397, '0886777208': 4398, '0886777550': 4399, '0886777593': 4400, '0886777739': 4401, '0886778603': 4402, '0889652066': 4403, '0895295458': 4404, '0895779129': 4405, '0912500522': 4406, '0912500867': 4407, '0920668372': 4408, '0965921506': 4409, '0965987302': 4410, '1556432151': 4411, '1558506438': 4412, '1559274581': 4413, '156305700X': 4414, '1841490490': 4415, '1891400495': 4416, '0140376410': 4417, '0452281296': 4418, '1573229326': 4419, '038072930X': 4420, '0060923717': 4421, '0151003394': 4422, '0316754315': 4423, '0345406036': 4424, '0671672576': 4425, '0679743243': 4426, '068483376X': 4427, '068484270X': 4428, '0345421825': 4429, '8817844330': 4430, '0373123086': 4431, '0380752123': 4432, '8877468912': 4433, '0380896931': 4434, '0971942315': 4435, '3455059554': 4436, '0553275860': 4437, '844140898X': 4438, '3423105518': 4439, '8845911411': 4440, '0380725398': 4441, '0590254715': 4442, '8401329329': 4443, '840309375': 4444, '8420443026': 4445, '8420465321': 4446, '8420483885': 4447, '843396951X': 4448, '8434845091': 4449, '8440616368': 4450, '8440675550': 4451, '8440682441': 4452, '8445073818': 4453, '8474448174': 4454, '8477021090': 4455, '8477021473': 4456, '8478886818': 4457, '8484500020': 4458, '8484509125': 4459, '0380470845': 4460, '0440162041': 4461, '0671739778': 4462, '0679770232': 4463, '0060955775': 4464, '0140259988': 4465, '014029645X': 4466, '0142003409': 4467, '0395629497': 4468, '0441225691': 4469, '0451451686': 4470, '0671577727': 4471, '0671721720': 4472, '0671875965': 4473, '0679723374': 4474, '0679745963': 4475, '068486780X': 4476, '0716744481': 4477, '0966543610': 4478, '0671010115': 4479, '0671004549': 4480, '0312422601': 4481, '0375509283': 4482, '0553565915': 4483, '0731806883': 4484, '055356160X': 4485, '0060987529': 4486, '0064472779': 4487, '0140022651': 4488, '0142302163': 4489, '0345260627': 4490, '0345283554': 4491, '0345283929': 4492, '034528710X': 4493, '0345314255': 4494, '0345317580': 4495, '0345335287': 4496, '0345362276': 4497, '0345375580': 4498, '0345423038': 4499, '0373614845': 4500, '0373614896': 4501, '037361490X': 4502, '0373619472': 4503, '0373619499': 4504, '0373619502': 4505, '0373638078': 4506, '0373638167': 4507, '0373642849': 4508, '0373642857': 4509, '0373642911': 4510, '037364292X': 4511, '0373765649': 4512, '037379116x': 4513, '0380570009': 4514, '038513097x': 4515, '0394553284': 4516, '0394563131': 4517, '0394707745': 4518, '0394843509': 4519, '042516540X': 4520, '0439176824': 4521, '0439222303': 4522, '0439240700': 4523, '0440920221': 4524, '0441000150': 4525, '0441000762': 4526, '0451077237': 4527, '0451137965': 4528, '0486270718': 4529, '051512463X': 4530, '0553073273': 4531, '0590109715': 4532, '0590109960': 4533, '0590213040': 4534, '0590448285': 4535, '0590448315': 4536, '0590448323': 4537, '059045367X': 4538, '059046678X': 4539, '059047054X': 4540, '0590629778': 4541, '0590879979': 4542, '0590880748': 4543, '0590880780': 4544, '0590956159': 4545, '0671001868': 4546, '0671038931': 4547, '0671529714': 4548, '0671532642': 4549, '067166865X': 4550, '0671695304': 4551, '0671751174': 4552, '0671802283': 4553, '0671803530': 4554, '0679023755': 4555, '0679805265': 4556, '0679811761': 4557, '0688047211': 4558, '068808527X': 4559, '0698119916': 4560, '0743486625': 4561, '0786807555': 4562, '0786814241': 4563, '0803298145': 4564}\n",
            "{0: '0155061224', 1: '052165615X', 2: '0521795028', 3: '3257224281', 4: '0600570967', 5: '038550120X', 6: '342310538', 7: '0060517794', 8: '0671537458', 9: '0679776818', 10: '0943066433', 11: '1885408226', 12: '0747558167', 13: '3596218098', 14: '0684867621', 15: '0451166892', 16: '8440682697', 17: '0380711524', 18: '3453092007', 19: '3453213025', 20: 'N3453124715', 21: '9057868059', 22: '0553572369', 23: '3499230933', 24: '3596151465', 25: '3442136644', 26: '8484330478', 27: '8484332039', 28: '2864322102', 29: '8437606322', 30: '8466300821', 31: '8478442588', 32: '0345443683', 33: '043935806X', 34: '055310666X', 35: '0330332775', 36: '0006379702', 37: '3442131340', 38: '3548603203', 39: '1562827898', 40: '0440498058', 41: '0395547032', 42: '0440414121', 43: '8879839993', 44: '8423996565', 45: '8426449476', 46: '8426449573', 47: '8478884831', 48: '8478885218', 49: '8478885463', 50: '8478886044', 51: '0091830893', 52: '0586207414', 53: '0812571029', 54: '0140260498', 55: '0060096195', 56: '0141310340', 57: '0142302198', 58: '0156006065', 59: '0375821813', 60: '038076041X', 61: '0439401399', 62: '0552546933', 63: '0689804458', 64: '0699854289', 65: '0786812508', 66: '0786817070', 67: '0805057706', 68: '1551925060', 69: '1573248533', 70: '000651118X', 71: '2253150711', 72: '0440225825', 73: '0345446860', 74: '3125785006', 75: '0380005239', 76: '3809407536', 77: '3257200552', 78: '3404145909', 79: '3404148576', 80: '3404921178', 81: '3423071516', 82: '3426029553', 83: '3426671298', 84: '344215121X', 85: '3442413508', 86: '3442422035', 87: '3442435773', 88: '3442437717', 89: '3442441080', 90: '3442444020', 91: '3442446414', 92: '3442448530', 93: '3442449820', 94: '3453137442', 95: '347354034X', 96: '3492231322', 97: '3499222213', 98: '3499228297', 99: '3499433443', 100: '3506464078', 101: '3551551677', 102: '3551551685', 103: '3551551693', 104: '3551551936', 105: '359621078X', 106: '3608932240', 107: '360893541X', 108: '3608935428', 109: '3608935436', 110: '3809024589', 111: '3821815191', 112: '3932069234', 113: '3462026062', 114: '0449217264', 115: '8420457477', 116: '8448034023', 117: '0671034944', 118: '074931012X', 119: '8439598459', 120: '0140252517', 121: '0517642689', 122: '077104450X', 123: '0789706032', 124: '0836218833', 125: '0836220889', 126: '088365721X', 127: '1559712252', 128: '1567616089', 129: '0141011904', 130: '3423201509', 131: '3423206616', 132: '344242529', 133: '3446200452', 134: '349223903X', 135: '3499231603', 136: '3704320196', 137: '3886807843', 138: '1569312435', 139: '1892213141', 140: '8530805461', 141: '3257218516', 142: '3404126343', 143: '3404139178', 144: '3404143299', 145: '340645724X', 146: '3426192543', 147: '3442443806', 148: '345309221X', 149: '3453108361', 150: '3453130901', 151: '3809410357', 152: '9026935722', 153: '0425167097', 154: '042518109X', 155: '0425188221', 156: '8500010452', 157: '8501023450', 158: '8571648972', 159: '8588615126', 160: '8589885291', 161: '009975181X', 162: '00273755', 163: '014366020444', 164: '8496075850', 165: '8804407808', 166: '8804464895', 167: '8807810751', 168: '880781112X', 169: '8817106100', 170: '8817112917', 171: '8833908488', 172: '8838910987', 173: '8846200624', 174: '88741800047', 175: '8876846565', 176: '8877825200', 177: '8879285513', 178: '8879285645', 179: '8887432252', 180: '8888424121', 181: '0449210197', 182: '8817151068', 183: '8496280012', 184: 'B158991965', 185: '0064430227', 186: '0812533550', 187: '8806162160', 188: '0440241537', 189: '0375901582', 190: '0439317746', 191: '0440228840', 192: '0738205737', 193: '0060542845', 194: '0449148831', 195: '8420430943', 196: '8420636282', 197: '8432205311', 198: '000225669X', 199: '0099549611', 200: '042513976X', 201: '0441008291', 202: '002542730X', 203: '0099414732', 204: '0140154078', 205: '0194216748', 206: '0385504209', 207: '0553275283', 208: '0582530431', 209: '063403541X', 210: '1400002672', 211: '840149236X', 212: '8420432113', 213: '8420444367', 214: '8422655500', 215: '8422657104', 216: '8423976645', 217: '8426109799', 218: '8474104823', 219: '950491036X', 220: '0749336145', 221: '1899344705', 222: '059030271X', 223: '0590470108', 224: '0671021354', 225: '0671026283', 226: '0671027506', 227: '2020101653', 228: '202011528X', 229: '20202006935', 230: '20203119888', 231: '2020564777', 232: '2070386023', 233: '2070394956', 234: '2070404587', 235: '2070404706', 236: '2253030570', 237: '2253171670', 238: '2253172367', 239: '2264010991', 240: '2264018194', 241: '2264024674', 242: '226402593X', 243: '2264027568', 244: '226403114', 245: '2264031158', 246: '2264036036', 247: '2266047280', 248: '226604960', 249: '22660861003', 250: '2266102621', 251: '2266104535', 252: '2266105698', 253: '2702424131', 254: '2742724028', 255: '2742724613', 256: '2743602295', 257: '2842611462', 258: '2869304129', 259: '2869304560', 260: '2869305583', 261: '1566190096', 262: '3492224768', 263: '3596122279', 264: '3596147700', 265: '0713628944', 266: '1853260665', 267: '2070414256', 268: '2070419657', 269: '2253063339', 270: '2253137243', 271: '2253144452', 272: '2253152072', 273: '226612269X', 274: '2702400612', 275: '2702401694', 276: '2878580753', 277: '8423310353', 278: '349202436X', 279: '0140182551', 280: '0446310786', 281: '0886776783', 282: '3419528078', 283: '3423118709', 284: '3453034120', 285: '3772420176', 286: '3806852456', 287: '0312966970', 288: '680ISBN359623', 289: '0312169817', 290: '0345348672', 291: '0345354621', 292: '0345435036', 293: '0385264356', 294: '0425104273', 295: '0440218667', 296: '0440220602', 297: '0515131520', 298: '0812550153', 299: '0812550307', 300: '0843949163', 301: '0886773741', 302: '0886774802', 303: '0886774829', 304: '0886775426', 305: '0886775957', 306: '0886777178', 307: '9722900684', 308: '0590259970', 309: '0590260251', 310: '0590426702', 311: '0590436422', 312: '0590436449', 313: '0590436465', 314: '0590436481', 315: '059043649X', 316: '0590442589', 317: '0590442996', 318: '0590448234', 319: '0590448595', 320: '0590456504', 321: '0590470485', 322: '0060930187', 323: '0375760911', 324: '0689817851', 325: '0874869870', 326: '0061081450', 327: '0061083259', 328: '0061087017', 329: '0061094404', 330: '0671793489', 331: '880701601X', 332: '8817134899', 333: '0099268345', 334: '3100970616', 335: '3257062354', 336: '3423128879', 337: '3423202327', 338: '342677609X', 339: '3442727073', 340: '3453132041', 341: '3478387507', 342: '3492045170', 343: '3492230814', 344: '3545202461', 345: '3548359698', 346: '3550075359', 347: '3596154766', 348: '3596214629', 349: '0618045996', 350: '3822858617', 351: '0864425589', 352: '8817860751', 353: '0452282101', 354: '3257060580', 355: '0553581112', 356: '0805047379', 357: '0892964456', 358: '0373250223', 359: '0451097009', 360: '0451179994', 361: '0553140779', 362: '0425182150', 363: '1883473004', 364: '0061007129', 365: '0812511816', 366: '0880381736', 367: '0880381744', 368: '0312283709', 369: '0446605484', 370: '0446611212', 371: '0451207955', 372: '0609804138', 373: '074343627X', 374: '0971880107', 375: '3426615355', 376: '0075536498', 377: '0099287692', 378: '0099845008', 379: '0330262130', 380: '0385720920', 381: '0553262505', 382: '3442430496', 383: '3442446325', 384: '3453171500', 385: '3464371506', 386: '9513098648', 387: '0590108395', 388: '3442451353', 389: '8425330866', 390: '8481301213', 391: '0816704627', 392: '1573229571', 393: '9782922145441', 394: '3499263998', 395: '0434009407', 396: '1841193887', 397: '457871971', 398: '840149768X', 399: '8401499917', 400: '8420600369', 401: '8420603066', 402: '8423918335', 403: '8426105084', 404: '8426429807', 405: '843223138X', 406: '8437608570', 407: '8440630921', 408: '8440630922', 409: '8470394126', 410: '8471662531', 411: '8472230082', 412: '8474541913', 413: '8478091351', 414: '3426193310', 415: '0064404773', 416: '0064407667', 417: '006054094X', 418: '0375706038', 419: '081297106X', 420: '0843951826', 421: '1400032628', 422: '1585861553', 423: '0385334141', 424: '0425191184', 425: '0751503894', 426: '3548208975', 427: '0425189864', 428: '0440236053', 429: '0440241073', 430: '0553586122', 431: '0099935708', 432: '0140118608', 433: '3518408127', 434: '1586609726', 435: '0865472807', 436: '0312960344', 437: '031286504X', 438: '0345342968', 439: '0767903382', 440: '0312331754', 441: '0312979517', 442: '0316154059', 443: '0345450175', 444: '0345452550', 445: '0375727981', 446: '0385305389', 447: '0394543289', 448: '0399135804', 449: '0399141340', 450: '0399146466', 451: '0399146504', 452: '0399146687', 453: '0399147101', 454: '0399147624', 455: '0399148337', 456: '0399148639', 457: '0399148728', 458: '0399150811', 459: '0399151451', 460: '039915177X', 461: '0425183181', 462: '0671024094', 463: '0679450408', 464: '0684801663', 465: '0684846608', 466: '074320607X', 467: '0743407377', 468: '0743486226', 469: '0804109990', 470: '0812571118', 471: '0969691319', 472: '8475251471', 473: '0671032658', 474: '0812568710', 475: '0843921609', 476: '0553211056', 477: '0553285920', 478: '0020259700', 479: '0385422598', 480: '0449213730', 481: '0449224449', 482: '0451173139', 483: '0486282406', 484: '0553580930', 485: '0804102511', 486: '080410946X', 487: '0440414806', 488: '0679767800', 489: '0006543545', 490: '0141011947', 491: '0340734043', 492: '0340770015', 493: '0349105227', 494: '0571152236', 495: '0679745203', 496: '0140254188', 497: '0525945636', 498: '074341232X', 499: '0060391626', 500: '0440174953', 501: '055326611X', 502: '0553347756', 503: '0553379615', 504: '0670869902', 505: '0671021001', 506: '0671647458', 507: '1573221856', 508: '0449209733', 509: '0553271644', 510: '0316969680', 511: '0375703861', 512: '0440225442', 513: '0743229878', 514: '030700645X', 515: '0307127923', 516: '0307302016', 517: '0307302636', 518: '0307987655', 519: '0316563242', 520: '039480001X', 521: '0394800028', 522: '0394800184', 523: '039480029X', 524: '039480967X', 525: '0394925696', 526: '0439083702', 527: '0439213592', 528: '0439242363', 529: '0439449316', 530: '0590386522', 531: '0590402218', 532: '0590404342', 533: '0590442619', 534: '0590442791', 535: '0590442805', 536: '0590442899', 537: '059044297X', 538: '059046602X', 539: '0590466577', 540: '0590629719', 541: '0590921622', 542: '0590965492', 543: '0689845405', 544: '0689847564', 545: '0717283194', 546: '0717283208', 547: '0717283275', 548: '0717283364', 549: '0717283372', 550: '0717284832', 551: '0717284972', 552: '0717287017', 553: '0717287106', 554: '0721452728', 555: '0736401113', 556: '0761406158', 557: '0769600239', 558: '0785316477', 559: '0785316493', 560: '0785316531', 561: '087701759X', 562: '0895777010', 563: '1561452718', 564: '1562826468', 565: '2764104936', 566: '0671664964', 567: '044023722X', 568: '0671015648', 569: '0749397365', 570: '0061044636', 571: '0884948706', 572: '0312282990', 573: '0060613998', 574: '037541309X', 575: '0826308791', 576: '0722539924', 577: '0970961502', 578: '014029628X', 579: '0425188175', 580: '038550926X', 581: '0440772109', 582: '0812514440', 583: '0449005909', 584: '055347782X', 585: '0670637823', 586: '1585671312', 587: '0452282152', 588: '8804483156', 589: '0380807343', 590: '0397314728', 591: '0345422384', 592: '0395760704', 593: '0615116426', 594: '1555037763', 595: '0618134298', 596: '0375708049', 597: '9722000322', 598: '9722320742', 599: '9722326414', 600: '972232957', 601: '972232957X', 602: '9722906259', 603: '9722906283', 604: '9725752228', 605: '9726101794', 606: '9726106141', 607: '1887128441', 608: '0062501860', 609: '0553581929', 610: '0806523794', 611: '0671738232', 612: '1551668726', 613: '0380721643', 614: 'O6712345670', 615: '0446360716', 616: '0060173289', 617: '0060976845', 618: '1561840564', 619: '0006530400', 620: '44901668125', 621: '084230052X', 622: '3257204817', 623: '0446363073', 624: '3596200547', 625: '3716020028', 626: '3717581546', 627: '3803120624', 628: '0739417096', 629: '0679781587', 630: '071009505506', 631: '1591820537', 632: '0060393823', 633: '0156027321', 634: '0929264215', 635: '0061011509', 636: '0553576801', 637: '0312276885', 638: '8806164104', 639: '0007137699', 640: '0671521705', 641: '0140058605', 642: '0192827588', 643: '0312195516', 644: '0446608955', 645: '0670892963', 646: '0671646575', 647: '0804114986', 648: '0812507452', 649: '0812515560', 650: '0812515595', 651: '3453156366', 652: '1558509828', 653: '0957868251', 654: '2253141860', 655: '859009751X', 656: '0399140751', 657: '000254794', 658: '87812797', 659: '887983830', 660: '8880894536', 661: '8880897470', 662: '051511605X', 663: '0060170166', 664: '003008685X', 665: '0060006641', 666: '0060542128', 667: '0061009059', 668: '0062507109', 669: '0132220598', 670: '0140283374', 671: '014039026X', 672: '0140390715', 673: '0141439742', 674: '0152050167', 675: '0201000822', 676: '0310435706', 677: '0312944691', 678: '0316776963', 679: '033031582', 680: '0345413903', 681: '0375408886', 682: '0375751513', 683: '0380702843', 684: '0380791978', 685: '038081904X', 686: '0385424736', 687: '0385486804', 688: '0385503857', 689: '039304016X', 690: '0394738136', 691: '0394862147', 692: '0399149562', 693: '0399225064', 694: '0399501487', 695: '0425047962', 696: '0425104338', 697: '0425116840', 698: '0425133516', 699: '0425190749', 700: '0440185327', 701: '0440224764', 702: '0440236061', 703: '0440236738', 704: '0440428130', 705: '0441627404', 706: '0446311677', 707: '0446325503', 708: '0446350982', 709: '0446522384', 710: '0446600415', 711: '0446608890', 712: '0446676640', 713: '0451180739', 714: '0451191153', 715: '0451203593', 716: '0452284449', 717: '0471018732', 718: '0517573636', 719: '0523485964', 720: '0552137030', 721: '0553078925', 722: '0553280368', 723: '0553351672', 724: '0553571656', 725: '0553573926', 726: '0553574566', 727: '0670307254', 728: '0671014420', 729: '0671037692', 730: '0671528904', 731: '067172021X', 732: '0671727079', 733: '0671740504', 734: '0671749897', 735: '0671876821', 736: '0679417648', 737: '0679419853', 738: '0679731148', 739: '0679736042', 740: '0684869098', 741: '0715388185', 742: '0718002067', 743: '0736903054', 744: '0740723367', 745: '0743406176', 746: '0743412028', 747: '0743422082', 748: '0743444477', 749: '0743457943', 750: '0785243038', 751: '0786866845', 752: '0800757483', 753: '0802425488', 754: '0803653719', 755: '0805018956', 756: '0810909650', 757: '0811802981', 758: '0811811409', 759: '0812504798', 760: '0812531353', 761: '0836210263', 762: '0836213076', 763: '0836217691', 764: '0836218515', 765: '0836218817', 766: '0836221192', 767: '0836221311', 768: '0836236688', 769: '084233338X', 770: '0842370668', 771: '0843947888', 772: '0849995892', 773: '0871890917', 774: '087605534X', 775: '0877790426', 776: '087784870X', 777: '0887621112', 778: '0890814082', 779: '0890876517', 780: '0890876967', 781: '0897330536', 782: '0898155843', 783: '0898157803', 784: '0898793912', 785: '0898794080', 786: '0898794544', 787: '0898796601', 788: '089879661X', 789: '0898797055', 790: '0912452161', 791: '0932592007', 792: '0964420805', 793: '0965035214', 794: '0967201519', 795: '1400060265', 796: '1559586893', 797: '1562923668', 798: '1564403963', 799: '1565075722', 800: '1568380593', 801: '156865037X', 802: '1572302399', 803: '1572304510', 804: '1576733343', 805: '1576739597', 806: '1581690606', 807: '1852303468', 808: '1930285000', 809: '8251800811', 810: '0373765541', 811: '009977920X', 812: '0864425767', 813: '031215125X', 814: '0590629786', 815: '0590629794', 816: '0590629808', 817: '0590629816', 818: '0312242026', 819: '0316666343', 820: '0345444892', 821: '0399149821', 822: '051509272X', 823: '0553579134', 824: '0671027360', 825: '0849908647', 826: '3150087201', 827: '3442729785', 828: '0380718340', 829: '0440226414', 830: '0553292722', 831: '0553571885', 832: '0684855518', 833: '0446609749', 834: '0553572997', 835: '0330312367', 836: '3423101776', 837: '3596200261', 838: '0785264280', 839: '014038572X', 840: '006008216X', 841: '0140318720', 842: '0140620257', 843: '014200281X', 844: '0304359416', 845: '0312113420', 846: '0312979533', 847: '0340565276', 848: '0340745983', 849: '0345330129', 850: '038067470X', 851: '0399128158', 852: '0440213320', 853: '0449907635', 854: '0451162218', 855: '0451459393', 856: '0517119250', 857: '0552142379', 858: '0552149209', 859: '0582528232', 860: '0670808393', 861: '0671020560', 862: '0752524593', 863: '0752853694', 864: '0789477831', 865: '0789477858', 866: '0810945797', 867: '0810946122', 868: '0831759267', 869: '0882668099', 870: '0907849741', 871: '1558745718', 872: '1740595904', 873: '1903919134', 874: '1903919142', 875: '2723426890', 876: '382289642X', 877: '8493127817', 878: '9041001557', 879: '9057121379', 880: '9068340344', 881: '9070415011', 882: '1588515893', 883: '0812520165', 884: '8432221783', 885: '0385482388', 886: '0553148001', 887: '0446609781', 888: '0192823523', 889: '0385492103', 890: '1400030382', 891: '2221090810', 892: '9724115380', 893: '9727474799', 894: '345302611X', 895: '3453042476', 896: '3473306991', 897: '0358159521888', 898: '0525946241', 899: '0553272586', 900: '0767904311', 901: '0895261901', 902: '0312289723', 903: '0316603570', 904: '0316693200', 905: '0345452577', 906: '0345452593', 907: '0385336322', 908: '0385336357', 909: '0385508042', 910: '0385510438', 911: '039915180X', 912: '0399151877', 913: '0446530891', 914: '0446613843', 915: '0515133302', 916: '0517162768', 917: '055308576X', 918: '0553801589', 919: '0553803409', 920: '0671886665', 921: '0684835983', 922: '0739442309', 923: '0743206045', 924: '0785275967', 925: '1558744150', 926: '0340657987', 927: '0316777722', 928: '0374516812', 929: '0375707166', 930: '0679439382', 931: '0679723161', 932: '0688178456', 933: '0805048782', 934: '0064400557', 935: '1550544683', 936: '0452268060', 937: '0679734775', 938: '0316601950', 939: '034543739X', 940: '0911913009', 941: '0553587196', 942: '0743482077', 943: '3404149114', 944: '0970172605', 945: '0345392825', 946: '0345435168', 947: '0553211803', 948: '0345318587', 949: '1582790671', 950: '0140043519', 951: '0140274286', 952: '0571212018', 953: '0751310158', 954: '0751360007', 955: '0863189113', 956: '0879052473', 957: '0934802904', 958: '1858286018', 959: '0061053775', 960: '0312971400', 961: '0312986769', 962: '0312995431', 963: '044667883X', 964: '0525937021', 965: '0006551238', 966: '0007651864', 967: '0099675404', 968: '0385305893', 969: '0590558021', 970: '0671741403', 971: '0803701225', 972: '0553583956', 973: '1885403003', 974: '0142004235', 975: '0446301582', 976: '0446608262', 977: '0091879434', 978: '0091894158', 979: '056353821', 980: '0715309404', 981: '0312202318', 982: '8401463017', 983: '8401499585', 984: '8408039369', 985: '8478884661', 986: '0425125467', 987: '0553263226', 988: '0671026704', 989: '0812579402', 990: '0340769181', 991: '0375707972', 992: '0312421273', 993: '0679771476', 994: '8755900623', 995: '8787498782', 996: '8807701375', 997: '0688150772', 998: '0618002219', 999: '0671025368', 1000: '0028604199', 1001: '0140340203', 1002: '0312167792', 1003: '0312290659', 1004: '0786890436', 1005: '1400031346', 1006: '1400031354', 1007: '1588720756', 1008: '3423124199', 1009: '3423125756', 1010: '0312857322', 1011: '0374184232', 1012: '0380005166', 1013: '0380018179', 1014: '0385472943', 1015: '0399132414', 1016: '0671000306', 1017: '0671000314', 1018: '0671026682', 1019: '0671795740', 1020: '0553245694', 1021: '0552994421', 1022: '0552994928', 1023: '030702024X', 1024: '0307605701', 1025: '0345335058', 1026: '0345346777', 1027: '034539657X', 1028: '0380001799', 1029: '0380707837', 1030: '0380731851', 1031: '0425071014', 1032: '0425107507', 1033: '0425142485', 1034: '0425147363', 1035: '042516098X', 1036: '0440211727', 1037: '0440214041', 1038: '0440430712', 1039: '0446794031', 1040: '0448027011', 1041: '0449200256', 1042: '044921852X', 1043: '0451085108', 1044: '0451162145', 1045: '0553235354', 1046: '0553297260', 1047: '0553579754', 1048: '0590088203', 1049: '0671416367', 1050: '0671823035', 1051: '0812543262', 1052: '082173766X', 1053: '0375406328', 1054: '0452277337', 1055: '0451210980', 1056: '067976397X', 1057: '0679745580', 1058: '0451622898', 1059: '0743225406', 1060: '0771060548', 1061: '1882943155', 1062: '2070360016', 1063: '2253006629', 1064: '051510566X', 1065: '052594544X', 1066: '0743206061', 1067: '0764222171', 1068: '087542127X', 1069: '0886777011', 1070: '3453007867', 1071: '2070541886', 1072: '2253054615', 1073: '225309031X', 1074: '0747546290', 1075: '2070381803', 1076: '2070425525', 1077: '2253016950', 1078: '2253057649', 1079: '2266000489', 1080: '229031465X', 1081: '0060096209', 1082: '3423128178', 1083: '432530757', 1084: '0446607657', 1085: '0449208281', 1086: '0395680905', 1087: '0316769487', 1088: '0425171396', 1089: '0399145850', 1090: '0061015725', 1091: '0312983395', 1092: '0425192032', 1093: '0446611638', 1094: '0451208765', 1095: '0451210840', 1096: '0451210867', 1097: '0451210875', 1098: '0553582763', 1099: '0140058494', 1100: '0140512276', 1101: '0330344927', 1102: '0449911160', 1103: '0553282980', 1104: '0671755056', 1105: '0812967224', 1106: '1573227889', 1107: '1853752797', 1108: '3499100045', 1109: '3821805897', 1110: '3937793003', 1111: '089296751X', 1112: '1551663058', 1113: '0061031070', 1114: '0449005615', 1115: '0553381520', 1116: '345308201X', 1117: '3453171861', 1118: '3453198875', 1119: '0451167783', 1120: '0440217520', 1121: '074324523', 1122: '0743469984', 1123: '743411447', 1124: '185326086X', 1125: '0061031550', 1126: '0316117064', 1127: '0345339681', 1128: '0345377443', 1129: '0375760245', 1130: '0385491328', 1131: '0440235162', 1132: '0452279844', 1133: '0553213997', 1134: '0553298240', 1135: '0609806564', 1136: '0679416498', 1137: '0871137240', 1138: '0880482605', 1139: '0887307876', 1140: '0929634063', 1141: '1551660717', 1142: '1585360384', 1143: '0553576194', 1144: '0843950366', 1145: '881715010X', 1146: '0385484518', 1147: '0553211404', 1148: '0385502532', 1149: '0553272535', 1150: '3423125659', 1151: '0451524462', 1152: '0061097314', 1153: '0425173739', 1154: '0380778556', 1155: '0440802911', 1156: '0440407524', 1157: '0440967694', 1158: '0064406601', 1159: '0440228441', 1160: '0590684841', 1161: '0380750260', 1162: '0553210793', 1163: '0142001740', 1164: '0345443284', 1165: '0425173755', 1166: '0689843186', 1167: '0140345353', 1168: '0141310073', 1169: '0060931396', 1170: '0140118993', 1171: '0809015803', 1172: '014032724X', 1173: '8496200752', 1174: '9723706148', 1175: '9728608225', 1176: '9728609187', 1177: '8845913104', 1178: '1410749029', 1179: '0395977894', 1180: '042518336X', 1181: '0553575538', 1182: '0767903579', 1183: '0425126064', 1184: '0373152604', 1185: '0380710056', 1186: '0450586235', 1187: '0451204492', 1188: '0505522004', 1189: '0671759361', 1190: '0743438035', 1191: '0843943289', 1192: '088396631', 1193: '1557734569', 1194: '3350071300', 1195: '0380789019', 1196: '1558744606', 1197: '0064440044', 1198: '0140239820', 1199: '0330484338', 1200: '0446672211', 1201: '0446675059', 1202: '0525446044', 1203: '0525458417', 1204: '0671876295', 1205: '0679427430', 1206: '0803717377', 1207: '0894716174', 1208: '089480751X', 1209: '0962756245', 1210: '0440226430', 1211: '006019491X', 1212: '0896592413', 1213: '0399138250', 1214: '0452284937', 1215: '0452269571', 1216: '0671510053', 1217: '0766607216', 1218: '0451206460', 1219: '0394868161', 1220: '0394909674', 1221: '0439104645', 1222: '0345384377', 1223: '0440225701', 1224: '0446609943', 1225: '0451171071', 1226: '0553580191', 1227: '0553582917', 1228: '0061093947', 1229: '0226848639', 1230: '0385492081', 1231: '0446754552', 1232: '0684173182', 1233: '091988802X', 1234: '0374266441', 1235: '0374524653', 1236: '0375410287', 1237: '0380978210', 1238: '0385301499', 1239: '0394572068', 1240: '0449908186', 1241: '0553057014', 1242: '0670843105', 1243: '0679751602', 1244: '0679764925', 1245: '0679770151', 1246: '0767915062', 1247: '0804105820', 1248: '0812928318', 1249: '0892963883', 1250: '0937247065', 1251: '0937247502', 1252: '1573220310', 1253: '0373292341', 1254: '0373440421', 1255: '0380757311', 1256: '0380782782', 1257: '0425191001', 1258: '0440217628', 1259: '0446302538', 1260: '0449209148', 1261: '0451198948', 1262: '0451404645', 1263: '0451408373', 1264: '0451408659', 1265: '0505523035', 1266: '0515129968', 1267: '0553561537', 1268: '0804117586', 1269: '0821724479', 1270: '0821742167', 1271: '0843932430', 1272: '1551665522', 1273: '0590461249', 1274: '0060934417', 1275: '0316168815', 1276: '0316785261', 1277: '0345468694', 1278: '0452283205', 1279: '0452283868', 1280: '0684848406', 1281: '0743225325', 1282: '0743237188', 1283: '0380723573', 1284: '0451184734', 1285: '0743437802', 1286: '0006531156', 1287: '0312974256', 1288: '0312980353', 1289: '0312983301', 1290: '0375759689', 1291: '0380785218', 1292: '0446610550', 1293: '0451203771', 1294: '0451210611', 1295: '0515121843', 1296: '051512317X', 1297: '0515124214', 1298: '0515134384', 1299: '0515136263', 1300: '0515136379', 1301: '0515136530', 1302: '0515137111', 1303: '080505801X', 1304: '1865156035', 1305: '1869433637', 1306: '0803251246', 1307: '0140096922', 1308: '0375507876', 1309: '0500976147', 1310: '0500976236', 1311: '0970559100', 1312: '3822800740', 1313: '8085794551', 1314: '0446529788', 1315: '0553802542', 1316: '0688179088', 1317: '0743204697', 1318: '0767905385', 1319: '1551668904', 1320: '0028638670', 1321: '0771590113', 1322: '0307101711', 1323: '0062701649', 1324: '0312312873', 1325: '0316789089', 1326: '0374190666', 1327: '0395900239', 1328: '0399141464', 1329: '0399145087', 1330: '0446392251', 1331: '0446526126', 1332: '044840124X', 1333: '0486285537', 1334: '0517705869', 1335: '0525462325', 1336: '0671240862', 1337: '0679457526', 1338: '0684808943', 1339: '0684874350', 1340: '0688151981', 1341: '0743204735', 1342: '0761107363', 1343: '0785263950', 1344: '0786867434', 1345: '0786881852', 1346: '0937921556', 1347: '096665370X', 1348: '1888387408', 1349: '0446527785', 1350: '0440216818', 1351: '0896083535', 1352: '0312964919', 1353: '0425147711', 1354: '0446401064', 1355: '0451206274', 1356: '0553283960', 1357: '0743420373', 1358: '1853260282', 1359: '0345386108', 1360: '0446611778', 1361: '0515087491', 1362: '0515101486', 1363: '0515104175', 1364: '1593080549', 1365: '1593081017', 1366: '780451524201', 1367: '157174259X', 1368: '1558745157', 1369: '0486280500', 1370: '0855642440', 1371: '0002240114', 1372: '0679440526', 1373: '0771074549', 1374: '067976402X', 1375: '0671672878', 1376: '034543479X', 1377: '0374480095', 1378: '0446670251', 1379: '0804115761', 1380: '0821766570', 1381: '1551669110', 1382: '0061056200', 1383: '0099908506', 1384: '0140134212', 1385: '9025414532', 1386: '9027472718', 1387: '0575073047', 1388: '0771087004', 1389: '0878571140', 1390: '0930345037', 1391: '093393114X', 1392: '0060196300', 1393: '0671002384', 1394: '0671002406', 1395: '0671004247', 1396: '0671006754', 1397: '1558747281', 1398: '0375757597', 1399: '0060008350', 1400: '0060572965', 1401: '0061020028', 1402: '0061031410', 1403: '0061094129', 1404: '0312983433', 1405: '0345440064', 1406: '0345545571', 1407: '0380820889', 1408: '038533558X', 1409: '0399142649', 1410: '0440221048', 1411: '0446527041', 1412: '0446531588', 1413: '0446610607', 1414: '0446612510', 1415: '0449006522', 1416: '0449219364', 1417: '0449221512', 1418: '0449227545', 1419: '0451179153', 1420: '0451179897', 1421: '0451188950', 1422: '0451202473', 1423: '0451204301', 1424: '0451206525', 1425: '0515125490', 1426: '0515129038', 1427: '0515130389', 1428: '0515135968', 1429: '0553582364', 1430: '0671001795', 1431: '0671658301', 1432: '0671891537', 1433: '0684810387', 1434: '068815333X', 1435: '0743417836', 1436: '0786889667', 1437: '0805060251', 1438: '0812528042', 1439: '1551667517', 1440: '1551669625', 1441: '7099300799', 1442: '7100100699', 1443: '7100100750', 1444: '7678300699', 1445: '780446525800', 1446: '0805044272', 1447: '0875847706', 1448: '1857235460', 1449: '0061092800', 1450: '0525942998', 1451: '0553564528', 1452: '0316569321', 1453: '0060501804', 1454: '0752837168', 1455: '1842322753', 1456: '8804520612', 1457: '880452431', 1458: '8817113204', 1459: '8830414824', 1460: '8838431345', 1461: '8844011611', 1462: '8845907341', 1463: '8855203292', 1464: '8877822171', 1465: '8885008836', 1466: '88O6166255', 1467: '0812571991', 1468: '0553813021', 1469: '0452281253', 1470: '0091881048', 1471: '0283073381', 1472: '0712623930', 1473: '0725107251', 1474: '1853064408', 1475: '1882663128', 1476: '0062737465', 1477: '0099244527', 1478: '0201354705', 1479: '044900371X', 1480: '0374270325', 1481: '0425076695', 1482: '0761128093', 1483: '0553210416', 1484: '8804484101', 1485: '0307126293', 1486: '0425144062', 1487: '0451160916', 1488: '0812549287', 1489: '0140244824', 1490: '0446605239', 1491: '0671870998', 1492: '0375412123', 1493: '0385472951', 1494: '0440236665', 1495: '0515118230', 1496: '044661162X', 1497: '0375727345', 1498: '8804491523', 1499: '0060958022', 1500: '0060002492', 1501: '0061057894', 1502: '0140067647', 1503: '0140350144', 1504: '0310239826', 1505: '0312088027', 1506: '0345257596', 1507: '0345274695', 1508: '0345331044', 1509: '0345337662', 1510: '0373079001', 1511: '037308935X', 1512: '0373089376', 1513: '0373115377', 1514: '0373115431', 1515: '0374475067', 1516: '0380429780', 1517: '0380600129', 1518: '0380708655', 1519: '0425065553', 1520: '0425189082', 1521: '0425194876', 1522: '0440111188', 1523: '0440844444', 1524: '0440940001', 1525: '0441094880', 1526: '0446606812', 1527: '0449209830', 1528: '0449702634', 1529: '0515094978', 1530: '055325698X', 1531: '0553287532', 1532: '0590434160', 1533: '0670894508', 1534: '0671434225', 1535: '0671525808', 1536: '0671745093', 1537: '0684846675', 1538: '0802400086', 1539: '0804106304', 1540: '0812533518', 1541: '0825428688', 1542: '0842339337', 1543: '0842354220', 1544: '0879050470', 1545: '088419597X', 1546: '0895774011', 1547: '0899669492', 1548: '1556611536', 1549: '1558745017', 1550: '1576739562', 1551: '1582293031', 1552: '373219350', 1553: '373219377', 1554: '373219407', 1555: '373219415', 1556: '37321944X', 1557: '373219458', 1558: '325722575X', 1559: '0590939882', 1560: '0671010123', 1561: '0330241117', 1562: '006107635X', 1563: '0743427033', 1564: '0385318073', 1565: '044022425X', 1566: '0312870582', 1567: '059035342X', 1568: '0671227718', 1569: '0747530386', 1570: '0749395699', 1571: '0380817144', 1572: '0374527075', 1573: '0399139087', 1574: '0440324386', 1575: '0425174360', 1576: '0060198346', 1577: '0142000205', 1578: '0671038230', 1579: '0156005891', 1580: '0316171565', 1581: '0373218192', 1582: '0373223218', 1583: '0373244487', 1584: '0373272898', 1585: '037327291X', 1586: '0373290861', 1587: '0373441762', 1588: '0373441851', 1589: '0373484003', 1590: '0373762380', 1591: '0440122090', 1592: '044022103X', 1593: '0440223571', 1594: '0446603589', 1595: '0451180348', 1596: '0515124621', 1597: '0553574477', 1598: '0590424939', 1599: '0590424971', 1600: '0590433474', 1601: '0590433865', 1602: '0590436414', 1603: '0590436597', 1604: '0590437216', 1605: '0590439006', 1606: '0590448331', 1607: '0590456490', 1608: '0590523562', 1609: '0670877514', 1610: '0671644459', 1611: '0671644475', 1612: '0689800975', 1613: '0743410181', 1614: '0778320022', 1615: '0778320065', 1616: '0778320286', 1617: '0821714600', 1618: '0821715402', 1619: '0821774638', 1620: '082177574X', 1621: '1551660679', 1622: '1551661586', 1623: '1551664992', 1624: '1551665220', 1625: '1551665344', 1626: '1551666960', 1627: '1551667487', 1628: '1557485534', 1629: '0020532105', 1630: '0060926317', 1631: '0060958014', 1632: '0140280553', 1633: '0156007819', 1634: '0156011042', 1635: '0345423135', 1636: '0375705619', 1637: '0385334923', 1638: '0385498802', 1639: '0440212723', 1640: '0451209907', 1641: '051512219X', 1642: '0671683993', 1643: '0688177859', 1644: '0802139256', 1645: '0553574671', 1646: '0849937531', 1647: '0553268937', 1648: '014025448X', 1649: '0312252617', 1650: '0316102121', 1651: '0385316925', 1652: '0385319568', 1653: '0385324057', 1654: '0385334710', 1655: '0385497466', 1656: '0399145060', 1657: '0399148019', 1658: '0446527017', 1659: '0446527130', 1660: '0553104039', 1661: '0553104047', 1662: '0553104136', 1663: '0671510126', 1664: '0671786458', 1665: '068815090X', 1666: '0743206029', 1667: '0743412761', 1668: '1401030270', 1669: '8420634158', 1670: '0766607615', 1671: '0425191028', 1672: '0060168862', 1673: '014011291X', 1674: '0345392698', 1675: '0452267455', 1676: '0883680661', 1677: '0060977493', 1678: '0140039589', 1679: '014017513X', 1680: '0224060198', 1681: '0349101779', 1682: '0446672661', 1683: '0863695930', 1684: '1865080012', 1685: '0671003755', 1686: '0316031038', 1687: '0316031046', 1688: '0316031054', 1689: '0316779032', 1690: '0316779075', 1691: '0440216745', 1692: '0446613436', 1693: '0553582755', 1694: '0671027123', 1695: '0671027441', 1696: '0722535562', 1697: '074341702X', 1698: '0743460529', 1699: '0840776381', 1700: '0871236447', 1701: '0871237954', 1702: '0874776929', 1703: '1556611188', 1704: '1556612257', 1705: '155661246X', 1706: '1576738469', 1707: '1589196635', 1708: '1840386762', 1709: '1889613010', 1710: '0156711427', 1711: '0375725784', 1712: '0800714083', 1713: '3423205903', 1714: '0618129030', 1715: '080506723X', 1716: '3257009100', 1717: '3453092880', 1718: '3492004717', 1719: '3492028969', 1720: '3596237874', 1721: '044020562X', 1722: '0345455916', 1723: '1565611489', 1724: '0062720732', 1725: '0316926078', 1726: '0440241162', 1727: '0897333659', 1728: '0060194596', 1729: '0060974788', 1730: '0449912302', 1731: '0451153553', 1732: '0451170385', 1733: '0880299428', 1734: '0451163494', 1735: '0689821085', 1736: '0373218036', 1737: '8466303316', 1738: '0679435549', 1739: '0590553232', 1740: '1567184693', 1741: '0743418719', 1742: '0345447832', 1743: '2070495027', 1744: '0375410848', 1745: '0432534220', 1746: '006091291X', 1747: '0140055932', 1748: '0140309578', 1749: '0385319959', 1750: '0399146431', 1751: '0425181618', 1752: '0679445315', 1753: '0691017840', 1754: '1573221775', 1755: '1551667525', 1756: '0312202911', 1757: '0898861411', 1758: '0312275420', 1759: '0771099894', 1760: '0061099813', 1761: '0140444173', 1762: '0312009941', 1763: '0345334531', 1764: '0394484479', 1765: '0425185001', 1766: '051513287X', 1767: '1583226443', 1768: '1577780728', 1769: '0025173251', 1770: '0028620585', 1771: '0028629299', 1772: '0060111011', 1773: '0060163704', 1774: '0060551895', 1775: '006091646X', 1776: '0062502123', 1777: '0140167153', 1778: '0312265859', 1779: '0312965338', 1780: '0375504044', 1781: '0385266359', 1782: '0439064872', 1783: '0439136369', 1784: '0439139600', 1785: '0440057574', 1786: '0446378445', 1787: '0446517097', 1788: '0446977551', 1789: '0517060205', 1790: '0671016768', 1791: '0688041140', 1792: '0688111289', 1793: '0761522212', 1794: '0762721979', 1795: '0786868414', 1796: '0802100155', 1797: '0814450598', 1798: '0842304673', 1799: '087795979X', 1800: '0884270610', 1801: '1567310028', 1802: '1853263214', 1803: '0064407462', 1804: '0878332170', 1805: '0312957866', 1806: '0671868691', 1807: '0816730091', 1808: '0060530103', 1809: '0471214205', 1810: '0786886323', 1811: '0752826883', 1812: '0375409440', 1813: '0380730847', 1814: '0385313667', 1815: '0399147195', 1816: '0425182908', 1817: '044661257X', 1818: '0553569058', 1819: '0688152449', 1820: '080410753X', 1821: '1853260339', 1822: '0732257476', 1823: '3426600218', 1824: '8879831607', 1825: '0446608831', 1826: '0446610542', 1827: '0679308806', 1828: '0006542808', 1829: '0060392185', 1830: '0140367209', 1831: '0140546499', 1832: '0146000579', 1833: '0146000706', 1834: '0146000994', 1835: '0146001109', 1836: '0192816071', 1837: '0307022196', 1838: '0310912520', 1839: '0312850131', 1840: '0312860862', 1841: '0312923651', 1842: '0312970234', 1843: '0321096983', 1844: '0345300742', 1845: '0345318617', 1846: '0345334590', 1847: '0345352459', 1848: '0345369335', 1849: '0345431464', 1850: '037302973X', 1851: '0373071388', 1852: '0373074646', 1853: '0373106939', 1854: '0373110138', 1855: '0373112572', 1856: '0373117868', 1857: '0373122772', 1858: '0373167318', 1859: '0373708335', 1860: '037383375X', 1861: '0375756817', 1862: '0380710870', 1863: '038097391X', 1864: '0385320329', 1865: '0394800168', 1866: '0394820371', 1867: '0395681863', 1868: '0399122400', 1869: '0399134883', 1870: '0425048543', 1871: '042513525X', 1872: '0425140032', 1873: '0425178102', 1874: '042518630X', 1875: '0439040825', 1876: '0440139791', 1877: '0440184622', 1878: '0440206561', 1879: '0440207622', 1880: '0440479002', 1881: '044056753X', 1882: '0440800129', 1883: '0440920833', 1884: '0441116183', 1885: '0441470734', 1886: '0445205636', 1887: '0446520608', 1888: '0446603368', 1889: '0449210324', 1890: '0451136683', 1891: '0451173392', 1892: '0515131229', 1893: '051788710X', 1894: '0553131834', 1895: '0553201344', 1896: '0553202790', 1897: '0553271571', 1898: '0553282700', 1899: '0553297988', 1900: '0553299352', 1901: '0553565605', 1902: '0590117653', 1903: '0590413848', 1904: '059046244X', 1905: '0590466178', 1906: '059088008X', 1907: '0671017128', 1908: '0671019961', 1909: '0671502522', 1910: '0671556843', 1911: '067160550X', 1912: '0671655450', 1913: '0671663755', 1914: '0671721623', 1915: '0671775715', 1916: '0684174707', 1917: '0684832860', 1918: '0684835614', 1919: '0689828896', 1920: '0786862572', 1921: '0800786092', 1922: '0812055721', 1923: '0812502076', 1924: '0812504321', 1925: '0812508084', 1926: '0812511840', 1927: '0812523466', 1928: '0812531558', 1929: '0812533232', 1930: '0812543181', 1931: '0821713655', 1932: '0821726595', 1933: '0848706978', 1934: '0865926433', 1935: '0871318156', 1936: '0880380845', 1937: '088184781X', 1938: '0886775981', 1939: '0890817596', 1940: '0898151899', 1941: '155882068X', 1942: '1569751544', 1943: '1570423008', 1944: '0060935464', 1945: '0385475721', 1946: '8817106054', 1947: '8817853712', 1948: '8845907244', 1949: '9722216333', 1950: '9729750734', 1951: '9729801320', 1952: '3453146972', 1953: '0671723316', 1954: '0743418190', 1955: '0312978340', 1956: '0425178781', 1957: '0743930142', 1958: '0761519858', 1959: '1568846010', 1960: '1576904423', 1961: '0688149596', 1962: '0064401324', 1963: '0451409736', 1964: '050552502X', 1965: '0843949090', 1966: '0440217466', 1967: '0446679593', 1968: '0575068620', 1969: '0060185147', 1970: '0380788683', 1971: '0553578693', 1972: '0553577867', 1973: '01420.01740', 1974: '0826308252', 1975: '0316158720', 1976: '0425167720', 1977: '1853264083', 1978: '0152413588', 1979: '0316693251', 1980: '0385306148', 1981: '0312955006', 1982: '0425137937', 1983: '0440225590', 1984: '0515124060', 1985: '0553565095', 1986: '0786889152', 1987: '020140964X', 1988: '0805035842', 1989: '0446518581', 1990: '031284879X', 1991: '0684802899', 1992: '0749800424', 1993: '0803703724', 1994: '0887140963', 1995: '0894713477', 1996: '1561383074', 1997: '1568659040', 1998: '1571741097', 1999: '1879678012', 2000: '1558532315', 2001: '038079943X', 2002: '0425178765', 2003: '0425182878', 2004: '0440221595', 2005: '0446610038', 2006: '0449003787', 2007: '0449219461', 2008: '0553213180', 2009: '0553269216', 2010: '0770422071', 2011: '0553106686', 2012: '0874778883', 2013: '0965060495', 2014: '0965589444', 2015: '0965693015', 2016: '0060937742', 2017: '1931561648', 2018: '0553096834', 2019: '0679434488', 2020: '1576734218', 2021: '0425131327', 2022: '0440200989', 2023: '1887166092', 2024: '0028630343', 2025: '0345339703', 2026: '0673397394', 2027: '0425129586', 2028: '044041833X', 2029: '0590660543', 2030: '0345388879', 2031: '0385471181', 2032: '0553573616', 2033: '0679768203', 2034: '0684829746', 2035: '0140292683', 2036: '0140293450', 2037: '0330375253', 2038: '0345423097', 2039: '0385730586', 2040: '0439201632', 2041: '0439312280', 2042: '0446314854', 2043: '0752837613', 2044: '0671028375', 2045: '0446612545', 2046: '185813501X', 2047: '320375536X', 2048: '3257233086', 2049: '3492223710', 2050: '3548250459', 2051: '380520406X', 2052: '8873122933', 2053: '0060976683', 2054: '0140069623', 2055: '0446343439', 2056: '0446400009', 2057: '0449219399', 2058: '0679750533', 2059: '8420646032', 2060: '0061044725', 2061: '0061063746', 2062: '0140277471', 2063: '0141001976', 2064: '0226848620', 2065: '0312957785', 2066: '0312980140', 2067: '0312983298', 2068: '0312983867', 2069: '0312990456', 2070: '0312991460', 2071: '0345348176', 2072: '0345350499', 2073: '0425163717', 2074: '0425190927', 2075: '0425191583', 2076: '0425193772', 2077: '0441478123', 2078: '0449003183', 2079: '0449206874', 2080: '0449217213', 2081: '0449223558', 2082: '0451202503', 2083: '0515136557', 2084: '055327239X', 2085: '0671877445', 2086: '0743406583', 2087: '0743480562', 2088: '0765344513', 2089: '0804109818', 2090: '1400034779', 2091: '157566254X', 2092: '1890208442', 2093: '0440224624', 2094: '0553575090', 2095: '0786889187', 2096: '8887775206', 2097: '0130454699', 2098: '1401300057', 2099: '0767902890', 2100: '034073356X', 2101: '0340733578', 2102: '0062700227', 2103: '0525449922', 2104: '3453862732', 2105: '0688165664', 2106: '1550390961', 2107: '0060160713', 2108: '0060987561', 2109: '014028009X', 2110: '0140296298', 2111: '0141312378', 2112: '0201095696', 2113: '0316096199', 2114: '0316899984', 2115: '0375703063', 2116: '0385512147', 2117: '0393045900', 2118: '0425178900', 2119: '0439324599', 2120: '0440514428', 2121: '0449907481', 2122: '0451163524', 2123: '0451408535', 2124: '0452273749', 2125: '0452283221', 2126: '0515123536', 2127: '0515131083', 2128: '0553278355', 2129: '0553570870', 2130: '059099459X', 2131: '0671028014', 2132: '0671038184', 2133: '0671735594', 2134: '0679425268', 2135: '0684814994', 2136: '0684837986', 2137: '0684873796', 2138: '0688162827', 2139: '0688170528', 2140: '0743225082', 2141: '0843928395', 2142: '1562477544', 2143: '1882723007', 2144: '1885840055', 2145: '1896095186', 2146: '0375507299', 2147: '202005986x', 2148: '202054296X', 2149: '2020555549', 2150: '2020581167', 2151: '2070377229', 2152: '2253170313', 2153: '2264035894', 2154: '2877304892', 2155: '0553151967', 2156: '0765342294', 2157: '1550741055', 2158: '1550741195', 2159: '0060959037', 2160: '0449225208', 2161: '0451182391', 2162: '0515109509', 2163: '1576731235', 2164: '0862321107', 2165: '0380820145', 2166: '0345330293', 2167: '0061095052', 2168: '0440223202', 2169: '044023574X', 2170: '0451182014', 2171: '8408022938', 2172: '8408044079', 2173: '8422642999', 2174: '8423322912', 2175: '8440644965', 2176: '8440662394', 2177: '8466307125', 2178: '8497593197', 2179: '3442093406', 2180: '0679309519', 2181: '2841160297', 2182: '9782253172109', 2183: '0375704965', 2184: '0446364495', 2185: '0425182215', 2186: '042518692X', 2187: '0451197674', 2188: '0451410017', 2189: '0451410785', 2190: '0515132039', 2191: '0553578227', 2192: '074341022X', 2193: '0553381903', 2194: '0670528951', 2195: '0446404136', 2196: '0192818252', 2197: '359625180X', 2198: '3894376163', 2199: '3596109744', 2200: '0679735909', 2201: '0786867647', 2202: '1865085537', 2203: '0446609404', 2204: '097162397X', 2205: '0440402255', 2206: '0945575009', 2207: '0399147772', 2208: '3511749116', 2209: '0553574078', 2210: '0312186681', 2211: '0140270590', 2212: '0345457374', 2213: '0553578316', 2214: '1583225366', 2215: '3442421357', 2216: '0552995061', 2217: '0553408453', 2218: '0860680649', 2219: '0399146164', 2220: '0316284955', 2221: '0786868015', 2222: '0312995423', 2223: '0007139918', 2224: '0449223612', 2225: '0064405788', 2226: '0743400526', 2227: '0399135790', 2228: '0771037163', 2229: '0671014188', 2230: '0671014196', 2231: '0449205193', 2232: '155874262X', 2233: '1558747109', 2234: '0385260075', 2235: '0435120425', 2236: '0440211263', 2237: '0553274503', 2238: '0590045296', 2239: '0679412956', 2240: '0689818904', 2241: '0743525493', 2242: '082301200X', 2243: '0865732027', 2244: '0865732132', 2245: '1561580880', 2246: '0345387651', 2247: '1892597020', 2248: '0060809833', 2249: '0380698439', 2250: '0380865610', 2251: '0439050006', 2252: '0440486599', 2253: '067161746X', 2254: '0767907566', 2255: '0789721260', 2256: '0843106743', 2257: '0884159221', 2258: '0894803700', 2259: '0912333022', 2260: '0914511211', 2261: '1558531025', 2262: '1569661057', 2263: '1885071213', 2264: '0449907597', 2265: '0316184152', 2266: '0425163393', 2267: '0553275739', 2268: '0553579606', 2269: '0002005018', 2270: '074322678X', 2271: '0887841740', 2272: '1552041778', 2273: '1567407781', 2274: '1575663937', 2275: '1881320189', 2276: '0452264464', 2277: '8477024456', 2278: '1879384493', 2279: '0061076031', 2280: '0439095026', 2281: '0689821166', 2282: '0345402871', 2283: '0425099148', 2284: '0553264990', 2285: '0891075275', 2286: '0891076182', 2287: '0375759778', 2288: '3404921038', 2289: '0060168013', 2290: '0553582909', 2291: '0671888587', 2292: '0553582747', 2293: '0060914068', 2294: '0156047624', 2295: '0245542957', 2296: '0380715899', 2297: '0671623249', 2298: '0679865691', 2299: '2070423204', 2300: '0394743741', 2301: '0617683993', 2302: '0676973655', 2303: '1853260053', 2304: '1414035004', 2305: '0060938412', 2306: '0394895894', 2307: '0375410538', 2308: '0966986105', 2309: '087113375X', 2310: '0340767936', 2311: '0060930365', 2312: '0071416331', 2313: '0375509038', 2314: '0553062042', 2315: '8445071408', 2316: '8445071769', 2317: '8445071777', 2318: '0671867156', 2319: '0312261594', 2320: '0316748641', 2321: '0385235941', 2322: '0446677450', 2323: '0553347594', 2324: '0671621009', 2325: '8472238822', 2326: '0671864769', 2327: '0671521519', 2328: '0440222303', 2329: '0312953453', 2330: '0446608653', 2331: '0446612618', 2332: '0451208080', 2333: '0553584383', 2334: '0812575954', 2335: '0679429220', 2336: '0316735736', 2337: '0345372700', 2338: '0771024894', 2339: '0840734530', 2340: '8573022876', 2341: '8573024771', 2342: '9722322702', 2343: '9727110843', 2344: '9727114962', 2345: '9728579225', 2346: '0451205197', 2347: '0061099325', 2348: '0446601640', 2349: '1900850303', 2350: '0451410319', 2351: '9044601695', 2352: '100940/86', 2353: '127420/98', 2354: '13440/86', 2355: '1351394403', 2356: '140274871', 2357: '15019/87', 2358: '16560/87', 2359: '16785/87', 2360: '18128/87', 2361: '18678/87', 2362: '19973/88', 2363: '203671/03', 2364: '2070567842', 2365: '23950/88', 2366: '30623/89', 2367: '36388/90', 2368: '40052/90', 2369: '40614/2098', 2370: '71837/93', 2371: '75666/95', 2372: '77556/94', 2373: '80651/94', 2374: '8401422825', 2375: '8440630794', 2376: '847223973X', 2377: '8476409419', 2378: '8497890663', 2379: '8585362693', 2380: '8585443464', 2381: '9714511081', 2382: '9721028800', 2383: '9721033561', 2384: '9721035130', 2385: '9722013831', 2386: '9722020242', 2387: '9722105507', 2388: '9722113747', 2389: '9722319914', 2390: '9722330950', 2391: '9722902628', 2392: '972370403X', 2393: '9723706504', 2394: '9724114384', 2395: '9724128725', 2396: '9724129411', 2397: '9724131009', 2398: '9724502023', 2399: '9724508552', 2400: '9724509524', 2401: '97245146089', 2402: '9726080630', 2403: '9726081327', 2404: '9726081378', 2405: '9726081424', 2406: '9726101034', 2407: '9726593855', 2408: '9726653525', 2409: '9726991366', 2410: '9726993474', 2411: '9727100112', 2412: '9727110541', 2413: '9728305729', 2414: '9728313039', 2415: '9728440006', 2416: '9728440030', 2417: '9728440057', 2418: '9728440138', 2419: '9728440170', 2420: '9728440200', 2421: '9728440324', 2422: '9728440383', 2423: '9728440405', 2424: '9728440456', 2425: '9728440642', 2426: '9728440693', 2427: '9728440804', 2428: '9728487002', 2429: '9728487142', 2430: '9728487150', 2431: '9728487266', 2432: '9728487304', 2433: '9728487355', 2434: '9728487576', 2435: '9728487606', 2436: '9728487614', 2437: '9728515227', 2438: '9729720495', 2439: '972975831X', 2440: '9729817715', 2441: '9729852405', 2442: '9748440537', 2443: '0002740230', 2444: '0140252800', 2445: '0060801263', 2446: '0061030147', 2447: '0140250964', 2448: '1880539365$9.', 2449: '0446527165', 2450: '0671461494', 2451: '0385337639', 2452: '039575514X', 2453: '0451206673', 2454: '0007123817', 2455: '0486284735', 2456: '0671021745', 2457: '0671047612', 2458: '0671504282', 2459: '9511173758', 2460: '0553278223', 2461: '3150000335', 2462: '3257202083', 2463: '3257203136', 2464: '3257203659', 2465: '3257207522', 2466: '3257208626', 2467: '3257208634', 2468: '3257208640', 2469: '3257208650', 2470: '3257208669', 2471: '3257210450', 2472: '3257212054', 2473: '3257212429', 2474: '3257214154', 2475: '3257216416', 2476: '3257233051', 2477: '342311360X', 2478: '3423114185', 2479: '3451040395', 2480: '3453212150', 2481: '3492045642', 2482: '3498020862', 2483: '3499110695', 2484: '3499151502', 2485: '349917281X', 2486: '3518370324', 2487: '3548254268', 2488: '3570300099', 2489: '3596221269', 2490: '3596292646', 2491: '3928812343', 2492: '393463849X', 2493: '0060915544', 2494: '0140272100', 2495: '0375400117', 2496: '0385316895', 2497: '0385720106', 2498: '0425163407', 2499: '0446364800', 2500: '0446606383', 2501: '0553580388', 2502: '0786863986', 2503: '0803251718', 2504: '0060987103', 2505: '0151008116', 2506: '0525947647', 2507: '0804111359', 2508: '0435272683', 2509: '0349109117', 2510: '0060502320', 2511: '0060934700', 2512: '0060976977', 2513: '0064471047', 2514: '0066238501', 2515: '0312863934', 2516: '0373033605', 2517: '0373162669', 2518: '0373226063', 2519: '0373226144', 2520: '0373243944', 2521: '0373243979', 2522: '0373709889', 2523: '0373810431', 2524: '0373810601', 2525: '0373834446', 2526: '0373834489', 2527: '0373836023', 2528: '0375756469', 2529: '037582345X', 2530: '0375823468', 2531: '0380730448', 2532: '0380789035', 2533: '0380810492', 2534: '0380817845', 2535: '0380973634', 2536: '0380973650', 2537: '0380973839', 2538: '0380977281', 2539: '038097827X', 2540: '0439064864', 2541: '0439136350', 2542: '0439139597', 2543: '0446341932', 2544: '0451167317', 2545: '0451406176', 2546: '0451409256', 2547: '0451524934', 2548: '0451526341', 2549: '0553263633', 2550: '0553280325', 2551: '0590353403', 2552: '0618002227', 2553: '0679879242', 2554: '0681415207', 2555: '1556520743', 2556: '156389226X', 2557: '1563895730', 2558: '1567310877', 2559: '156971620X', 2560: '1931081727', 2561: '0440235502', 2562: '1573225487', 2563: '1853260673', 2564: '8700236403', 2565: '0060977477', 2566: '0520011171', 2567: '0670856045', 2568: '0872200760', 2569: '0671649949', 2570: '0590431110', 2571: '0064470113', 2572: '0553571486', 2573: '0972044205', 2574: '0312963009', 2575: '0345430476', 2576: '0380728729', 2577: '038081840X', 2578: '055329198X', 2579: '0671018930', 2580: '0812541642', 2581: '0312988699', 2582: '8483007010', 2583: '0385313748', 2584: '0671440276', 2585: '1575843366', 2586: '0684193957', 2587: '0380730138', 2588: '014062032X', 2589: '1573228737', 2590: '9681500555', 2591: '0452283914', 2592: '067153484X', 2593: '0380728273', 2594: '8433914545', 2595: '8484509141', 2596: '0446606197', 2597: '0575064706', 2598: '0671643290', 2599: '0773756183', 2600: '140102505X', 2601: '0062770500', 2602: '0671847546', 2603: '667241688', 2604: '0380815923', 2605: '0385416342', 2606: '0425098109', 2607: '0517577402', 2608: '0712695230', 2609: '0743411269', 2610: '0891091963', 2611: '1880185008', 2612: '0198320264', 2613: '0373196989', 2614: '0451527747', 2615: '0812504208', 2616: '1590071212', 2617: '0060973897', 2618: '006101351X', 2619: '0140104682', 2620: '039456894X', 2621: '0449002632', 2622: '0449213773', 2623: '0452279690', 2624: '0679725393', 2625: '0802114369', 2626: '0819154946', 2627: '0897322339', 2628: '0940322978', 2629: '1573225126', 2630: '1579651658', 2631: '1878424319', 2632: '8427007450', 2633: '8429725792', 2634: '8432295914', 2635: '8473861345', 2636: '8474103347', 2637: '847592543X', 2638: '8475960650', 2639: '8475960936', 2640: '8476021550', 2641: '8476021569', 2642: '8476021844', 2643: '8477270120', 2644: '8477397856', 2645: '8478092943', 2646: '8478098267', 2647: '8478884963', 2648: '8483002523', 2649: '8483008505', 2650: '8486433193', 2651: '8486433673', 2652: '8742977932', 2653: '0600586898', 2654: '1857938011', 2655: '8495971909', 2656: '0312283784', 2657: '0553582682', 2658: '0590947257', 2659: '0801491827', 2660: '1561561428', 2661: '0553210092', 2662: '0553258524', 2663: '0316314927', 2664: '0375414746', 2665: '0425156842', 2666: '0805063897', 2667: '0679777431', 2668: '0553285343', 2669: '0486285529', 2670: '0385495145', 2671: '0842329129', 2672: '0393321576', 2673: '0743424425', 2674: '0446610178', 2675: '0684854953', 2676: '0385337132', 2677: '0440235057', 2678: '0618119760', 2679: '0871138646', 2680: '0026329859', 2681: '0060925000', 2682: '0060932759', 2683: '0061000280', 2684: '0393048977', 2685: '039914739X', 2686: '0451523318', 2687: '0486281965', 2688: '0553145460', 2689: '0684824442', 2690: '081296666X', 2691: '1877727083', 2692: '0486206173', 2693: '0312278586', 2694: '8807170698', 2695: '8838916489', 2696: '8845229041', 2697: '887641486X', 2698: '9770390107900', 2699: '0140370900', 2700: '0030096189', 2701: '0312965745', 2702: '0345374657', 2703: '0395710901', 2704: '080521061X', 2705: '0865732787', 2706: '0679310002', 2707: '0312288115', 2708: '0515118656', 2709: '1561672033', 2710: '0425178242', 2711: '0451202341', 2712: '0345441133', 2713: '0385335407', 2714: '0385490992', 2715: '0486272664', 2716: '0945586051', 2717: '0590419625', 2718: '0451195663', 2719: '055356451X', 2720: '0743412621', 2721: '0849943450', 2722: '084994371X', 2723: '0140179836', 2724: '0345348656', 2725: '0373076746', 2726: '0385483724', 2727: '0385496095', 2728: '0395798671', 2729: '0439099404', 2730: '0440241006', 2731: '0440508827', 2732: '0515131679', 2733: '068484267X', 2734: '0805009086', 2735: '0809244942', 2736: '0892819774', 2737: '1558743669', 2738: '006017143X', 2739: '0345313860', 2740: '0385306032', 2741: '038549825X', 2742: '042517736X', 2743: '0553202294', 2744: '0671868713', 2745: '0679401377', 2746: '0805056491', 2747: '0816152446', 2748: '1562827049', 2749: '0020427859', 2750: '0060558865', 2751: '0140230165', 2752: '0312312628', 2753: '0345369068', 2754: '034546074X', 2755: '0375815147', 2756: '0425115844', 2757: '0425168948', 2758: '0451184718', 2759: '0553294849', 2760: '0553297341', 2761: '0553571842', 2762: '055357695X', 2763: '0553580523', 2764: '0553583441', 2765: '0553583468', 2766: '0590021117', 2767: '0679893105', 2768: '0689710879', 2769: '0689710887', 2770: '0689710895', 2771: '0689711522', 2772: '0743260244', 2773: '0743444523', 2774: '0767912918', 2775: '0812533534', 2776: '0821772953', 2777: '0898153778', 2778: '0936034025', 2779: '1557733856', 2780: '1557734909', 2781: '0385335679', 2782: '0671525832', 2783: '0553279572', 2784: '0516076272', 2785: '0679450432', 2786: '0821775863', 2787: '0670855758', 2788: '8845901777', 2789: '0446364193', 2790: '0061042943', 2791: '0312206763', 2792: '0385314019', 2793: '0399144463', 2794: '0618231617', 2795: '0743444167', 2796: '0965044192', 2797: '0140185216', 2798: '0425174484', 2799: '0486272745', 2800: '0684717255', 2801: '0787955671', 2802: '8807120194', 2803: '0062507249', 2804: '0060083298', 2805: '0140293248', 2806: '0446610399', 2807: '0807070718', 2808: '1576737357', 2809: '0345305477', 2810: '0671808672', 2811: '0743213831', 2812: '8804367482', 2813: '0020867409', 2814: '0062517856', 2815: '015600710X', 2816: '0316735027', 2817: '193156146X', 2818: '0140021566', 2819: '0449245691', 2820: '8447802701', 2821: '9870205656', 2822: '2070334368', 2823: '2070384349', 2824: '2070417743', 2825: '207053880X', 2826: '2253004022', 2827: '2253007102', 2828: '2266029460', 2829: '2266033689', 2830: '2266084372', 2831: '2877060527', 2832: '3423105410', 2833: '3423202033', 2834: '3426760207', 2835: '3466110564', 2836: '3492207006', 2837: '3725410127', 2838: '3442724686', 2839: '3596144434', 2840: '3890827462', 2841: '0060164662', 2842: '0060191929', 2843: '0140107649', 2844: '0140128107', 2845: '0151000719', 2846: '0151001006', 2847: '0316603287', 2848: '0316693006', 2849: '0316779423', 2850: '0316779490', 2851: '0316969443', 2852: '0345339711', 2853: '0345428900', 2854: '0375400699', 2855: '0380978539', 2856: '0385420161', 2857: '0385470819', 2858: '0385500769', 2859: '0385505833', 2860: '0394574745', 2861: '0399148582', 2862: '0425184129', 2863: '0446523569', 2864: '0446525502', 2865: '0446525537', 2866: '0446527793', 2867: '0446531332', 2868: '0525943862', 2869: '052594463X', 2870: '0609605925', 2871: '0609606727', 2872: '0671042556', 2873: '0679410430', 2874: '0679419624', 2875: '0679442790', 2876: '0679603352', 2877: '067972768X', 2878: '0679732241', 2879: '0679746048', 2880: '0684874318', 2881: '0688180639', 2882: '0743230051', 2883: '0842336214', 2884: '1558747028', 2885: '1558747346', 2886: '1570717257', 2887: '0451176812', 2888: '0394551427', 2889: '0446602086', 2890: '0718144538', 2891: '0006510345', 2892: '0007100221', 2893: '0061092606', 2894: '0099449943', 2895: '0140292918', 2896: '0140366660', 2897: '0140366857', 2898: '0140482202', 2899: '0140622063', 2900: '0198604025', 2901: '0261102214', 2902: '0349102155', 2903: '0416196772', 2904: '0552771090', 2905: '057120354X', 2906: '0571209521', 2907: '0671894455', 2908: '0743222229', 2909: '0743462335', 2910: '0747538069', 2911: '0749391308', 2912: '0749396067', 2913: '0752804510', 2914: '0753507579', 2915: '0753807327', 2916: '0890877564', 2917: '0947782230', 2918: '1405200677', 2919: '1405401184', 2920: '1841150355', 2921: '1841950521', 2922: '1841952931', 2923: '1842040405', 2924: '1853260002', 2925: '185479549X', 2926: '1854795554', 2927: '1858813093', 2928: '190178424X', 2929: '2020315491', 2930: '2070322068', 2931: '2070375617', 2932: '2070393577', 2933: '2229137939', 2934: '2253000868', 2935: '2253001457', 2936: '2253002895', 2937: '2253006866', 2938: '2253037796', 2939: '2253043974', 2940: '2253046922', 2941: '2253049417', 2942: '2253051381', 2943: '2253140872', 2944: '2253148539', 2945: '2253170127', 2946: '2253170372', 2947: '2253170569', 2948: '2253171077', 2949: '2702418112', 2950: '2737329787', 2951: '2742722771', 2952: '2857043821', 2953: '2868696945', 2954: '2871290911', 2955: '2876915618', 2956: '2876916193', 2957: '2909051196', 2958: '0375501347', 2959: '0060927240', 2960: '0060006048', 2961: '0060934719', 2962: '0307215342', 2963: '0312287240', 2964: '0345370740', 2965: '0345403339', 2966: '0374343381', 2967: '0374386676', 2968: '0380788497', 2969: '0425049981', 2970: '0440219604', 2971: '0440226694', 2972: '0446300101', 2973: '0451456548', 2974: '0553574159', 2975: '0553574167', 2976: '0553574175', 2977: '0553579673', 2978: '0679801146', 2979: '0786886463', 2980: '0786889160', 2981: '0962893862', 2982: '156341029X', 2983: '1563411148', 2984: '1563899388', 2985: '1886383421', 2986: '1888451084', 2987: '038529929X', 2988: '0767903285', 2989: '0345418778', 2990: '0316875961', 2991: '0552996092', 2992: '0517201658', 2993: '039914370X', 2994: '0743211383', 2995: '0312977905', 2996: '0451205421', 2997: '0812521331', 2998: '1884777805', 2999: '0894342789', 3000: '8806142267', 3001: '0394559487', 3002: '039457513X', 3003: '0670844594', 3004: '0804001944', 3005: '0060535032', 3006: '0064405052', 3007: '0064409457', 3008: '0152162445', 3009: '015216250X', 3010: '0152162577', 3011: '0345391802', 3012: '0439042917', 3013: '043922165X', 3014: '0439221676', 3015: '0439221684', 3016: '0439221706', 3017: '0439221714', 3018: '0439221730', 3019: '0440219078', 3020: '0440415993', 3021: '0590129015', 3022: '0590183729', 3023: '0590897985', 3024: '0689829698', 3025: '0689832877', 3026: '1562477528', 3027: '158852038', 3028: '9780590962735', 3029: '9781562477547', 3030: '0330367358', 3031: '3257201761', 3032: '3404118960', 3033: '349913358X', 3034: '3784419445', 3035: '0753804700', 3036: '0451155750', 3037: '0884111342', 3038: '0671694049', 3039: '0373250339', 3040: '0380820447', 3041: '0385497679', 3042: '0451454243', 3043: '067175145X', 3044: '0380538504', 3045: '038533334X', 3046: '0440120470', 3047: '0440222818', 3048: '0440224829', 3049: '0449001954', 3050: '0449131548', 3051: '0451185277', 3052: '0515134368', 3053: '0671779338', 3054: '1551660016', 3055: '1558505377', 3056: '0130139165', 3057: '0140065172', 3058: '0373036582', 3059: '0373037449', 3060: '0373196725', 3061: '0373196741', 3062: '0381999866', 3063: '0393030342', 3064: '044132231X', 3065: '0450029956', 3066: '0451524489', 3067: '0451526503', 3068: '0553256785', 3069: '0590514776', 3070: '07472668', 3071: '0786889705', 3072: '0425113892', 3073: '042512892X', 3074: '0425137945', 3075: '014036336X', 3076: '0812516826', 3077: '0679420118', 3078: '0741402858', 3079: '0741402912', 3080: '0741403056', 3081: '0741403471', 3082: '0741403781', 3083: '0741405784', 3084: '0741407213', 3085: '0741409690', 3086: '074141127X', 3087: '0741412740', 3088: '0759612277', 3089: '0871137380', 3090: '1585007366', 3091: '1588206769', 3092: '1594110119', 3093: '0553568760', 3094: '034538184X', 3095: '0140620109', 3096: '0140620125', 3097: '3499234246', 3098: '0671745530', 3099: '0553211412', 3100: '0805062971', 3101: '1573229385', 3102: '0945397410', 3103: '0060914653', 3104: '0345347536', 3105: '055321313X', 3106: '0060529709', 3107: '0140274154', 3108: '0375507256', 3109: '0375704027', 3110: '0876850867', 3111: '3473540420', 3112: '0590484753', 3113: '0874067391', 3114: '0449911004', 3115: '0975311255', 3116: '0553584510', 3117: '0345341201', 3118: '0060933771', 3119: '0060256672', 3120: '0060928336', 3121: '0140070206', 3122: '0140077022', 3123: '014016930X', 3124: '0140236589', 3125: '0140253602', 3126: '0316777730', 3127: '0375501851', 3128: '0375705228', 3129: '038001503X', 3130: '039592720X', 3131: '0440215625', 3132: '0553268449', 3133: '0679732764', 3134: '0684844729', 3135: '0810935627', 3136: '0877733759', 3137: '0911104542', 3138: '1566193966', 3139: '3499134446', 3140: '067142517X', 3141: '0345384466', 3142: '0451124340', 3143: '0671726889', 3144: '0099518015', 3145: '0152013369', 3146: '0425124819', 3147: '0440414717', 3148: '059044646', 3149: '0345409469', 3150: '0141001771', 3151: '0373250177', 3152: '0449005569', 3153: '0671027344', 3154: '0763615382', 3155: '0786884622', 3156: '0965975401', 3157: '8830415200', 3158: '8838423806', 3159: '0066211611', 3160: '0684819066', 3161: '0786927089', 3162: '0671578103', 3163: '3404203097', 3164: '3404203135', 3165: '3423009152', 3166: '3423620005', 3167: '3426074427', 3168: '3426616262', 3169: '3426701448', 3170: '3453046196', 3171: '3453137205', 3172: '3453147243', 3173: '3453171977', 3174: '3453177800', 3175: '3492229336', 3176: '3499237016', 3177: '3499425394', 3178: '3505044539', 3179: '3518371002', 3180: '3596133319', 3181: '3596142229', 3182: '3596505356', 3183: '3746611229', 3184: '3800025590', 3185: '3808536519', 3186: '3893850589', 3187: '3893852921', 3188: '3934254454', 3189: '0140042520', 3190: '0345358791', 3191: '0345375211', 3192: '034545829X', 3193: '0446677574', 3194: '0553574833', 3195: '0020418809', 3196: '0064401847', 3197: '0064402967', 3198: '0140440399', 3199: '0340188022', 3200: '0345334930', 3201: '0373218400', 3202: '0373484224', 3203: '0394557433', 3204: '0394743180', 3205: '039607412X', 3206: '0425179672', 3207: '0425195899', 3208: '0440215978', 3209: '0446344109', 3210: '0446895725', 3211: '0449230279', 3212: '0449700712', 3213: '0452265347', 3214: '051509465X', 3215: '0515135062', 3216: '0517556278', 3217: '0553205587', 3218: '0553247921', 3219: '0553250426', 3220: '0553258656', 3221: '0553280589', 3222: '0553290207', 3223: '0618260307', 3224: '067101420X', 3225: '0671641778', 3226: '8423995801', 3227: '0140266771', 3228: '0380002450', 3229: '0679723420', 3230: '0441004016', 3231: '0671500546', 3232: '0140620338', 3233: '0460878263', 3234: '3257061269', 3235: '3453088433', 3236: '3453199766', 3237: '3746670144', 3238: '0373057296', 3239: '0373058446', 3240: '0373092237', 3241: '0373257074', 3242: '0425137015', 3243: '0441001335', 3244: '0449212084', 3245: '0451450604', 3246: '0451454677', 3247: '0553572490', 3248: '0553576976', 3249: '000649840X', 3250: '0091880963', 3251: '009974371X', 3252: '0099771519', 3253: '0140431268', 3254: '014044503X', 3255: '0551030682', 3256: '0551031085', 3257: '0551032510', 3258: '0785268480', 3259: '0842329072', 3260: '0851707777', 3261: '1576832899', 3262: '1853261750', 3263: '067102535X', 3264: '0876855575', 3265: '0099422468', 3266: '0140272658', 3267: '3257250053', 3268: '340780573X', 3269: '3407805853', 3270: '3442432251', 3271: '349800878', 3272: '3785532237', 3273: '0140273980', 3274: '848966983X', 3275: '2070372294', 3276: '2264030542', 3277: '0029087104', 3278: '0030615321', 3279: '0226726770', 3280: '0312140940', 3281: '0345285549', 3282: '0345307674', 3283: '0345331605', 3284: '0385314744', 3285: '0394312066', 3286: '0425050750', 3287: '0439404371', 3288: '044100962X', 3289: '0451169530', 3290: '0553234811', 3291: '0553296981', 3292: '0553801031', 3293: '0671617028', 3294: '067163884X', 3295: '0679741011', 3296: '0766607119', 3297: '0939766027', 3298: '1895383129', 3299: '4491217967', 3300: '0385335482', 3301: '0553258001', 3302: '0375704043', 3303: '0805063889', 3304: '8586280070', 3305: '068986020X', 3306: '1573228567', 3307: '662257283', 3308: '0373084520', 3309: '0449217868', 3310: '0671573020', 3311: '2266026658', 3312: '2715224141', 3313: '0441003257', 3314: '0399149759', 3315: '0451181468', 3316: '0345384733', 3317: '0399146008', 3318: '0515132632', 3319: '1902879023', 3320: '0060930535', 3321: '0385473117', 3322: '1570362084', 3323: '0375702709', 3324: '044990928X', 3325: '0060916508', 3326: '000636988X', 3327: '0006642004', 3328: '0060562080', 3329: '0099254611', 3330: '0099385716', 3331: '0099427974', 3332: '009969221X', 3333: '0099755114', 3334: '0140562109', 3335: '0140563733', 3336: '0140620915', 3337: '0141182571', 3338: '0142000663', 3339: '0142300128', 3340: '0146003241', 3341: '0330258648', 3342: '0330306839', 3343: '0380012863', 3344: '0385600526', 3345: '0394404289', 3346: '0434971383', 3347: '0552106615', 3348: '0552107735', 3349: '0552108812', 3350: '055211804', 3351: '0552124753', 3352: '0552996009', 3353: '0552998001', 3354: '0552999504', 3355: '0552999512', 3356: '0575073004', 3357: '0575073314', 3358: '058242092X', 3359: '0586210687', 3360: '0613117905', 3361: '0679883878', 3362: '070121015X', 3363: '0722159676', 3364: '0744531500', 3365: '074603010X', 3366: '0749397543', 3367: '0749720182', 3368: '0749725028', 3369: '0752853007', 3370: '0805067868', 3371: '0811828379', 3372: '0861638522', 3373: '1578562333', 3374: '0345458915', 3375: '006092988X', 3376: '038531258X', 3377: '0140317937', 3378: '0749336501', 3379: '0553256696', 3380: '0785263780', 3381: '0802433243', 3382: '0375413081', 3383: '8422617226', 3384: '038533303X', 3385: '0451163753', 3386: '0786885688', 3387: '0345387007', 3388: '0671311891', 3389: '0671721038', 3390: '0671880187', 3391: '0771074719', 3392: '0802069347', 3393: '0895773538', 3394: '1558506454', 3395: '0375726403', 3396: '0472113658', 3397: '0553377868', 3398: '0609608444', 3399: '0767902521', 3400: '0892967048', 3401: '0915811332', 3402: '014131088X', 3403: '0345325818', 3404: '043909013X', 3405: '044023767X', 3406: '0884043142', 3407: '0312983212', 3408: '0553486411', 3409: '0865532168', 3410: '3478088534', 3411: '059040640X', 3412: '1566197155', 3413: '031227999X', 3414: '3404150406', 3415: '0385508417', 3416: '0718001044', 3417: '0812515722', 3418: '0848705459', 3419: '0061030651', 3420: '006109594X', 3421: '031298250X', 3422: '0425095584', 3423: '0425185710', 3424: '0451409086', 3425: '0553575619', 3426: '0671527215', 3427: '0486203077', 3428: '0671522817', 3429: '0618074716', 3430: '0151010102', 3431: '0385493800', 3432: '0553377876', 3433: '0671318314', 3434: '1400062888', 3435: '1558612815', 3436: '1931520038', 3437: '0061093092', 3438: '0061098361', 3439: '0070212570', 3440: '0174434642', 3441: '0312243022', 3442: '0312983824', 3443: '0345370805', 3444: '0375703055', 3445: '0385480016', 3446: '0394758285', 3447: '0440214424', 3448: '0446605891', 3449: '0446673544', 3450: '0449149676', 3451: '0451187903', 3452: '0451523067', 3453: '0671004565', 3454: '0679761837', 3455: '0679772677', 3456: '0743418174', 3457: '0446611239', 3458: '8481301132', 3459: '0486280616', 3460: '006101253X', 3461: '0380814021', 3462: '0380817683', 3463: '0440217806', 3464: '0446607835', 3465: '0451402103', 3466: '0671000381', 3467: '0671689231', 3468: '0671701053', 3469: '0743405978', 3470: '0061098795', 3471: '0373226519', 3472: '0465016146', 3473: '0791423549', 3474: '0380012774', 3475: '225313922X', 3476: '0060929596', 3477: '0373834985', 3478: '038533656X', 3479: '0440224675', 3480: '0679450548', 3481: '0743230213', 3482: '0802135196', 3483: '0375707425', 3484: '3453151933', 3485: '0231105592', 3486: '014056232X', 3487: '0440203155', 3488: '0440401119', 3489: '0812565959', 3490: '034536628X', 3491: '0425163385', 3492: '0553585118', 3493: '0880387483', 3494: '0373152655', 3495: '0451404033', 3496: '11238356', 3497: '8807840227', 3498: '0380773155', 3499: '3763500634', 3500: '0006513204', 3501: '0140621725', 3502: '014143984X', 3503: '0375726322', 3504: '0786889373', 3505: '1857988132', 3506: '2020291541', 3507: '2070360024', 3508: '2070360423', 3509: '2070364283', 3510: '2070375161', 3511: '2070412571', 3512: '2070415686', 3513: '2070417700', 3514: '2070426815', 3515: '2070513726', 3516: '2070544281', 3517: '2207245810', 3518: '2207250474', 3519: '2207251756', 3520: '2207252000', 3521: '2253001295', 3522: '2253004898', 3523: '2253005274', 3524: '2253009164', 3525: '2253051020', 3526: '2253152064', 3527: '2253152277', 3528: '2258036992', 3529: '2264027681', 3530: '2264028815', 3531: '2266022504', 3532: '2266085778', 3533: '2266120158', 3534: '2290305251', 3535: '2290307831', 3536: '2290314110', 3537: '2290331406', 3538: '2290337382', 3539: '2707318094', 3540: '2723407381', 3541: '2723407403', 3542: '2723407411', 3543: '2723409821', 3544: '273811167X', 3545: '287129478X', 3546: '2871294798', 3547: '0451522389', 3548: '034058269', 3549: '0425169324', 3550: '082176828X', 3551: '0316693324', 3552: '8420725927', 3553: '0140089586', 3554: '0330236504', 3555: '0345378490', 3556: '084813013290', 3557: '084845086330', 3558: '1559277785', 3559: '0205280854', 3560: '0312169655', 3561: '0312205872', 3562: '0345367898', 3563: '0345396529', 3564: '0385425686', 3565: '0393029190', 3566: '0440455332', 3567: '0449912558', 3568: '0553110721', 3569: '0553580272', 3570: '0609601628', 3571: '0670867144', 3572: '0679412271', 3573: '0679452281', 3574: '0785324712', 3575: '0803281730', 3576: '0805051732', 3577: '0811807150', 3578: '0934257345', 3579: '1558534245', 3580: '1560980087', 3581: '1860462995', 3582: '0770428797', 3583: '0385721358', 3584: '031231616X', 3585: '0894805770', 3586: '089480829X', 3587: '0971453217', 3588: '0553232053', 3589: '0062502174', 3590: '8508046642', 3591: '8511046019', 3592: '0345401123', 3593: '0345438329', 3594: '0688177751', 3595: '1593160127', 3596: '1593160151', 3597: '0451209435', 3598: '0618126988', 3599: '0060094850', 3600: '031219126X', 3601: '0872860175', 3602: '0446310492', 3603: '037348285X', 3604: '0812590244', 3605: '0963641328', 3606: '0060192119', 3607: '0836218256', 3608: '1574551108', 3609: '055357227X', 3610: '8807015293', 3611: '0689109865', 3612: '08846202260', 3613: '3518368540', 3614: '0141180633', 3615: '0773762078', 3616: '0786248688', 3617: '0749316853', 3618: '0753505592', 3619: '0753505657', 3620: '0753505703', 3621: '0753506262', 3622: '0786014210', 3623: '0061008028', 3624: '1888740051', 3625: '1931646384', 3626: '157566559X', 3627: '3423125551', 3628: '0060514949', 3629: '0066210151', 3630: '0375411992', 3631: '0425188361', 3632: '0060287802', 3633: '3423620196', 3634: '3442730066', 3635: '3453023471', 3636: '3828919383', 3637: '0743203313', 3638: '0345417623', 3639: '0425172554', 3640: '0425177173', 3641: '8817210412', 3642: '193072229X', 3643: '0380727501', 3644: '03990145990', 3645: '0312423799', 3646: '0316089745', 3647: '037542217X', 3648: '0345440773', 3649: '0061093106', 3650: '0440208912', 3651: '0515120006', 3652: '0515127396', 3653: '0684868911', 3654: '0345416260', 3655: '0345433084', 3656: '0385494785', 3657: '0385512104', 3658: '0451180208', 3659: '089587198X', 3660: '0525237704', 3661: '8422668947', 3662: '8432040592', 3663: '846630536X', 3664: '8489669597', 3665: '0060000805', 3666: '0060512822', 3667: '0060730552', 3668: '0061030015', 3669: '0061056871', 3670: '0140185844', 3671: '0140255087', 3672: '0142001430', 3673: '0142003581', 3674: '0151002290', 3675: '0151004137', 3676: '0156001314', 3677: '0156006332', 3678: '0224018256', 3679: '0312420366', 3680: '0316291161', 3681: '0316353299', 3682: '0330291610', 3683: '0330357808', 3684: '033036197X', 3685: '0330391763', 3686: '0330483013', 3687: '033390785X', 3688: '0345439481', 3689: '0345450515', 3690: '0375725296', 3691: '0380603764', 3692: '0385319452', 3693: '0385336403', 3694: '039914255X', 3695: '044652719X', 3696: '0451526988', 3697: '0451527569', 3698: '0531301427', 3699: '0553295071', 3700: '0590988301', 3701: '0595157939', 3702: '0606006133', 3703: '0606011773', 3704: '0618446877', 3705: '0671776134', 3706: '0676974562', 3707: '0702231088', 3708: '0743228480', 3709: '0743234413', 3710: '0743418735', 3711: '0743431014', 3712: '0746020120', 3713: '0747265097', 3714: '075350507X', 3715: '0812541979', 3716: '0881104086', 3717: '1400060648', 3718: '1585672939', 3719: '1585673625', 3720: '1592247865', 3721: '1841955469', 3722: '1860491235', 3723: '1876825251', 3724: '0062502182', 3725: '0060175400', 3726: '0345410998', 3727: '0374517886', 3728: '0375505547', 3729: '0380728249', 3730: '0385325126', 3731: '0385490615', 3732: '0394742591', 3733: '0399133143', 3734: '0451183665', 3735: '0486408760', 3736: '0517149257', 3737: '0517573822', 3738: '0570060265', 3739: '0618127453', 3740: '0671017586', 3741: '0671024248', 3742: '0679751343', 3743: '0684848783', 3744: '0684855631', 3745: '0684863324', 3746: '0802713815', 3747: '0812590236', 3748: '0844239461', 3749: '0850315336', 3750: '0875964125', 3751: '0877732906', 3752: '0887482570', 3753: '0913367176', 3754: '0929587227', 3755: '0933121245', 3756: '1558007725', 3757: '1569021074', 3758: '1893910245', 3759: '1932270329', 3760: '044022165X', 3761: '0451201558', 3762: '0891074759', 3763: '0061032077', 3764: '2253004243', 3765: '0679459626', 3766: '0812566629', 3767: '0816614024', 3768: '3518390473', 3769: '3596113350', 3770: '0553583085', 3771: '0671001701', 3772: '0782125557', 3773: '1555217532', 3774: '1892051001', 3775: '1587991039', 3776: '1587214768', 3777: '1857931467', 3778: '0140004424', 3779: '0380706725', 3780: '0380717085', 3781: '0440512158', 3782: '0767904281', 3783: '0451524829', 3784: '0751346853', 3785: '0465090974', 3786: '0877287384', 3787: '1931412677', 3788: '0670848549', 3789: '0345370775', 3790: '0006482058', 3791: '0425130215', 3792: '8420444782', 3793: '8433924710', 3794: '8489618844', 3795: '8497594886', 3796: '006017935X', 3797: '1558532161', 3798: '8879835181', 3799: '0060394447', 3800: '006093395X', 3801: '034540288X', 3802: '0345425707', 3803: '0345434692', 3804: '0374177023', 3805: '037541181X', 3806: '0425167313', 3807: '0451821971', 3808: '0553131893', 3809: '0553234609', 3810: '0553258540', 3811: '0802713661', 3812: '0440237688', 3813: '0679884394', 3814: '1566091446', 3815: '0552146161', 3816: '006105660X', 3817: '0374281602', 3818: '0446519960', 3819: '0609610597', 3820: '0671698419', 3821: '0140126716', 3822: '0156787334', 3823: '1569314195', 3824: 'O809463121', 3825: '0060908548', 3826: '0028606353', 3827: '0061030953', 3828: '0316182540', 3829: '0316919896', 3830: '0446355224', 3831: '0446604658', 3832: '0446611611', 3833: '0449212602', 3834: '0451147375', 3835: '0451178033', 3836: '0553282476', 3837: '0553299506', 3838: '0553343874', 3839: '0881845906', 3840: '0590634275', 3841: '0061031569', 3842: '3257228007', 3843: '0385511612', 3844: '0679426159', 3845: '0671020315', 3846: '067169071X', 3847: '1860469450', 3848: '0449214982', 3849: '0515090174', 3850: '0515095826', 3851: '0515111279', 3852: '3492232981', 3853: '0553580876', 3854: '0385475713', 3855: '0553280341', 3856: '0425045250', 3857: '0689825234', 3858: '0553375407', 3859: '0151006903', 3860: '0679744479', 3861: '1931561281', 3862: '8401466350', 3863: '1562477676', 3864: '0312983654', 3865: '0345454073', 3866: '0553561618', 3867: '0553582933', 3868: '0671034022', 3869: '0789414708', 3870: '006440630', 3871: '8804332247', 3872: '8804362979', 3873: '8804398124', 3874: '8845906876', 3875: '1740510305', 3876: '0060187271', 3877: '0060975547', 3878: '0131554255', 3879: '0312314256', 3880: '0312868308', 3881: '0312874006', 3882: '0316136778', 3883: '0345382544', 3884: '0345416880', 3885: '0385483503', 3886: '038548951X', 3887: '0385497288', 3888: '0393312801', 3889: '0445202718', 3890: '0451162463', 3891: '0553380958', 3892: '0590486101', 3893: '0679725164', 3894: '0679775471', 3895: '0812505166', 3896: '34501532095', 3897: '0786005998', 3898: '0385254520', 3899: '0515122491', 3900: '051512902X', 3901: '0515131091', 3902: '0552138223', 3903: '0812530314', 3904: '8401427177', 3905: '8420401153', 3906: '8484502112', 3907: '0060182792', 3908: '0393038440', 3909: '0446606723', 3910: '0679721819', 3911: '0737020121', 3912: '0375412972', 3913: '0679745645', 3914: '1569470901', 3915: '0449225151', 3916: '0590449737', 3917: '0765342405', 3918: '8408026933', 3919: '844062719X', 3920: '844507119X', 3921: '8466307982', 3922: '8493225061', 3923: '0767905180', 3924: '0060536705', 3925: '0061042005', 3926: '0061083275', 3927: '0061095869', 3928: '0312968256', 3929: '0316089699', 3930: '0345447840', 3931: '0373079621', 3932: '0373121601', 3933: '0373121709', 3934: '0373121857', 3935: '0373168438', 3936: '0373169299', 3937: '0373195036', 3938: '0373196636', 3939: '0373224818', 3940: '0373226934', 3941: '0373226950', 3942: '0373240228', 3943: '0373242328', 3944: '037325928X', 3945: '0373259840', 3946: '0373271867', 3947: '0373273193', 3948: '0373301529', 3949: '0373301537', 3950: '037330174X', 3951: '0373700474', 3952: '0373703023', 3953: '0373706200', 3954: '0373706545', 3955: '0373706901', 3956: '0373707959', 3957: '037370822X', 3958: '0373708300', 3959: '0373708319', 3960: '0373708351', 3961: '0373764146', 3962: '037383232X', 3963: '0373835426', 3964: '0373871864', 3965: '0373871945', 3966: '038076735X', 3967: '0380775840', 3968: '0380777304', 3969: '0425181111', 3970: '0440168724', 3971: '0440225868', 3972: '0446346438', 3973: '0446357405', 3974: '0446364762', 3975: '0446603082', 3976: '0451205189', 3977: '0451205650', 3978: '0451207963', 3979: '0505522969', 3980: '0505524333', 3981: '050552435X', 3982: '0515130419', 3983: '0517077744', 3984: '0553107232', 3985: '0553267159', 3986: '0553285947', 3987: '055329945X', 3988: '0553562746', 3989: '0553584898', 3990: '0671007696', 3991: '0671521446', 3992: '067179793X', 3993: '0689856644', 3994: '0743431367', 3995: '0743467191', 3996: '0821740121', 3997: '0821768107', 3998: '0828003882', 3999: '0843948078', 4000: '1551664348', 4001: '155166450X', 4002: '1551665794', 4003: '1551666200', 4004: '1551669404', 4005: '0380804670', 4006: '0671411535', 4007: '067164257X', 4008: '0440900581', 4009: '8807810360', 4010: '1860464289', 4011: '0140348107', 4012: '0884092119', 4013: '2253032832', 4014: '0060506679', 4015: '0375701427', 4016: '0553135457', 4017: '0803263724', 4018: '0380000830', 4019: '0380014300', 4020: '0812504364', 4021: '0895773570', 4022: '0007683022', 4023: '0340588721', 4024: '2253143790', 4025: '2280150131', 4026: '2743606789', 4027: '8806160427', 4028: '8879833103', 4029: '0553255142', 4030: '0060936363', 4031: '0312281250', 4032: '0345406516', 4033: '038082101X', 4034: '0385490461', 4035: '843760494X', 4036: '9500703203', 4037: '3426861550', 4038: '3453099613', 4039: '0312774842', 4040: '0312979479', 4041: '0375727566', 4042: '0671708635', 4043: '1579213405', 4044: '0399139125', 4045: '972747005X', 4046: '0099288850', 4047: '0099387913', 4048: '0553377884', 4049: '9679787834', 4050: '0061012289', 4051: '0425162788', 4052: '0609605623', 4053: '0451208811', 4054: '3404920910', 4055: '2070419878', 4056: '0070419361', 4057: '0312852487', 4058: '0345348109', 4059: '0345378482', 4060: '0375705090', 4061: '0385029551', 4062: '0394712447', 4063: '0525463313', 4064: '0671722727', 4065: '0684818868', 4066: '0717802418', 4067: '0762406984', 4068: '0765348438', 4069: '0765348446', 4070: '0778800229', 4071: '0786868716', 4072: '0804832463', 4073: '0812513738', 4074: '0812550706', 4075: '0871401185', 4076: '0890420254', 4077: '1882180887', 4078: '1929194196', 4079: '477001970X', 4080: '0207185905', 4081: '0330236474', 4082: '0340612843', 4083: '0670856258', 4084: '0733311733', 4085: '0855612819', 4086: '1869430727', 4087: '416158501', 4088: '0812515609', 4089: '3442424623', 4090: '3502517959', 4091: '0425122123', 4092: '0812530489', 4093: '0446326488', 4094: '0446609986', 4095: '080410882X', 4096: '0375726624', 4097: '0892882816', 4098: '1577487370', 4099: '0060922532', 4100: '0060951710', 4101: '0786864133', 4102: '006251119X', 4103: '0345380274', 4104: '0440224039', 4105: '0060928069', 4106: '0060931361', 4107: '0130289221', 4108: '0130647608', 4109: '0130891347', 4110: '0130957011', 4111: '0140125086', 4112: '0140260234', 4113: '0140261346', 4114: '0140289216', 4115: '0151104212', 4116: '0194315193', 4117: '0300087152', 4118: '0316441791', 4119: '0340697687', 4120: '0345333152', 4121: '0375757325', 4122: '0380810336', 4123: '0385722192', 4124: '0394743644', 4125: '0415167914', 4126: '0435240609', 4127: '044022330X', 4128: '0446391581', 4129: '0452266688', 4130: '0465021433', 4131: '0517084732', 4132: '0582037670', 4133: '0670031518', 4134: '067162248X', 4135: '0679430946', 4136: '0684866005', 4137: '068815252X', 4138: '0688164080', 4139: '0767913973', 4140: '078686351X', 4141: '0803959907', 4142: '0806957050', 4143: '0840339402', 4144: '0879804211', 4145: '0953309819', 4146: '0968246907', 4147: '1564146731', 4148: '1565115228', 4149: '1565840968', 4150: '157322829X', 4151: '1573922110', 4152: '1581820542', 4153: '1585420611', 4154: '185788292X', 4155: 'B0000DAPP1', 4156: '0099203502', 4157: '0440224659', 4158: '1841492086', 4159: '9724608152', 4160: '0330357190', 4161: '0413588106', 4162: '0671757059', 4163: '014021649', 4164: '0312267819', 4165: '0394830148', 4166: '0835902242', 4167: '087197195X', 4168: '1563521024', 4169: '0060175532', 4170: '0671023373', 4171: '0679748083', 4172: '0425175405', 4173: '0749930721', 4174: '1857990889', 4175: '9027479593', 4176: '8806138480', 4177: '0345298365', 4178: '1570422826', 4179: '0312874995', 4180: '880436033X', 4181: '8811667798', 4182: '8912667827', 4183: '0425185702', 4184: '8479048778', 4185: '3888972922', 4186: '8496246221', 4187: '0684862719', 4188: '8522405697', 4189: '852543010', 4190: '8528602931', 4191: '8532501192', 4192: '8570070063', 4193: '8585438010', 4194: '8585622032', 4195: '8586488046', 4196: '8526502654', 4197: '8485229606', 4198: '0552998338', 4199: '0571219764', 4200: '0385299842', 4201: '0486243451', 4202: '0713723076', 4203: '071411393X', 4204: '087226002X', 4205: '1555910408', 4206: '0380796090', 4207: '0399147357', 4208: '0440221420', 4209: '0446604666', 4210: '0451197879', 4211: '0671614460', 4212: '0684836491', 4213: '0684859262', 4214: '0688156126', 4215: '0740704532', 4216: '0836221974', 4217: '1552976246', 4218: '0316154067', 4219: '0345353145', 4220: '0449221482', 4221: '0515120863', 4222: '0553279912', 4223: '0553348973', 4224: '0671023616', 4225: '0752841890', 4226: '1855681870', 4227: '8590368130', 4228: '0446516538', 4229: '0060167084', 4230: '0151002231', 4231: '0226067114', 4232: '0312028784', 4233: '0380717972', 4234: '0385239068', 4235: '0393011224', 4236: '0415907411', 4237: '0453006892', 4238: '0472095978', 4239: '0525480374', 4240: '0525943730', 4241: '0802116825', 4242: '0802130259', 4243: '0807079200', 4244: '0812822625', 4245: '0841502439', 4246: '0846705672', 4247: '0877736510', 4248: '0878670319', 4249: '0890876096', 4250: '0896082172', 4251: '1555831753', 4252: '1560238763', 4253: '1565842103', 4254: '1895857058', 4255: '0060191988', 4256: '0062500287', 4257: '0062507567', 4258: '0062508482', 4259: '0062509594', 4260: '006251279X', 4261: '0062513346', 4262: '0062513982', 4263: '0140298479', 4264: '0140422226', 4265: '0345453549', 4266: '0345453557', 4267: '0385315287', 4268: '0385484100', 4269: '0425133656', 4270: '0440108268', 4271: '0440204321', 4272: '0446676489', 4273: '0451525353', 4274: '0525945040', 4275: '0553255959', 4276: '0553274384', 4277: '0553476580', 4278: '067084487X', 4279: '0671777351', 4280: '0694524638', 4281: '0743400720', 4282: '0786860642', 4283: '0806514094', 4284: '0809237601', 4285: '0809237628', 4286: '0811812006', 4287: '0821211226', 4288: '0874221501', 4289: '0912365579', 4290: '0915811898', 4291: '1561706213', 4292: '1561707236', 4293: '1561707244', 4294: '1563054671', 4295: '1577310454', 4296: '1577311868', 4297: '1880032627', 4298: '1882591275', 4299: '0007166311', 4300: '0030020786', 4301: '0060248025', 4302: '0060256664', 4303: '0060256737', 4304: '0060950536', 4305: '0061020419', 4306: '0061020427', 4307: '0061056278', 4308: '0061056286', 4309: '0061056294', 4310: '0061059773', 4311: '0099428385', 4312: '0133502813', 4313: '0140386645', 4314: '0142500135', 4315: '0192800493', 4316: '0201632721', 4317: '0312921098', 4318: '0316542377', 4319: '0316779059', 4320: '0345340426', 4321: '0375815260', 4322: '0380775123', 4323: '0399523308', 4324: '0441004997', 4325: '0451456718', 4326: '0451456734', 4327: '0451457781', 4328: '0451458028', 4329: '0451458508', 4330: '0451458990', 4331: '0451459423', 4332: '0452279089', 4333: '0471485527', 4334: '051513628X', 4335: '0553379534', 4336: '0553573136', 4337: '0595006035', 4338: '0595093019', 4339: '0671025554', 4340: '0671519751', 4341: '0671524313', 4342: '0671676253', 4343: '0688117619', 4344: '0688149790', 4345: '0688161162', 4346: '0698119509', 4347: '0716723980', 4348: '0716724022', 4349: '0764550039', 4350: '0765342987', 4351: '0765345048', 4352: '0786861320', 4353: '0786880007', 4354: '0812090381', 4355: '0812500865', 4356: '0812516850', 4357: '0812520157', 4358: '0812521358', 4359: '0812523040', 4360: '0812523679', 4361: '0812532554', 4362: '0812532597', 4363: '0812532619', 4364: '0812532635', 4365: '0812532961', 4366: '0812532988', 4367: '0812533313', 4368: '0812533577', 4369: '0812533658', 4370: '0812535219', 4371: '0812575717', 4372: '0836204387', 4373: '0836218787', 4374: '0836221362', 4375: '0874936225', 4376: '0875962432', 4377: '0880887575', 4378: '0882710583', 4379: '0886773776', 4380: '0886773784', 4381: '0886774004', 4382: '0886774012', 4383: '0886774144', 4384: '0886774543', 4385: '0886774632', 4386: '0886775035', 4387: '0886775043', 4388: '0886775167', 4389: '0886775205', 4390: '0886775493', 4391: '0886775639', 4392: '0886775876', 4393: '0886776120', 4394: '0886776589', 4395: '0886776619', 4396: '0886777127', 4397: '0886777151', 4398: '0886777208', 4399: '0886777550', 4400: '0886777593', 4401: '0886777739', 4402: '0886778603', 4403: '0889652066', 4404: '0895295458', 4405: '0895779129', 4406: '0912500522', 4407: '0912500867', 4408: '0920668372', 4409: '0965921506', 4410: '0965987302', 4411: '1556432151', 4412: '1558506438', 4413: '1559274581', 4414: '156305700X', 4415: '1841490490', 4416: '1891400495', 4417: '0140376410', 4418: '0452281296', 4419: '1573229326', 4420: '038072930X', 4421: '0060923717', 4422: '0151003394', 4423: '0316754315', 4424: '0345406036', 4425: '0671672576', 4426: '0679743243', 4427: '068483376X', 4428: '068484270X', 4429: '0345421825', 4430: '8817844330', 4431: '0373123086', 4432: '0380752123', 4433: '8877468912', 4434: '0380896931', 4435: '0971942315', 4436: '3455059554', 4437: '0553275860', 4438: '844140898X', 4439: '3423105518', 4440: '8845911411', 4441: '0380725398', 4442: '0590254715', 4443: '8401329329', 4444: '840309375', 4445: '8420443026', 4446: '8420465321', 4447: '8420483885', 4448: '843396951X', 4449: '8434845091', 4450: '8440616368', 4451: '8440675550', 4452: '8440682441', 4453: '8445073818', 4454: '8474448174', 4455: '8477021090', 4456: '8477021473', 4457: '8478886818', 4458: '8484500020', 4459: '8484509125', 4460: '0380470845', 4461: '0440162041', 4462: '0671739778', 4463: '0679770232', 4464: '0060955775', 4465: '0140259988', 4466: '014029645X', 4467: '0142003409', 4468: '0395629497', 4469: '0441225691', 4470: '0451451686', 4471: '0671577727', 4472: '0671721720', 4473: '0671875965', 4474: '0679723374', 4475: '0679745963', 4476: '068486780X', 4477: '0716744481', 4478: '0966543610', 4479: '0671010115', 4480: '0671004549', 4481: '0312422601', 4482: '0375509283', 4483: '0553565915', 4484: '0731806883', 4485: '055356160X', 4486: '0060987529', 4487: '0064472779', 4488: '0140022651', 4489: '0142302163', 4490: '0345260627', 4491: '0345283554', 4492: '0345283929', 4493: '034528710X', 4494: '0345314255', 4495: '0345317580', 4496: '0345335287', 4497: '0345362276', 4498: '0345375580', 4499: '0345423038', 4500: '0373614845', 4501: '0373614896', 4502: '037361490X', 4503: '0373619472', 4504: '0373619499', 4505: '0373619502', 4506: '0373638078', 4507: '0373638167', 4508: '0373642849', 4509: '0373642857', 4510: '0373642911', 4511: '037364292X', 4512: '0373765649', 4513: '037379116x', 4514: '0380570009', 4515: '038513097x', 4516: '0394553284', 4517: '0394563131', 4518: '0394707745', 4519: '0394843509', 4520: '042516540X', 4521: '0439176824', 4522: '0439222303', 4523: '0439240700', 4524: '0440920221', 4525: '0441000150', 4526: '0441000762', 4527: '0451077237', 4528: '0451137965', 4529: '0486270718', 4530: '051512463X', 4531: '0553073273', 4532: '0590109715', 4533: '0590109960', 4534: '0590213040', 4535: '0590448285', 4536: '0590448315', 4537: '0590448323', 4538: '059045367X', 4539: '059046678X', 4540: '059047054X', 4541: '0590629778', 4542: '0590879979', 4543: '0590880748', 4544: '0590880780', 4545: '0590956159', 4546: '0671001868', 4547: '0671038931', 4548: '0671529714', 4549: '0671532642', 4550: '067166865X', 4551: '0671695304', 4552: '0671751174', 4553: '0671802283', 4554: '0671803530', 4555: '0679023755', 4556: '0679805265', 4557: '0679811761', 4558: '0688047211', 4559: '068808527X', 4560: '0698119916', 4561: '0743486625', 4562: '0786807555', 4563: '0786814241', 4564: '0803298145'}\n"
          ]
        }
      ]
    },
    {
      "cell_type": "markdown",
      "source": [
        "Memetakan `user_id` dan `isbn` ke dalam masing-masing *dataframe* yang berkaitan."
      ],
      "metadata": {
        "id": "2JIs8aQq4D3i"
      }
    },
    {
      "cell_type": "code",
      "source": [
        "ratings['user'] = ratings.user_id.map(user_to_user_encoded)\n",
        "ratings['book'] = ratings.isbn.map(book_to_book_encoded)"
      ],
      "metadata": {
        "id": "VdzFDV-Ud4fB"
      },
      "execution_count": 48,
      "outputs": []
    },
    {
      "cell_type": "markdown",
      "source": [
        "Melakukan pengecekan jumlah *user*, jumlah buku, dan *rating* minimal serta *rating* maksimal."
      ],
      "metadata": {
        "id": "h9M1cfFd4fW_"
      }
    },
    {
      "cell_type": "code",
      "source": [
        "num_users = len(user_encoded_to_user)\n",
        "num_books = len(book_encoded_to_book)\n",
        "print(num_users)\n",
        "print(num_books)\n",
        "\n",
        "min_ratings = min(ratings.book_rating)\n",
        "max_ratings = max(ratings.book_rating)\n",
        "print(f'Number of User: {num_users}, Number of Books: {num_books}, Min Rating: {min_ratings}, Max Rating: {max_ratings}')"
      ],
      "metadata": {
        "colab": {
          "base_uri": "https://localhost:8080/"
        },
        "id": "BAufEyEkeI6T",
        "outputId": "a272d003-35c3-40e3-b4fa-b31160759bb4"
      },
      "execution_count": 49,
      "outputs": [
        {
          "output_type": "stream",
          "name": "stdout",
          "text": [
            "1204\n",
            "4565\n",
            "Number of User: 1204, Number of Books: 4565, Min Rating: 1, Max Rating: 10\n"
          ]
        }
      ]
    },
    {
      "cell_type": "markdown",
      "source": [
        "### 6.2.2 *Training Data and Validation Data Split*"
      ],
      "metadata": {
        "id": "hBBpmiUnhqTq"
      }
    },
    {
      "cell_type": "markdown",
      "source": [
        "Melakukan pengecekan terdahap *dataframe* `ratings` yang telah dilakukan pemetaan atribut atau kolom tambahan, yaitu `user` dan `book`. Selain itu, dilakukan juga pengacakan data dengan menggunakan fungsi [`.sample(frac=1)`](https://pandas.pydata.org/docs/reference/api/pandas.DataFrame.sample.html 'pandas.DataFrame.sample - Pandas Documentation')."
      ],
      "metadata": {
        "id": "vkst0rJY5ULv"
      }
    },
    {
      "cell_type": "code",
      "source": [
        "ratings = ratings.sample(frac=1, random_state=412)\n",
        "ratings"
      ],
      "metadata": {
        "colab": {
          "base_uri": "https://localhost:8080/",
          "height": 424
        },
        "id": "6uWIZQwfeZeB",
        "outputId": "cf7d450f-423d-4348-8f4d-21dd872d66e2"
      },
      "execution_count": 50,
      "outputs": [
        {
          "output_type": "execute_result",
          "data": {
            "text/plain": [
              "       user_id        isbn  book_rating  user  book\n",
              "1554    277427  0375408886            9   200   681\n",
              "1465    277427  0060542128            7   200   666\n",
              "9656        81  0375410538            5   649  2307\n",
              "4153    278257  0060194596            9   462  1728\n",
              "4324    278411  0446608831            8   500  1825\n",
              "...        ...         ...          ...   ...   ...\n",
              "820     277051  0385720920           10    98   380\n",
              "629     276939  2253063339            9    70   269\n",
              "12371     1167  038533656X            5   941  3478\n",
              "2120    277478  0451459393            8   215   855\n",
              "12752     1424  0156001314            8  1012  3676\n",
              "\n",
              "[5000 rows x 5 columns]"
            ],
            "text/html": [
              "\n",
              "  <div id=\"df-618f12f7-cd55-4686-b36d-a31ba49777b1\">\n",
              "    <div class=\"colab-df-container\">\n",
              "      <div>\n",
              "<style scoped>\n",
              "    .dataframe tbody tr th:only-of-type {\n",
              "        vertical-align: middle;\n",
              "    }\n",
              "\n",
              "    .dataframe tbody tr th {\n",
              "        vertical-align: top;\n",
              "    }\n",
              "\n",
              "    .dataframe thead th {\n",
              "        text-align: right;\n",
              "    }\n",
              "</style>\n",
              "<table border=\"1\" class=\"dataframe\">\n",
              "  <thead>\n",
              "    <tr style=\"text-align: right;\">\n",
              "      <th></th>\n",
              "      <th>user_id</th>\n",
              "      <th>isbn</th>\n",
              "      <th>book_rating</th>\n",
              "      <th>user</th>\n",
              "      <th>book</th>\n",
              "    </tr>\n",
              "  </thead>\n",
              "  <tbody>\n",
              "    <tr>\n",
              "      <th>1554</th>\n",
              "      <td>277427</td>\n",
              "      <td>0375408886</td>\n",
              "      <td>9</td>\n",
              "      <td>200</td>\n",
              "      <td>681</td>\n",
              "    </tr>\n",
              "    <tr>\n",
              "      <th>1465</th>\n",
              "      <td>277427</td>\n",
              "      <td>0060542128</td>\n",
              "      <td>7</td>\n",
              "      <td>200</td>\n",
              "      <td>666</td>\n",
              "    </tr>\n",
              "    <tr>\n",
              "      <th>9656</th>\n",
              "      <td>81</td>\n",
              "      <td>0375410538</td>\n",
              "      <td>5</td>\n",
              "      <td>649</td>\n",
              "      <td>2307</td>\n",
              "    </tr>\n",
              "    <tr>\n",
              "      <th>4153</th>\n",
              "      <td>278257</td>\n",
              "      <td>0060194596</td>\n",
              "      <td>9</td>\n",
              "      <td>462</td>\n",
              "      <td>1728</td>\n",
              "    </tr>\n",
              "    <tr>\n",
              "      <th>4324</th>\n",
              "      <td>278411</td>\n",
              "      <td>0446608831</td>\n",
              "      <td>8</td>\n",
              "      <td>500</td>\n",
              "      <td>1825</td>\n",
              "    </tr>\n",
              "    <tr>\n",
              "      <th>...</th>\n",
              "      <td>...</td>\n",
              "      <td>...</td>\n",
              "      <td>...</td>\n",
              "      <td>...</td>\n",
              "      <td>...</td>\n",
              "    </tr>\n",
              "    <tr>\n",
              "      <th>820</th>\n",
              "      <td>277051</td>\n",
              "      <td>0385720920</td>\n",
              "      <td>10</td>\n",
              "      <td>98</td>\n",
              "      <td>380</td>\n",
              "    </tr>\n",
              "    <tr>\n",
              "      <th>629</th>\n",
              "      <td>276939</td>\n",
              "      <td>2253063339</td>\n",
              "      <td>9</td>\n",
              "      <td>70</td>\n",
              "      <td>269</td>\n",
              "    </tr>\n",
              "    <tr>\n",
              "      <th>12371</th>\n",
              "      <td>1167</td>\n",
              "      <td>038533656X</td>\n",
              "      <td>5</td>\n",
              "      <td>941</td>\n",
              "      <td>3478</td>\n",
              "    </tr>\n",
              "    <tr>\n",
              "      <th>2120</th>\n",
              "      <td>277478</td>\n",
              "      <td>0451459393</td>\n",
              "      <td>8</td>\n",
              "      <td>215</td>\n",
              "      <td>855</td>\n",
              "    </tr>\n",
              "    <tr>\n",
              "      <th>12752</th>\n",
              "      <td>1424</td>\n",
              "      <td>0156001314</td>\n",
              "      <td>8</td>\n",
              "      <td>1012</td>\n",
              "      <td>3676</td>\n",
              "    </tr>\n",
              "  </tbody>\n",
              "</table>\n",
              "<p>5000 rows × 5 columns</p>\n",
              "</div>\n",
              "      <button class=\"colab-df-convert\" onclick=\"convertToInteractive('df-618f12f7-cd55-4686-b36d-a31ba49777b1')\"\n",
              "              title=\"Convert this dataframe to an interactive table.\"\n",
              "              style=\"display:none;\">\n",
              "        \n",
              "  <svg xmlns=\"http://www.w3.org/2000/svg\" height=\"24px\"viewBox=\"0 0 24 24\"\n",
              "       width=\"24px\">\n",
              "    <path d=\"M0 0h24v24H0V0z\" fill=\"none\"/>\n",
              "    <path d=\"M18.56 5.44l.94 2.06.94-2.06 2.06-.94-2.06-.94-.94-2.06-.94 2.06-2.06.94zm-11 1L8.5 8.5l.94-2.06 2.06-.94-2.06-.94L8.5 2.5l-.94 2.06-2.06.94zm10 10l.94 2.06.94-2.06 2.06-.94-2.06-.94-.94-2.06-.94 2.06-2.06.94z\"/><path d=\"M17.41 7.96l-1.37-1.37c-.4-.4-.92-.59-1.43-.59-.52 0-1.04.2-1.43.59L10.3 9.45l-7.72 7.72c-.78.78-.78 2.05 0 2.83L4 21.41c.39.39.9.59 1.41.59.51 0 1.02-.2 1.41-.59l7.78-7.78 2.81-2.81c.8-.78.8-2.07 0-2.86zM5.41 20L4 18.59l7.72-7.72 1.47 1.35L5.41 20z\"/>\n",
              "  </svg>\n",
              "      </button>\n",
              "      \n",
              "  <style>\n",
              "    .colab-df-container {\n",
              "      display:flex;\n",
              "      flex-wrap:wrap;\n",
              "      gap: 12px;\n",
              "    }\n",
              "\n",
              "    .colab-df-convert {\n",
              "      background-color: #E8F0FE;\n",
              "      border: none;\n",
              "      border-radius: 50%;\n",
              "      cursor: pointer;\n",
              "      display: none;\n",
              "      fill: #1967D2;\n",
              "      height: 32px;\n",
              "      padding: 0 0 0 0;\n",
              "      width: 32px;\n",
              "    }\n",
              "\n",
              "    .colab-df-convert:hover {\n",
              "      background-color: #E2EBFA;\n",
              "      box-shadow: 0px 1px 2px rgba(60, 64, 67, 0.3), 0px 1px 3px 1px rgba(60, 64, 67, 0.15);\n",
              "      fill: #174EA6;\n",
              "    }\n",
              "\n",
              "    [theme=dark] .colab-df-convert {\n",
              "      background-color: #3B4455;\n",
              "      fill: #D2E3FC;\n",
              "    }\n",
              "\n",
              "    [theme=dark] .colab-df-convert:hover {\n",
              "      background-color: #434B5C;\n",
              "      box-shadow: 0px 1px 3px 1px rgba(0, 0, 0, 0.15);\n",
              "      filter: drop-shadow(0px 1px 2px rgba(0, 0, 0, 0.3));\n",
              "      fill: #FFFFFF;\n",
              "    }\n",
              "  </style>\n",
              "\n",
              "      <script>\n",
              "        const buttonEl =\n",
              "          document.querySelector('#df-618f12f7-cd55-4686-b36d-a31ba49777b1 button.colab-df-convert');\n",
              "        buttonEl.style.display =\n",
              "          google.colab.kernel.accessAllowed ? 'block' : 'none';\n",
              "\n",
              "        async function convertToInteractive(key) {\n",
              "          const element = document.querySelector('#df-618f12f7-cd55-4686-b36d-a31ba49777b1');\n",
              "          const dataTable =\n",
              "            await google.colab.kernel.invokeFunction('convertToInteractive',\n",
              "                                                     [key], {});\n",
              "          if (!dataTable) return;\n",
              "\n",
              "          const docLinkHtml = 'Like what you see? Visit the ' +\n",
              "            '<a target=\"_blank\" href=https://colab.research.google.com/notebooks/data_table.ipynb>data table notebook</a>'\n",
              "            + ' to learn more about interactive tables.';\n",
              "          element.innerHTML = '';\n",
              "          dataTable['output_type'] = 'display_data';\n",
              "          await google.colab.output.renderOutput(dataTable, element);\n",
              "          const docLink = document.createElement('div');\n",
              "          docLink.innerHTML = docLinkHtml;\n",
              "          element.appendChild(docLink);\n",
              "        }\n",
              "      </script>\n",
              "    </div>\n",
              "  </div>\n",
              "  "
            ]
          },
          "metadata": {},
          "execution_count": 50
        }
      ]
    },
    {
      "cell_type": "markdown",
      "source": [
        "Melakukan pembagian *dataset* dengan rasio 80:20, yaitu 80% untuk data latih (*training data*) dan 20% untuk data uji (*validation data*)."
      ],
      "metadata": {
        "id": "08129r3R5n7y"
      }
    },
    {
      "cell_type": "code",
      "source": [
        "x = ratings[['user', 'book']].values\n",
        "y = ratings['book_rating'].apply(lambda x: (x-min_ratings) / (max_ratings-min_ratings)).values\n",
        "\n",
        "train_indices = int(0.8 * ratings.shape[0])\n",
        "\n",
        "xTrain, xVal, yTrain, yVal = (\n",
        "    x[:train_indices],\n",
        "    x[train_indices:],\n",
        "    y[:train_indices],\n",
        "    y[train_indices:]\n",
        ")\n",
        "\n",
        "print(x, y)"
      ],
      "metadata": {
        "colab": {
          "base_uri": "https://localhost:8080/"
        },
        "id": "J-D8MfLKiTTN",
        "outputId": "60b91250-8499-4a50-9c61-f50fe723fda0"
      },
      "execution_count": 51,
      "outputs": [
        {
          "output_type": "stream",
          "name": "stdout",
          "text": [
            "[[ 200  681]\n",
            " [ 200  666]\n",
            " [ 649 2307]\n",
            " ...\n",
            " [ 941 3478]\n",
            " [ 215  855]\n",
            " [1012 3676]] [0.88888889 0.66666667 0.44444444 ... 0.44444444 0.77777778 0.77777778]\n"
          ]
        }
      ]
    },
    {
      "cell_type": "markdown",
      "source": [
        "### 6.2.3 *Model Development and Training*"
      ],
      "metadata": {
        "id": "1gBnxm4FkmeQ"
      }
    },
    {
      "cell_type": "markdown",
      "source": [
        "Pada tahap pembuatan model akan menggunakan kelas `RecommenderNet` dengan [*keras model class*](https://keras.io/api/models/model 'Model class - Keras Documentation')."
      ],
      "metadata": {
        "id": "yEcrAIiR6NaR"
      }
    },
    {
      "cell_type": "code",
      "source": [
        "class RecommenderNet(tf.keras.Model):\n",
        "    def __init__(self, num_users, num_books, embedding_size, **kwargs):\n",
        "        super(RecommenderNet, self).__init__(**kwargs)\n",
        "        self.num_users = num_users\n",
        "        self.num_books = num_books\n",
        "        self.embedding_size = embedding_size\n",
        "        self.user_embedding = layers.Embedding(\n",
        "            num_users,\n",
        "            embedding_size,\n",
        "            embeddings_initializer = 'he_normal',\n",
        "            embeddings_regularizer = keras.regularizers.l2(1e-6)\n",
        "        )\n",
        "        self.user_bias      = layers.Embedding(num_users, 1)\n",
        "        self.book_embedding = layers.Embedding(\n",
        "            num_books,\n",
        "            embedding_size,\n",
        "            embeddings_initializer = 'he_normal',\n",
        "            embeddings_regularizer = keras.regularizers.l2(1e-6)\n",
        "        )\n",
        "        self.book_bias = layers.Embedding(num_books, 1)\n",
        "    \n",
        "    def call(self, inputs):\n",
        "        user_vector = self.user_embedding(inputs[:,0])\n",
        "        user_bias   = self.user_bias(inputs[:, 0])\n",
        "        book_vector = self.book_embedding(inputs[:, 1])\n",
        "        book_bias   = self.book_bias(inputs[:, 1])\n",
        "        \n",
        "        dot_user_book = tf.tensordot(user_vector, book_vector, 2) \n",
        "        \n",
        "        x = dot_user_book + user_bias + book_bias\n",
        "        \n",
        "        return tf.nn.sigmoid(x)"
      ],
      "metadata": {
        "id": "Rf6zHsOakhcL"
      },
      "execution_count": 52,
      "outputs": []
    },
    {
      "cell_type": "markdown",
      "source": [
        "Kemudian pada proses *model compiling*, akan menggunakan [Adam optimizer](https://keras.io/api/optimizers/adam 'Adam - Keras Documentation'), [binary crossentropy loss function](https://keras.io/api/losses/probabilistic_losses/#binarycrossentropy-class 'BinaryCrossentropy - Keras Documentaion'), dan metrik [RMSE](https://keras.io/api/metrics/regression_metrics/#rootmeansquarederror-class 'RootMeanSquaredError - Keras Documentation') (Root Mean Squared Error)."
      ],
      "metadata": {
        "id": "-KQMau6h7aBj"
      }
    },
    {
      "cell_type": "code",
      "source": [
        "model = RecommenderNet(num_users, num_books, 50)\n",
        "\n",
        "model.compile(\n",
        "    optimizer = Adam(learning_rate=0.001),\n",
        "    loss      = BinaryCrossentropy(),\n",
        "    metrics   = [RootMeanSquaredError()]\n",
        ")"
      ],
      "metadata": {
        "id": "c5P3AQJ4lSSD"
      },
      "execution_count": 53,
      "outputs": []
    },
    {
      "cell_type": "markdown",
      "source": [
        "Pelatihan model atau model *training* dengan menggunakan fungsi `.fit()` dengan parameter `batch_size` sebesar 20, dan 30 `epochs`."
      ],
      "metadata": {
        "id": "mT9QUPsR8uCb"
      }
    },
    {
      "cell_type": "code",
      "source": [
        "history = model.fit(\n",
        "    x               = xTrain,\n",
        "    y               = yTrain,\n",
        "    batch_size      = 20,\n",
        "    epochs          = 30,\n",
        "    validation_data = (xVal, yVal),\n",
        ")"
      ],
      "metadata": {
        "colab": {
          "base_uri": "https://localhost:8080/"
        },
        "id": "1wqfRCgHlhkO",
        "outputId": "92573c8a-2714-4bfd-dfe5-6df1dea3659e"
      },
      "execution_count": 54,
      "outputs": [
        {
          "output_type": "stream",
          "name": "stdout",
          "text": [
            "Epoch 1/30\n",
            "200/200 [==============================] - 3s 8ms/step - loss: 0.6895 - root_mean_squared_error: 0.3096 - val_loss: 0.6842 - val_root_mean_squared_error: 0.2979\n",
            "Epoch 2/30\n",
            "200/200 [==============================] - 1s 5ms/step - loss: 0.6037 - root_mean_squared_error: 0.2320 - val_loss: 0.6775 - val_root_mean_squared_error: 0.2921\n",
            "Epoch 3/30\n",
            "200/200 [==============================] - 1s 5ms/step - loss: 0.5712 - root_mean_squared_error: 0.1992 - val_loss: 0.6767 - val_root_mean_squared_error: 0.2914\n",
            "Epoch 4/30\n",
            "200/200 [==============================] - 1s 5ms/step - loss: 0.5670 - root_mean_squared_error: 0.1948 - val_loss: 0.6753 - val_root_mean_squared_error: 0.2903\n",
            "Epoch 5/30\n",
            "200/200 [==============================] - 1s 6ms/step - loss: 0.5631 - root_mean_squared_error: 0.1910 - val_loss: 0.6740 - val_root_mean_squared_error: 0.2892\n",
            "Epoch 6/30\n",
            "200/200 [==============================] - 1s 5ms/step - loss: 0.5590 - root_mean_squared_error: 0.1866 - val_loss: 0.6731 - val_root_mean_squared_error: 0.2884\n",
            "Epoch 7/30\n",
            "200/200 [==============================] - 1s 5ms/step - loss: 0.5567 - root_mean_squared_error: 0.1842 - val_loss: 0.6715 - val_root_mean_squared_error: 0.2870\n",
            "Epoch 8/30\n",
            "200/200 [==============================] - 1s 5ms/step - loss: 0.5524 - root_mean_squared_error: 0.1797 - val_loss: 0.6706 - val_root_mean_squared_error: 0.2863\n",
            "Epoch 9/30\n",
            "200/200 [==============================] - 1s 5ms/step - loss: 0.5512 - root_mean_squared_error: 0.1782 - val_loss: 0.6689 - val_root_mean_squared_error: 0.2848\n",
            "Epoch 10/30\n",
            "200/200 [==============================] - 1s 5ms/step - loss: 0.5482 - root_mean_squared_error: 0.1753 - val_loss: 0.6682 - val_root_mean_squared_error: 0.2842\n",
            "Epoch 11/30\n",
            "200/200 [==============================] - 1s 5ms/step - loss: 0.5455 - root_mean_squared_error: 0.1717 - val_loss: 0.6667 - val_root_mean_squared_error: 0.2830\n",
            "Epoch 12/30\n",
            "200/200 [==============================] - 2s 10ms/step - loss: 0.5434 - root_mean_squared_error: 0.1700 - val_loss: 0.6661 - val_root_mean_squared_error: 0.2825\n",
            "Epoch 13/30\n",
            "200/200 [==============================] - 2s 9ms/step - loss: 0.5409 - root_mean_squared_error: 0.1669 - val_loss: 0.6651 - val_root_mean_squared_error: 0.2816\n",
            "Epoch 14/30\n",
            "200/200 [==============================] - 1s 6ms/step - loss: 0.5394 - root_mean_squared_error: 0.1654 - val_loss: 0.6641 - val_root_mean_squared_error: 0.2808\n",
            "Epoch 15/30\n",
            "200/200 [==============================] - 1s 5ms/step - loss: 0.5375 - root_mean_squared_error: 0.1628 - val_loss: 0.6634 - val_root_mean_squared_error: 0.2802\n",
            "Epoch 16/30\n",
            "200/200 [==============================] - 1s 5ms/step - loss: 0.5363 - root_mean_squared_error: 0.1618 - val_loss: 0.6620 - val_root_mean_squared_error: 0.2790\n",
            "Epoch 17/30\n",
            "200/200 [==============================] - 1s 5ms/step - loss: 0.5346 - root_mean_squared_error: 0.1599 - val_loss: 0.6612 - val_root_mean_squared_error: 0.2784\n",
            "Epoch 18/30\n",
            "200/200 [==============================] - 1s 5ms/step - loss: 0.5324 - root_mean_squared_error: 0.1570 - val_loss: 0.6606 - val_root_mean_squared_error: 0.2779\n",
            "Epoch 19/30\n",
            "200/200 [==============================] - 1s 5ms/step - loss: 0.5302 - root_mean_squared_error: 0.1547 - val_loss: 0.6601 - val_root_mean_squared_error: 0.2775\n",
            "Epoch 20/30\n",
            "200/200 [==============================] - 1s 5ms/step - loss: 0.5287 - root_mean_squared_error: 0.1523 - val_loss: 0.6593 - val_root_mean_squared_error: 0.2768\n",
            "Epoch 21/30\n",
            "200/200 [==============================] - 1s 5ms/step - loss: 0.5269 - root_mean_squared_error: 0.1506 - val_loss: 0.6586 - val_root_mean_squared_error: 0.2763\n",
            "Epoch 22/30\n",
            "200/200 [==============================] - 1s 5ms/step - loss: 0.5265 - root_mean_squared_error: 0.1505 - val_loss: 0.6581 - val_root_mean_squared_error: 0.2759\n",
            "Epoch 23/30\n",
            "200/200 [==============================] - 1s 5ms/step - loss: 0.5242 - root_mean_squared_error: 0.1468 - val_loss: 0.6571 - val_root_mean_squared_error: 0.2751\n",
            "Epoch 24/30\n",
            "200/200 [==============================] - 1s 5ms/step - loss: 0.5218 - root_mean_squared_error: 0.1441 - val_loss: 0.6567 - val_root_mean_squared_error: 0.2748\n",
            "Epoch 25/30\n",
            "200/200 [==============================] - 1s 5ms/step - loss: 0.5206 - root_mean_squared_error: 0.1420 - val_loss: 0.6559 - val_root_mean_squared_error: 0.2741\n",
            "Epoch 26/30\n",
            "200/200 [==============================] - 2s 8ms/step - loss: 0.5193 - root_mean_squared_error: 0.1412 - val_loss: 0.6557 - val_root_mean_squared_error: 0.2740\n",
            "Epoch 27/30\n",
            "200/200 [==============================] - 2s 10ms/step - loss: 0.5179 - root_mean_squared_error: 0.1389 - val_loss: 0.6550 - val_root_mean_squared_error: 0.2734\n",
            "Epoch 28/30\n",
            "200/200 [==============================] - 2s 10ms/step - loss: 0.5160 - root_mean_squared_error: 0.1369 - val_loss: 0.6555 - val_root_mean_squared_error: 0.2739\n",
            "Epoch 29/30\n",
            "200/200 [==============================] - 2s 9ms/step - loss: 0.5150 - root_mean_squared_error: 0.1348 - val_loss: 0.6544 - val_root_mean_squared_error: 0.2730\n",
            "Epoch 30/30\n",
            "200/200 [==============================] - 2s 10ms/step - loss: 0.5142 - root_mean_squared_error: 0.1346 - val_loss: 0.6545 - val_root_mean_squared_error: 0.2731\n"
          ]
        }
      ]
    },
    {
      "cell_type": "markdown",
      "source": [
        "Melakukan visualisasi hasil *training* dan *validation* *error* serta *training* dan *validation* *loss* ke dalam grafik plot dengan bantuan *library* [`matplotlib`](https://matplotlib.org 'Matplotlib - Visualization with Python')."
      ],
      "metadata": {
        "id": "mJ23XkWn9Bsw"
      }
    },
    {
      "cell_type": "code",
      "source": [
        "rmse     = history.history['root_mean_squared_error']\n",
        "val_rmse = history.history['val_root_mean_squared_error']\n",
        "\n",
        "loss     = history.history['loss']\n",
        "val_loss = history.history['val_loss']\n",
        "\n",
        "plt.figure(figsize = (12, 4))\n",
        "plt.subplot(1, 2, 1)\n",
        "plt.plot(rmse,     label='RMSE')\n",
        "plt.plot(val_rmse, label='Validation RMSE')\n",
        "plt.title('Training and Validation Error')\n",
        "plt.xlabel('Epoch')\n",
        "plt.ylabel('Root Mean Squared Error')\n",
        "plt.legend(loc='lower right')\n",
        "\n",
        "plt.subplot(1, 2, 2)\n",
        "plt.plot(loss,     label='Training Loss')\n",
        "plt.plot(val_loss, label='Validation Loss')\n",
        "plt.title('Training and Validation Loss')\n",
        "plt.xlabel('Epoch')\n",
        "plt.ylabel('Loss')\n",
        "plt.legend(loc='upper right')\n",
        "\n",
        "plt.show()"
      ],
      "metadata": {
        "colab": {
          "base_uri": "https://localhost:8080/",
          "height": 295
        },
        "id": "NZVidD1kliC_",
        "outputId": "5994557e-980f-4bcc-da63-1726c5b28e50"
      },
      "execution_count": 55,
      "outputs": [
        {
          "output_type": "display_data",
          "data": {
            "text/plain": [
              "<Figure size 864x288 with 2 Axes>"
            ],
            "image/png": "[encoded data removed]"
          },
          "metadata": {
            "needs_background": "light"
          }
        }
      ]
    },
    {
      "cell_type": "markdown",
      "source": [
        "## 6.2.4 *Get Recommendation Testing*"
      ],
      "metadata": {
        "id": "Uy_Dgmq_sKJ1"
      }
    },
    {
      "cell_type": "markdown",
      "source": [
        "Melakukan pendefinisian ulang *dataset* *books* dan *ratings*."
      ],
      "metadata": {
        "id": "feTEROeP9dOg"
      }
    },
    {
      "cell_type": "code",
      "source": [
        "datasetBook   = books\n",
        "datasetRating = ratings"
      ],
      "metadata": {
        "id": "IELAjMU5rES4"
      },
      "execution_count": 56,
      "outputs": []
    },
    {
      "cell_type": "markdown",
      "source": [
        "Untuk mendapatkan rekomendasi buku yang akan dihasilkan oleh sistem, diperlukan sebuah data atau sampel dari pengguna secara acak dan mendefinisikan variabel buku yang belum pernah dibaca oleh pengguna (`notReadedBooks`) yang merupakan daftar resto yang nantinya akan direkomendasikan. Daftar tersebut dapat didapatkan dengan menggunakan operator logika bitwise ([`~`](https://docs.python.org/3/reference/expressions.html#unary-arithmetic-and-bitwise-operations 'Unary Arithmetic and Bitwise Operations - Python Documentation')) pada variabel buku yang telah dibaca oleh pengguna (`readedBooks`)."
      ],
      "metadata": {
        "id": "vuKVImUq-DPs"
      }
    },
    {
      "cell_type": "code",
      "source": [
        "userId      = datasetRating.user_id.sample(1).iloc[0]\n",
        "readedBooks = datasetRating[datasetRating.user_id == userId]\n",
        "\n",
        "notReadedBooks = datasetBook[~datasetBook['isbn'].isin(readedBooks.isbn.values)]['isbn'] \n",
        "notReadedBooks = list(\n",
        "    set(notReadedBooks).intersection(set(book_to_book_encoded.keys()))\n",
        ")\n",
        "\n",
        "notReadedBooks = [[book_to_book_encoded.get(x)] for x in notReadedBooks]\n",
        "userEncoder    = user_to_user_encoded.get(userId)\n",
        "userBookArray = np.hstack(\n",
        "    ([[userEncoder]] * len(notReadedBooks), notReadedBooks)\n",
        ")"
      ],
      "metadata": {
        "id": "7eRL5KezsVYG"
      },
      "execution_count": 81,
      "outputs": []
    },
    {
      "cell_type": "markdown",
      "source": [
        "Untuk mendapatkan hasil rekomendasi buku yang akan diberikan oleh sistem, dapat menggunakan fungsi [`.predict()`](https://keras.io/api/models/model 'Model class - Keras Documentation') dari *library* Keras."
      ],
      "metadata": {
        "id": "R0RVjstz_chQ"
      }
    },
    {
      "cell_type": "code",
      "source": [
        "ratings = model.predict(userBookArray).flatten()\n",
        "\n",
        "topRatingsIndices   = ratings.argsort()[-10:][::-1]\n",
        "recommendedBookIds = [\n",
        "    book_encoded_to_book.get(notReadedBooks[x][0]) for x in topRatingsIndices\n",
        "]\n",
        "\n",
        "print('Showing recommendations for users: {}'.format(userId))\n",
        "print('=====' * 8)\n",
        "print('Book with high ratings from user')\n",
        "print('-----' * 8)\n",
        "\n",
        "topBookUser = (\n",
        "    readedBooks.sort_values(\n",
        "        by = 'book_rating',\n",
        "        ascending=False\n",
        "    )\n",
        "    .head(5)\n",
        "    .isbn.values\n",
        ")\n",
        "\n",
        "bookDfRows = datasetBook[datasetBook['isbn'].isin(topBookUser)]\n",
        "for row in bookDfRows.itertuples():\n",
        "    print(row.book_title, ':', row.book_author)\n",
        "\n",
        "print('=====' * 8)\n",
        "print('Top 10 Books Recommendation')\n",
        "print('-----' * 8)\n",
        "\n",
        "recommended_resto = datasetBook[datasetBook['isbn'].isin(recommendedBookIds)]\n",
        "for row in recommended_resto.itertuples():\n",
        "    print(row.book_title, ':', row.book_author)"
      ],
      "metadata": {
        "colab": {
          "base_uri": "https://localhost:8080/"
        },
        "id": "Cko1d6Y0sYVE",
        "outputId": "eabc72dd-dcbe-44eb-ab8e-0754c694ef5e"
      },
      "execution_count": 82,
      "outputs": [
        {
          "output_type": "stream",
          "name": "stdout",
          "text": [
            "Showing recommendations for users: 388\n",
            "========================================\n",
            "Book with high ratings from user\n",
            "----------------------------------------\n",
            "Impossible Vacation : Spalding Gray\n",
            "Life Before Man : Margaret Atwood\n",
            "Cavedweller : Dorothy Allison\n",
            "The Robber Bride : Margaret Atwood\n",
            "The House of Mirth (Library of America) : Edith Wharton\n",
            "========================================\n",
            "Top 10 Books Recommendation\n",
            "----------------------------------------\n",
            "To Kill a Mockingbird : Harper Lee\n",
            "The Secret Life of Bees : Sue Monk Kidd\n",
            "The Bean Trees : Barbara Kingsolver\n",
            "Life of Pi : Yann Martel\n",
            "The Grapes of Wrath: John Steinbeck Centennial Edition (1902-2002) : John Steinbeck\n",
            "A Walk in the Woods: Rediscovering America on the Appalachian Trail (Official Guides to the Appalachian Trail) : Bill Bryson\n",
            "The Handmaid's Tale : Margaret Atwood\n",
            "The Visitor (Animorphs, No 2) : K. A. Applegate\n",
            "The King of Torts : JOHN GRISHAM\n",
            "The Watsons Go to Birmingham - 1963 (Yearling Newbery) : CHRISTOPHER PAUL CURTIS\n"
          ]
        }
      ]
    },
    {
      "cell_type": "markdown",
      "source": [
        "Berdasarkan hasil di atas, dapat dilihat bahwa sistem akan mengambil pengguna secara acak, yaitu pengguna dengan `user_id` **388**. Lalu akan dicari buku dengan rating terbaik dari user tersebut, yaitu,\n",
        "*   **Impossible Vacation** oleh **Connie Willis**\n",
        "*   **Life Before Man** oleh **Margaret Atwood**\n",
        "*   **Cavedweller** oleh **Dorothy Allison**\n",
        "*   **The Robber Bride** oleh **Margaret Atwood**\n",
        "*   **The House of Mirth (Library of America)** oleh **Edith Wharton**\n",
        "\n",
        "Kemudian sistem akan membandingan antara buku dengan rating tertinggi dari user dan semua buku, kecuali buku yang telah dibaca tersebut, lalu akan mengurutkan buku yang akan direkomendasikan berdasarkan nilai rekomendasi yang tertinggi. Dapat dilihat terdapat 10 daftar buku yang direkomendasikan oleh sistem.\n",
        "\n",
        "Dapat dibandingkan antara ***Book with high ratings from user*** dan ***Top 10 Books Recommendation***, terdapat buku dengan penulis atau author yang sama, yaitu **The Handmaid's Tale** oleh **Margaret Atwood**. Dengan begitu, dapat dikatakan bahwa sistem yang telah dibangun dapat merekomendasikan buku kepada pengguna dengan prediksi yang cukup sesuai."
      ],
      "metadata": {
        "id": "fkCff9rHAEug"
      }
    },
    {
      "cell_type": "markdown",
      "source": [
        "# **7. Kesimpulan**"
      ],
      "metadata": {
        "id": "LErdosQosA5q"
      }
    },
    {
      "cell_type": "markdown",
      "source": [
        "Kesimpulannya adalah model yang digunakan untuk melakukan rekomendasi buku berdasarkan teknik *Content-based Recommendation* dan teknik *Collaborative Filtering Recommendation* telah berhasil dibuat dan sesuai dengan preferensi pengguna. Pada *collaborative filtering* diperlukan data rating dari pengguna, sedangkan pada *content-based filtering*, data rating tidak diperlukan karena analisis sistem rekomendasi akan berdasarkan atribut item dari masing-masing buku."
      ],
      "metadata": {
        "id": "Lyt4ILKhHx2_"
      }
    }
  ]
}